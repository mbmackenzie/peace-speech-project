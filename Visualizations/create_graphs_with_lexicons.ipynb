{
 "cells": [
  {
   "cell_type": "code",
   "execution_count": 9,
   "metadata": {},
   "outputs": [
    {
     "name": "stderr",
     "output_type": "stream",
     "text": [
      "[nltk_data] Downloading package averaged_perceptron_tagger to\n",
      "[nltk_data]     C:\\Users\\tommi\\AppData\\Roaming\\nltk_data...\n",
      "[nltk_data]   Package averaged_perceptron_tagger is already up-to-\n",
      "[nltk_data]       date!\n",
      "[nltk_data] Downloading package wordnet to\n",
      "[nltk_data]     C:\\Users\\tommi\\AppData\\Roaming\\nltk_data...\n",
      "[nltk_data]   Package wordnet is already up-to-date!\n",
      "[nltk_data] Downloading package punkt to\n",
      "[nltk_data]     C:\\Users\\tommi\\AppData\\Roaming\\nltk_data...\n",
      "[nltk_data]   Package punkt is already up-to-date!\n"
     ]
    },
    {
     "data": {
      "text/plain": [
       "True"
      ]
     },
     "execution_count": 9,
     "metadata": {},
     "output_type": "execute_result"
    }
   ],
   "source": [
    "#libraries\n",
    "import pandas as pd\n",
    "import numpy as np\n",
    "import nltk\n",
    "import re\n",
    "import os\n",
    "import codecs\n",
    "import pathlib\n",
    "import matplotlib.pyplot as plt\n",
    "import seaborn as sns\n",
    "from nltk.tokenize import sent_tokenize\n",
    "from nltk.tokenize import word_tokenize\n",
    "from sklearn.feature_extraction.text import CountVectorizer\n",
    "import datetime\n",
    "from scipy.spatial.distance import cosine\n",
    "from nltk.corpus import wordnet\n",
    "from nltk.stem import WordNetLemmatizer\n",
    "import string\n",
    "import plotly.graph_objects as go # or plotly.express as px\n",
    "import plotly.express as px\n",
    "\n",
    "nltk.download('averaged_perceptron_tagger')\n",
    "nltk.download('wordnet')\n",
    "lemmatizer = WordNetLemmatizer()\n",
    "\n",
    "\n",
    "nltk.download('punkt')"
   ]
  },
  {
   "cell_type": "markdown",
   "metadata": {},
   "source": [
    "# About Notebook\n",
    "\n",
    "This notebook is to craete graphs from word counts from subsample of the NOW Data\n",
    "\n",
    "1. First section contains two functions which can be used to generate graphs by each nation\n",
    "2. Second section contains three functions to generate DataFrame for later graph use\n",
    "3. Third section contains a function to create graph with plotly and use it to export files in format of html and png"
   ]
  },
  {
   "cell_type": "code",
   "execution_count": 51,
   "metadata": {},
   "outputs": [],
   "source": [
    "#Directories and csv files for later use\n",
    "directory = r'C:\\Users\\tommi\\Documents\\Columbia 2020 Fall\\Capstone\\peace-speech-project-master\\peace-speech-project-master\\data\\word_count'\n",
    "csv_files = [s for s in os.listdir(directory) if \".csv\" in s]\n",
    "\n",
    "#Save_directory\n",
    "save_dir = r'C:\\Users\\tommi\\Documents\\Columbia 2020 Fall\\Capstone\\peace-speech-project-master\\peace-speech-project-master\\data\\word_count\\by_state'\n",
    "nation_list = {'peaceful': ['AU', 'CA', 'IE', 'NZ', 'SG',\n",
    "                            'GB'],\n",
    "              'non_peaceful': ['BD','KE', 'NG', 'PK', 'TZ'],\n",
    "              'neutral':['GH', 'HK', 'IN', 'JM', 'MY', 'PH', 'ZA', 'LK', 'US']}"
   ]
  },
  {
   "cell_type": "markdown",
   "metadata": {},
   "source": [
    "## 1. Create most frequent graphs by nation"
   ]
  },
  {
   "cell_type": "code",
   "execution_count": 20,
   "metadata": {},
   "outputs": [],
   "source": [
    "#Auxillary function for graph \n",
    "def save_plot(df, save_dir, n):\n",
    "    \n",
    "    country_name = df['nation'][0]\n",
    "    label_name = df['label'][0]\n",
    "    img_dir = os.path.join(save_dir, country_name+ '_'+ label_name + '.jpg')\n",
    "    \n",
    "    words = df['Term'][0:n]\n",
    "    counts = df['count'][0:n]\n",
    "    \n",
    "    x_pos = np.arange(len(words)) \n",
    "    plt.figure(2, figsize=(15, 15/1.6180))\n",
    "    plt.subplot(title= str(n) + ' most common ' + label_name  + ' lexicons in ' + country_name)\n",
    "    sns.set_context(\"notebook\", font_scale=1.25, rc={\"lines.linewidth\": 2.5})\n",
    "    sns.barplot(x_pos, counts, palette='husl')\n",
    "    plt.xticks(x_pos, words, rotation=90) \n",
    "    plt.xlabel('words')\n",
    "    plt.ylabel('counts')\n",
    "    \n",
    "    plt.savefig(img_dir, bbox_inches='tight', dpi=500)"
   ]
  },
  {
   "cell_type": "code",
   "execution_count": 21,
   "metadata": {},
   "outputs": [],
   "source": [
    "def save_three_graph(csv_file_directory):\n",
    "    df = pd.read_csv(csv_file_directory)\n",
    "    \n",
    "    #Create three df for later graph and change index for later loop\n",
    "    df_peace = df[df['label'] == 'peace'].copy()\n",
    "    df_peace.index = np.arange(0, len(df_peace))\n",
    "    df_conflict = df[df['label'] == 'conflict'].copy()\n",
    "    df_conflict.index = np.arange(0, len(df_conflict))\n",
    "    df_resilence = df[df['label'] == 'resilence'].copy()\n",
    "    df_resilence.index = np.arange(0, len(df_resilence))\n",
    "    \n",
    "    #\n",
    "    save_plot(df_peace, save_dir, 15)\n",
    "    save_plot(df_conflict, save_dir, 15)\n",
    "    save_plot(df_resilence, save_dir, 15)"
   ]
  },
  {
   "cell_type": "code",
   "execution_count": 29,
   "metadata": {},
   "outputs": [
    {
     "data": {
      "image/png": "[encoded data removed]",
      "text/plain": [
       "<Figure size 1080x667.491 with 1 Axes>"
      ]
     },
     "metadata": {
      "needs_background": "light"
     },
     "output_type": "display_data"
    }
   ],
   "source": [
    "for csv_file in csv_files:\n",
    "    csv_dir = os.path.join(directory, csv_file)\n",
    "    save_three_graph(csv_dir)"
   ]
  },
  {
   "cell_type": "markdown",
   "metadata": {},
   "source": [
    "## 2. Stacked bar chart (all nation)"
   ]
  },
  {
   "cell_type": "code",
   "execution_count": 22,
   "metadata": {},
   "outputs": [],
   "source": [
    "def create_count_df(directory, csv_files, label = 'Total'):\n",
    "    '''\n",
    "    input:  directory: The directory of place where the count_dict_df locates\n",
    "            csv_files: list of csv_files\n",
    "            label: str, in choice of ['peace', 'conflict', 'resilence']\n",
    "            \n",
    "    output: pd.DataFrame: index is Term of words, columns are nation, cells are count of the Term\n",
    "    '''\n",
    "    #Create dataframe for later append\n",
    "    df_result = pd.read_csv(os.path.join(directory, csv_files[0]))\n",
    "    nation_name = df_result['nation'][0]\n",
    "    df_result[nation_name] = df_result['count']\n",
    "    \n",
    "    if label == 'Total':\n",
    "        pass\n",
    "    else:\n",
    "        df_result = df_result[df_result['label'] == label]\n",
    "        df_result.index = np.arange(0, len(df_result))\n",
    "        \n",
    "    df_result = df_result.loc[:,['Term', 'AU']]\n",
    "    df_result = df_result.set_index('Term')\n",
    "\n",
    "    for i in range(1, len(csv_files)):\n",
    "        #import df for join\n",
    "        csv_dir = os.path.join(directory, csv_files[i])\n",
    "        df_for_merge = pd.read_csv(csv_dir)\n",
    "        \n",
    "        #make changes on df for join\n",
    "        nation_name = df_for_merge['nation'][0]\n",
    "        df_for_merge[nation_name] = df_for_merge['count']\n",
    "        parse_list = ['Term']\n",
    "        parse_list.append(nation_name)\n",
    "        \n",
    "        if label == 'Total':\n",
    "            pass\n",
    "        else:\n",
    "            df_for_merge = df_for_merge[df_for_merge['label'] == label]\n",
    "            df_for_merge.index = np.arange(0, len(df_for_merge))\n",
    "        \n",
    "        df_for_merge = df_for_merge.loc[:, parse_list]\n",
    "\n",
    "        #join df\n",
    "        df_result = df_result.join(df_for_merge.set_index('Term'))\n",
    "\n",
    "    df_result['Total'] = df_result.sum(axis = 1).values\n",
    "    df_result = df_result.sort_values(by=['Total'], ascending = False)\n",
    "    \n",
    "    return df_result"
   ]
  },
  {
   "cell_type": "code",
   "execution_count": 23,
   "metadata": {},
   "outputs": [],
   "source": [
    "def create_weight_df(directory, csv_files, label = 'Total'):\n",
    "    '''\n",
    "    input:  directory: The directory of place where the count_dict_df locates\n",
    "            csv_files: list of csv_files\n",
    "            label: str, in choice of ['peace', 'conflict', 'resilence']\n",
    "            \n",
    "    output: pd.DataFrame: index is Term of words, columns are nation, cells are Term_count/Total_count\n",
    "    '''\n",
    "    \n",
    "    df_result = pd.read_csv(os.path.join(directory, csv_files[0]))\n",
    "    nation_name = df_result['nation'][0]\n",
    "    df_result[nation_name] = df_result['count']\n",
    "    \n",
    "    if label == 'Total':\n",
    "        pass\n",
    "    else:\n",
    "        df_result = df_result[df_result['label'] == label]\n",
    "        df_result.index = np.arange(0, len(df_result))\n",
    "        \n",
    "    df_result = df_result.loc[:,['Term', 'AU']]\n",
    "    df_result = df_result.set_index('Term')\n",
    "    df_result = df_result.divide(df_result.sum().values[0], axis =0)\n",
    "\n",
    "    for i in range(1, len(csv_files)):\n",
    "        #import df for join\n",
    "        csv_dir = os.path.join(directory, csv_files[i])\n",
    "        df_for_merge = pd.read_csv(csv_dir)\n",
    "        \n",
    "        #make changes on df for join\n",
    "        nation_name = df_for_merge['nation'][0]\n",
    "        df_for_merge[nation_name] = df_for_merge['count']\n",
    "        parse_list = ['Term']\n",
    "        parse_list.append(nation_name)\n",
    "        \n",
    "        if label == 'Total':\n",
    "            pass\n",
    "        else:\n",
    "            df_for_merge = df_for_merge[df_for_merge['label'] == label]\n",
    "            df_for_merge.index = np.arange(0, len(df_for_merge))\n",
    "        \n",
    "        df_for_merge = df_for_merge.loc[:, parse_list]\n",
    "        df_for_merge = df_for_merge.set_index('Term')\n",
    "        df_for_merge = df_for_merge.divide(df_for_merge.sum().values[0], axis =0)\n",
    "        \n",
    "        #join df\n",
    "        df_result = df_result.join(df_for_merge)\n",
    "\n",
    "    df_result['Total'] = df_result.sum(axis = 1).values\n",
    "    df_result = df_result.sort_values(by=['Total'], ascending = False)\n",
    "        \n",
    "    return df_result"
   ]
  },
  {
   "cell_type": "code",
   "execution_count": 24,
   "metadata": {},
   "outputs": [],
   "source": [
    "def create_df_by_state(df_result, nation_list):\n",
    "    '''\n",
    "    input: pd.DataFrame created from either weight or count\n",
    "           nation_list: dict {str(state):list(nation)}\n",
    "    output: pd.DataFrame, with Three states and Total\n",
    "    '''\n",
    "    df_copy = df_result.copy()\n",
    "    df_copy['peaceful'] = df_copy.reindex(columns=nation_list['peaceful']).sum(axis = 1).values\n",
    "    df_copy['non_peaceful'] = df_copy.reindex(columns=nation_list['non_peaceful']).sum(axis = 1).values\n",
    "    df_copy['neutral'] = df_copy.reindex(columns=nation_list['neutral']).sum(axis = 1).values\n",
    "    \n",
    "    state_list = ['peaceful', 'non_peaceful', 'neutral']\n",
    "    \n",
    "    df_copy = df_copy.reindex(columns=state_list)\n",
    "    df_copy['Total'] = df_copy.sum(axis = 1).values\n",
    "    \n",
    "    return df_copy"
   ]
  },
  {
   "cell_type": "markdown",
   "metadata": {},
   "source": [
    "## 3. Create Graph and export"
   ]
  },
  {
   "cell_type": "code",
   "execution_count": 25,
   "metadata": {},
   "outputs": [],
   "source": [
    "def create_stacked_bar_chart(df_result, n, label, method, state = False):\n",
    "    '''\n",
    "    input: df_result from create_count_df or create_weight_df\n",
    "           n: number of words to show in the graph\n",
    "    '''\n",
    "    #truncate df by n and last Total column\n",
    "    df_result = df_result.iloc[:n, :-1]\n",
    "    \n",
    "    data_list = []\n",
    "    index_list = df_result.index\n",
    "    for nation in df_result.columns:\n",
    "        bar = go.Bar(name = nation, x = index_list, y = list(df_result[nation].values))\n",
    "        data_list.append(bar)\n",
    "        \n",
    "    plot = go.Figure(data= data_list)\n",
    "    plot.update_layout(barmode='stack')\n",
    "                  \n",
    "    plot.show()\n",
    "    if state:\n",
    "        img_name = 'state_' + label +'_' + method+'_result.png'\n",
    "        html_name = 'state_' + label + '_' + method +'_result.html'\n",
    "    else:\n",
    "        img_name = label +'_' + method+'_result.png'\n",
    "        html_name = label + '_' + method +'_result.html'\n",
    "    plot.write_image(os.path.join(save_dir, img_name))\n",
    "    plot.write_html(os.path.join(save_dir, html_name))"
   ]
  },
  {
   "cell_type": "code",
   "execution_count": 69,
   "metadata": {},
   "outputs": [],
   "source": [
    "#Create Weight Data Frame\n",
    "df_result = create_weight_df(directory, csv_files, label = 'resilence')"
   ]
  },
  {
   "cell_type": "code",
   "execution_count": 70,
   "metadata": {},
   "outputs": [],
   "source": [
    "#Create Count Data Frame\n",
    "#df_result =  create_count_df(directory, csv_files, label = 'resilence')"
   ]
  },
  {
   "cell_type": "code",
   "execution_count": 71,
   "metadata": {},
   "outputs": [
    {
     "data": {
      "application/vnd.plotly.v1+json": {
       "config": {
        "plotlyServerURL": "https://plot.ly"
       },
       "data": [
        {
         "name": "peaceful",
         "type": "bar",
         "x": [
          "service",
          "order",
          "security",
          "education",
          "opportunity",
          "united",
          "justice",
          "union",
          "federal",
          "respect",
          "peace",
          "capacity",
          "infrastructure",
          "safe",
          "voice",
          "secure",
          "freedom",
          "protection",
          "nature",
          "knowledge"
         ],
         "y": [
          0.8397025445956677,
          0.38001892925486525,
          0.30179970946633905,
          0.21518405410962585,
          0.3186453349086643,
          0.2513300202609714,
          0.15849672680182747,
          0.17858669628492924,
          0.14461338716907646,
          0.1319845290383426,
          0.07455688471180727,
          0.10011991664200245,
          0.1039539798149501,
          0.15308719977952387,
          0.13300283143402086,
          0.12427530290483736,
          0.07852447970340788,
          0.10393928235527657,
          0.11515206939745273,
          0.08968113935590133
         ]
        },
        {
         "name": "non_peaceful",
         "type": "bar",
         "x": [
          "service",
          "order",
          "security",
          "education",
          "opportunity",
          "united",
          "justice",
          "union",
          "federal",
          "respect",
          "peace",
          "capacity",
          "infrastructure",
          "safe",
          "voice",
          "secure",
          "freedom",
          "protection",
          "nature",
          "knowledge"
         ],
         "y": [
          0.5113921263311947,
          0.31924844244952133,
          0.33834661512834063,
          0.29568397416769354,
          0.18737910719315956,
          0.17161395926261505,
          0.1789025134203585,
          0.13939142689167167,
          0.17566710207492042,
          0.08682566895540843,
          0.14093851033883772,
          0.1220818157444584,
          0.10080256481126551,
          0.06781720362619938,
          0.053516615461661,
          0.06339926260794909,
          0.0723557640594588,
          0.06193557884586035,
          0.05060561816958986,
          0.0676283651156338
         ]
        },
        {
         "name": "neutral",
         "type": "bar",
         "x": [
          "service",
          "order",
          "security",
          "education",
          "opportunity",
          "united",
          "justice",
          "union",
          "federal",
          "respect",
          "peace",
          "capacity",
          "infrastructure",
          "safe",
          "voice",
          "secure",
          "freedom",
          "protection",
          "nature",
          "knowledge"
         ],
         "y": [
          1.0113629739762233,
          0.6027018599959596,
          0.5412466298066656,
          0.4947289873407726,
          0.3486900134108529,
          0.36942878353260655,
          0.2848448075699091,
          0.2366048090071209,
          0.16433781155360783,
          0.1852987315235789,
          0.18588038575557297,
          0.15728062524075206,
          0.1690395186011459,
          0.1378737106801663,
          0.14532664539190218,
          0.14102345058538407,
          0.16457854938341737,
          0.1367287984671925,
          0.13307379926692045,
          0.13736815029380214
         ]
        }
       ],
       "layout": {
        "barmode": "stack",
        "template": {
         "data": {
          "bar": [
           {
            "error_x": {
             "color": "#2a3f5f"
            },
            "error_y": {
             "color": "#2a3f5f"
            },
            "marker": {
             "line": {
              "color": "#E5ECF6",
              "width": 0.5
             }
            },
            "type": "bar"
           }
          ],
          "barpolar": [
           {
            "marker": {
             "line": {
              "color": "#E5ECF6",
              "width": 0.5
             }
            },
            "type": "barpolar"
           }
          ],
          "carpet": [
           {
            "aaxis": {
             "endlinecolor": "#2a3f5f",
             "gridcolor": "white",
             "linecolor": "white",
             "minorgridcolor": "white",
             "startlinecolor": "#2a3f5f"
            },
            "baxis": {
             "endlinecolor": "#2a3f5f",
             "gridcolor": "white",
             "linecolor": "white",
             "minorgridcolor": "white",
             "startlinecolor": "#2a3f5f"
            },
            "type": "carpet"
           }
          ],
          "choropleth": [
           {
            "colorbar": {
             "outlinewidth": 0,
             "ticks": ""
            },
            "type": "choropleth"
           }
          ],
          "contour": [
           {
            "colorbar": {
             "outlinewidth": 0,
             "ticks": ""
            },
            "colorscale": [
             [
              0,
              "#0d0887"
             ],
             [
              0.1111111111111111,
              "#46039f"
             ],
             [
              0.2222222222222222,
              "#7201a8"
             ],
             [
              0.3333333333333333,
              "#9c179e"
             ],
             [
              0.4444444444444444,
              "#bd3786"
             ],
             [
              0.5555555555555556,
              "#d8576b"
             ],
             [
              0.6666666666666666,
              "#ed7953"
             ],
             [
              0.7777777777777778,
              "#fb9f3a"
             ],
             [
              0.8888888888888888,
              "#fdca26"
             ],
             [
              1,
              "#f0f921"
             ]
            ],
            "type": "contour"
           }
          ],
          "contourcarpet": [
           {
            "colorbar": {
             "outlinewidth": 0,
             "ticks": ""
            },
            "type": "contourcarpet"
           }
          ],
          "heatmap": [
           {
            "colorbar": {
             "outlinewidth": 0,
             "ticks": ""
            },
            "colorscale": [
             [
              0,
              "#0d0887"
             ],
             [
              0.1111111111111111,
              "#46039f"
             ],
             [
              0.2222222222222222,
              "#7201a8"
             ],
             [
              0.3333333333333333,
              "#9c179e"
             ],
             [
              0.4444444444444444,
              "#bd3786"
             ],
             [
              0.5555555555555556,
              "#d8576b"
             ],
             [
              0.6666666666666666,
              "#ed7953"
             ],
             [
              0.7777777777777778,
              "#fb9f3a"
             ],
             [
              0.8888888888888888,
              "#fdca26"
             ],
             [
              1,
              "#f0f921"
             ]
            ],
            "type": "heatmap"
           }
          ],
          "heatmapgl": [
           {
            "colorbar": {
             "outlinewidth": 0,
             "ticks": ""
            },
            "colorscale": [
             [
              0,
              "#0d0887"
             ],
             [
              0.1111111111111111,
              "#46039f"
             ],
             [
              0.2222222222222222,
              "#7201a8"
             ],
             [
              0.3333333333333333,
              "#9c179e"
             ],
             [
              0.4444444444444444,
              "#bd3786"
             ],
             [
              0.5555555555555556,
              "#d8576b"
             ],
             [
              0.6666666666666666,
              "#ed7953"
             ],
             [
              0.7777777777777778,
              "#fb9f3a"
             ],
             [
              0.8888888888888888,
              "#fdca26"
             ],
             [
              1,
              "#f0f921"
             ]
            ],
            "type": "heatmapgl"
           }
          ],
          "histogram": [
           {
            "marker": {
             "colorbar": {
              "outlinewidth": 0,
              "ticks": ""
             }
            },
            "type": "histogram"
           }
          ],
          "histogram2d": [
           {
            "colorbar": {
             "outlinewidth": 0,
             "ticks": ""
            },
            "colorscale": [
             [
              0,
              "#0d0887"
             ],
             [
              0.1111111111111111,
              "#46039f"
             ],
             [
              0.2222222222222222,
              "#7201a8"
             ],
             [
              0.3333333333333333,
              "#9c179e"
             ],
             [
              0.4444444444444444,
              "#bd3786"
             ],
             [
              0.5555555555555556,
              "#d8576b"
             ],
             [
              0.6666666666666666,
              "#ed7953"
             ],
             [
              0.7777777777777778,
              "#fb9f3a"
             ],
             [
              0.8888888888888888,
              "#fdca26"
             ],
             [
              1,
              "#f0f921"
             ]
            ],
            "type": "histogram2d"
           }
          ],
          "histogram2dcontour": [
           {
            "colorbar": {
             "outlinewidth": 0,
             "ticks": ""
            },
            "colorscale": [
             [
              0,
              "#0d0887"
             ],
             [
              0.1111111111111111,
              "#46039f"
             ],
             [
              0.2222222222222222,
              "#7201a8"
             ],
             [
              0.3333333333333333,
              "#9c179e"
             ],
             [
              0.4444444444444444,
              "#bd3786"
             ],
             [
              0.5555555555555556,
              "#d8576b"
             ],
             [
              0.6666666666666666,
              "#ed7953"
             ],
             [
              0.7777777777777778,
              "#fb9f3a"
             ],
             [
              0.8888888888888888,
              "#fdca26"
             ],
             [
              1,
              "#f0f921"
             ]
            ],
            "type": "histogram2dcontour"
           }
          ],
          "mesh3d": [
           {
            "colorbar": {
             "outlinewidth": 0,
             "ticks": ""
            },
            "type": "mesh3d"
           }
          ],
          "parcoords": [
           {
            "line": {
             "colorbar": {
              "outlinewidth": 0,
              "ticks": ""
             }
            },
            "type": "parcoords"
           }
          ],
          "pie": [
           {
            "automargin": true,
            "type": "pie"
           }
          ],
          "scatter": [
           {
            "marker": {
             "colorbar": {
              "outlinewidth": 0,
              "ticks": ""
             }
            },
            "type": "scatter"
           }
          ],
          "scatter3d": [
           {
            "line": {
             "colorbar": {
              "outlinewidth": 0,
              "ticks": ""
             }
            },
            "marker": {
             "colorbar": {
              "outlinewidth": 0,
              "ticks": ""
             }
            },
            "type": "scatter3d"
           }
          ],
          "scattercarpet": [
           {
            "marker": {
             "colorbar": {
              "outlinewidth": 0,
              "ticks": ""
             }
            },
            "type": "scattercarpet"
           }
          ],
          "scattergeo": [
           {
            "marker": {
             "colorbar": {
              "outlinewidth": 0,
              "ticks": ""
             }
            },
            "type": "scattergeo"
           }
          ],
          "scattergl": [
           {
            "marker": {
             "colorbar": {
              "outlinewidth": 0,
              "ticks": ""
             }
            },
            "type": "scattergl"
           }
          ],
          "scattermapbox": [
           {
            "marker": {
             "colorbar": {
              "outlinewidth": 0,
              "ticks": ""
             }
            },
            "type": "scattermapbox"
           }
          ],
          "scatterpolar": [
           {
            "marker": {
             "colorbar": {
              "outlinewidth": 0,
              "ticks": ""
             }
            },
            "type": "scatterpolar"
           }
          ],
          "scatterpolargl": [
           {
            "marker": {
             "colorbar": {
              "outlinewidth": 0,
              "ticks": ""
             }
            },
            "type": "scatterpolargl"
           }
          ],
          "scatterternary": [
           {
            "marker": {
             "colorbar": {
              "outlinewidth": 0,
              "ticks": ""
             }
            },
            "type": "scatterternary"
           }
          ],
          "surface": [
           {
            "colorbar": {
             "outlinewidth": 0,
             "ticks": ""
            },
            "colorscale": [
             [
              0,
              "#0d0887"
             ],
             [
              0.1111111111111111,
              "#46039f"
             ],
             [
              0.2222222222222222,
              "#7201a8"
             ],
             [
              0.3333333333333333,
              "#9c179e"
             ],
             [
              0.4444444444444444,
              "#bd3786"
             ],
             [
              0.5555555555555556,
              "#d8576b"
             ],
             [
              0.6666666666666666,
              "#ed7953"
             ],
             [
              0.7777777777777778,
              "#fb9f3a"
             ],
             [
              0.8888888888888888,
              "#fdca26"
             ],
             [
              1,
              "#f0f921"
             ]
            ],
            "type": "surface"
           }
          ],
          "table": [
           {
            "cells": {
             "fill": {
              "color": "#EBF0F8"
             },
             "line": {
              "color": "white"
             }
            },
            "header": {
             "fill": {
              "color": "#C8D4E3"
             },
             "line": {
              "color": "white"
             }
            },
            "type": "table"
           }
          ]
         },
         "layout": {
          "annotationdefaults": {
           "arrowcolor": "#2a3f5f",
           "arrowhead": 0,
           "arrowwidth": 1
          },
          "coloraxis": {
           "colorbar": {
            "outlinewidth": 0,
            "ticks": ""
           }
          },
          "colorscale": {
           "diverging": [
            [
             0,
             "#8e0152"
            ],
            [
             0.1,
             "#c51b7d"
            ],
            [
             0.2,
             "#de77ae"
            ],
            [
             0.3,
             "#f1b6da"
            ],
            [
             0.4,
             "#fde0ef"
            ],
            [
             0.5,
             "#f7f7f7"
            ],
            [
             0.6,
             "#e6f5d0"
            ],
            [
             0.7,
             "#b8e186"
            ],
            [
             0.8,
             "#7fbc41"
            ],
            [
             0.9,
             "#4d9221"
            ],
            [
             1,
             "#276419"
            ]
           ],
           "sequential": [
            [
             0,
             "#0d0887"
            ],
            [
             0.1111111111111111,
             "#46039f"
            ],
            [
             0.2222222222222222,
             "#7201a8"
            ],
            [
             0.3333333333333333,
             "#9c179e"
            ],
            [
             0.4444444444444444,
             "#bd3786"
            ],
            [
             0.5555555555555556,
             "#d8576b"
            ],
            [
             0.6666666666666666,
             "#ed7953"
            ],
            [
             0.7777777777777778,
             "#fb9f3a"
            ],
            [
             0.8888888888888888,
             "#fdca26"
            ],
            [
             1,
             "#f0f921"
            ]
           ],
           "sequentialminus": [
            [
             0,
             "#0d0887"
            ],
            [
             0.1111111111111111,
             "#46039f"
            ],
            [
             0.2222222222222222,
             "#7201a8"
            ],
            [
             0.3333333333333333,
             "#9c179e"
            ],
            [
             0.4444444444444444,
             "#bd3786"
            ],
            [
             0.5555555555555556,
             "#d8576b"
            ],
            [
             0.6666666666666666,
             "#ed7953"
            ],
            [
             0.7777777777777778,
             "#fb9f3a"
            ],
            [
             0.8888888888888888,
             "#fdca26"
            ],
            [
             1,
             "#f0f921"
            ]
           ]
          },
          "colorway": [
           "#636efa",
           "#EF553B",
           "#00cc96",
           "#ab63fa",
           "#FFA15A",
           "#19d3f3",
           "#FF6692",
           "#B6E880",
           "#FF97FF",
           "#FECB52"
          ],
          "font": {
           "color": "#2a3f5f"
          },
          "geo": {
           "bgcolor": "white",
           "lakecolor": "white",
           "landcolor": "#E5ECF6",
           "showlakes": true,
           "showland": true,
           "subunitcolor": "white"
          },
          "hoverlabel": {
           "align": "left"
          },
          "hovermode": "closest",
          "mapbox": {
           "style": "light"
          },
          "paper_bgcolor": "white",
          "plot_bgcolor": "#E5ECF6",
          "polar": {
           "angularaxis": {
            "gridcolor": "white",
            "linecolor": "white",
            "ticks": ""
           },
           "bgcolor": "#E5ECF6",
           "radialaxis": {
            "gridcolor": "white",
            "linecolor": "white",
            "ticks": ""
           }
          },
          "scene": {
           "xaxis": {
            "backgroundcolor": "#E5ECF6",
            "gridcolor": "white",
            "gridwidth": 2,
            "linecolor": "white",
            "showbackground": true,
            "ticks": "",
            "zerolinecolor": "white"
           },
           "yaxis": {
            "backgroundcolor": "#E5ECF6",
            "gridcolor": "white",
            "gridwidth": 2,
            "linecolor": "white",
            "showbackground": true,
            "ticks": "",
            "zerolinecolor": "white"
           },
           "zaxis": {
            "backgroundcolor": "#E5ECF6",
            "gridcolor": "white",
            "gridwidth": 2,
            "linecolor": "white",
            "showbackground": true,
            "ticks": "",
            "zerolinecolor": "white"
           }
          },
          "shapedefaults": {
           "line": {
            "color": "#2a3f5f"
           }
          },
          "ternary": {
           "aaxis": {
            "gridcolor": "white",
            "linecolor": "white",
            "ticks": ""
           },
           "baxis": {
            "gridcolor": "white",
            "linecolor": "white",
            "ticks": ""
           },
           "bgcolor": "#E5ECF6",
           "caxis": {
            "gridcolor": "white",
            "linecolor": "white",
            "ticks": ""
           }
          },
          "title": {
           "x": 0.05
          },
          "xaxis": {
           "automargin": true,
           "gridcolor": "white",
           "linecolor": "white",
           "ticks": "",
           "title": {
            "standoff": 15
           },
           "zerolinecolor": "white",
           "zerolinewidth": 2
          },
          "yaxis": {
           "automargin": true,
           "gridcolor": "white",
           "linecolor": "white",
           "ticks": "",
           "title": {
            "standoff": 15
           },
           "zerolinecolor": "white",
           "zerolinewidth": 2
          }
         }
        }
       }
      },
      "text/html": [
       "<div>                            <div id=\"246f753a-ecab-484e-b7a5-59a9aa30af8f\" class=\"plotly-graph-div\" style=\"height:525px; width:100%;\"></div>            <script type=\"text/javascript\">                require([\"plotly\"], function(Plotly) {                    window.PLOTLYENV=window.PLOTLYENV || {};                                    if (document.getElementById(\"246f753a-ecab-484e-b7a5-59a9aa30af8f\")) {                    Plotly.newPlot(                        \"246f753a-ecab-484e-b7a5-59a9aa30af8f\",                        [{\"name\": \"peaceful\", \"type\": \"bar\", \"x\": [\"service\", \"order\", \"security\", \"education\", \"opportunity\", \"united\", \"justice\", \"union\", \"federal\", \"respect\", \"peace\", \"capacity\", \"infrastructure\", \"safe\", \"voice\", \"secure\", \"freedom\", \"protection\", \"nature\", \"knowledge\"], \"y\": [0.8397025445956677, 0.38001892925486525, 0.30179970946633905, 0.21518405410962585, 0.3186453349086643, 0.2513300202609714, 0.15849672680182747, 0.17858669628492924, 0.14461338716907646, 0.1319845290383426, 0.07455688471180727, 0.10011991664200245, 0.1039539798149501, 0.15308719977952387, 0.13300283143402086, 0.12427530290483736, 0.07852447970340788, 0.10393928235527657, 0.11515206939745273, 0.08968113935590133]}, {\"name\": \"non_peaceful\", \"type\": \"bar\", \"x\": [\"service\", \"order\", \"security\", \"education\", \"opportunity\", \"united\", \"justice\", \"union\", \"federal\", \"respect\", \"peace\", \"capacity\", \"infrastructure\", \"safe\", \"voice\", \"secure\", \"freedom\", \"protection\", \"nature\", \"knowledge\"], \"y\": [0.5113921263311947, 0.31924844244952133, 0.33834661512834063, 0.29568397416769354, 0.18737910719315956, 0.17161395926261505, 0.1789025134203585, 0.13939142689167167, 0.17566710207492042, 0.08682566895540843, 0.14093851033883772, 0.1220818157444584, 0.10080256481126551, 0.06781720362619938, 0.053516615461661, 0.06339926260794909, 0.0723557640594588, 0.06193557884586035, 0.05060561816958986, 0.0676283651156338]}, {\"name\": \"neutral\", \"type\": \"bar\", \"x\": [\"service\", \"order\", \"security\", \"education\", \"opportunity\", \"united\", \"justice\", \"union\", \"federal\", \"respect\", \"peace\", \"capacity\", \"infrastructure\", \"safe\", \"voice\", \"secure\", \"freedom\", \"protection\", \"nature\", \"knowledge\"], \"y\": [1.0113629739762233, 0.6027018599959596, 0.5412466298066656, 0.4947289873407726, 0.3486900134108529, 0.36942878353260655, 0.2848448075699091, 0.2366048090071209, 0.16433781155360783, 0.1852987315235789, 0.18588038575557297, 0.15728062524075206, 0.1690395186011459, 0.1378737106801663, 0.14532664539190218, 0.14102345058538407, 0.16457854938341737, 0.1367287984671925, 0.13307379926692045, 0.13736815029380214]}],                        {\"barmode\": \"stack\", \"template\": {\"data\": {\"bar\": [{\"error_x\": {\"color\": \"#2a3f5f\"}, \"error_y\": {\"color\": \"#2a3f5f\"}, \"marker\": {\"line\": {\"color\": \"#E5ECF6\", \"width\": 0.5}}, \"type\": \"bar\"}], \"barpolar\": [{\"marker\": {\"line\": {\"color\": \"#E5ECF6\", \"width\": 0.5}}, \"type\": \"barpolar\"}], \"carpet\": [{\"aaxis\": {\"endlinecolor\": \"#2a3f5f\", \"gridcolor\": \"white\", \"linecolor\": \"white\", \"minorgridcolor\": \"white\", \"startlinecolor\": \"#2a3f5f\"}, \"baxis\": {\"endlinecolor\": \"#2a3f5f\", \"gridcolor\": \"white\", \"linecolor\": \"white\", \"minorgridcolor\": \"white\", \"startlinecolor\": \"#2a3f5f\"}, \"type\": \"carpet\"}], \"choropleth\": [{\"colorbar\": {\"outlinewidth\": 0, \"ticks\": \"\"}, \"type\": \"choropleth\"}], \"contour\": [{\"colorbar\": {\"outlinewidth\": 0, \"ticks\": \"\"}, \"colorscale\": [[0.0, \"#0d0887\"], [0.1111111111111111, \"#46039f\"], [0.2222222222222222, \"#7201a8\"], [0.3333333333333333, \"#9c179e\"], [0.4444444444444444, \"#bd3786\"], [0.5555555555555556, \"#d8576b\"], [0.6666666666666666, \"#ed7953\"], [0.7777777777777778, \"#fb9f3a\"], [0.8888888888888888, \"#fdca26\"], [1.0, \"#f0f921\"]], \"type\": \"contour\"}], \"contourcarpet\": [{\"colorbar\": {\"outlinewidth\": 0, \"ticks\": \"\"}, \"type\": \"contourcarpet\"}], \"heatmap\": [{\"colorbar\": {\"outlinewidth\": 0, \"ticks\": \"\"}, \"colorscale\": [[0.0, \"#0d0887\"], [0.1111111111111111, \"#46039f\"], [0.2222222222222222, \"#7201a8\"], [0.3333333333333333, \"#9c179e\"], [0.4444444444444444, \"#bd3786\"], [0.5555555555555556, \"#d8576b\"], [0.6666666666666666, \"#ed7953\"], [0.7777777777777778, \"#fb9f3a\"], [0.8888888888888888, \"#fdca26\"], [1.0, \"#f0f921\"]], \"type\": \"heatmap\"}], \"heatmapgl\": [{\"colorbar\": {\"outlinewidth\": 0, \"ticks\": \"\"}, \"colorscale\": [[0.0, \"#0d0887\"], [0.1111111111111111, \"#46039f\"], [0.2222222222222222, \"#7201a8\"], [0.3333333333333333, \"#9c179e\"], [0.4444444444444444, \"#bd3786\"], [0.5555555555555556, \"#d8576b\"], [0.6666666666666666, \"#ed7953\"], [0.7777777777777778, \"#fb9f3a\"], [0.8888888888888888, \"#fdca26\"], [1.0, \"#f0f921\"]], \"type\": \"heatmapgl\"}], \"histogram\": [{\"marker\": {\"colorbar\": {\"outlinewidth\": 0, \"ticks\": \"\"}}, \"type\": \"histogram\"}], \"histogram2d\": [{\"colorbar\": {\"outlinewidth\": 0, \"ticks\": \"\"}, \"colorscale\": [[0.0, \"#0d0887\"], [0.1111111111111111, \"#46039f\"], [0.2222222222222222, \"#7201a8\"], [0.3333333333333333, \"#9c179e\"], [0.4444444444444444, \"#bd3786\"], [0.5555555555555556, \"#d8576b\"], [0.6666666666666666, \"#ed7953\"], [0.7777777777777778, \"#fb9f3a\"], [0.8888888888888888, \"#fdca26\"], [1.0, \"#f0f921\"]], \"type\": \"histogram2d\"}], \"histogram2dcontour\": [{\"colorbar\": {\"outlinewidth\": 0, \"ticks\": \"\"}, \"colorscale\": [[0.0, \"#0d0887\"], [0.1111111111111111, \"#46039f\"], [0.2222222222222222, \"#7201a8\"], [0.3333333333333333, \"#9c179e\"], [0.4444444444444444, \"#bd3786\"], [0.5555555555555556, \"#d8576b\"], [0.6666666666666666, \"#ed7953\"], [0.7777777777777778, \"#fb9f3a\"], [0.8888888888888888, \"#fdca26\"], [1.0, \"#f0f921\"]], \"type\": \"histogram2dcontour\"}], \"mesh3d\": [{\"colorbar\": {\"outlinewidth\": 0, \"ticks\": \"\"}, \"type\": \"mesh3d\"}], \"parcoords\": [{\"line\": {\"colorbar\": {\"outlinewidth\": 0, \"ticks\": \"\"}}, \"type\": \"parcoords\"}], \"pie\": [{\"automargin\": true, \"type\": \"pie\"}], \"scatter\": [{\"marker\": {\"colorbar\": {\"outlinewidth\": 0, \"ticks\": \"\"}}, \"type\": \"scatter\"}], \"scatter3d\": [{\"line\": {\"colorbar\": {\"outlinewidth\": 0, \"ticks\": \"\"}}, \"marker\": {\"colorbar\": {\"outlinewidth\": 0, \"ticks\": \"\"}}, \"type\": \"scatter3d\"}], \"scattercarpet\": [{\"marker\": {\"colorbar\": {\"outlinewidth\": 0, \"ticks\": \"\"}}, \"type\": \"scattercarpet\"}], \"scattergeo\": [{\"marker\": {\"colorbar\": {\"outlinewidth\": 0, \"ticks\": \"\"}}, \"type\": \"scattergeo\"}], \"scattergl\": [{\"marker\": {\"colorbar\": {\"outlinewidth\": 0, \"ticks\": \"\"}}, \"type\": \"scattergl\"}], \"scattermapbox\": [{\"marker\": {\"colorbar\": {\"outlinewidth\": 0, \"ticks\": \"\"}}, \"type\": \"scattermapbox\"}], \"scatterpolar\": [{\"marker\": {\"colorbar\": {\"outlinewidth\": 0, \"ticks\": \"\"}}, \"type\": \"scatterpolar\"}], \"scatterpolargl\": [{\"marker\": {\"colorbar\": {\"outlinewidth\": 0, \"ticks\": \"\"}}, \"type\": \"scatterpolargl\"}], \"scatterternary\": [{\"marker\": {\"colorbar\": {\"outlinewidth\": 0, \"ticks\": \"\"}}, \"type\": \"scatterternary\"}], \"surface\": [{\"colorbar\": {\"outlinewidth\": 0, \"ticks\": \"\"}, \"colorscale\": [[0.0, \"#0d0887\"], [0.1111111111111111, \"#46039f\"], [0.2222222222222222, \"#7201a8\"], [0.3333333333333333, \"#9c179e\"], [0.4444444444444444, \"#bd3786\"], [0.5555555555555556, \"#d8576b\"], [0.6666666666666666, \"#ed7953\"], [0.7777777777777778, \"#fb9f3a\"], [0.8888888888888888, \"#fdca26\"], [1.0, \"#f0f921\"]], \"type\": \"surface\"}], \"table\": [{\"cells\": {\"fill\": {\"color\": \"#EBF0F8\"}, \"line\": {\"color\": \"white\"}}, \"header\": {\"fill\": {\"color\": \"#C8D4E3\"}, \"line\": {\"color\": \"white\"}}, \"type\": \"table\"}]}, \"layout\": {\"annotationdefaults\": {\"arrowcolor\": \"#2a3f5f\", \"arrowhead\": 0, \"arrowwidth\": 1}, \"coloraxis\": {\"colorbar\": {\"outlinewidth\": 0, \"ticks\": \"\"}}, \"colorscale\": {\"diverging\": [[0, \"#8e0152\"], [0.1, \"#c51b7d\"], [0.2, \"#de77ae\"], [0.3, \"#f1b6da\"], [0.4, \"#fde0ef\"], [0.5, \"#f7f7f7\"], [0.6, \"#e6f5d0\"], [0.7, \"#b8e186\"], [0.8, \"#7fbc41\"], [0.9, \"#4d9221\"], [1, \"#276419\"]], \"sequential\": [[0.0, \"#0d0887\"], [0.1111111111111111, \"#46039f\"], [0.2222222222222222, \"#7201a8\"], [0.3333333333333333, \"#9c179e\"], [0.4444444444444444, \"#bd3786\"], [0.5555555555555556, \"#d8576b\"], [0.6666666666666666, \"#ed7953\"], [0.7777777777777778, \"#fb9f3a\"], [0.8888888888888888, \"#fdca26\"], [1.0, \"#f0f921\"]], \"sequentialminus\": [[0.0, \"#0d0887\"], [0.1111111111111111, \"#46039f\"], [0.2222222222222222, \"#7201a8\"], [0.3333333333333333, \"#9c179e\"], [0.4444444444444444, \"#bd3786\"], [0.5555555555555556, \"#d8576b\"], [0.6666666666666666, \"#ed7953\"], [0.7777777777777778, \"#fb9f3a\"], [0.8888888888888888, \"#fdca26\"], [1.0, \"#f0f921\"]]}, \"colorway\": [\"#636efa\", \"#EF553B\", \"#00cc96\", \"#ab63fa\", \"#FFA15A\", \"#19d3f3\", \"#FF6692\", \"#B6E880\", \"#FF97FF\", \"#FECB52\"], \"font\": {\"color\": \"#2a3f5f\"}, \"geo\": {\"bgcolor\": \"white\", \"lakecolor\": \"white\", \"landcolor\": \"#E5ECF6\", \"showlakes\": true, \"showland\": true, \"subunitcolor\": \"white\"}, \"hoverlabel\": {\"align\": \"left\"}, \"hovermode\": \"closest\", \"mapbox\": {\"style\": \"light\"}, \"paper_bgcolor\": \"white\", \"plot_bgcolor\": \"#E5ECF6\", \"polar\": {\"angularaxis\": {\"gridcolor\": \"white\", \"linecolor\": \"white\", \"ticks\": \"\"}, \"bgcolor\": \"#E5ECF6\", \"radialaxis\": {\"gridcolor\": \"white\", \"linecolor\": \"white\", \"ticks\": \"\"}}, \"scene\": {\"xaxis\": {\"backgroundcolor\": \"#E5ECF6\", \"gridcolor\": \"white\", \"gridwidth\": 2, \"linecolor\": \"white\", \"showbackground\": true, \"ticks\": \"\", \"zerolinecolor\": \"white\"}, \"yaxis\": {\"backgroundcolor\": \"#E5ECF6\", \"gridcolor\": \"white\", \"gridwidth\": 2, \"linecolor\": \"white\", \"showbackground\": true, \"ticks\": \"\", \"zerolinecolor\": \"white\"}, \"zaxis\": {\"backgroundcolor\": \"#E5ECF6\", \"gridcolor\": \"white\", \"gridwidth\": 2, \"linecolor\": \"white\", \"showbackground\": true, \"ticks\": \"\", \"zerolinecolor\": \"white\"}}, \"shapedefaults\": {\"line\": {\"color\": \"#2a3f5f\"}}, \"ternary\": {\"aaxis\": {\"gridcolor\": \"white\", \"linecolor\": \"white\", \"ticks\": \"\"}, \"baxis\": {\"gridcolor\": \"white\", \"linecolor\": \"white\", \"ticks\": \"\"}, \"bgcolor\": \"#E5ECF6\", \"caxis\": {\"gridcolor\": \"white\", \"linecolor\": \"white\", \"ticks\": \"\"}}, \"title\": {\"x\": 0.05}, \"xaxis\": {\"automargin\": true, \"gridcolor\": \"white\", \"linecolor\": \"white\", \"ticks\": \"\", \"title\": {\"standoff\": 15}, \"zerolinecolor\": \"white\", \"zerolinewidth\": 2}, \"yaxis\": {\"automargin\": true, \"gridcolor\": \"white\", \"linecolor\": \"white\", \"ticks\": \"\", \"title\": {\"standoff\": 15}, \"zerolinecolor\": \"white\", \"zerolinewidth\": 2}}}},                        {\"responsive\": true}                    ).then(function(){\n",
       "                            \n",
       "var gd = document.getElementById('246f753a-ecab-484e-b7a5-59a9aa30af8f');\n",
       "var x = new MutationObserver(function (mutations, observer) {{\n",
       "        var display = window.getComputedStyle(gd).display;\n",
       "        if (!display || display === 'none') {{\n",
       "            console.log([gd, 'removed!']);\n",
       "            Plotly.purge(gd);\n",
       "            observer.disconnect();\n",
       "        }}\n",
       "}});\n",
       "\n",
       "// Listen for the removal of the full notebook cells\n",
       "var notebookContainer = gd.closest('#notebook-container');\n",
       "if (notebookContainer) {{\n",
       "    x.observe(notebookContainer, {childList: true});\n",
       "}}\n",
       "\n",
       "// Listen for the clearing of the current output cell\n",
       "var outputEl = gd.closest('.output');\n",
       "if (outputEl) {{\n",
       "    x.observe(outputEl, {childList: true});\n",
       "}}\n",
       "\n",
       "                        })                };                });            </script>        </div>"
      ]
     },
     "metadata": {},
     "output_type": "display_data"
    }
   ],
   "source": [
    "#Create Count Data Frame with count or weight\n",
    "df_result = create_df_by_state(df_result, nation_list)\n",
    "create_stacked_bar_chart(df_result, 20, label = 'resilence', method = 'weight', state = True)"
   ]
  },
  {
   "cell_type": "code",
   "execution_count": 96,
   "metadata": {},
   "outputs": [
    {
     "data": {
      "application/vnd.plotly.v1+json": {
       "config": {
        "plotlyServerURL": "https://plot.ly"
       },
       "data": [
        {
         "name": "AU",
         "type": "bar",
         "x": [
          "good",
          "play",
          "service",
          "help",
          "family",
          "share",
          "development",
          "community",
          "health",
          "order",
          "force",
          "university",
          "love",
          "security",
          "problem",
          "election",
          "challenge",
          "education",
          "growth",
          "attack"
         ],
         "y": [
          69212,
          58287,
          40173,
          41557,
          38261,
          31326,
          19317,
          32525,
          30834,
          17553,
          23322,
          19416,
          25896,
          15575,
          25784,
          14751,
          16000,
          11328,
          18854,
          16962
         ]
        },
        {
         "name": "BD",
         "type": "bar",
         "x": [
          "good",
          "play",
          "service",
          "help",
          "family",
          "share",
          "development",
          "community",
          "health",
          "order",
          "force",
          "university",
          "love",
          "security",
          "problem",
          "election",
          "challenge",
          "education",
          "growth",
          "attack"
         ],
         "y": [
          8792,
          7606,
          7968,
          7366,
          7603,
          5578,
          8147,
          3781,
          7050,
          6309,
          6413,
          9058,
          2156,
          5391,
          4423,
          8289,
          2998,
          4817,
          3923,
          6100
         ]
        },
        {
         "name": "CA",
         "type": "bar",
         "x": [
          "good",
          "play",
          "service",
          "help",
          "family",
          "share",
          "development",
          "community",
          "health",
          "order",
          "force",
          "university",
          "love",
          "security",
          "problem",
          "election",
          "challenge",
          "education",
          "growth",
          "attack"
         ],
         "y": [
          65817,
          64407,
          56090,
          59806,
          53841,
          42439,
          25063,
          51986,
          45601,
          24964,
          23807,
          34588,
          25114,
          23969,
          22658,
          15490,
          17734,
          13544,
          17839,
          13561
         ]
        },
        {
         "name": "GB",
         "type": "bar",
         "x": [
          "good",
          "play",
          "service",
          "help",
          "family",
          "share",
          "development",
          "community",
          "health",
          "order",
          "force",
          "university",
          "love",
          "security",
          "problem",
          "election",
          "challenge",
          "education",
          "growth",
          "attack"
         ],
         "y": [
          62508,
          60891,
          37761,
          49232,
          50586,
          27272,
          13338,
          21583,
          24033,
          21593,
          27382,
          20690,
          32739,
          15620,
          24433,
          12965,
          16041,
          9756,
          10015,
          24289
         ]
        },
        {
         "name": "GH",
         "type": "bar",
         "x": [
          "good",
          "play",
          "service",
          "help",
          "family",
          "share",
          "development",
          "community",
          "health",
          "order",
          "force",
          "university",
          "love",
          "security",
          "problem",
          "election",
          "challenge",
          "education",
          "growth",
          "attack"
         ],
         "y": [
          15741,
          12303,
          19792,
          12844,
          7623,
          5825,
          16038,
          9843,
          12879,
          7203,
          5545,
          8910,
          5647,
          7976,
          6642,
          10910,
          8185,
          11499,
          4972,
          4222
         ]
        },
        {
         "name": "HK",
         "type": "bar",
         "x": [
          "good",
          "play",
          "service",
          "help",
          "family",
          "share",
          "development",
          "community",
          "health",
          "order",
          "force",
          "university",
          "love",
          "security",
          "problem",
          "election",
          "challenge",
          "education",
          "growth",
          "attack"
         ],
         "y": [
          2452,
          935,
          1928,
          2161,
          935,
          2568,
          1617,
          473,
          1078,
          1366,
          1500,
          737,
          541,
          1588,
          1232,
          873,
          839,
          473,
          2155,
          764
         ]
        },
        {
         "name": "IE",
         "type": "bar",
         "x": [
          "good",
          "play",
          "service",
          "help",
          "family",
          "share",
          "development",
          "community",
          "health",
          "order",
          "force",
          "university",
          "love",
          "security",
          "problem",
          "election",
          "challenge",
          "education",
          "growth",
          "attack"
         ],
         "y": [
          50535,
          52477,
          34080,
          32522,
          42674,
          17502,
          13587,
          19543,
          21296,
          15411,
          14992,
          11033,
          25512,
          7306,
          14884,
          6464,
          13650,
          7916,
          6836,
          14814
         ]
        },
        {
         "name": "IN",
         "type": "bar",
         "x": [
          "good",
          "play",
          "service",
          "help",
          "family",
          "share",
          "development",
          "community",
          "health",
          "order",
          "force",
          "university",
          "love",
          "security",
          "problem",
          "election",
          "challenge",
          "education",
          "growth",
          "attack"
         ],
         "y": [
          46733,
          45283,
          33293,
          37102,
          29772,
          30435,
          24378,
          15202,
          19590,
          28957,
          22339,
          18776,
          17627,
          20093,
          17350,
          21608,
          13362,
          15296,
          21231,
          17977
         ]
        },
        {
         "name": "JM",
         "type": "bar",
         "x": [
          "good",
          "play",
          "service",
          "help",
          "family",
          "share",
          "development",
          "community",
          "health",
          "order",
          "force",
          "university",
          "love",
          "security",
          "problem",
          "election",
          "challenge",
          "education",
          "growth",
          "attack"
         ],
         "y": [
          23619,
          14030,
          26381,
          19135,
          16048,
          10932,
          25476,
          27032,
          21740,
          11757,
          12379,
          11935,
          13689,
          12749,
          10640,
          6107,
          10174,
          17752,
          9613,
          3629
         ]
        },
        {
         "name": "KE",
         "type": "bar",
         "x": [
          "good",
          "play",
          "service",
          "help",
          "family",
          "share",
          "development",
          "community",
          "health",
          "order",
          "force",
          "university",
          "love",
          "security",
          "problem",
          "election",
          "challenge",
          "education",
          "growth",
          "attack"
         ],
         "y": [
          22303,
          12676,
          20910,
          15805,
          13432,
          24600,
          14223,
          10208,
          13417,
          11663,
          10521,
          12219,
          7626,
          12914,
          7365,
          13821,
          9217,
          8340,
          6951,
          8486
         ]
        },
        {
         "name": "LK",
         "type": "bar",
         "x": [
          "good",
          "play",
          "service",
          "help",
          "family",
          "share",
          "development",
          "community",
          "health",
          "order",
          "force",
          "university",
          "love",
          "security",
          "problem",
          "election",
          "challenge",
          "education",
          "growth",
          "attack"
         ],
         "y": [
          5735,
          4116,
          6155,
          4514,
          4406,
          3272,
          7627,
          3811,
          3440,
          4265,
          4476,
          4233,
          1637,
          3750,
          2842,
          5770,
          2373,
          3843,
          3048,
          2761
         ]
        },
        {
         "name": "MY",
         "type": "bar",
         "x": [
          "good",
          "play",
          "service",
          "help",
          "family",
          "share",
          "development",
          "community",
          "health",
          "order",
          "force",
          "university",
          "love",
          "security",
          "problem",
          "election",
          "challenge",
          "education",
          "growth",
          "attack"
         ],
         "y": [
          26310,
          15675,
          20989,
          19003,
          15539,
          29503,
          17177,
          11159,
          10877,
          12405,
          10564,
          8044,
          6816,
          10324,
          11053,
          12480,
          7833,
          10285,
          11132,
          6589
         ]
        },
        {
         "name": "NG",
         "type": "bar",
         "x": [
          "good",
          "play",
          "service",
          "help",
          "family",
          "share",
          "development",
          "community",
          "health",
          "order",
          "force",
          "university",
          "love",
          "security",
          "problem",
          "election",
          "challenge",
          "education",
          "growth",
          "attack"
         ],
         "y": [
          44215,
          20279,
          39824,
          25049,
          23742,
          16992,
          41919,
          28230,
          21457,
          26662,
          20190,
          29532,
          17080,
          36231,
          20265,
          45142,
          24839,
          22275,
          12675,
          15421
         ]
        },
        {
         "name": "NZ",
         "type": "bar",
         "x": [
          "good",
          "play",
          "service",
          "help",
          "family",
          "share",
          "development",
          "community",
          "health",
          "order",
          "force",
          "university",
          "love",
          "security",
          "problem",
          "election",
          "challenge",
          "education",
          "growth",
          "attack"
         ],
         "y": [
          61754,
          44413,
          40291,
          45050,
          44217,
          23524,
          19217,
          37738,
          35196,
          14877,
          17604,
          20646,
          20999,
          11065,
          19108,
          11203,
          16816,
          11688,
          15153,
          14176
         ]
        },
        {
         "name": "PH",
         "type": "bar",
         "x": [
          "good",
          "play",
          "service",
          "help",
          "family",
          "share",
          "development",
          "community",
          "health",
          "order",
          "force",
          "university",
          "love",
          "security",
          "problem",
          "election",
          "challenge",
          "education",
          "growth",
          "attack"
         ],
         "y": [
          38481,
          33631,
          28905,
          35676,
          33230,
          25052,
          24564,
          18978,
          22710,
          22317,
          19261,
          18032,
          19209,
          15689,
          11902,
          12977,
          11978,
          11660,
          12107,
          9787
         ]
        },
        {
         "name": "PK",
         "type": "bar",
         "x": [
          "good",
          "play",
          "service",
          "help",
          "family",
          "share",
          "development",
          "community",
          "health",
          "order",
          "force",
          "university",
          "love",
          "security",
          "problem",
          "election",
          "challenge",
          "education",
          "growth",
          "attack"
         ],
         "y": [
          21605,
          15237,
          16059,
          16712,
          14563,
          14113,
          19384,
          9631,
          12325,
          16157,
          17186,
          11454,
          6851,
          18091,
          10556,
          12737,
          7082,
          13825,
          9539,
          13220
         ]
        },
        {
         "name": "SG",
         "type": "bar",
         "x": [
          "good",
          "play",
          "service",
          "help",
          "family",
          "share",
          "development",
          "community",
          "health",
          "order",
          "force",
          "university",
          "love",
          "security",
          "problem",
          "election",
          "challenge",
          "education",
          "growth",
          "attack"
         ],
         "y": [
          19412,
          14574,
          21933,
          21311,
          12615,
          19682,
          13959,
          8818,
          9604,
          10055,
          9249,
          8082,
          5926,
          10170,
          7571,
          7535,
          7720,
          5224,
          11045,
          7128
         ]
        },
        {
         "name": "TZ",
         "type": "bar",
         "x": [
          "good",
          "play",
          "service",
          "help",
          "family",
          "share",
          "development",
          "community",
          "health",
          "order",
          "force",
          "university",
          "love",
          "security",
          "problem",
          "election",
          "challenge",
          "education",
          "growth",
          "attack"
         ],
         "y": [
          8562,
          5320,
          12593,
          7226,
          3262,
          4732,
          13117,
          6448,
          7815,
          4796,
          3786,
          4117,
          844,
          4083,
          4215,
          3399,
          6348,
          7462,
          4738,
          1458
         ]
        },
        {
         "name": "ZA",
         "type": "bar",
         "x": [
          "good",
          "play",
          "service",
          "help",
          "family",
          "share",
          "development",
          "community",
          "health",
          "order",
          "force",
          "university",
          "love",
          "security",
          "problem",
          "election",
          "challenge",
          "education",
          "growth",
          "attack"
         ],
         "y": [
          46851,
          45289,
          46465,
          31549,
          29046,
          24990,
          27104,
          24975,
          20489,
          21108,
          19141,
          17465,
          17227,
          18489,
          19966,
          12761,
          20299,
          21199,
          17413,
          16588
         ]
        }
       ],
       "layout": {
        "barmode": "stack",
        "template": {
         "data": {
          "bar": [
           {
            "error_x": {
             "color": "#2a3f5f"
            },
            "error_y": {
             "color": "#2a3f5f"
            },
            "marker": {
             "line": {
              "color": "#E5ECF6",
              "width": 0.5
             }
            },
            "type": "bar"
           }
          ],
          "barpolar": [
           {
            "marker": {
             "line": {
              "color": "#E5ECF6",
              "width": 0.5
             }
            },
            "type": "barpolar"
           }
          ],
          "carpet": [
           {
            "aaxis": {
             "endlinecolor": "#2a3f5f",
             "gridcolor": "white",
             "linecolor": "white",
             "minorgridcolor": "white",
             "startlinecolor": "#2a3f5f"
            },
            "baxis": {
             "endlinecolor": "#2a3f5f",
             "gridcolor": "white",
             "linecolor": "white",
             "minorgridcolor": "white",
             "startlinecolor": "#2a3f5f"
            },
            "type": "carpet"
           }
          ],
          "choropleth": [
           {
            "colorbar": {
             "outlinewidth": 0,
             "ticks": ""
            },
            "type": "choropleth"
           }
          ],
          "contour": [
           {
            "colorbar": {
             "outlinewidth": 0,
             "ticks": ""
            },
            "colorscale": [
             [
              0,
              "#0d0887"
             ],
             [
              0.1111111111111111,
              "#46039f"
             ],
             [
              0.2222222222222222,
              "#7201a8"
             ],
             [
              0.3333333333333333,
              "#9c179e"
             ],
             [
              0.4444444444444444,
              "#bd3786"
             ],
             [
              0.5555555555555556,
              "#d8576b"
             ],
             [
              0.6666666666666666,
              "#ed7953"
             ],
             [
              0.7777777777777778,
              "#fb9f3a"
             ],
             [
              0.8888888888888888,
              "#fdca26"
             ],
             [
              1,
              "#f0f921"
             ]
            ],
            "type": "contour"
           }
          ],
          "contourcarpet": [
           {
            "colorbar": {
             "outlinewidth": 0,
             "ticks": ""
            },
            "type": "contourcarpet"
           }
          ],
          "heatmap": [
           {
            "colorbar": {
             "outlinewidth": 0,
             "ticks": ""
            },
            "colorscale": [
             [
              0,
              "#0d0887"
             ],
             [
              0.1111111111111111,
              "#46039f"
             ],
             [
              0.2222222222222222,
              "#7201a8"
             ],
             [
              0.3333333333333333,
              "#9c179e"
             ],
             [
              0.4444444444444444,
              "#bd3786"
             ],
             [
              0.5555555555555556,
              "#d8576b"
             ],
             [
              0.6666666666666666,
              "#ed7953"
             ],
             [
              0.7777777777777778,
              "#fb9f3a"
             ],
             [
              0.8888888888888888,
              "#fdca26"
             ],
             [
              1,
              "#f0f921"
             ]
            ],
            "type": "heatmap"
           }
          ],
          "heatmapgl": [
           {
            "colorbar": {
             "outlinewidth": 0,
             "ticks": ""
            },
            "colorscale": [
             [
              0,
              "#0d0887"
             ],
             [
              0.1111111111111111,
              "#46039f"
             ],
             [
              0.2222222222222222,
              "#7201a8"
             ],
             [
              0.3333333333333333,
              "#9c179e"
             ],
             [
              0.4444444444444444,
              "#bd3786"
             ],
             [
              0.5555555555555556,
              "#d8576b"
             ],
             [
              0.6666666666666666,
              "#ed7953"
             ],
             [
              0.7777777777777778,
              "#fb9f3a"
             ],
             [
              0.8888888888888888,
              "#fdca26"
             ],
             [
              1,
              "#f0f921"
             ]
            ],
            "type": "heatmapgl"
           }
          ],
          "histogram": [
           {
            "marker": {
             "colorbar": {
              "outlinewidth": 0,
              "ticks": ""
             }
            },
            "type": "histogram"
           }
          ],
          "histogram2d": [
           {
            "colorbar": {
             "outlinewidth": 0,
             "ticks": ""
            },
            "colorscale": [
             [
              0,
              "#0d0887"
             ],
             [
              0.1111111111111111,
              "#46039f"
             ],
             [
              0.2222222222222222,
              "#7201a8"
             ],
             [
              0.3333333333333333,
              "#9c179e"
             ],
             [
              0.4444444444444444,
              "#bd3786"
             ],
             [
              0.5555555555555556,
              "#d8576b"
             ],
             [
              0.6666666666666666,
              "#ed7953"
             ],
             [
              0.7777777777777778,
              "#fb9f3a"
             ],
             [
              0.8888888888888888,
              "#fdca26"
             ],
             [
              1,
              "#f0f921"
             ]
            ],
            "type": "histogram2d"
           }
          ],
          "histogram2dcontour": [
           {
            "colorbar": {
             "outlinewidth": 0,
             "ticks": ""
            },
            "colorscale": [
             [
              0,
              "#0d0887"
             ],
             [
              0.1111111111111111,
              "#46039f"
             ],
             [
              0.2222222222222222,
              "#7201a8"
             ],
             [
              0.3333333333333333,
              "#9c179e"
             ],
             [
              0.4444444444444444,
              "#bd3786"
             ],
             [
              0.5555555555555556,
              "#d8576b"
             ],
             [
              0.6666666666666666,
              "#ed7953"
             ],
             [
              0.7777777777777778,
              "#fb9f3a"
             ],
             [
              0.8888888888888888,
              "#fdca26"
             ],
             [
              1,
              "#f0f921"
             ]
            ],
            "type": "histogram2dcontour"
           }
          ],
          "mesh3d": [
           {
            "colorbar": {
             "outlinewidth": 0,
             "ticks": ""
            },
            "type": "mesh3d"
           }
          ],
          "parcoords": [
           {
            "line": {
             "colorbar": {
              "outlinewidth": 0,
              "ticks": ""
             }
            },
            "type": "parcoords"
           }
          ],
          "pie": [
           {
            "automargin": true,
            "type": "pie"
           }
          ],
          "scatter": [
           {
            "marker": {
             "colorbar": {
              "outlinewidth": 0,
              "ticks": ""
             }
            },
            "type": "scatter"
           }
          ],
          "scatter3d": [
           {
            "line": {
             "colorbar": {
              "outlinewidth": 0,
              "ticks": ""
             }
            },
            "marker": {
             "colorbar": {
              "outlinewidth": 0,
              "ticks": ""
             }
            },
            "type": "scatter3d"
           }
          ],
          "scattercarpet": [
           {
            "marker": {
             "colorbar": {
              "outlinewidth": 0,
              "ticks": ""
             }
            },
            "type": "scattercarpet"
           }
          ],
          "scattergeo": [
           {
            "marker": {
             "colorbar": {
              "outlinewidth": 0,
              "ticks": ""
             }
            },
            "type": "scattergeo"
           }
          ],
          "scattergl": [
           {
            "marker": {
             "colorbar": {
              "outlinewidth": 0,
              "ticks": ""
             }
            },
            "type": "scattergl"
           }
          ],
          "scattermapbox": [
           {
            "marker": {
             "colorbar": {
              "outlinewidth": 0,
              "ticks": ""
             }
            },
            "type": "scattermapbox"
           }
          ],
          "scatterpolar": [
           {
            "marker": {
             "colorbar": {
              "outlinewidth": 0,
              "ticks": ""
             }
            },
            "type": "scatterpolar"
           }
          ],
          "scatterpolargl": [
           {
            "marker": {
             "colorbar": {
              "outlinewidth": 0,
              "ticks": ""
             }
            },
            "type": "scatterpolargl"
           }
          ],
          "scatterternary": [
           {
            "marker": {
             "colorbar": {
              "outlinewidth": 0,
              "ticks": ""
             }
            },
            "type": "scatterternary"
           }
          ],
          "surface": [
           {
            "colorbar": {
             "outlinewidth": 0,
             "ticks": ""
            },
            "colorscale": [
             [
              0,
              "#0d0887"
             ],
             [
              0.1111111111111111,
              "#46039f"
             ],
             [
              0.2222222222222222,
              "#7201a8"
             ],
             [
              0.3333333333333333,
              "#9c179e"
             ],
             [
              0.4444444444444444,
              "#bd3786"
             ],
             [
              0.5555555555555556,
              "#d8576b"
             ],
             [
              0.6666666666666666,
              "#ed7953"
             ],
             [
              0.7777777777777778,
              "#fb9f3a"
             ],
             [
              0.8888888888888888,
              "#fdca26"
             ],
             [
              1,
              "#f0f921"
             ]
            ],
            "type": "surface"
           }
          ],
          "table": [
           {
            "cells": {
             "fill": {
              "color": "#EBF0F8"
             },
             "line": {
              "color": "white"
             }
            },
            "header": {
             "fill": {
              "color": "#C8D4E3"
             },
             "line": {
              "color": "white"
             }
            },
            "type": "table"
           }
          ]
         },
         "layout": {
          "annotationdefaults": {
           "arrowcolor": "#2a3f5f",
           "arrowhead": 0,
           "arrowwidth": 1
          },
          "coloraxis": {
           "colorbar": {
            "outlinewidth": 0,
            "ticks": ""
           }
          },
          "colorscale": {
           "diverging": [
            [
             0,
             "#8e0152"
            ],
            [
             0.1,
             "#c51b7d"
            ],
            [
             0.2,
             "#de77ae"
            ],
            [
             0.3,
             "#f1b6da"
            ],
            [
             0.4,
             "#fde0ef"
            ],
            [
             0.5,
             "#f7f7f7"
            ],
            [
             0.6,
             "#e6f5d0"
            ],
            [
             0.7,
             "#b8e186"
            ],
            [
             0.8,
             "#7fbc41"
            ],
            [
             0.9,
             "#4d9221"
            ],
            [
             1,
             "#276419"
            ]
           ],
           "sequential": [
            [
             0,
             "#0d0887"
            ],
            [
             0.1111111111111111,
             "#46039f"
            ],
            [
             0.2222222222222222,
             "#7201a8"
            ],
            [
             0.3333333333333333,
             "#9c179e"
            ],
            [
             0.4444444444444444,
             "#bd3786"
            ],
            [
             0.5555555555555556,
             "#d8576b"
            ],
            [
             0.6666666666666666,
             "#ed7953"
            ],
            [
             0.7777777777777778,
             "#fb9f3a"
            ],
            [
             0.8888888888888888,
             "#fdca26"
            ],
            [
             1,
             "#f0f921"
            ]
           ],
           "sequentialminus": [
            [
             0,
             "#0d0887"
            ],
            [
             0.1111111111111111,
             "#46039f"
            ],
            [
             0.2222222222222222,
             "#7201a8"
            ],
            [
             0.3333333333333333,
             "#9c179e"
            ],
            [
             0.4444444444444444,
             "#bd3786"
            ],
            [
             0.5555555555555556,
             "#d8576b"
            ],
            [
             0.6666666666666666,
             "#ed7953"
            ],
            [
             0.7777777777777778,
             "#fb9f3a"
            ],
            [
             0.8888888888888888,
             "#fdca26"
            ],
            [
             1,
             "#f0f921"
            ]
           ]
          },
          "colorway": [
           "#636efa",
           "#EF553B",
           "#00cc96",
           "#ab63fa",
           "#FFA15A",
           "#19d3f3",
           "#FF6692",
           "#B6E880",
           "#FF97FF",
           "#FECB52"
          ],
          "font": {
           "color": "#2a3f5f"
          },
          "geo": {
           "bgcolor": "white",
           "lakecolor": "white",
           "landcolor": "#E5ECF6",
           "showlakes": true,
           "showland": true,
           "subunitcolor": "white"
          },
          "hoverlabel": {
           "align": "left"
          },
          "hovermode": "closest",
          "mapbox": {
           "style": "light"
          },
          "paper_bgcolor": "white",
          "plot_bgcolor": "#E5ECF6",
          "polar": {
           "angularaxis": {
            "gridcolor": "white",
            "linecolor": "white",
            "ticks": ""
           },
           "bgcolor": "#E5ECF6",
           "radialaxis": {
            "gridcolor": "white",
            "linecolor": "white",
            "ticks": ""
           }
          },
          "scene": {
           "xaxis": {
            "backgroundcolor": "#E5ECF6",
            "gridcolor": "white",
            "gridwidth": 2,
            "linecolor": "white",
            "showbackground": true,
            "ticks": "",
            "zerolinecolor": "white"
           },
           "yaxis": {
            "backgroundcolor": "#E5ECF6",
            "gridcolor": "white",
            "gridwidth": 2,
            "linecolor": "white",
            "showbackground": true,
            "ticks": "",
            "zerolinecolor": "white"
           },
           "zaxis": {
            "backgroundcolor": "#E5ECF6",
            "gridcolor": "white",
            "gridwidth": 2,
            "linecolor": "white",
            "showbackground": true,
            "ticks": "",
            "zerolinecolor": "white"
           }
          },
          "shapedefaults": {
           "line": {
            "color": "#2a3f5f"
           }
          },
          "ternary": {
           "aaxis": {
            "gridcolor": "white",
            "linecolor": "white",
            "ticks": ""
           },
           "baxis": {
            "gridcolor": "white",
            "linecolor": "white",
            "ticks": ""
           },
           "bgcolor": "#E5ECF6",
           "caxis": {
            "gridcolor": "white",
            "linecolor": "white",
            "ticks": ""
           }
          },
          "title": {
           "x": 0.05
          },
          "xaxis": {
           "automargin": true,
           "gridcolor": "white",
           "linecolor": "white",
           "ticks": "",
           "title": {
            "standoff": 15
           },
           "zerolinecolor": "white",
           "zerolinewidth": 2
          },
          "yaxis": {
           "automargin": true,
           "gridcolor": "white",
           "linecolor": "white",
           "ticks": "",
           "title": {
            "standoff": 15
           },
           "zerolinecolor": "white",
           "zerolinewidth": 2
          }
         }
        }
       }
      },
      "text/html": [
       "<div>                            <div id=\"75242e83-b07c-45d1-97f5-ddd0e067c5da\" class=\"plotly-graph-div\" style=\"height:525px; width:100%;\"></div>            <script type=\"text/javascript\">                require([\"plotly\"], function(Plotly) {                    window.PLOTLYENV=window.PLOTLYENV || {};                                    if (document.getElementById(\"75242e83-b07c-45d1-97f5-ddd0e067c5da\")) {                    Plotly.newPlot(                        \"75242e83-b07c-45d1-97f5-ddd0e067c5da\",                        [{\"name\": \"AU\", \"type\": \"bar\", \"x\": [\"good\", \"play\", \"service\", \"help\", \"family\", \"share\", \"development\", \"community\", \"health\", \"order\", \"force\", \"university\", \"love\", \"security\", \"problem\", \"election\", \"challenge\", \"education\", \"growth\", \"attack\"], \"y\": [69212.0, 58287.0, 40173.0, 41557.0, 38261.0, 31326.0, 19317.0, 32525.0, 30834.0, 17553.0, 23322.0, 19416.0, 25896.0, 15575.0, 25784.0, 14751.0, 16000.0, 11328.0, 18854.0, 16962.0]}, {\"name\": \"BD\", \"type\": \"bar\", \"x\": [\"good\", \"play\", \"service\", \"help\", \"family\", \"share\", \"development\", \"community\", \"health\", \"order\", \"force\", \"university\", \"love\", \"security\", \"problem\", \"election\", \"challenge\", \"education\", \"growth\", \"attack\"], \"y\": [8792.0, 7606.0, 7968.0, 7366.0, 7603.0, 5578.0, 8147.0, 3781.0, 7050.0, 6309.0, 6413.0, 9058.0, 2156.0, 5391.0, 4423.0, 8289.0, 2998.0, 4817.0, 3923.0, 6100.0]}, {\"name\": \"CA\", \"type\": \"bar\", \"x\": [\"good\", \"play\", \"service\", \"help\", \"family\", \"share\", \"development\", \"community\", \"health\", \"order\", \"force\", \"university\", \"love\", \"security\", \"problem\", \"election\", \"challenge\", \"education\", \"growth\", \"attack\"], \"y\": [65817.0, 64407.0, 56090.0, 59806.0, 53841.0, 42439.0, 25063.0, 51986.0, 45601.0, 24964.0, 23807.0, 34588.0, 25114.0, 23969.0, 22658.0, 15490.0, 17734.0, 13544.0, 17839.0, 13561.0]}, {\"name\": \"GB\", \"type\": \"bar\", \"x\": [\"good\", \"play\", \"service\", \"help\", \"family\", \"share\", \"development\", \"community\", \"health\", \"order\", \"force\", \"university\", \"love\", \"security\", \"problem\", \"election\", \"challenge\", \"education\", \"growth\", \"attack\"], \"y\": [62508.0, 60891.0, 37761.0, 49232.0, 50586.0, 27272.0, 13338.0, 21583.0, 24033.0, 21593.0, 27382.0, 20690.0, 32739.0, 15620.0, 24433.0, 12965.0, 16041.0, 9756.0, 10015.0, 24289.0]}, {\"name\": \"GH\", \"type\": \"bar\", \"x\": [\"good\", \"play\", \"service\", \"help\", \"family\", \"share\", \"development\", \"community\", \"health\", \"order\", \"force\", \"university\", \"love\", \"security\", \"problem\", \"election\", \"challenge\", \"education\", \"growth\", \"attack\"], \"y\": [15741.0, 12303.0, 19792.0, 12844.0, 7623.0, 5825.0, 16038.0, 9843.0, 12879.0, 7203.0, 5545.0, 8910.0, 5647.0, 7976.0, 6642.0, 10910.0, 8185.0, 11499.0, 4972.0, 4222.0]}, {\"name\": \"HK\", \"type\": \"bar\", \"x\": [\"good\", \"play\", \"service\", \"help\", \"family\", \"share\", \"development\", \"community\", \"health\", \"order\", \"force\", \"university\", \"love\", \"security\", \"problem\", \"election\", \"challenge\", \"education\", \"growth\", \"attack\"], \"y\": [2452.0, 935.0, 1928.0, 2161.0, 935.0, 2568.0, 1617.0, 473.0, 1078.0, 1366.0, 1500.0, 737.0, 541.0, 1588.0, 1232.0, 873.0, 839.0, 473.0, 2155.0, 764.0]}, {\"name\": \"IE\", \"type\": \"bar\", \"x\": [\"good\", \"play\", \"service\", \"help\", \"family\", \"share\", \"development\", \"community\", \"health\", \"order\", \"force\", \"university\", \"love\", \"security\", \"problem\", \"election\", \"challenge\", \"education\", \"growth\", \"attack\"], \"y\": [50535.0, 52477.0, 34080.0, 32522.0, 42674.0, 17502.0, 13587.0, 19543.0, 21296.0, 15411.0, 14992.0, 11033.0, 25512.0, 7306.0, 14884.0, 6464.0, 13650.0, 7916.0, 6836.0, 14814.0]}, {\"name\": \"IN\", \"type\": \"bar\", \"x\": [\"good\", \"play\", \"service\", \"help\", \"family\", \"share\", \"development\", \"community\", \"health\", \"order\", \"force\", \"university\", \"love\", \"security\", \"problem\", \"election\", \"challenge\", \"education\", \"growth\", \"attack\"], \"y\": [46733.0, 45283.0, 33293.0, 37102.0, 29772.0, 30435.0, 24378.0, 15202.0, 19590.0, 28957.0, 22339.0, 18776.0, 17627.0, 20093.0, 17350.0, 21608.0, 13362.0, 15296.0, 21231.0, 17977.0]}, {\"name\": \"JM\", \"type\": \"bar\", \"x\": [\"good\", \"play\", \"service\", \"help\", \"family\", \"share\", \"development\", \"community\", \"health\", \"order\", \"force\", \"university\", \"love\", \"security\", \"problem\", \"election\", \"challenge\", \"education\", \"growth\", \"attack\"], \"y\": [23619.0, 14030.0, 26381.0, 19135.0, 16048.0, 10932.0, 25476.0, 27032.0, 21740.0, 11757.0, 12379.0, 11935.0, 13689.0, 12749.0, 10640.0, 6107.0, 10174.0, 17752.0, 9613.0, 3629.0]}, {\"name\": \"KE\", \"type\": \"bar\", \"x\": [\"good\", \"play\", \"service\", \"help\", \"family\", \"share\", \"development\", \"community\", \"health\", \"order\", \"force\", \"university\", \"love\", \"security\", \"problem\", \"election\", \"challenge\", \"education\", \"growth\", \"attack\"], \"y\": [22303.0, 12676.0, 20910.0, 15805.0, 13432.0, 24600.0, 14223.0, 10208.0, 13417.0, 11663.0, 10521.0, 12219.0, 7626.0, 12914.0, 7365.0, 13821.0, 9217.0, 8340.0, 6951.0, 8486.0]}, {\"name\": \"LK\", \"type\": \"bar\", \"x\": [\"good\", \"play\", \"service\", \"help\", \"family\", \"share\", \"development\", \"community\", \"health\", \"order\", \"force\", \"university\", \"love\", \"security\", \"problem\", \"election\", \"challenge\", \"education\", \"growth\", \"attack\"], \"y\": [5735.0, 4116.0, 6155.0, 4514.0, 4406.0, 3272.0, 7627.0, 3811.0, 3440.0, 4265.0, 4476.0, 4233.0, 1637.0, 3750.0, 2842.0, 5770.0, 2373.0, 3843.0, 3048.0, 2761.0]}, {\"name\": \"MY\", \"type\": \"bar\", \"x\": [\"good\", \"play\", \"service\", \"help\", \"family\", \"share\", \"development\", \"community\", \"health\", \"order\", \"force\", \"university\", \"love\", \"security\", \"problem\", \"election\", \"challenge\", \"education\", \"growth\", \"attack\"], \"y\": [26310.0, 15675.0, 20989.0, 19003.0, 15539.0, 29503.0, 17177.0, 11159.0, 10877.0, 12405.0, 10564.0, 8044.0, 6816.0, 10324.0, 11053.0, 12480.0, 7833.0, 10285.0, 11132.0, 6589.0]}, {\"name\": \"NG\", \"type\": \"bar\", \"x\": [\"good\", \"play\", \"service\", \"help\", \"family\", \"share\", \"development\", \"community\", \"health\", \"order\", \"force\", \"university\", \"love\", \"security\", \"problem\", \"election\", \"challenge\", \"education\", \"growth\", \"attack\"], \"y\": [44215.0, 20279.0, 39824.0, 25049.0, 23742.0, 16992.0, 41919.0, 28230.0, 21457.0, 26662.0, 20190.0, 29532.0, 17080.0, 36231.0, 20265.0, 45142.0, 24839.0, 22275.0, 12675.0, 15421.0]}, {\"name\": \"NZ\", \"type\": \"bar\", \"x\": [\"good\", \"play\", \"service\", \"help\", \"family\", \"share\", \"development\", \"community\", \"health\", \"order\", \"force\", \"university\", \"love\", \"security\", \"problem\", \"election\", \"challenge\", \"education\", \"growth\", \"attack\"], \"y\": [61754.0, 44413.0, 40291.0, 45050.0, 44217.0, 23524.0, 19217.0, 37738.0, 35196.0, 14877.0, 17604.0, 20646.0, 20999.0, 11065.0, 19108.0, 11203.0, 16816.0, 11688.0, 15153.0, 14176.0]}, {\"name\": \"PH\", \"type\": \"bar\", \"x\": [\"good\", \"play\", \"service\", \"help\", \"family\", \"share\", \"development\", \"community\", \"health\", \"order\", \"force\", \"university\", \"love\", \"security\", \"problem\", \"election\", \"challenge\", \"education\", \"growth\", \"attack\"], \"y\": [38481.0, 33631.0, 28905.0, 35676.0, 33230.0, 25052.0, 24564.0, 18978.0, 22710.0, 22317.0, 19261.0, 18032.0, 19209.0, 15689.0, 11902.0, 12977.0, 11978.0, 11660.0, 12107.0, 9787.0]}, {\"name\": \"PK\", \"type\": \"bar\", \"x\": [\"good\", \"play\", \"service\", \"help\", \"family\", \"share\", \"development\", \"community\", \"health\", \"order\", \"force\", \"university\", \"love\", \"security\", \"problem\", \"election\", \"challenge\", \"education\", \"growth\", \"attack\"], \"y\": [21605.0, 15237.0, 16059.0, 16712.0, 14563.0, 14113.0, 19384.0, 9631.0, 12325.0, 16157.0, 17186.0, 11454.0, 6851.0, 18091.0, 10556.0, 12737.0, 7082.0, 13825.0, 9539.0, 13220.0]}, {\"name\": \"SG\", \"type\": \"bar\", \"x\": [\"good\", \"play\", \"service\", \"help\", \"family\", \"share\", \"development\", \"community\", \"health\", \"order\", \"force\", \"university\", \"love\", \"security\", \"problem\", \"election\", \"challenge\", \"education\", \"growth\", \"attack\"], \"y\": [19412.0, 14574.0, 21933.0, 21311.0, 12615.0, 19682.0, 13959.0, 8818.0, 9604.0, 10055.0, 9249.0, 8082.0, 5926.0, 10170.0, 7571.0, 7535.0, 7720.0, 5224.0, 11045.0, 7128.0]}, {\"name\": \"TZ\", \"type\": \"bar\", \"x\": [\"good\", \"play\", \"service\", \"help\", \"family\", \"share\", \"development\", \"community\", \"health\", \"order\", \"force\", \"university\", \"love\", \"security\", \"problem\", \"election\", \"challenge\", \"education\", \"growth\", \"attack\"], \"y\": [8562.0, 5320.0, 12593.0, 7226.0, 3262.0, 4732.0, 13117.0, 6448.0, 7815.0, 4796.0, 3786.0, 4117.0, 844.0, 4083.0, 4215.0, 3399.0, 6348.0, 7462.0, 4738.0, 1458.0]}, {\"name\": \"ZA\", \"type\": \"bar\", \"x\": [\"good\", \"play\", \"service\", \"help\", \"family\", \"share\", \"development\", \"community\", \"health\", \"order\", \"force\", \"university\", \"love\", \"security\", \"problem\", \"election\", \"challenge\", \"education\", \"growth\", \"attack\"], \"y\": [46851.0, 45289.0, 46465.0, 31549.0, 29046.0, 24990.0, 27104.0, 24975.0, 20489.0, 21108.0, 19141.0, 17465.0, 17227.0, 18489.0, 19966.0, 12761.0, 20299.0, 21199.0, 17413.0, 16588.0]}],                        {\"barmode\": \"stack\", \"template\": {\"data\": {\"bar\": [{\"error_x\": {\"color\": \"#2a3f5f\"}, \"error_y\": {\"color\": \"#2a3f5f\"}, \"marker\": {\"line\": {\"color\": \"#E5ECF6\", \"width\": 0.5}}, \"type\": \"bar\"}], \"barpolar\": [{\"marker\": {\"line\": {\"color\": \"#E5ECF6\", \"width\": 0.5}}, \"type\": \"barpolar\"}], \"carpet\": [{\"aaxis\": {\"endlinecolor\": \"#2a3f5f\", \"gridcolor\": \"white\", \"linecolor\": \"white\", \"minorgridcolor\": \"white\", \"startlinecolor\": \"#2a3f5f\"}, \"baxis\": {\"endlinecolor\": \"#2a3f5f\", \"gridcolor\": \"white\", \"linecolor\": \"white\", \"minorgridcolor\": \"white\", \"startlinecolor\": \"#2a3f5f\"}, \"type\": \"carpet\"}], \"choropleth\": [{\"colorbar\": {\"outlinewidth\": 0, \"ticks\": \"\"}, \"type\": \"choropleth\"}], \"contour\": [{\"colorbar\": {\"outlinewidth\": 0, \"ticks\": \"\"}, \"colorscale\": [[0.0, \"#0d0887\"], [0.1111111111111111, \"#46039f\"], [0.2222222222222222, \"#7201a8\"], [0.3333333333333333, \"#9c179e\"], [0.4444444444444444, \"#bd3786\"], [0.5555555555555556, \"#d8576b\"], [0.6666666666666666, \"#ed7953\"], [0.7777777777777778, \"#fb9f3a\"], [0.8888888888888888, \"#fdca26\"], [1.0, \"#f0f921\"]], \"type\": \"contour\"}], \"contourcarpet\": [{\"colorbar\": {\"outlinewidth\": 0, \"ticks\": \"\"}, \"type\": \"contourcarpet\"}], \"heatmap\": [{\"colorbar\": {\"outlinewidth\": 0, \"ticks\": \"\"}, \"colorscale\": [[0.0, \"#0d0887\"], [0.1111111111111111, \"#46039f\"], [0.2222222222222222, \"#7201a8\"], [0.3333333333333333, \"#9c179e\"], [0.4444444444444444, \"#bd3786\"], [0.5555555555555556, \"#d8576b\"], [0.6666666666666666, \"#ed7953\"], [0.7777777777777778, \"#fb9f3a\"], [0.8888888888888888, \"#fdca26\"], [1.0, \"#f0f921\"]], \"type\": \"heatmap\"}], \"heatmapgl\": [{\"colorbar\": {\"outlinewidth\": 0, \"ticks\": \"\"}, \"colorscale\": [[0.0, \"#0d0887\"], [0.1111111111111111, \"#46039f\"], [0.2222222222222222, \"#7201a8\"], [0.3333333333333333, \"#9c179e\"], [0.4444444444444444, \"#bd3786\"], [0.5555555555555556, \"#d8576b\"], [0.6666666666666666, \"#ed7953\"], [0.7777777777777778, \"#fb9f3a\"], [0.8888888888888888, \"#fdca26\"], [1.0, \"#f0f921\"]], \"type\": \"heatmapgl\"}], \"histogram\": [{\"marker\": {\"colorbar\": {\"outlinewidth\": 0, \"ticks\": \"\"}}, \"type\": \"histogram\"}], \"histogram2d\": [{\"colorbar\": {\"outlinewidth\": 0, \"ticks\": \"\"}, \"colorscale\": [[0.0, \"#0d0887\"], [0.1111111111111111, \"#46039f\"], [0.2222222222222222, \"#7201a8\"], [0.3333333333333333, \"#9c179e\"], [0.4444444444444444, \"#bd3786\"], [0.5555555555555556, \"#d8576b\"], [0.6666666666666666, \"#ed7953\"], [0.7777777777777778, \"#fb9f3a\"], [0.8888888888888888, \"#fdca26\"], [1.0, \"#f0f921\"]], \"type\": \"histogram2d\"}], \"histogram2dcontour\": [{\"colorbar\": {\"outlinewidth\": 0, \"ticks\": \"\"}, \"colorscale\": [[0.0, \"#0d0887\"], [0.1111111111111111, \"#46039f\"], [0.2222222222222222, \"#7201a8\"], [0.3333333333333333, \"#9c179e\"], [0.4444444444444444, \"#bd3786\"], [0.5555555555555556, \"#d8576b\"], [0.6666666666666666, \"#ed7953\"], [0.7777777777777778, \"#fb9f3a\"], [0.8888888888888888, \"#fdca26\"], [1.0, \"#f0f921\"]], \"type\": \"histogram2dcontour\"}], \"mesh3d\": [{\"colorbar\": {\"outlinewidth\": 0, \"ticks\": \"\"}, \"type\": \"mesh3d\"}], \"parcoords\": [{\"line\": {\"colorbar\": {\"outlinewidth\": 0, \"ticks\": \"\"}}, \"type\": \"parcoords\"}], \"pie\": [{\"automargin\": true, \"type\": \"pie\"}], \"scatter\": [{\"marker\": {\"colorbar\": {\"outlinewidth\": 0, \"ticks\": \"\"}}, \"type\": \"scatter\"}], \"scatter3d\": [{\"line\": {\"colorbar\": {\"outlinewidth\": 0, \"ticks\": \"\"}}, \"marker\": {\"colorbar\": {\"outlinewidth\": 0, \"ticks\": \"\"}}, \"type\": \"scatter3d\"}], \"scattercarpet\": [{\"marker\": {\"colorbar\": {\"outlinewidth\": 0, \"ticks\": \"\"}}, \"type\": \"scattercarpet\"}], \"scattergeo\": [{\"marker\": {\"colorbar\": {\"outlinewidth\": 0, \"ticks\": \"\"}}, \"type\": \"scattergeo\"}], \"scattergl\": [{\"marker\": {\"colorbar\": {\"outlinewidth\": 0, \"ticks\": \"\"}}, \"type\": \"scattergl\"}], \"scattermapbox\": [{\"marker\": {\"colorbar\": {\"outlinewidth\": 0, \"ticks\": \"\"}}, \"type\": \"scattermapbox\"}], \"scatterpolar\": [{\"marker\": {\"colorbar\": {\"outlinewidth\": 0, \"ticks\": \"\"}}, \"type\": \"scatterpolar\"}], \"scatterpolargl\": [{\"marker\": {\"colorbar\": {\"outlinewidth\": 0, \"ticks\": \"\"}}, \"type\": \"scatterpolargl\"}], \"scatterternary\": [{\"marker\": {\"colorbar\": {\"outlinewidth\": 0, \"ticks\": \"\"}}, \"type\": \"scatterternary\"}], \"surface\": [{\"colorbar\": {\"outlinewidth\": 0, \"ticks\": \"\"}, \"colorscale\": [[0.0, \"#0d0887\"], [0.1111111111111111, \"#46039f\"], [0.2222222222222222, \"#7201a8\"], [0.3333333333333333, \"#9c179e\"], [0.4444444444444444, \"#bd3786\"], [0.5555555555555556, \"#d8576b\"], [0.6666666666666666, \"#ed7953\"], [0.7777777777777778, \"#fb9f3a\"], [0.8888888888888888, \"#fdca26\"], [1.0, \"#f0f921\"]], \"type\": \"surface\"}], \"table\": [{\"cells\": {\"fill\": {\"color\": \"#EBF0F8\"}, \"line\": {\"color\": \"white\"}}, \"header\": {\"fill\": {\"color\": \"#C8D4E3\"}, \"line\": {\"color\": \"white\"}}, \"type\": \"table\"}]}, \"layout\": {\"annotationdefaults\": {\"arrowcolor\": \"#2a3f5f\", \"arrowhead\": 0, \"arrowwidth\": 1}, \"coloraxis\": {\"colorbar\": {\"outlinewidth\": 0, \"ticks\": \"\"}}, \"colorscale\": {\"diverging\": [[0, \"#8e0152\"], [0.1, \"#c51b7d\"], [0.2, \"#de77ae\"], [0.3, \"#f1b6da\"], [0.4, \"#fde0ef\"], [0.5, \"#f7f7f7\"], [0.6, \"#e6f5d0\"], [0.7, \"#b8e186\"], [0.8, \"#7fbc41\"], [0.9, \"#4d9221\"], [1, \"#276419\"]], \"sequential\": [[0.0, \"#0d0887\"], [0.1111111111111111, \"#46039f\"], [0.2222222222222222, \"#7201a8\"], [0.3333333333333333, \"#9c179e\"], [0.4444444444444444, \"#bd3786\"], [0.5555555555555556, \"#d8576b\"], [0.6666666666666666, \"#ed7953\"], [0.7777777777777778, \"#fb9f3a\"], [0.8888888888888888, \"#fdca26\"], [1.0, \"#f0f921\"]], \"sequentialminus\": [[0.0, \"#0d0887\"], [0.1111111111111111, \"#46039f\"], [0.2222222222222222, \"#7201a8\"], [0.3333333333333333, \"#9c179e\"], [0.4444444444444444, \"#bd3786\"], [0.5555555555555556, \"#d8576b\"], [0.6666666666666666, \"#ed7953\"], [0.7777777777777778, \"#fb9f3a\"], [0.8888888888888888, \"#fdca26\"], [1.0, \"#f0f921\"]]}, \"colorway\": [\"#636efa\", \"#EF553B\", \"#00cc96\", \"#ab63fa\", \"#FFA15A\", \"#19d3f3\", \"#FF6692\", \"#B6E880\", \"#FF97FF\", \"#FECB52\"], \"font\": {\"color\": \"#2a3f5f\"}, \"geo\": {\"bgcolor\": \"white\", \"lakecolor\": \"white\", \"landcolor\": \"#E5ECF6\", \"showlakes\": true, \"showland\": true, \"subunitcolor\": \"white\"}, \"hoverlabel\": {\"align\": \"left\"}, \"hovermode\": \"closest\", \"mapbox\": {\"style\": \"light\"}, \"paper_bgcolor\": \"white\", \"plot_bgcolor\": \"#E5ECF6\", \"polar\": {\"angularaxis\": {\"gridcolor\": \"white\", \"linecolor\": \"white\", \"ticks\": \"\"}, \"bgcolor\": \"#E5ECF6\", \"radialaxis\": {\"gridcolor\": \"white\", \"linecolor\": \"white\", \"ticks\": \"\"}}, \"scene\": {\"xaxis\": {\"backgroundcolor\": \"#E5ECF6\", \"gridcolor\": \"white\", \"gridwidth\": 2, \"linecolor\": \"white\", \"showbackground\": true, \"ticks\": \"\", \"zerolinecolor\": \"white\"}, \"yaxis\": {\"backgroundcolor\": \"#E5ECF6\", \"gridcolor\": \"white\", \"gridwidth\": 2, \"linecolor\": \"white\", \"showbackground\": true, \"ticks\": \"\", \"zerolinecolor\": \"white\"}, \"zaxis\": {\"backgroundcolor\": \"#E5ECF6\", \"gridcolor\": \"white\", \"gridwidth\": 2, \"linecolor\": \"white\", \"showbackground\": true, \"ticks\": \"\", \"zerolinecolor\": \"white\"}}, \"shapedefaults\": {\"line\": {\"color\": \"#2a3f5f\"}}, \"ternary\": {\"aaxis\": {\"gridcolor\": \"white\", \"linecolor\": \"white\", \"ticks\": \"\"}, \"baxis\": {\"gridcolor\": \"white\", \"linecolor\": \"white\", \"ticks\": \"\"}, \"bgcolor\": \"#E5ECF6\", \"caxis\": {\"gridcolor\": \"white\", \"linecolor\": \"white\", \"ticks\": \"\"}}, \"title\": {\"x\": 0.05}, \"xaxis\": {\"automargin\": true, \"gridcolor\": \"white\", \"linecolor\": \"white\", \"ticks\": \"\", \"title\": {\"standoff\": 15}, \"zerolinecolor\": \"white\", \"zerolinewidth\": 2}, \"yaxis\": {\"automargin\": true, \"gridcolor\": \"white\", \"linecolor\": \"white\", \"ticks\": \"\", \"title\": {\"standoff\": 15}, \"zerolinecolor\": \"white\", \"zerolinewidth\": 2}}}},                        {\"responsive\": true}                    ).then(function(){\n",
       "                            \n",
       "var gd = document.getElementById('75242e83-b07c-45d1-97f5-ddd0e067c5da');\n",
       "var x = new MutationObserver(function (mutations, observer) {{\n",
       "        var display = window.getComputedStyle(gd).display;\n",
       "        if (!display || display === 'none') {{\n",
       "            console.log([gd, 'removed!']);\n",
       "            Plotly.purge(gd);\n",
       "            observer.disconnect();\n",
       "        }}\n",
       "}});\n",
       "\n",
       "// Listen for the removal of the full notebook cells\n",
       "var notebookContainer = gd.closest('#notebook-container');\n",
       "if (notebookContainer) {{\n",
       "    x.observe(notebookContainer, {childList: true});\n",
       "}}\n",
       "\n",
       "// Listen for the clearing of the current output cell\n",
       "var outputEl = gd.closest('.output');\n",
       "if (outputEl) {{\n",
       "    x.observe(outputEl, {childList: true});\n",
       "}}\n",
       "\n",
       "                        })                };                });            </script>        </div>"
      ]
     },
     "metadata": {},
     "output_type": "display_data"
    }
   ],
   "source": [
    "create_stacked_bar_chart(df_result, 20, label = 'peace', method = 'weight')"
   ]
  }
 ],
 "metadata": {
  "kernelspec": {
   "display_name": "Python 3",
   "language": "python",
   "name": "python3"
  },
  "language_info": {
   "codemirror_mode": {
    "name": "ipython",
    "version": 3
   },
   "file_extension": ".py",
   "mimetype": "text/x-python",
   "name": "python",
   "nbconvert_exporter": "python",
   "pygments_lexer": "ipython3",
   "version": "3.7.3"
  }
 },
 "nbformat": 4,
 "nbformat_minor": 4
}
