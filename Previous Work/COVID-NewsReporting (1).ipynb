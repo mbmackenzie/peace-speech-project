{
 "cells": [
  {
   "cell_type": "markdown",
   "metadata": {
    "colab_type": "text",
    "id": "S0omvQxDxUdv"
   },
   "source": [
    "# Importing Libraries"
   ]
  },
  {
   "cell_type": "code",
   "execution_count": 18,
   "metadata": {
    "colab": {
     "base_uri": "https://localhost:8080/",
     "height": 122
    },
    "colab_type": "code",
    "executionInfo": {
     "elapsed": 23121,
     "status": "ok",
     "timestamp": 1588868905554,
     "user": {
      "displayName": "Manas Amish Dresswala",
      "photoUrl": "https://lh3.googleusercontent.com/a-/AOh14Gh69o2M9nXpFzsYlaunjbCtHhoUxz5CSdo5JC8E=s64",
      "userId": "14098387314810309220"
     },
     "user_tz": 240
    },
    "id": "NNJAEW8n-mrb",
    "outputId": "eadb70e7-0005-4c33-e9b7-64119a24f4b2"
   },
   "outputs": [
    {
     "name": "stdout",
     "output_type": "stream",
     "text": [
      "Go to this URL in a browser: https://accounts.google.com/o/oauth2/auth?client_id=947318989803-6bn6qk8qdgf4n4g3pfee6491hc0brc4i.apps.googleusercontent.com&redirect_uri=urn%3aietf%3awg%3aoauth%3a2.0%3aoob&response_type=code&scope=email%20https%3a%2f%2fwww.googleapis.com%2fauth%2fdocs.test%20https%3a%2f%2fwww.googleapis.com%2fauth%2fdrive%20https%3a%2f%2fwww.googleapis.com%2fauth%2fdrive.photos.readonly%20https%3a%2f%2fwww.googleapis.com%2fauth%2fpeopleapi.readonly\n",
      "\n",
      "Enter your authorization code:\n",
      "··········\n",
      "Mounted at /content/drive/\n"
     ]
    }
   ],
   "source": [
    "from google.colab import drive\n",
    "drive.mount('/content/drive/', force_remount=True)"
   ]
  },
  {
   "cell_type": "code",
   "execution_count": 0,
   "metadata": {
    "colab": {
     "base_uri": "https://localhost:8080/",
     "height": 119
    },
    "colab_type": "code",
    "executionInfo": {
     "elapsed": 3549,
     "status": "ok",
     "timestamp": 1588691722123,
     "user": {
      "displayName": "Manas Amish Dresswala",
      "photoUrl": "https://lh3.googleusercontent.com/a-/AOh14Gh69o2M9nXpFzsYlaunjbCtHhoUxz5CSdo5JC8E=s64",
      "userId": "14098387314810309220"
     },
     "user_tz": 240
    },
    "id": "ykNOKQm4xOd9",
    "outputId": "339e7e77-0cd5-43dd-8182-f6691311f820"
   },
   "outputs": [
    {
     "name": "stdout",
     "output_type": "stream",
     "text": [
      "Requirement already satisfied: fuzzywuzzy in /usr/local/lib/python3.6/dist-packages (0.18.0)\n",
      "[nltk_data] Downloading package punkt to /root/nltk_data...\n",
      "[nltk_data]   Package punkt is already up-to-date!\n",
      "[nltk_data] Downloading package wordnet to /root/nltk_data...\n",
      "[nltk_data]   Package wordnet is already up-to-date!\n"
     ]
    },
    {
     "data": {
      "text/plain": [
       "True"
      ]
     },
     "execution_count": 52,
     "metadata": {
      "tags": []
     },
     "output_type": "execute_result"
    }
   ],
   "source": [
    "import warnings\n",
    "warnings.filterwarnings('ignore')\n",
    "\n",
    "!pip install fuzzywuzzy\n",
    "\n",
    "# importing libraries\n",
    "import requests\n",
    "import pandas as pd\n",
    "import numpy as np\n",
    "import matplotlib.pyplot as plt\n",
    "\n",
    "from bs4 import BeautifulSoup\n",
    "import requests\n",
    "from fuzzywuzzy import fuzz\n",
    "\n",
    "import nltk\n",
    "from nltk import word_tokenize\n",
    "from nltk import sent_tokenize\n",
    "from nltk.util import ngrams\n",
    "from collections import Counter\n",
    "from nltk import tokenize\n",
    "import re\n",
    "import gensim\n",
    "from gensim.models import Word2Vec\n",
    "from nltk.stem import PorterStemmer\n",
    "from nltk.stem import WordNetLemmatizer\n",
    "from sklearn.feature_extraction.stop_words import ENGLISH_STOP_WORDS\n",
    "from sklearn.feature_extraction.text import CountVectorizer\n",
    "from collections import Counter\n",
    "\n",
    "stemmer = PorterStemmer()\n",
    "lemmatizer = WordNetLemmatizer()\n",
    "nltk.download('punkt')\n",
    "nltk.download('wordnet')"
   ]
  },
  {
   "cell_type": "code",
   "execution_count": 0,
   "metadata": {
    "colab": {},
    "colab_type": "code",
    "id": "n6qa_uNm-Xv_"
   },
   "outputs": [],
   "source": [
    "# reading the different lexicons and defining negative words\n",
    "negative_words = [\"no\", \"not\", \"not any\", \"none\", \"never\", \"neither\", \"nor\", \"few\", \"hardly\", \"little\", \"scarcely\", \"rarely\", \"seldom\", \"isn't\", \"don't\", \"can't\", \"hadn't\"]\n",
    "\n",
    "xlsx_file = '/content/drive/My Drive/Sustainable-Peace-Project/TranslatedLexicon4-8.xlsx'\n",
    "dfs = pd.read_excel(xlsx_file, sheet_name = 'Positive Peace Terms')\n",
    "#preprocessing the peace lexicon words \n",
    "dfs['English'] = dfs['English'].str.lower()\n",
    "dfs['English'] = dfs['English'].str.replace(\"_\", \" \")\n",
    "dfs['English'] = dfs['English'].str.strip()\n",
    "peace_lexicon_list = list(dfs.English)\n",
    "\n",
    "conflict_file = '/content/drive/My Drive/Sustainable-Peace-Project/TranslatedLexicon4-8.xlsx'\n",
    "dfs = pd.read_excel(conflict_file, sheet_name = 'Conflict terms')\n",
    "#preprocessing the conflict lexicon words \n",
    "dfs = dfs.dropna()\n",
    "dfs['English'] = dfs['English'].str.lower()\n",
    "dfs['English'] = dfs['English'].str.replace(\"_\", \" \")\n",
    "dfs['English'] = dfs['English'].str.strip()\n",
    "conflict_lexicon_list = list(dfs.English)\n",
    "\n",
    "nonPeace_file = '/content/drive/My Drive/Sustainable-Peace-Project/TranslatedLexicon4-8.xlsx'\n",
    "dfs = pd.read_excel(nonPeace_file, sheet_name = 'Resilience Terms')\n",
    "#preprocessing the non peace lexicon words\n",
    "dfs = dfs.dropna()\n",
    "dfs['English'] = dfs['English'].str.lower()\n",
    "dfs['English'] = dfs['English'].str.replace(\"_\", \" \")\n",
    "dfs['English'] = dfs['English'].str.strip()\n",
    "nonPeace_lexicon_list = list(dfs.English)"
   ]
  },
  {
   "cell_type": "code",
   "execution_count": 0,
   "metadata": {
    "colab": {},
    "colab_type": "code",
    "id": "beAtEqzLEtW2"
   },
   "outputs": [],
   "source": [
    "# preprocessing the lexicons further by removing stop words\n",
    "my_stopwords = set(ENGLISH_STOP_WORDS)\n",
    "for i in negative_words:\n",
    "  try:\n",
    "    my_stopwords.remove(i)\n",
    "  except:\n",
    "    continue\n",
    "\n",
    "peace_processed = []\n",
    "nonPeace_processed = []\n",
    "conflict_processed = []\n",
    "stemmer = PorterStemmer()\n",
    "lemmatizer = WordNetLemmatizer()\n",
    "for i in peace_lexicon_list:\n",
    "  input_str = word_tokenize(i)\n",
    "  input_str_1 = [x for x in input_str if not x in my_stopwords]\n",
    "  peace_processed.append(' '.join(input_str_1))\n",
    "for i in nonPeace_lexicon_list:\n",
    "  input_str = word_tokenize(i)\n",
    "  input_str_1 = [x for x in input_str if not x in my_stopwords]\n",
    "  nonPeace_processed.append(' '.join(input_str_1))\n",
    "for i in conflict_lexicon_list:\n",
    "  input_str = word_tokenize(i)\n",
    "  input_str_1 = [x for x in input_str if not x in my_stopwords]\n",
    "  conflict_processed.append(' '.join(input_str_1))"
   ]
  },
  {
   "cell_type": "code",
   "execution_count": 0,
   "metadata": {
    "colab": {},
    "colab_type": "code",
    "id": "tIaHFt2CaKXl"
   },
   "outputs": [],
   "source": [
    "bbc_file = '/content/drive/My Drive/Sustainable-Peace-Project/bbc.csv'\n",
    "dfs = pd.read_csv(bbc_file)\n",
    "dfs = dfs.drop(columns = 'Unnamed: 0')\n",
    "dfs.columns = ['Text']\n",
    "bbc_news = list(dfs.Text)\n",
    "bbc_news_total = ' '.join(bbc_news)\n",
    "\n",
    "fox_file = '/content/drive/My Drive/Sustainable-Peace-Project/fox.csv'\n",
    "dfs = pd.read_csv(fox_file)\n",
    "dfs = dfs.drop(columns = 'Unnamed: 0')\n",
    "dfs.columns = ['Text']\n",
    "fox_news = list(dfs.Text)\n",
    "fox_news_total = ' '.join(fox_news)\n",
    "\n",
    "cnn_file = '/content/drive/My Drive/Sustainable-Peace-Project/cnn.csv'\n",
    "dfs = pd.read_csv(cnn_file)\n",
    "dfs = dfs.drop(columns = 'Unnamed: 0')\n",
    "dfs.columns = ['Text']\n",
    "dfs = dfs.dropna()\n",
    "cnn_news = list(dfs.Text)\n",
    "cnn_news_total = ' '.join(cnn_news)"
   ]
  },
  {
   "cell_type": "markdown",
   "metadata": {
    "colab_type": "text",
    "id": "gyr4yoI6xXPf"
   },
   "source": [
    "# Scraping data from Google News API"
   ]
  },
  {
   "cell_type": "code",
   "execution_count": 0,
   "metadata": {
    "colab": {},
    "colab_type": "code",
    "id": "WXBnben7xTPM"
   },
   "outputs": [],
   "source": [
    "# scraping data from the Google News API\n",
    "# this function will find BBC news articles related to coronavirus in English Language\n",
    "def google_news_articles(source):\n",
    "    url = ('https://newsapi.org/v2/everything?'\n",
    "           'sources=' + source + '&'\n",
    "           'q=coronavirus&'\n",
    "           'language=en&'\n",
    "           'apiKey=78d0091a1deb4db6a93daa7fcafe5985')\n",
    "    response = requests.get(url)\n",
    "    #print(response.json())\n",
    "    news = response.json()['articles']\n",
    "    desc = []\n",
    "    for i in range(len(news)):\n",
    "        desc.append(news[i]['description'])\n",
    "    url = []\n",
    "    for i in range(len(news)):\n",
    "        url.append(news[i]['url'])\n",
    "    return url, desc"
   ]
  },
  {
   "cell_type": "code",
   "execution_count": 0,
   "metadata": {
    "colab": {},
    "colab_type": "code",
    "id": "tVTBJbr1x9HT"
   },
   "outputs": [],
   "source": [
    "bbc_urls, bbc_desc = google_news_articles('bbc-news')\n",
    "cnn_urls, cnn_desc = google_news_articles('cnn')\n",
    "fox_urls, fox_desc = google_news_articles('fox-news')"
   ]
  },
  {
   "cell_type": "code",
   "execution_count": 0,
   "metadata": {
    "colab": {},
    "colab_type": "code",
    "id": "KW237gPfyAsF"
   },
   "outputs": [],
   "source": [
    "# scraping data from bbc.com\n",
    "def bbc_news(url):    \n",
    "    response = requests.get(url, headers={'User-agent': 'Mozilla/5.0 (Windows NT 6.2; WOW64) AppleWebKit/537.36 (KHTML, like Gecko) Chrome/37.0.2062.120 Safari/537.36'})\n",
    "    soup = BeautifulSoup(response.content, \"lxml\")\n",
    "    article = soup.findAll('p') \n",
    "    article = article[12:27]\n",
    "    news_article = \"\"\n",
    "    for a in article:\n",
    "        temp = a.get_text()\n",
    "        news_article = news_article + \" \" + temp\n",
    "    return news_article"
   ]
  },
  {
   "cell_type": "code",
   "execution_count": 0,
   "metadata": {
    "colab": {},
    "colab_type": "code",
    "id": "2vp-OC7nyBl9"
   },
   "outputs": [],
   "source": [
    "bbc_articles = []\n",
    "for url in bbc_urls:\n",
    "    bbc_articles.append(bbc_news(url))"
   ]
  },
  {
   "cell_type": "code",
   "execution_count": 0,
   "metadata": {
    "colab": {
     "base_uri": "https://localhost:8080/",
     "height": 34
    },
    "colab_type": "code",
    "executionInfo": {
     "elapsed": 430,
     "status": "ok",
     "timestamp": 1588295802213,
     "user": {
      "displayName": "Manas Amish Dresswala",
      "photoUrl": "https://lh3.googleusercontent.com/a-/AOh14Gh69o2M9nXpFzsYlaunjbCtHhoUxz5CSdo5JC8E=s64",
      "userId": "14098387314810309220"
     },
     "user_tz": 240
    },
    "id": "GJs-co2dzehq",
    "outputId": "f7b09b55-f9d8-4a24-cedd-e1b020d19e97"
   },
   "outputs": [
    {
     "data": {
      "text/plain": [
       "35188"
      ]
     },
     "execution_count": 18,
     "metadata": {
      "tags": []
     },
     "output_type": "execute_result"
    }
   ],
   "source": [
    "bbc_articles_text = ' '.join(bbc_articles)\n",
    "len(bbc_articles_text)"
   ]
  },
  {
   "cell_type": "code",
   "execution_count": 0,
   "metadata": {
    "colab": {},
    "colab_type": "code",
    "id": "4yFJ96Fqzfs1"
   },
   "outputs": [],
   "source": [
    "# scraping data from foxnews.com\n",
    "def fox_news(url):    \n",
    "    response = requests.get(url, headers={'User-agent': 'Mozilla/5.0 (Windows NT 6.2; WOW64) AppleWebKit/537.36 (KHTML, like Gecko) Chrome/37.0.2062.120 Safari/537.36'})\n",
    "    soup = BeautifulSoup(response.content, \"lxml\")\n",
    "    article = soup.findAll('p')\n",
    "    article = article[3:36]\n",
    "    news_article = \"\"\n",
    "    for a in article:\n",
    "        temp = a.get_text()\n",
    "        news_article = news_article + \" \" + temp\n",
    "    return news_article"
   ]
  },
  {
   "cell_type": "code",
   "execution_count": 0,
   "metadata": {
    "colab": {
     "base_uri": "https://localhost:8080/",
     "height": 34
    },
    "colab_type": "code",
    "executionInfo": {
     "elapsed": 19358,
     "status": "ok",
     "timestamp": 1588296295588,
     "user": {
      "displayName": "Manas Amish Dresswala",
      "photoUrl": "https://lh3.googleusercontent.com/a-/AOh14Gh69o2M9nXpFzsYlaunjbCtHhoUxz5CSdo5JC8E=s64",
      "userId": "14098387314810309220"
     },
     "user_tz": 240
    },
    "id": "05zdcVy7ztE1",
    "outputId": "a25a0f72-5c27-46c1-fc33-44e110a19b05"
   },
   "outputs": [
    {
     "data": {
      "text/plain": [
       "71508"
      ]
     },
     "execution_count": 34,
     "metadata": {
      "tags": []
     },
     "output_type": "execute_result"
    }
   ],
   "source": [
    "fox_articles = []\n",
    "for url in fox_urls:\n",
    "    fox_articles.append(fox_news(url))\n",
    "fox_articles_text = ' '.join(fox_articles)\n",
    "len(fox_articles_text)"
   ]
  },
  {
   "cell_type": "code",
   "execution_count": 0,
   "metadata": {
    "colab": {},
    "colab_type": "code",
    "id": "ENyCpf9X1pUK"
   },
   "outputs": [],
   "source": [
    "# scraping data from cnn.com\n",
    "def cnn_news(url):    \n",
    "    response = requests.get(url, headers={'User-agent': 'Mozilla/5.0 (Windows NT 6.2; WOW64) AppleWebKit/537.36 (KHTML, like Gecko) Chrome/37.0.2062.120 Safari/537.36'})\n",
    "    soup = BeautifulSoup(response.content, \"lxml\")\n",
    "    article = soup.findAll('div',  {\"class\": \"l-container\"})\n",
    "    print(article)\n",
    "    try:\n",
    "      article = article[3]\n",
    "    except:\n",
    "      print(url)\n",
    "      return \"\"\n",
    "    news_article = \"\"\n",
    "    for a in article:\n",
    "        temp = a.get_text()\n",
    "        news_article = news_article + \" \" + temp\n",
    "    return news_article"
   ]
  },
  {
   "cell_type": "code",
   "execution_count": 0,
   "metadata": {
    "colab": {
     "base_uri": "https://localhost:8080/",
     "height": 51
    },
    "colab_type": "code",
    "executionInfo": {
     "elapsed": 1668,
     "status": "ok",
     "timestamp": 1588297148344,
     "user": {
      "displayName": "Manas Amish Dresswala",
      "photoUrl": "https://lh3.googleusercontent.com/a-/AOh14Gh69o2M9nXpFzsYlaunjbCtHhoUxz5CSdo5JC8E=s64",
      "userId": "14098387314810309220"
     },
     "user_tz": 240
    },
    "id": "VBK0nk951vLz",
    "outputId": "e692ff29-23b8-4e9a-ba2b-d4df396bf6b4"
   },
   "outputs": [
    {
     "name": "stdout",
     "output_type": "stream",
     "text": [
      "https://www.cnn.com/2020/04/25/health/running-coronavirus-wellness-trnd/index.html\n"
     ]
    },
    {
     "data": {
      "text/plain": [
       "40709"
      ]
     },
     "execution_count": 51,
     "metadata": {
      "tags": []
     },
     "output_type": "execute_result"
    }
   ],
   "source": [
    "cnn_articles = []\n",
    "for url in cnn_urls:\n",
    "    if \"video\" not in url:\n",
    "        cnn_articles.append(cnn_news(url))\n",
    "cnn_articles_text = ' '.join(cnn_articles)\n",
    "len(cnn_articles_text)"
   ]
  },
  {
   "cell_type": "code",
   "execution_count": 0,
   "metadata": {
    "colab": {
     "base_uri": "https://localhost:8080/",
     "height": 298
    },
    "colab_type": "code",
    "executionInfo": {
     "elapsed": 1029,
     "status": "ok",
     "timestamp": 1588297430077,
     "user": {
      "displayName": "Manas Amish Dresswala",
      "photoUrl": "https://lh3.googleusercontent.com/a-/AOh14Gh69o2M9nXpFzsYlaunjbCtHhoUxz5CSdo5JC8E=s64",
      "userId": "14098387314810309220"
     },
     "user_tz": 240
    },
    "id": "8OEBYwmV28iw",
    "outputId": "814d678a-923b-4c8d-ce6a-ad7b55d5edb3"
   },
   "outputs": [
    {
     "data": {
      "text/plain": [
       "Text(0.5, 1.0, 'Average number of characters in an article from different sources')"
      ]
     },
     "execution_count": 53,
     "metadata": {
      "tags": []
     },
     "output_type": "execute_result"
    },
    {
     "data": {
      "image/png": "[encoded data removed]",
      "text/plain": [
       "<Figure size 432x288 with 1 Axes>"
      ]
     },
     "metadata": {
      "needs_background": "light",
      "tags": []
     },
     "output_type": "display_data"
    }
   ],
   "source": [
    "bbc_len = len(bbc_articles_text)/20\n",
    "fox_len = len(fox_articles_text)/20\n",
    "cnn_len = len(cnn_articles_text)/11\n",
    "\n",
    "lens = [bbc_len, fox_len, cnn_len]\n",
    "plt.bar(x = ['BBC', 'Fox News', 'CNN'], height=lens)\n",
    "plt.title('Average number of characters in an article from different sources')"
   ]
  },
  {
   "cell_type": "markdown",
   "metadata": {
    "colab_type": "text",
    "id": "yWJ5HcpHbFLt"
   },
   "source": [
    "# Understanding the data"
   ]
  },
  {
   "cell_type": "code",
   "execution_count": 0,
   "metadata": {
    "colab": {},
    "colab_type": "code",
    "id": "VoRA_64Q4cu4"
   },
   "outputs": [],
   "source": [
    "# preprocessing with the text\n",
    "\n",
    "def preprocess_text(text):\n",
    "    text = re.sub('[!@#$,\"()'':-]', '', text.lower())\n",
    "    sentences = tokenize.sent_tokenize(text)\n",
    "    words = []\n",
    "    temp = []\n",
    "    for x in sentences:\n",
    "        temp = x.split(' ')\n",
    "        temp = [x for x in temp if not x in my_stopwords] # removing stop words\n",
    "        temp = [x.strip('.') for x in temp] \n",
    "        temp = [x.strip('') for x in temp]\n",
    "        words.append(temp)\n",
    "        temp = []\n",
    "    return(words)"
   ]
  },
  {
   "cell_type": "code",
   "execution_count": 0,
   "metadata": {
    "colab": {},
    "colab_type": "code",
    "id": "XRk-hEhL6CIx"
   },
   "outputs": [],
   "source": [
    "# scraping top articles (first 2/3 paras) from cnn.com \n",
    "def cnn_news(url):    \n",
    "    response = requests.get(url, headers={'User-agent': 'Mozilla/5.0 (Windows NT 6.2; WOW64) AppleWebKit/537.36 (KHTML, like Gecko) Chrome/37.0.2062.120 Safari/537.36'})\n",
    "    soup = BeautifulSoup(response.content, \"lxml\")\n",
    "    article = soup.find_all('article',  {\"class\": \"sc-cJSrbW poststyles__PostBox-sc-1egoi1-0 tzojb\"})\n",
    "    return article\n",
    "\n",
    "\n",
    "\n",
    "extra_cnn = cnn_news('https://www.cnn.com/us/live-news/us-coronavirus-update-04-30-20/index.html')"
   ]
  },
  {
   "cell_type": "code",
   "execution_count": 0,
   "metadata": {
    "colab": {},
    "colab_type": "code",
    "id": "HkRfwBom6VDR"
   },
   "outputs": [],
   "source": [
    "result = []\n",
    "for th in extra_cnn:\n",
    "    temp = th.find_all('p')\n",
    "    for t in temp:\n",
    "        result.append(t.get_text())"
   ]
  },
  {
   "cell_type": "code",
   "execution_count": 0,
   "metadata": {
    "colab": {
     "base_uri": "https://localhost:8080/",
     "height": 34
    },
    "colab_type": "code",
    "executionInfo": {
     "elapsed": 685,
     "status": "ok",
     "timestamp": 1588692083948,
     "user": {
      "displayName": "Manas Amish Dresswala",
      "photoUrl": "https://lh3.googleusercontent.com/a-/AOh14Gh69o2M9nXpFzsYlaunjbCtHhoUxz5CSdo5JC8E=s64",
      "userId": "14098387314810309220"
     },
     "user_tz": 240
    },
    "id": "MRAB4IKj8BDZ",
    "outputId": "c1de4b68-02f1-497f-82c4-c425e079c737"
   },
   "outputs": [
    {
     "data": {
      "text/plain": [
       "6926"
      ]
     },
     "execution_count": 66,
     "metadata": {
      "tags": []
     },
     "output_type": "execute_result"
    }
   ],
   "source": [
    "result_text = ' '.join(result)\n",
    "len(result_text)"
   ]
  },
  {
   "cell_type": "code",
   "execution_count": 0,
   "metadata": {
    "colab": {
     "base_uri": "https://localhost:8080/",
     "height": 34
    },
    "colab_type": "code",
    "executionInfo": {
     "elapsed": 436,
     "status": "ok",
     "timestamp": 1588692105802,
     "user": {
      "displayName": "Manas Amish Dresswala",
      "photoUrl": "https://lh3.googleusercontent.com/a-/AOh14Gh69o2M9nXpFzsYlaunjbCtHhoUxz5CSdo5JC8E=s64",
      "userId": "14098387314810309220"
     },
     "user_tz": 240
    },
    "id": "Zns9ZX-c8qDA",
    "outputId": "535e607b-fbd8-4e3e-cf49-3416249ba459"
   },
   "outputs": [
    {
     "data": {
      "text/plain": [
       "47634"
      ]
     },
     "execution_count": 68,
     "metadata": {
      "tags": []
     },
     "output_type": "execute_result"
    }
   ],
   "source": [
    "cnn_news_total = cnn_news_total + result_text\n",
    "len(cnn_news_total)"
   ]
  },
  {
   "cell_type": "code",
   "execution_count": 0,
   "metadata": {
    "colab": {},
    "colab_type": "code",
    "id": "Y5bHdy0Q9UxU"
   },
   "outputs": [],
   "source": [
    "bbc_words = preprocess_text(bbc_news_total)\n",
    "fox_words = preprocess_text(fox_news_total)\n",
    "cnn_words = preprocess_text(cnn_news_total)"
   ]
  },
  {
   "cell_type": "code",
   "execution_count": 0,
   "metadata": {
    "colab": {
     "base_uri": "https://localhost:8080/",
     "height": 357
    },
    "colab_type": "code",
    "executionInfo": {
     "elapsed": 572,
     "status": "ok",
     "timestamp": 1588692161625,
     "user": {
      "displayName": "Manas Amish Dresswala",
      "photoUrl": "https://lh3.googleusercontent.com/a-/AOh14Gh69o2M9nXpFzsYlaunjbCtHhoUxz5CSdo5JC8E=s64",
      "userId": "14098387314810309220"
     },
     "user_tz": 240
    },
    "id": "as5XeER2-NV8",
    "outputId": "32019d16-ec33-4ce4-eba8-d4aa1a8fb3f8"
   },
   "outputs": [
    {
     "data": {
      "text/plain": [
       "[('people', 40),\n",
       " ('said', 33),\n",
       " ('not', 31),\n",
       " ('coronavirus', 29),\n",
       " ('covid19', 19),\n",
       " ('state', 17),\n",
       " ('lockdown', 16),\n",
       " ('health', 16),\n",
       " ('says', 15),\n",
       " ('world', 13),\n",
       " ('new', 13),\n",
       " ('messenger', 12),\n",
       " ('no', 11),\n",
       " ('work', 11),\n",
       " ('home', 11),\n",
       " ('just', 10),\n",
       " ('day', 10),\n",
       " ('social', 10),\n",
       " ('facebook', 10),\n",
       " ('share', 9)]"
      ]
     },
     "execution_count": 71,
     "metadata": {
      "tags": []
     },
     "output_type": "execute_result"
    }
   ],
   "source": [
    "bbc_total = [item for sublist in bbc_words for item in sublist if item != '']\n",
    "bbc_counter = Counter(bbc_total)\n",
    "bbc_counter.most_common(20)"
   ]
  },
  {
   "cell_type": "code",
   "execution_count": 0,
   "metadata": {
    "colab": {
     "base_uri": "https://localhost:8080/",
     "height": 357
    },
    "colab_type": "code",
    "executionInfo": {
     "elapsed": 496,
     "status": "ok",
     "timestamp": 1588692163777,
     "user": {
      "displayName": "Manas Amish Dresswala",
      "photoUrl": "https://lh3.googleusercontent.com/a-/AOh14Gh69o2M9nXpFzsYlaunjbCtHhoUxz5CSdo5JC8E=s64",
      "userId": "14098387314810309220"
     },
     "user_tz": 240
    },
    "id": "ZJlsB6_a-11d",
    "outputId": "40d3fb62-6dfe-4ac6-95c0-d1d7a1824562"
   },
   "outputs": [
    {
     "data": {
      "text/plain": [
       "[('coronavirus', 103),\n",
       " ('fox', 55),\n",
       " ('not', 52),\n",
       " ('news', 50),\n",
       " ('covid19', 49),\n",
       " ('subscribed', 38),\n",
       " ('study', 34),\n",
       " ('patients', 34),\n",
       " ('said', 33),\n",
       " ('world', 30),\n",
       " ('new', 30),\n",
       " ('published', 29),\n",
       " ('space', 29),\n",
       " ('broadcast', 28),\n",
       " ('u.s', 27),\n",
       " ('data', 24),\n",
       " ('20', 24),\n",
       " ('people', 23),\n",
       " ('pandemic', 22),\n",
       " ('virus', 22)]"
      ]
     },
     "execution_count": 72,
     "metadata": {
      "tags": []
     },
     "output_type": "execute_result"
    }
   ],
   "source": [
    "fox_total = [item for sublist in fox_words for item in sublist if item != '']\n",
    "fox_counter = Counter(fox_total)\n",
    "fox_counter.most_common(20)"
   ]
  },
  {
   "cell_type": "code",
   "execution_count": 0,
   "metadata": {
    "colab": {
     "base_uri": "https://localhost:8080/",
     "height": 357
    },
    "colab_type": "code",
    "executionInfo": {
     "elapsed": 427,
     "status": "ok",
     "timestamp": 1588692165594,
     "user": {
      "displayName": "Manas Amish Dresswala",
      "photoUrl": "https://lh3.googleusercontent.com/a-/AOh14Gh69o2M9nXpFzsYlaunjbCtHhoUxz5CSdo5JC8E=s64",
      "userId": "14098387314810309220"
     },
     "user_tz": 240
    },
    "id": "Q7PgOTXL_Rp3",
    "outputId": "260748ee-98cb-4dd5-c17c-2a09533eefde"
   },
   "outputs": [
    {
     "data": {
      "text/plain": [
       "[('=', 48),\n",
       " ('said', 44),\n",
       " ('cnn', 32),\n",
       " ('not', 32),\n",
       " ('police', 31),\n",
       " ('coronavirus', 29),\n",
       " ('people', 29),\n",
       " ('public', 25),\n",
       " ('enforcement', 24),\n",
       " ('law', 22),\n",
       " ('health', 20),\n",
       " ('help', 18),\n",
       " ('community', 17),\n",
       " ('states', 17),\n",
       " ('pandemic', 16),\n",
       " ('says', 16),\n",
       " ('want', 16),\n",
       " ('id', 16),\n",
       " ('los', 15),\n",
       " ('angeles', 15)]"
      ]
     },
     "execution_count": 73,
     "metadata": {
      "tags": []
     },
     "output_type": "execute_result"
    }
   ],
   "source": [
    "cnn_total = [item for sublist in cnn_words for item in sublist if item != '']\n",
    "cnn_counter = Counter(cnn_total)\n",
    "cnn_counter.most_common(20)"
   ]
  },
  {
   "cell_type": "code",
   "execution_count": 0,
   "metadata": {
    "colab": {
     "base_uri": "https://localhost:8080/",
     "height": 475
    },
    "colab_type": "code",
    "executionInfo": {
     "elapsed": 636,
     "status": "ok",
     "timestamp": 1588692232898,
     "user": {
      "displayName": "Manas Amish Dresswala",
      "photoUrl": "https://lh3.googleusercontent.com/a-/AOh14Gh69o2M9nXpFzsYlaunjbCtHhoUxz5CSdo5JC8E=s64",
      "userId": "14098387314810309220"
     },
     "user_tz": 240
    },
    "id": "TD1SNFdA_Ytk",
    "outputId": "f9200071-5a89-4c9e-8682-32f538c70d92"
   },
   "outputs": [
    {
     "name": "stdout",
     "output_type": "stream",
     "text": [
      "BBC NEWS\n"
     ]
    },
    {
     "data": {
      "text/plain": [
       "([], <a list of 0 Text major ticklabel objects>)"
      ]
     },
     "execution_count": 75,
     "metadata": {
      "tags": []
     },
     "output_type": "execute_result"
    },
    {
     "data": {
      "image/png": "[encoded data removed]",
      "text/plain": [
       "<Figure size 720x360 with 2 Axes>"
      ]
     },
     "metadata": {
      "needs_background": "light",
      "tags": []
     },
     "output_type": "display_data"
    }
   ],
   "source": [
    "# trying to find the context of these words \n",
    "## Story of 'coronavirus' in context of BBC news\n",
    "from nltk.corpus import wordnet as wn\n",
    "texts = []\n",
    "for i in bbc_words:\n",
    "  for j in i:\n",
    "    if j == 'coronavirus':\n",
    "      texts.append(i)\n",
    "noun=[]\n",
    "verb=[]\n",
    "for doc in texts:\n",
    "  for c in doc:\n",
    "    if c!= '':\n",
    "      if len(wn.synsets(c)) != 0:\n",
    "        if wn.synsets(c)[0].pos()==\"n\":\n",
    "            noun.append(c)\n",
    "        elif wn.synsets(c)[0].pos()==\"v\":\n",
    "            verb.append(c)\n",
    "print('BBC NEWS')\n",
    "plt.subplot(1,2,1)\n",
    "pd.Series(noun).value_counts().head(10).plot(kind=\"bar\",figsize=(10,5))\n",
    "plt.title(\"Top 10 Nouns in context of 'Coronavirus'\",fontsize=15)\n",
    "plt.xticks(size=20,rotation=80)\n",
    "plt.yticks([])\n",
    "plt.subplot(1,2,2)\n",
    "pd.Series(verb).value_counts().head(10).plot(kind=\"bar\",figsize=(10,5))\n",
    "plt.title(\"Top 10 Verbs in context of 'Coronavirus'\",fontsize=15)\n",
    "plt.xticks(size=20,rotation=80)\n",
    "plt.yticks([])"
   ]
  },
  {
   "cell_type": "code",
   "execution_count": 0,
   "metadata": {
    "colab": {
     "base_uri": "https://localhost:8080/",
     "height": 475
    },
    "colab_type": "code",
    "executionInfo": {
     "elapsed": 1162,
     "status": "ok",
     "timestamp": 1588692254349,
     "user": {
      "displayName": "Manas Amish Dresswala",
      "photoUrl": "https://lh3.googleusercontent.com/a-/AOh14Gh69o2M9nXpFzsYlaunjbCtHhoUxz5CSdo5JC8E=s64",
      "userId": "14098387314810309220"
     },
     "user_tz": 240
    },
    "id": "7bvAqWDG_qny",
    "outputId": "8164d8fe-c2c7-47de-f103-35f9f0e190bc"
   },
   "outputs": [
    {
     "name": "stdout",
     "output_type": "stream",
     "text": [
      "FOX NEWS\n"
     ]
    },
    {
     "data": {
      "text/plain": [
       "([], <a list of 0 Text major ticklabel objects>)"
      ]
     },
     "execution_count": 76,
     "metadata": {
      "tags": []
     },
     "output_type": "execute_result"
    },
    {
     "data": {
      "image/png": "[encoded data removed]",
      "text/plain": [
       "<Figure size 720x360 with 2 Axes>"
      ]
     },
     "metadata": {
      "needs_background": "light",
      "tags": []
     },
     "output_type": "display_data"
    }
   ],
   "source": [
    "# trying to find the context of these words \n",
    "## Story of 'coronavirus' in context of fox news\n",
    "from nltk.corpus import wordnet as wn\n",
    "texts = []\n",
    "for i in fox_words:\n",
    "  for j in i:\n",
    "    if j == 'coronavirus':\n",
    "      texts.append(i)\n",
    "noun=[]\n",
    "verb=[]\n",
    "for doc in texts:\n",
    "  for c in doc:\n",
    "    if c!= '':\n",
    "      if len(wn.synsets(c)) != 0:\n",
    "        if wn.synsets(c)[0].pos()==\"n\":\n",
    "            noun.append(c)\n",
    "        elif wn.synsets(c)[0].pos()==\"v\":\n",
    "            verb.append(c)\n",
    "print('FOX NEWS')\n",
    "plt.subplot(1,2,1)\n",
    "pd.Series(noun).value_counts().head(10).plot(kind=\"bar\",figsize=(10,5))\n",
    "plt.title(\"Top 10 Nouns in context of 'Coronavirus'\",fontsize=15)\n",
    "plt.xticks(size=20,rotation=80)\n",
    "plt.yticks([])\n",
    "plt.subplot(1,2,2)\n",
    "pd.Series(verb).value_counts().head(10).plot(kind=\"bar\",figsize=(10,5))\n",
    "plt.title(\"Top 10 Verbs in context of 'Coronavirus'\",fontsize=15)\n",
    "plt.xticks(size=20,rotation=80)\n",
    "plt.yticks([])"
   ]
  },
  {
   "cell_type": "code",
   "execution_count": 0,
   "metadata": {
    "colab": {
     "base_uri": "https://localhost:8080/",
     "height": 493
    },
    "colab_type": "code",
    "executionInfo": {
     "elapsed": 857,
     "status": "ok",
     "timestamp": 1588692274855,
     "user": {
      "displayName": "Manas Amish Dresswala",
      "photoUrl": "https://lh3.googleusercontent.com/a-/AOh14Gh69o2M9nXpFzsYlaunjbCtHhoUxz5CSdo5JC8E=s64",
      "userId": "14098387314810309220"
     },
     "user_tz": 240
    },
    "id": "yTmzWpS9AAnD",
    "outputId": "aeb17e07-575f-4485-99c2-84f5df203623"
   },
   "outputs": [
    {
     "name": "stdout",
     "output_type": "stream",
     "text": [
      "CNN NEWS\n"
     ]
    },
    {
     "data": {
      "text/plain": [
       "([], <a list of 0 Text major ticklabel objects>)"
      ]
     },
     "execution_count": 77,
     "metadata": {
      "tags": []
     },
     "output_type": "execute_result"
    },
    {
     "data": {
      "image/png": "[encoded data removed]",
      "text/plain": [
       "<Figure size 720x360 with 2 Axes>"
      ]
     },
     "metadata": {
      "needs_background": "light",
      "tags": []
     },
     "output_type": "display_data"
    }
   ],
   "source": [
    "# trying to find the context of these words \n",
    "## Story of 'coronavirus' in context of CNN news\n",
    "from nltk.corpus import wordnet as wn\n",
    "texts = []\n",
    "for i in cnn_words:\n",
    "  for j in i:\n",
    "    if j == 'coronavirus':\n",
    "      texts.append(i)\n",
    "noun=[]\n",
    "verb=[]\n",
    "for doc in texts:\n",
    "  for c in doc:\n",
    "    if c!= '':\n",
    "      if len(wn.synsets(c)) != 0:\n",
    "        if wn.synsets(c)[0].pos()==\"n\":\n",
    "            noun.append(c)\n",
    "        elif wn.synsets(c)[0].pos()==\"v\":\n",
    "            verb.append(c)\n",
    "print('CNN NEWS')\n",
    "plt.subplot(1,2,1)\n",
    "pd.Series(noun).value_counts().head(10).plot(kind=\"bar\",figsize=(10,5))\n",
    "plt.title(\"Top 10 Nouns in context of 'Coronavirus'\",fontsize=15)\n",
    "plt.xticks(size=20,rotation=80)\n",
    "plt.yticks([])\n",
    "plt.subplot(1,2,2)\n",
    "pd.Series(verb).value_counts().head(10).plot(kind=\"bar\",figsize=(10,5))\n",
    "plt.title(\"Top 10 Verbs in context of 'Coronavirus'\",fontsize=15)\n",
    "plt.xticks(size=20,rotation=80)\n",
    "plt.yticks([])"
   ]
  },
  {
   "cell_type": "code",
   "execution_count": 0,
   "metadata": {
    "colab": {
     "base_uri": "https://localhost:8080/",
     "height": 462
    },
    "colab_type": "code",
    "executionInfo": {
     "elapsed": 843,
     "status": "ok",
     "timestamp": 1588692318575,
     "user": {
      "displayName": "Manas Amish Dresswala",
      "photoUrl": "https://lh3.googleusercontent.com/a-/AOh14Gh69o2M9nXpFzsYlaunjbCtHhoUxz5CSdo5JC8E=s64",
      "userId": "14098387314810309220"
     },
     "user_tz": 240
    },
    "id": "X7JKb5uSADba",
    "outputId": "0ab75083-1009-400f-a3bd-58ca71ca0a82"
   },
   "outputs": [
    {
     "name": "stdout",
     "output_type": "stream",
     "text": [
      "FOX NEWS\n"
     ]
    },
    {
     "data": {
      "text/plain": [
       "([], <a list of 0 Text major ticklabel objects>)"
      ]
     },
     "execution_count": 79,
     "metadata": {
      "tags": []
     },
     "output_type": "execute_result"
    },
    {
     "data": {
      "image/png": "[encoded data removed]",
      "text/plain": [
       "<Figure size 720x360 with 2 Axes>"
      ]
     },
     "metadata": {
      "needs_background": "light",
      "tags": []
     },
     "output_type": "display_data"
    }
   ],
   "source": [
    "# trying to find the context of these words \n",
    "## Story of 'coronavirus' in context of BBC news\n",
    "from nltk.corpus import wordnet as wn\n",
    "texts = []\n",
    "for i in fox_words:\n",
    "  for j in i:\n",
    "    if j == 'trump':\n",
    "      texts.append(i)\n",
    "noun=[]\n",
    "verb=[]\n",
    "for doc in texts:\n",
    "  for c in doc:\n",
    "    if c!= '':\n",
    "      if len(wn.synsets(c)) != 0:\n",
    "        if wn.synsets(c)[0].pos()==\"n\":\n",
    "            noun.append(c)\n",
    "        elif wn.synsets(c)[0].pos()==\"v\":\n",
    "            verb.append(c)\n",
    "print('FOX NEWS')\n",
    "plt.subplot(1,2,1)\n",
    "pd.Series(noun).value_counts().head(10).plot(kind=\"bar\",figsize=(10,5))\n",
    "plt.title(\"Top 10 Nouns in context of 'trump'\",fontsize=15)\n",
    "plt.xticks(size=20,rotation=80)\n",
    "plt.yticks([])\n",
    "plt.subplot(1,2,2)\n",
    "pd.Series(verb).value_counts().head(10).plot(kind=\"bar\",figsize=(10,5))\n",
    "plt.title(\"Top 10 Verbs in context of 'trump'\",fontsize=15)\n",
    "plt.xticks(size=20,rotation=80)\n",
    "plt.yticks([])"
   ]
  },
  {
   "cell_type": "code",
   "execution_count": 0,
   "metadata": {
    "colab": {
     "base_uri": "https://localhost:8080/",
     "height": 479
    },
    "colab_type": "code",
    "executionInfo": {
     "elapsed": 757,
     "status": "ok",
     "timestamp": 1588692340355,
     "user": {
      "displayName": "Manas Amish Dresswala",
      "photoUrl": "https://lh3.googleusercontent.com/a-/AOh14Gh69o2M9nXpFzsYlaunjbCtHhoUxz5CSdo5JC8E=s64",
      "userId": "14098387314810309220"
     },
     "user_tz": 240
    },
    "id": "yEEEddq6AH0y",
    "outputId": "fef60779-c070-4ca5-92cf-ada5213da275"
   },
   "outputs": [
    {
     "name": "stdout",
     "output_type": "stream",
     "text": [
      "CNN NEWS\n"
     ]
    },
    {
     "data": {
      "text/plain": [
       "([], <a list of 0 Text major ticklabel objects>)"
      ]
     },
     "execution_count": 80,
     "metadata": {
      "tags": []
     },
     "output_type": "execute_result"
    },
    {
     "data": {
      "image/png": "[encoded data removed]",
      "text/plain": [
       "<Figure size 720x360 with 2 Axes>"
      ]
     },
     "metadata": {
      "needs_background": "light",
      "tags": []
     },
     "output_type": "display_data"
    }
   ],
   "source": [
    "# trying to find the context of these words \n",
    "## Story of 'coronavirus' in context of BBC news\n",
    "from nltk.corpus import wordnet as wn\n",
    "texts = []\n",
    "for i in cnn_words:\n",
    "  for j in i:\n",
    "    if j == 'trump':\n",
    "      texts.append(i)\n",
    "noun=[]\n",
    "verb=[]\n",
    "for doc in texts:\n",
    "  for c in doc:\n",
    "    if c!= '':\n",
    "      if len(wn.synsets(c)) != 0:\n",
    "        if wn.synsets(c)[0].pos()==\"n\":\n",
    "            noun.append(c)\n",
    "        elif wn.synsets(c)[0].pos()==\"v\":\n",
    "            verb.append(c)\n",
    "print('CNN NEWS')\n",
    "plt.subplot(1,2,1)\n",
    "pd.Series(noun).value_counts().head(10).plot(kind=\"bar\",figsize=(10,5))\n",
    "plt.title(\"Top 10 Nouns in context of 'trump'\",fontsize=15)\n",
    "plt.xticks(size=20,rotation=80)\n",
    "plt.yticks([])\n",
    "plt.subplot(1,2,2)\n",
    "pd.Series(verb).value_counts().head(10).plot(kind=\"bar\",figsize=(10,5))\n",
    "plt.title(\"Top 10 Verbs in context of 'trump'\",fontsize=15)\n",
    "plt.xticks(size=20,rotation=80)\n",
    "plt.yticks([])"
   ]
  },
  {
   "cell_type": "markdown",
   "metadata": {
    "colab_type": "text",
    "id": "4dFbqTqIAXYJ"
   },
   "source": [
    "# Our lexicon on the text collected above"
   ]
  },
  {
   "cell_type": "code",
   "execution_count": 0,
   "metadata": {
    "colab": {
     "base_uri": "https://localhost:8080/",
     "height": 204
    },
    "colab_type": "code",
    "executionInfo": {
     "elapsed": 154390,
     "status": "ok",
     "timestamp": 1588299316138,
     "user": {
      "displayName": "Manas Amish Dresswala",
      "photoUrl": "https://lh3.googleusercontent.com/a-/AOh14Gh69o2M9nXpFzsYlaunjbCtHhoUxz5CSdo5JC8E=s64",
      "userId": "14098387314810309220"
     },
     "user_tz": 240
    },
    "id": "141XvjUXAMuZ",
    "outputId": "f0d16ec8-074c-4909-a656-e500c5a059d7"
   },
   "outputs": [
    {
     "name": "stdout",
     "output_type": "stream",
     "text": [
      "--2020-05-01 02:12:43--  https://s3.amazonaws.com/dl4j-distribution/GoogleNews-vectors-negative300.bin.gz\n",
      "Resolving s3.amazonaws.com (s3.amazonaws.com)... 52.217.10.254\n",
      "Connecting to s3.amazonaws.com (s3.amazonaws.com)|52.217.10.254|:443... connected.\n",
      "HTTP request sent, awaiting response... 200 OK\n",
      "Length: 1647046227 (1.5G) [application/x-gzip]\n",
      "Saving to: ‘/root/input/GoogleNews-vectors-negative300.bin.gz’\n",
      "\n",
      "GoogleNews-vectors- 100%[===================>]   1.53G  35.4MB/s    in 45s     \n",
      "\n",
      "2020-05-01 02:13:29 (34.6 MB/s) - ‘/root/input/GoogleNews-vectors-negative300.bin.gz’ saved [1647046227/1647046227]\n",
      "\n"
     ]
    }
   ],
   "source": [
    "# downloading the Google pretrained model\n",
    "!wget -P /root/input/ -c \"https://s3.amazonaws.com/dl4j-distribution/GoogleNews-vectors-negative300.bin.gz\"\n",
    "\n",
    "EMBEDDING_FILE = '/root/input/GoogleNews-vectors-negative300.bin.gz'\n",
    "model = gensim.models.KeyedVectors.load_word2vec_format(EMBEDDING_FILE, binary=True)"
   ]
  },
  {
   "cell_type": "markdown",
   "metadata": {
    "colab_type": "text",
    "id": "FcqHR9GGEMi2"
   },
   "source": [
    "## Functions"
   ]
  },
  {
   "cell_type": "code",
   "execution_count": 0,
   "metadata": {
    "colab": {},
    "colab_type": "code",
    "id": "uSRQbwLSEAZB"
   },
   "outputs": [],
   "source": [
    "# functions for finding the peace / non-peace / conflict scores - \n",
    "def peace_score(words, lexicon):\n",
    "    peace_list = []\n",
    "    t = []\n",
    "    score = 0\n",
    "    flag = 0\n",
    "    for x in words:\n",
    "        for y in x:\n",
    "            temp = compare_terms(y, lexicon)\n",
    "            if y in negative_words and flag == 0:\n",
    "                # print(y)\n",
    "                flag = 1\n",
    "            elif temp != None and flag == 0:\n",
    "                # print(y + ', ' + temp)\n",
    "                t.append(y)\n",
    "                t.append(temp)\n",
    "                peace_list.append(t)\n",
    "                t = []\n",
    "                score = score + 1\n",
    "            elif temp != None and flag == 1:\n",
    "                # print(y + ', ' + temp)\n",
    "                t.append(y)\n",
    "                t.append(temp)\n",
    "                peace_list.append(t)\n",
    "                t = []\n",
    "                score = score - 1\n",
    "                flag = 0\n",
    "        flag = 0\n",
    "    return peace_list, score\n",
    "\n",
    "def conflict_score(words, lexicon):\n",
    "    score = 0\n",
    "    conflict_list = []\n",
    "    t = []\n",
    "    for word in words:\n",
    "      for y in word:\n",
    "        temp = compare_terms(y, lexicon)\n",
    "        if temp != None:\n",
    "          t.append(y)\n",
    "          t.append(temp)\n",
    "          conflict_list.append(t)\n",
    "          t = []\n",
    "          score = score + 1\n",
    "    return conflict_list, score\n",
    "\n",
    "def nonPeace_score(words, lexicon):\n",
    "    score = 0\n",
    "    nonPeace_list = []\n",
    "    t = []\n",
    "    for word in words:\n",
    "      for y in word:\n",
    "        temp = compare_terms(y, lexicon)\n",
    "        if temp!=None:\n",
    "          t.append(y)\n",
    "          t.append(temp)\n",
    "          nonPeace_list.append(t)\n",
    "          t = []\n",
    "          score = score + 1\n",
    "    return nonPeace_list, score\n",
    "\n",
    "# function to compare terms\n",
    "def compare_terms(term, lexicon):\n",
    "    for i in lexicon:\n",
    "      term = term.strip(' ')\n",
    "      term = term.strip('.')\n",
    "      # term = term.strip('\\'s')\n",
    "      try:\n",
    "        if term != '' and fuzz.ratio(term, i) > 85 and model.similarity(term, i) > 0.5:\n",
    "          return i\n",
    "      except:\n",
    "        continue"
   ]
  },
  {
   "cell_type": "code",
   "execution_count": 0,
   "metadata": {
    "colab": {
     "base_uri": "https://localhost:8080/",
     "height": 34
    },
    "colab_type": "code",
    "executionInfo": {
     "elapsed": 1044,
     "status": "ok",
     "timestamp": 1588300983937,
     "user": {
      "displayName": "Manas Amish Dresswala",
      "photoUrl": "https://lh3.googleusercontent.com/a-/AOh14Gh69o2M9nXpFzsYlaunjbCtHhoUxz5CSdo5JC8E=s64",
      "userId": "14098387314810309220"
     },
     "user_tz": 240
    },
    "id": "HhYfh5bpHUcg",
    "outputId": "fbbe16ae-a37f-4db6-b5a8-5aa80b145d02"
   },
   "outputs": [
    {
     "data": {
      "text/plain": [
       "[3104, 6589, 4236]"
      ]
     },
     "execution_count": 124,
     "metadata": {
      "tags": []
     },
     "output_type": "execute_result"
    }
   ],
   "source": [
    "# find the total number of words in each article\n",
    "word_count = [0,0,0]\n",
    "for i in bbc_words:\n",
    "  word_count[0] = word_count[0] + len(i)\n",
    "for i in fox_words:\n",
    "  word_count[1] = word_count[1] + len(i)\n",
    "for i in cnn_words:\n",
    "  word_count[2] = word_count[2] + len(i)\n",
    "word_count"
   ]
  },
  {
   "cell_type": "markdown",
   "metadata": {
    "colab_type": "text",
    "id": "JQ9MHccCF3Hs"
   },
   "source": [
    "## Peace Terms"
   ]
  },
  {
   "cell_type": "code",
   "execution_count": 0,
   "metadata": {
    "colab": {
     "base_uri": "https://localhost:8080/",
     "height": 68
    },
    "colab_type": "code",
    "executionInfo": {
     "elapsed": 188523,
     "status": "ok",
     "timestamp": 1588300487444,
     "user": {
      "displayName": "Manas Amish Dresswala",
      "photoUrl": "https://lh3.googleusercontent.com/a-/AOh14Gh69o2M9nXpFzsYlaunjbCtHhoUxz5CSdo5JC8E=s64",
      "userId": "14098387314810309220"
     },
     "user_tz": 240
    },
    "id": "PS5EjpH4EWxQ",
    "outputId": "d2cb0c48-bb84-448a-cb04-47c5439b03d3"
   },
   "outputs": [
    {
     "name": "stdout",
     "output_type": "stream",
     "text": [
      "63\n",
      "138\n",
      "95\n"
     ]
    }
   ],
   "source": [
    "bbcterms, bbcscore = peace_score(bbc_words, peace_processed)\n",
    "print(bbcscore)\n",
    "\n",
    "foxterms, foxscore = peace_score(fox_words, peace_processed)\n",
    "print(foxscore)\n",
    "\n",
    "cnnterms, cnnscore = peace_score(cnn_words, peace_processed)\n",
    "print(cnnscore)"
   ]
  },
  {
   "cell_type": "code",
   "execution_count": 0,
   "metadata": {
    "colab": {
     "base_uri": "https://localhost:8080/",
     "height": 359
    },
    "colab_type": "code",
    "executionInfo": {
     "elapsed": 906,
     "status": "ok",
     "timestamp": 1588300531622,
     "user": {
      "displayName": "Manas Amish Dresswala",
      "photoUrl": "https://lh3.googleusercontent.com/a-/AOh14Gh69o2M9nXpFzsYlaunjbCtHhoUxz5CSdo5JC8E=s64",
      "userId": "14098387314810309220"
     },
     "user_tz": 240
    },
    "id": "ediZLTpZEnyg",
    "outputId": "1ea8e94b-7d6b-4c9e-f28e-3a21fdc8d6a7"
   },
   "outputs": [
    {
     "data": {
      "text/html": [
       "<div>\n",
       "<style scoped>\n",
       "    .dataframe tbody tr th:only-of-type {\n",
       "        vertical-align: middle;\n",
       "    }\n",
       "\n",
       "    .dataframe tbody tr th {\n",
       "        vertical-align: top;\n",
       "    }\n",
       "\n",
       "    .dataframe thead th {\n",
       "        text-align: right;\n",
       "    }\n",
       "</style>\n",
       "<table border=\"1\" class=\"dataframe\">\n",
       "  <thead>\n",
       "    <tr style=\"text-align: right;\">\n",
       "      <th></th>\n",
       "      <th>Terms</th>\n",
       "      <th>Frequency</th>\n",
       "    </tr>\n",
       "  </thead>\n",
       "  <tbody>\n",
       "    <tr>\n",
       "      <th>0</th>\n",
       "      <td>help</td>\n",
       "      <td>9</td>\n",
       "    </tr>\n",
       "    <tr>\n",
       "      <th>1</th>\n",
       "      <td>photography</td>\n",
       "      <td>7</td>\n",
       "    </tr>\n",
       "    <tr>\n",
       "      <th>2</th>\n",
       "      <td>media</td>\n",
       "      <td>6</td>\n",
       "    </tr>\n",
       "    <tr>\n",
       "      <th>3</th>\n",
       "      <td>solidarity</td>\n",
       "      <td>4</td>\n",
       "    </tr>\n",
       "    <tr>\n",
       "      <th>4</th>\n",
       "      <td>agree</td>\n",
       "      <td>4</td>\n",
       "    </tr>\n",
       "    <tr>\n",
       "      <th>5</th>\n",
       "      <td>happening</td>\n",
       "      <td>3</td>\n",
       "    </tr>\n",
       "    <tr>\n",
       "      <th>6</th>\n",
       "      <td>community</td>\n",
       "      <td>3</td>\n",
       "    </tr>\n",
       "    <tr>\n",
       "      <th>7</th>\n",
       "      <td>positive</td>\n",
       "      <td>3</td>\n",
       "    </tr>\n",
       "    <tr>\n",
       "      <th>8</th>\n",
       "      <td>union</td>\n",
       "      <td>3</td>\n",
       "    </tr>\n",
       "    <tr>\n",
       "      <th>9</th>\n",
       "      <td>love</td>\n",
       "      <td>2</td>\n",
       "    </tr>\n",
       "  </tbody>\n",
       "</table>\n",
       "</div>"
      ],
      "text/plain": [
       "         Terms  Frequency\n",
       "0         help          9\n",
       "1  photography          7\n",
       "2        media          6\n",
       "3   solidarity          4\n",
       "4        agree          4\n",
       "5    happening          3\n",
       "6    community          3\n",
       "7     positive          3\n",
       "8        union          3\n",
       "9         love          2"
      ]
     },
     "execution_count": 109,
     "metadata": {
      "tags": []
     },
     "output_type": "execute_result"
    }
   ],
   "source": [
    "cterms1 = [x[1] for x in bbcterms]\n",
    "canada_count = Counter(cterms1)\n",
    "cdf = pd.DataFrame(canada_count.most_common(), columns = ['Terms', 'Frequency'])\n",
    "cdf.head(10)"
   ]
  },
  {
   "cell_type": "code",
   "execution_count": 0,
   "metadata": {
    "colab": {
     "base_uri": "https://localhost:8080/",
     "height": 359
    },
    "colab_type": "code",
    "executionInfo": {
     "elapsed": 768,
     "status": "ok",
     "timestamp": 1588300549635,
     "user": {
      "displayName": "Manas Amish Dresswala",
      "photoUrl": "https://lh3.googleusercontent.com/a-/AOh14Gh69o2M9nXpFzsYlaunjbCtHhoUxz5CSdo5JC8E=s64",
      "userId": "14098387314810309220"
     },
     "user_tz": 240
    },
    "id": "nXvBf4hTFkwF",
    "outputId": "0c7eae4b-dd11-4388-87e3-b2959bf33ed9"
   },
   "outputs": [
    {
     "data": {
      "text/html": [
       "<div>\n",
       "<style scoped>\n",
       "    .dataframe tbody tr th:only-of-type {\n",
       "        vertical-align: middle;\n",
       "    }\n",
       "\n",
       "    .dataframe tbody tr th {\n",
       "        vertical-align: top;\n",
       "    }\n",
       "\n",
       "    .dataframe thead th {\n",
       "        text-align: right;\n",
       "    }\n",
       "</style>\n",
       "<table border=\"1\" class=\"dataframe\">\n",
       "  <thead>\n",
       "    <tr style=\"text-align: right;\">\n",
       "      <th></th>\n",
       "      <th>Terms</th>\n",
       "      <th>Frequency</th>\n",
       "    </tr>\n",
       "  </thead>\n",
       "  <tbody>\n",
       "    <tr>\n",
       "      <th>0</th>\n",
       "      <td>science</td>\n",
       "      <td>21</td>\n",
       "    </tr>\n",
       "    <tr>\n",
       "      <th>1</th>\n",
       "      <td>rights</td>\n",
       "      <td>19</td>\n",
       "    </tr>\n",
       "    <tr>\n",
       "      <th>2</th>\n",
       "      <td>positive</td>\n",
       "      <td>18</td>\n",
       "    </tr>\n",
       "    <tr>\n",
       "      <th>3</th>\n",
       "      <td>unite</td>\n",
       "      <td>9</td>\n",
       "    </tr>\n",
       "    <tr>\n",
       "      <th>4</th>\n",
       "      <td>novels</td>\n",
       "      <td>9</td>\n",
       "    </tr>\n",
       "    <tr>\n",
       "      <th>5</th>\n",
       "      <td>help</td>\n",
       "      <td>6</td>\n",
       "    </tr>\n",
       "    <tr>\n",
       "      <th>6</th>\n",
       "      <td>understanding</td>\n",
       "      <td>5</td>\n",
       "    </tr>\n",
       "    <tr>\n",
       "      <th>7</th>\n",
       "      <td>accepting</td>\n",
       "      <td>5</td>\n",
       "    </tr>\n",
       "    <tr>\n",
       "      <th>8</th>\n",
       "      <td>commonwealth</td>\n",
       "      <td>4</td>\n",
       "    </tr>\n",
       "    <tr>\n",
       "      <th>9</th>\n",
       "      <td>media</td>\n",
       "      <td>4</td>\n",
       "    </tr>\n",
       "  </tbody>\n",
       "</table>\n",
       "</div>"
      ],
      "text/plain": [
       "           Terms  Frequency\n",
       "0        science         21\n",
       "1         rights         19\n",
       "2       positive         18\n",
       "3          unite          9\n",
       "4         novels          9\n",
       "5           help          6\n",
       "6  understanding          5\n",
       "7      accepting          5\n",
       "8   commonwealth          4\n",
       "9          media          4"
      ]
     },
     "execution_count": 110,
     "metadata": {
      "tags": []
     },
     "output_type": "execute_result"
    }
   ],
   "source": [
    "cterms1 = [x[1] for x in foxterms]\n",
    "canada_count = Counter(cterms1)\n",
    "cdf = pd.DataFrame(canada_count.most_common(), columns = ['Terms', 'Frequency'])\n",
    "cdf.head(10)"
   ]
  },
  {
   "cell_type": "code",
   "execution_count": 0,
   "metadata": {
    "colab": {
     "base_uri": "https://localhost:8080/",
     "height": 359
    },
    "colab_type": "code",
    "executionInfo": {
     "elapsed": 920,
     "status": "ok",
     "timestamp": 1588300562834,
     "user": {
      "displayName": "Manas Amish Dresswala",
      "photoUrl": "https://lh3.googleusercontent.com/a-/AOh14Gh69o2M9nXpFzsYlaunjbCtHhoUxz5CSdo5JC8E=s64",
      "userId": "14098387314810309220"
     },
     "user_tz": 240
    },
    "id": "mJkiGovqFwmQ",
    "outputId": "36ea0ff4-bbcc-4f56-dadc-d684bf730415"
   },
   "outputs": [
    {
     "data": {
      "text/html": [
       "<div>\n",
       "<style scoped>\n",
       "    .dataframe tbody tr th:only-of-type {\n",
       "        vertical-align: middle;\n",
       "    }\n",
       "\n",
       "    .dataframe tbody tr th {\n",
       "        vertical-align: top;\n",
       "    }\n",
       "\n",
       "    .dataframe thead th {\n",
       "        text-align: right;\n",
       "    }\n",
       "</style>\n",
       "<table border=\"1\" class=\"dataframe\">\n",
       "  <thead>\n",
       "    <tr style=\"text-align: right;\">\n",
       "      <th></th>\n",
       "      <th>Terms</th>\n",
       "      <th>Frequency</th>\n",
       "    </tr>\n",
       "  </thead>\n",
       "  <tbody>\n",
       "    <tr>\n",
       "      <th>0</th>\n",
       "      <td>help</td>\n",
       "      <td>18</td>\n",
       "    </tr>\n",
       "    <tr>\n",
       "      <th>1</th>\n",
       "      <td>community</td>\n",
       "      <td>17</td>\n",
       "    </tr>\n",
       "    <tr>\n",
       "      <th>2</th>\n",
       "      <td>unite</td>\n",
       "      <td>9</td>\n",
       "    </tr>\n",
       "    <tr>\n",
       "      <th>3</th>\n",
       "      <td>constitutional</td>\n",
       "      <td>8</td>\n",
       "    </tr>\n",
       "    <tr>\n",
       "      <th>4</th>\n",
       "      <td>agree</td>\n",
       "      <td>5</td>\n",
       "    </tr>\n",
       "    <tr>\n",
       "      <th>5</th>\n",
       "      <td>love</td>\n",
       "      <td>5</td>\n",
       "    </tr>\n",
       "    <tr>\n",
       "      <th>6</th>\n",
       "      <td>protection</td>\n",
       "      <td>4</td>\n",
       "    </tr>\n",
       "    <tr>\n",
       "      <th>7</th>\n",
       "      <td>local</td>\n",
       "      <td>4</td>\n",
       "    </tr>\n",
       "    <tr>\n",
       "      <th>8</th>\n",
       "      <td>growth</td>\n",
       "      <td>4</td>\n",
       "    </tr>\n",
       "    <tr>\n",
       "      <th>9</th>\n",
       "      <td>art</td>\n",
       "      <td>4</td>\n",
       "    </tr>\n",
       "  </tbody>\n",
       "</table>\n",
       "</div>"
      ],
      "text/plain": [
       "            Terms  Frequency\n",
       "0            help         18\n",
       "1       community         17\n",
       "2           unite          9\n",
       "3  constitutional          8\n",
       "4           agree          5\n",
       "5            love          5\n",
       "6      protection          4\n",
       "7           local          4\n",
       "8          growth          4\n",
       "9             art          4"
      ]
     },
     "execution_count": 111,
     "metadata": {
      "tags": []
     },
     "output_type": "execute_result"
    }
   ],
   "source": [
    "cterms1 = [x[1] for x in cnnterms]\n",
    "canada_count = Counter(cterms1)\n",
    "cdf = pd.DataFrame(canada_count.most_common(), columns = ['Terms', 'Frequency'])\n",
    "cdf.head(10)"
   ]
  },
  {
   "cell_type": "markdown",
   "metadata": {
    "colab_type": "text",
    "id": "ofziZQiwF5rs"
   },
   "source": [
    "## Resilience Terms"
   ]
  },
  {
   "cell_type": "code",
   "execution_count": 0,
   "metadata": {
    "colab": {
     "base_uri": "https://localhost:8080/",
     "height": 68
    },
    "colab_type": "code",
    "executionInfo": {
     "elapsed": 627,
     "status": "ok",
     "timestamp": 1588300793412,
     "user": {
      "displayName": "Manas Amish Dresswala",
      "photoUrl": "https://lh3.googleusercontent.com/a-/AOh14Gh69o2M9nXpFzsYlaunjbCtHhoUxz5CSdo5JC8E=s64",
      "userId": "14098387314810309220"
     },
     "user_tz": 240
    },
    "id": "TcT0WiWiFzy_",
    "outputId": "d559eff6-515d-49a3-d9cb-05ebe0add80c"
   },
   "outputs": [
    {
     "name": "stdout",
     "output_type": "stream",
     "text": [
      "27\n",
      "32\n",
      "57\n"
     ]
    }
   ],
   "source": [
    "bbcterms1, bbcscore1 = nonPeace_score(bbc_words, nonPeace_processed)\n",
    "print(bbcscore1)\n",
    "\n",
    "foxterms1, foxscore1 = nonPeace_score(fox_words, nonPeace_processed)\n",
    "print(foxscore1)\n",
    "\n",
    "cnnterms1, cnnscore1 = nonPeace_score(cnn_words, nonPeace_processed)\n",
    "print(cnnscore1)"
   ]
  },
  {
   "cell_type": "code",
   "execution_count": 0,
   "metadata": {
    "colab": {
     "base_uri": "https://localhost:8080/",
     "height": 359
    },
    "colab_type": "code",
    "executionInfo": {
     "elapsed": 1036,
     "status": "ok",
     "timestamp": 1588300816247,
     "user": {
      "displayName": "Manas Amish Dresswala",
      "photoUrl": "https://lh3.googleusercontent.com/a-/AOh14Gh69o2M9nXpFzsYlaunjbCtHhoUxz5CSdo5JC8E=s64",
      "userId": "14098387314810309220"
     },
     "user_tz": 240
    },
    "id": "z_coB_rXGueC",
    "outputId": "5933497b-f193-4806-de5a-6fa77012df82"
   },
   "outputs": [
    {
     "data": {
      "text/html": [
       "<div>\n",
       "<style scoped>\n",
       "    .dataframe tbody tr th:only-of-type {\n",
       "        vertical-align: middle;\n",
       "    }\n",
       "\n",
       "    .dataframe tbody tr th {\n",
       "        vertical-align: top;\n",
       "    }\n",
       "\n",
       "    .dataframe thead th {\n",
       "        text-align: right;\n",
       "    }\n",
       "</style>\n",
       "<table border=\"1\" class=\"dataframe\">\n",
       "  <thead>\n",
       "    <tr style=\"text-align: right;\">\n",
       "      <th></th>\n",
       "      <th>Terms</th>\n",
       "      <th>Frequency</th>\n",
       "    </tr>\n",
       "  </thead>\n",
       "  <tbody>\n",
       "    <tr>\n",
       "      <th>0</th>\n",
       "      <td>service</td>\n",
       "      <td>4</td>\n",
       "    </tr>\n",
       "    <tr>\n",
       "      <th>1</th>\n",
       "      <td>recovery</td>\n",
       "      <td>4</td>\n",
       "    </tr>\n",
       "    <tr>\n",
       "      <th>2</th>\n",
       "      <td>order</td>\n",
       "      <td>3</td>\n",
       "    </tr>\n",
       "    <tr>\n",
       "      <th>3</th>\n",
       "      <td>capacity</td>\n",
       "      <td>3</td>\n",
       "    </tr>\n",
       "    <tr>\n",
       "      <th>4</th>\n",
       "      <td>union</td>\n",
       "      <td>3</td>\n",
       "    </tr>\n",
       "    <tr>\n",
       "      <th>5</th>\n",
       "      <td>courts</td>\n",
       "      <td>3</td>\n",
       "    </tr>\n",
       "    <tr>\n",
       "      <th>6</th>\n",
       "      <td>individuals</td>\n",
       "      <td>1</td>\n",
       "    </tr>\n",
       "    <tr>\n",
       "      <th>7</th>\n",
       "      <td>freedom</td>\n",
       "      <td>1</td>\n",
       "    </tr>\n",
       "    <tr>\n",
       "      <th>8</th>\n",
       "      <td>security</td>\n",
       "      <td>1</td>\n",
       "    </tr>\n",
       "    <tr>\n",
       "      <th>9</th>\n",
       "      <td>compliance</td>\n",
       "      <td>1</td>\n",
       "    </tr>\n",
       "  </tbody>\n",
       "</table>\n",
       "</div>"
      ],
      "text/plain": [
       "         Terms  Frequency\n",
       "0      service          4\n",
       "1     recovery          4\n",
       "2        order          3\n",
       "3     capacity          3\n",
       "4        union          3\n",
       "5       courts          3\n",
       "6  individuals          1\n",
       "7      freedom          1\n",
       "8     security          1\n",
       "9   compliance          1"
      ]
     },
     "execution_count": 117,
     "metadata": {
      "tags": []
     },
     "output_type": "execute_result"
    }
   ],
   "source": [
    "cterms1 = [x[1] for x in bbcterms1]\n",
    "canada_count = Counter(cterms1)\n",
    "cdf = pd.DataFrame(canada_count.most_common(), columns = ['Terms', 'Frequency'])\n",
    "cdf.head(10)"
   ]
  },
  {
   "cell_type": "code",
   "execution_count": 0,
   "metadata": {
    "colab": {
     "base_uri": "https://localhost:8080/",
     "height": 359
    },
    "colab_type": "code",
    "executionInfo": {
     "elapsed": 846,
     "status": "ok",
     "timestamp": 1588300828201,
     "user": {
      "displayName": "Manas Amish Dresswala",
      "photoUrl": "https://lh3.googleusercontent.com/a-/AOh14Gh69o2M9nXpFzsYlaunjbCtHhoUxz5CSdo5JC8E=s64",
      "userId": "14098387314810309220"
     },
     "user_tz": 240
    },
    "id": "jxWUC8vyGy6Q",
    "outputId": "4b8ee2cf-8fc6-4c08-be68-480ade36b160"
   },
   "outputs": [
    {
     "data": {
      "text/html": [
       "<div>\n",
       "<style scoped>\n",
       "    .dataframe tbody tr th:only-of-type {\n",
       "        vertical-align: middle;\n",
       "    }\n",
       "\n",
       "    .dataframe tbody tr th {\n",
       "        vertical-align: top;\n",
       "    }\n",
       "\n",
       "    .dataframe thead th {\n",
       "        text-align: right;\n",
       "    }\n",
       "</style>\n",
       "<table border=\"1\" class=\"dataframe\">\n",
       "  <thead>\n",
       "    <tr style=\"text-align: right;\">\n",
       "      <th></th>\n",
       "      <th>Terms</th>\n",
       "      <th>Frequency</th>\n",
       "    </tr>\n",
       "  </thead>\n",
       "  <tbody>\n",
       "    <tr>\n",
       "      <th>0</th>\n",
       "      <td>money</td>\n",
       "      <td>5</td>\n",
       "    </tr>\n",
       "    <tr>\n",
       "      <th>1</th>\n",
       "      <td>administration</td>\n",
       "      <td>4</td>\n",
       "    </tr>\n",
       "    <tr>\n",
       "      <th>2</th>\n",
       "      <td>order</td>\n",
       "      <td>4</td>\n",
       "    </tr>\n",
       "    <tr>\n",
       "      <th>3</th>\n",
       "      <td>service</td>\n",
       "      <td>3</td>\n",
       "    </tr>\n",
       "    <tr>\n",
       "      <th>4</th>\n",
       "      <td>refugee</td>\n",
       "      <td>3</td>\n",
       "    </tr>\n",
       "    <tr>\n",
       "      <th>5</th>\n",
       "      <td>federal</td>\n",
       "      <td>2</td>\n",
       "    </tr>\n",
       "    <tr>\n",
       "      <th>6</th>\n",
       "      <td>recovery</td>\n",
       "      <td>2</td>\n",
       "    </tr>\n",
       "    <tr>\n",
       "      <th>7</th>\n",
       "      <td>individuals</td>\n",
       "      <td>2</td>\n",
       "    </tr>\n",
       "    <tr>\n",
       "      <th>8</th>\n",
       "      <td>sovereignty</td>\n",
       "      <td>1</td>\n",
       "    </tr>\n",
       "    <tr>\n",
       "      <th>9</th>\n",
       "      <td>security</td>\n",
       "      <td>1</td>\n",
       "    </tr>\n",
       "  </tbody>\n",
       "</table>\n",
       "</div>"
      ],
      "text/plain": [
       "            Terms  Frequency\n",
       "0           money          5\n",
       "1  administration          4\n",
       "2           order          4\n",
       "3         service          3\n",
       "4         refugee          3\n",
       "5         federal          2\n",
       "6        recovery          2\n",
       "7     individuals          2\n",
       "8     sovereignty          1\n",
       "9        security          1"
      ]
     },
     "execution_count": 118,
     "metadata": {
      "tags": []
     },
     "output_type": "execute_result"
    }
   ],
   "source": [
    "cterms1 = [x[1] for x in foxterms1]\n",
    "canada_count = Counter(cterms1)\n",
    "cdf = pd.DataFrame(canada_count.most_common(), columns = ['Terms', 'Frequency'])\n",
    "cdf.head(10)"
   ]
  },
  {
   "cell_type": "code",
   "execution_count": 0,
   "metadata": {
    "colab": {
     "base_uri": "https://localhost:8080/",
     "height": 359
    },
    "colab_type": "code",
    "executionInfo": {
     "elapsed": 980,
     "status": "ok",
     "timestamp": 1588300841536,
     "user": {
      "displayName": "Manas Amish Dresswala",
      "photoUrl": "https://lh3.googleusercontent.com/a-/AOh14Gh69o2M9nXpFzsYlaunjbCtHhoUxz5CSdo5JC8E=s64",
      "userId": "14098387314810309220"
     },
     "user_tz": 240
    },
    "id": "IuB_49C8G2H7",
    "outputId": "866eeaa7-95c4-455f-b913-ef908c1dc324"
   },
   "outputs": [
    {
     "data": {
      "text/html": [
       "<div>\n",
       "<style scoped>\n",
       "    .dataframe tbody tr th:only-of-type {\n",
       "        vertical-align: middle;\n",
       "    }\n",
       "\n",
       "    .dataframe tbody tr th {\n",
       "        vertical-align: top;\n",
       "    }\n",
       "\n",
       "    .dataframe thead th {\n",
       "        text-align: right;\n",
       "    }\n",
       "</style>\n",
       "<table border=\"1\" class=\"dataframe\">\n",
       "  <thead>\n",
       "    <tr style=\"text-align: right;\">\n",
       "      <th></th>\n",
       "      <th>Terms</th>\n",
       "      <th>Frequency</th>\n",
       "    </tr>\n",
       "  </thead>\n",
       "  <tbody>\n",
       "    <tr>\n",
       "      <th>0</th>\n",
       "      <td>order</td>\n",
       "      <td>23</td>\n",
       "    </tr>\n",
       "    <tr>\n",
       "      <th>1</th>\n",
       "      <td>individuals</td>\n",
       "      <td>4</td>\n",
       "    </tr>\n",
       "    <tr>\n",
       "      <th>2</th>\n",
       "      <td>federal</td>\n",
       "      <td>3</td>\n",
       "    </tr>\n",
       "    <tr>\n",
       "      <th>3</th>\n",
       "      <td>freedom</td>\n",
       "      <td>3</td>\n",
       "    </tr>\n",
       "    <tr>\n",
       "      <th>4</th>\n",
       "      <td>security</td>\n",
       "      <td>3</td>\n",
       "    </tr>\n",
       "    <tr>\n",
       "      <th>5</th>\n",
       "      <td>union</td>\n",
       "      <td>3</td>\n",
       "    </tr>\n",
       "    <tr>\n",
       "      <th>6</th>\n",
       "      <td>money</td>\n",
       "      <td>2</td>\n",
       "    </tr>\n",
       "    <tr>\n",
       "      <th>7</th>\n",
       "      <td>compliance</td>\n",
       "      <td>2</td>\n",
       "    </tr>\n",
       "    <tr>\n",
       "      <th>8</th>\n",
       "      <td>courts</td>\n",
       "      <td>2</td>\n",
       "    </tr>\n",
       "    <tr>\n",
       "      <th>9</th>\n",
       "      <td>administration</td>\n",
       "      <td>2</td>\n",
       "    </tr>\n",
       "  </tbody>\n",
       "</table>\n",
       "</div>"
      ],
      "text/plain": [
       "            Terms  Frequency\n",
       "0           order         23\n",
       "1     individuals          4\n",
       "2         federal          3\n",
       "3         freedom          3\n",
       "4        security          3\n",
       "5           union          3\n",
       "6           money          2\n",
       "7      compliance          2\n",
       "8          courts          2\n",
       "9  administration          2"
      ]
     },
     "execution_count": 119,
     "metadata": {
      "tags": []
     },
     "output_type": "execute_result"
    }
   ],
   "source": [
    "cterms1 = [x[1] for x in cnnterms1]\n",
    "canada_count = Counter(cterms1)\n",
    "cdf = pd.DataFrame(canada_count.most_common(), columns = ['Terms', 'Frequency'])\n",
    "cdf.head(10)"
   ]
  },
  {
   "cell_type": "markdown",
   "metadata": {
    "colab_type": "text",
    "id": "_BAzyNbLGMD9"
   },
   "source": [
    "## Conflict Terms"
   ]
  },
  {
   "cell_type": "code",
   "execution_count": 0,
   "metadata": {
    "colab": {
     "base_uri": "https://localhost:8080/",
     "height": 68
    },
    "colab_type": "code",
    "executionInfo": {
     "elapsed": 6979,
     "status": "ok",
     "timestamp": 1588300780539,
     "user": {
      "displayName": "Manas Amish Dresswala",
      "photoUrl": "https://lh3.googleusercontent.com/a-/AOh14Gh69o2M9nXpFzsYlaunjbCtHhoUxz5CSdo5JC8E=s64",
      "userId": "14098387314810309220"
     },
     "user_tz": 240
    },
    "id": "tU0pHdupF_pY",
    "outputId": "990f6b7c-b330-4e31-be67-c628d8fd4f09"
   },
   "outputs": [
    {
     "name": "stdout",
     "output_type": "stream",
     "text": [
      "6\n",
      "13\n",
      "13\n"
     ]
    }
   ],
   "source": [
    "bbcterms2, bbcscore2 = conflict_score(bbc_words, conflict_processed)\n",
    "print(bbcscore2)\n",
    "\n",
    "foxterms2, foxscore2 = conflict_score(fox_words, conflict_processed)\n",
    "print(foxscore2)\n",
    "\n",
    "cnnterms2, cnnscore2 = conflict_score(cnn_words, conflict_processed)\n",
    "print(cnnscore2)"
   ]
  },
  {
   "cell_type": "code",
   "execution_count": 0,
   "metadata": {
    "colab": {
     "base_uri": "https://localhost:8080/",
     "height": 142
    },
    "colab_type": "code",
    "executionInfo": {
     "elapsed": 515,
     "status": "ok",
     "timestamp": 1588300888525,
     "user": {
      "displayName": "Manas Amish Dresswala",
      "photoUrl": "https://lh3.googleusercontent.com/a-/AOh14Gh69o2M9nXpFzsYlaunjbCtHhoUxz5CSdo5JC8E=s64",
      "userId": "14098387314810309220"
     },
     "user_tz": 240
    },
    "id": "9LsQT7LgGiIJ",
    "outputId": "8bc5b97b-775a-4c86-d5c1-0ce882006b7b"
   },
   "outputs": [
    {
     "data": {
      "text/html": [
       "<div>\n",
       "<style scoped>\n",
       "    .dataframe tbody tr th:only-of-type {\n",
       "        vertical-align: middle;\n",
       "    }\n",
       "\n",
       "    .dataframe tbody tr th {\n",
       "        vertical-align: top;\n",
       "    }\n",
       "\n",
       "    .dataframe thead th {\n",
       "        text-align: right;\n",
       "    }\n",
       "</style>\n",
       "<table border=\"1\" class=\"dataframe\">\n",
       "  <thead>\n",
       "    <tr style=\"text-align: right;\">\n",
       "      <th></th>\n",
       "      <th>Terms</th>\n",
       "      <th>Frequency</th>\n",
       "    </tr>\n",
       "  </thead>\n",
       "  <tbody>\n",
       "    <tr>\n",
       "      <th>0</th>\n",
       "      <td>crisis</td>\n",
       "      <td>4</td>\n",
       "    </tr>\n",
       "    <tr>\n",
       "      <th>1</th>\n",
       "      <td>fighting</td>\n",
       "      <td>1</td>\n",
       "    </tr>\n",
       "    <tr>\n",
       "      <th>2</th>\n",
       "      <td>war</td>\n",
       "      <td>1</td>\n",
       "    </tr>\n",
       "  </tbody>\n",
       "</table>\n",
       "</div>"
      ],
      "text/plain": [
       "      Terms  Frequency\n",
       "0    crisis          4\n",
       "1  fighting          1\n",
       "2       war          1"
      ]
     },
     "execution_count": 121,
     "metadata": {
      "tags": []
     },
     "output_type": "execute_result"
    }
   ],
   "source": [
    "cterms1 = [x[1] for x in bbcterms2]\n",
    "canada_count = Counter(cterms1)\n",
    "cdf = pd.DataFrame(canada_count.most_common(), columns = ['Terms', 'Frequency'])\n",
    "cdf.head(10)"
   ]
  },
  {
   "cell_type": "code",
   "execution_count": 0,
   "metadata": {
    "colab": {
     "base_uri": "https://localhost:8080/",
     "height": 142
    },
    "colab_type": "code",
    "executionInfo": {
     "elapsed": 1017,
     "status": "ok",
     "timestamp": 1588300899069,
     "user": {
      "displayName": "Manas Amish Dresswala",
      "photoUrl": "https://lh3.googleusercontent.com/a-/AOh14Gh69o2M9nXpFzsYlaunjbCtHhoUxz5CSdo5JC8E=s64",
      "userId": "14098387314810309220"
     },
     "user_tz": 240
    },
    "id": "V1iYzcszHDRB",
    "outputId": "32cf896e-fd18-404f-9f94-73e76dd3f7e6"
   },
   "outputs": [
    {
     "data": {
      "text/html": [
       "<div>\n",
       "<style scoped>\n",
       "    .dataframe tbody tr th:only-of-type {\n",
       "        vertical-align: middle;\n",
       "    }\n",
       "\n",
       "    .dataframe tbody tr th {\n",
       "        vertical-align: top;\n",
       "    }\n",
       "\n",
       "    .dataframe thead th {\n",
       "        text-align: right;\n",
       "    }\n",
       "</style>\n",
       "<table border=\"1\" class=\"dataframe\">\n",
       "  <thead>\n",
       "    <tr style=\"text-align: right;\">\n",
       "      <th></th>\n",
       "      <th>Terms</th>\n",
       "      <th>Frequency</th>\n",
       "    </tr>\n",
       "  </thead>\n",
       "  <tbody>\n",
       "    <tr>\n",
       "      <th>0</th>\n",
       "      <td>war</td>\n",
       "      <td>6</td>\n",
       "    </tr>\n",
       "    <tr>\n",
       "      <th>1</th>\n",
       "      <td>crisis</td>\n",
       "      <td>6</td>\n",
       "    </tr>\n",
       "    <tr>\n",
       "      <th>2</th>\n",
       "      <td>fighting</td>\n",
       "      <td>1</td>\n",
       "    </tr>\n",
       "  </tbody>\n",
       "</table>\n",
       "</div>"
      ],
      "text/plain": [
       "      Terms  Frequency\n",
       "0       war          6\n",
       "1    crisis          6\n",
       "2  fighting          1"
      ]
     },
     "execution_count": 122,
     "metadata": {
      "tags": []
     },
     "output_type": "execute_result"
    }
   ],
   "source": [
    "cterms1 = [x[1] for x in foxterms2]\n",
    "canada_count = Counter(cterms1)\n",
    "cdf = pd.DataFrame(canada_count.most_common(), columns = ['Terms', 'Frequency'])\n",
    "cdf.head(10)"
   ]
  },
  {
   "cell_type": "code",
   "execution_count": 0,
   "metadata": {
    "colab": {
     "base_uri": "https://localhost:8080/",
     "height": 204
    },
    "colab_type": "code",
    "executionInfo": {
     "elapsed": 329,
     "status": "ok",
     "timestamp": 1588300908785,
     "user": {
      "displayName": "Manas Amish Dresswala",
      "photoUrl": "https://lh3.googleusercontent.com/a-/AOh14Gh69o2M9nXpFzsYlaunjbCtHhoUxz5CSdo5JC8E=s64",
      "userId": "14098387314810309220"
     },
     "user_tz": 240
    },
    "id": "sjNxW4uGHFsR",
    "outputId": "76860846-95ac-4d37-8fdc-f319db802b2b"
   },
   "outputs": [
    {
     "data": {
      "text/html": [
       "<div>\n",
       "<style scoped>\n",
       "    .dataframe tbody tr th:only-of-type {\n",
       "        vertical-align: middle;\n",
       "    }\n",
       "\n",
       "    .dataframe tbody tr th {\n",
       "        vertical-align: top;\n",
       "    }\n",
       "\n",
       "    .dataframe thead th {\n",
       "        text-align: right;\n",
       "    }\n",
       "</style>\n",
       "<table border=\"1\" class=\"dataframe\">\n",
       "  <thead>\n",
       "    <tr style=\"text-align: right;\">\n",
       "      <th></th>\n",
       "      <th>Terms</th>\n",
       "      <th>Frequency</th>\n",
       "    </tr>\n",
       "  </thead>\n",
       "  <tbody>\n",
       "    <tr>\n",
       "      <th>0</th>\n",
       "      <td>crisis</td>\n",
       "      <td>9</td>\n",
       "    </tr>\n",
       "    <tr>\n",
       "      <th>1</th>\n",
       "      <td>conflict</td>\n",
       "      <td>1</td>\n",
       "    </tr>\n",
       "    <tr>\n",
       "      <th>2</th>\n",
       "      <td>destruction</td>\n",
       "      <td>1</td>\n",
       "    </tr>\n",
       "    <tr>\n",
       "      <th>3</th>\n",
       "      <td>pain</td>\n",
       "      <td>1</td>\n",
       "    </tr>\n",
       "    <tr>\n",
       "      <th>4</th>\n",
       "      <td>fighting</td>\n",
       "      <td>1</td>\n",
       "    </tr>\n",
       "  </tbody>\n",
       "</table>\n",
       "</div>"
      ],
      "text/plain": [
       "         Terms  Frequency\n",
       "0       crisis          9\n",
       "1     conflict          1\n",
       "2  destruction          1\n",
       "3         pain          1\n",
       "4     fighting          1"
      ]
     },
     "execution_count": 123,
     "metadata": {
      "tags": []
     },
     "output_type": "execute_result"
    }
   ],
   "source": [
    "cterms1 = [x[1] for x in cnnterms2]\n",
    "canada_count = Counter(cterms1)\n",
    "cdf = pd.DataFrame(canada_count.most_common(), columns = ['Terms', 'Frequency'])\n",
    "cdf.head(10)"
   ]
  },
  {
   "cell_type": "code",
   "execution_count": 0,
   "metadata": {
    "colab": {},
    "colab_type": "code",
    "id": "x22hVLSFHISu"
   },
   "outputs": [],
   "source": [
    "peace = [bbcscore/word_count[0], foxscore/word_count[1], cnnscore/word_count[2]]\n",
    "res = [bbcscore1/word_count[0], foxscore1/word_count[1], cnnscore1/word_count[2]]\n",
    "conflict = [bbcscore2/word_count[0], foxscore2/word_count[1], cnnscore2/word_count[2]]"
   ]
  },
  {
   "cell_type": "code",
   "execution_count": 0,
   "metadata": {
    "colab": {},
    "colab_type": "code",
    "id": "w_9f06E_dqiC"
   },
   "outputs": [],
   "source": [
    "sources = ['BBC', 'Fox', 'CNN']\n",
    "peace = [0.02029639175257732, 0.020943997571710428, 0.02242681775259679]\n",
    "res = [0.008698453608247423, 0.0048565791470632875, 0.013456090651558074]\n",
    "conflict = [0.0019329896907216496, 0.0019729852784944606, 0.003068932955618508]"
   ]
  },
  {
   "cell_type": "code",
   "execution_count": 0,
   "metadata": {
    "colab": {
     "base_uri": "https://localhost:8080/",
     "height": 282
    },
    "colab_type": "code",
    "executionInfo": {
     "elapsed": 522,
     "status": "ok",
     "timestamp": 1588692772267,
     "user": {
      "displayName": "Manas Amish Dresswala",
      "photoUrl": "https://lh3.googleusercontent.com/a-/AOh14Gh69o2M9nXpFzsYlaunjbCtHhoUxz5CSdo5JC8E=s64",
      "userId": "14098387314810309220"
     },
     "user_tz": 240
    },
    "id": "mCimpYTyd5Pj",
    "outputId": "181d93d2-8df4-4cd5-f4fd-c3b00fe7b946"
   },
   "outputs": [
    {
     "data": {
      "text/plain": [
       "<BarContainer object of 3 artists>"
      ]
     },
     "execution_count": 86,
     "metadata": {
      "tags": []
     },
     "output_type": "execute_result"
    },
    {
     "data": {
      "image/png": "[encoded data removed]",
      "text/plain": [
       "<Figure size 432x288 with 1 Axes>"
      ]
     },
     "metadata": {
      "needs_background": "light",
      "tags": []
     },
     "output_type": "display_data"
    }
   ],
   "source": [
    "plt.bar(x = sources, height = peace)\n",
    "plt.title('Peace Scores')"
   ]
  },
  {
   "cell_type": "code",
   "execution_count": 0,
   "metadata": {
    "colab": {
     "base_uri": "https://localhost:8080/",
     "height": 298
    },
    "colab_type": "code",
    "executionInfo": {
     "elapsed": 602,
     "status": "ok",
     "timestamp": 1588692803596,
     "user": {
      "displayName": "Manas Amish Dresswala",
      "photoUrl": "https://lh3.googleusercontent.com/a-/AOh14Gh69o2M9nXpFzsYlaunjbCtHhoUxz5CSdo5JC8E=s64",
      "userId": "14098387314810309220"
     },
     "user_tz": 240
    },
    "id": "xkcD72IueDiH",
    "outputId": "c236466a-0d8e-484d-e7ec-2a51ed62affa"
   },
   "outputs": [
    {
     "data": {
      "text/plain": [
       "Text(0.5, 1.0, 'Non Peace Scores')"
      ]
     },
     "execution_count": 87,
     "metadata": {
      "tags": []
     },
     "output_type": "execute_result"
    },
    {
     "data": {
      "image/png": "[encoded data removed]",
      "text/plain": [
       "<Figure size 432x288 with 1 Axes>"
      ]
     },
     "metadata": {
      "needs_background": "light",
      "tags": []
     },
     "output_type": "display_data"
    }
   ],
   "source": [
    "plt.bar(x = sources, height = res)\n",
    "plt.title('Non Peace Scores')"
   ]
  },
  {
   "cell_type": "code",
   "execution_count": 0,
   "metadata": {
    "colab": {
     "base_uri": "https://localhost:8080/",
     "height": 298
    },
    "colab_type": "code",
    "executionInfo": {
     "elapsed": 560,
     "status": "ok",
     "timestamp": 1588692817654,
     "user": {
      "displayName": "Manas Amish Dresswala",
      "photoUrl": "https://lh3.googleusercontent.com/a-/AOh14Gh69o2M9nXpFzsYlaunjbCtHhoUxz5CSdo5JC8E=s64",
      "userId": "14098387314810309220"
     },
     "user_tz": 240
    },
    "id": "r2TrfXE9eG_x",
    "outputId": "94a8672b-6fa3-4610-ee8e-4c303cd812b3"
   },
   "outputs": [
    {
     "data": {
      "text/plain": [
       "Text(0.5, 1.0, 'Conflict Scores')"
      ]
     },
     "execution_count": 88,
     "metadata": {
      "tags": []
     },
     "output_type": "execute_result"
    },
    {
     "data": {
      "image/png": "[encoded data removed]",
      "text/plain": [
       "<Figure size 432x288 with 1 Axes>"
      ]
     },
     "metadata": {
      "needs_background": "light",
      "tags": []
     },
     "output_type": "display_data"
    }
   ],
   "source": [
    "plt.bar(x = sources, height = conflict)\n",
    "plt.title('Conflict Scores')"
   ]
  },
  {
   "cell_type": "code",
   "execution_count": 0,
   "metadata": {
    "colab": {
     "base_uri": "https://localhost:8080/",
     "height": 34
    },
    "colab_type": "code",
    "executionInfo": {
     "elapsed": 545,
     "status": "ok",
     "timestamp": 1588301099223,
     "user": {
      "displayName": "Manas Amish Dresswala",
      "photoUrl": "https://lh3.googleusercontent.com/a-/AOh14Gh69o2M9nXpFzsYlaunjbCtHhoUxz5CSdo5JC8E=s64",
      "userId": "14098387314810309220"
     },
     "user_tz": 240
    },
    "id": "6rgT_JplHpVS",
    "outputId": "965e92d9-576b-4717-955b-c306fdc6aab2"
   },
   "outputs": [
    {
     "data": {
      "text/plain": [
       "[0.02029639175257732, 0.020943997571710428, 0.02242681775259679]"
      ]
     },
     "execution_count": 127,
     "metadata": {
      "tags": []
     },
     "output_type": "execute_result"
    }
   ],
   "source": [
    "peace"
   ]
  },
  {
   "cell_type": "code",
   "execution_count": 0,
   "metadata": {
    "colab": {
     "base_uri": "https://localhost:8080/",
     "height": 34
    },
    "colab_type": "code",
    "executionInfo": {
     "elapsed": 623,
     "status": "ok",
     "timestamp": 1588301105262,
     "user": {
      "displayName": "Manas Amish Dresswala",
      "photoUrl": "https://lh3.googleusercontent.com/a-/AOh14Gh69o2M9nXpFzsYlaunjbCtHhoUxz5CSdo5JC8E=s64",
      "userId": "14098387314810309220"
     },
     "user_tz": 240
    },
    "id": "iAXk5shRH2y7",
    "outputId": "c73e4d21-dd5f-4fc4-ca51-b4689eb854eb"
   },
   "outputs": [
    {
     "data": {
      "text/plain": [
       "[0.008698453608247423, 0.0048565791470632875, 0.013456090651558074]"
      ]
     },
     "execution_count": 128,
     "metadata": {
      "tags": []
     },
     "output_type": "execute_result"
    }
   ],
   "source": [
    "res"
   ]
  },
  {
   "cell_type": "code",
   "execution_count": 0,
   "metadata": {
    "colab": {
     "base_uri": "https://localhost:8080/",
     "height": 34
    },
    "colab_type": "code",
    "executionInfo": {
     "elapsed": 627,
     "status": "ok",
     "timestamp": 1588301112497,
     "user": {
      "displayName": "Manas Amish Dresswala",
      "photoUrl": "https://lh3.googleusercontent.com/a-/AOh14Gh69o2M9nXpFzsYlaunjbCtHhoUxz5CSdo5JC8E=s64",
      "userId": "14098387314810309220"
     },
     "user_tz": 240
    },
    "id": "0co5knk2H4L_",
    "outputId": "62bee6fa-dee6-4386-8dc5-6bae9e5d6ad4"
   },
   "outputs": [
    {
     "data": {
      "text/plain": [
       "[0.0019329896907216496, 0.0019729852784944606, 0.003068932955618508]"
      ]
     },
     "execution_count": 129,
     "metadata": {
      "tags": []
     },
     "output_type": "execute_result"
    }
   ],
   "source": [
    "conflict"
   ]
  },
  {
   "cell_type": "markdown",
   "metadata": {
    "colab_type": "text",
    "id": "fhn8nfSIIVk6"
   },
   "source": [
    "# Saving the text files"
   ]
  },
  {
   "cell_type": "code",
   "execution_count": 0,
   "metadata": {
    "colab": {},
    "colab_type": "code",
    "id": "FUHzfsL1H5_2"
   },
   "outputs": [],
   "source": [
    "pd.DataFrame(bbc_articles).to_csv('bbc.csv')\n",
    "!cp bbc.csv \"/content/drive/My Drive/Sustainable-Peace-Project/\""
   ]
  },
  {
   "cell_type": "code",
   "execution_count": 0,
   "metadata": {
    "colab": {},
    "colab_type": "code",
    "id": "V0X9gYScIuRP"
   },
   "outputs": [],
   "source": [
    "pd.DataFrame(fox_articles).to_csv('fox.csv')\n",
    "!cp fox.csv \"/content/drive/My Drive/Sustainable-Peace-Project/\""
   ]
  },
  {
   "cell_type": "code",
   "execution_count": 0,
   "metadata": {
    "colab": {},
    "colab_type": "code",
    "id": "U0Pb6IotJXZ_"
   },
   "outputs": [],
   "source": [
    "pd.DataFrame(cnn_articles).to_csv('cnn.csv')\n",
    "!cp cnn.csv \"/content/drive/My Drive/Sustainable-Peace-Project/\""
   ]
  },
  {
   "cell_type": "markdown",
   "metadata": {
    "colab_type": "text",
    "id": "Z06Gh7OvSub5"
   },
   "source": [
    "# COVID News Reporting through different countries"
   ]
  },
  {
   "cell_type": "code",
   "execution_count": 0,
   "metadata": {
    "colab": {},
    "colab_type": "code",
    "id": "RKUlv-Y9JavW"
   },
   "outputs": [],
   "source": [
    "# scraping data from the Google News API\n",
    "# this function will find BBC news articles related to coronavirus in English Language\n",
    "def google_news_articles_countries(c):\n",
    "    url = ('https://newsapi.org/v2/top-headlines?'\n",
    "           'country=' + c + '&'\n",
    "           'q=coronavirus&'\n",
    "           'language=en&'\n",
    "           'apiKey=78d0091a1deb4db6a93daa7fcafe5985')\n",
    "    response = requests.get(url)\n",
    "    # print(response.json())\n",
    "    news = response.json()['articles']\n",
    "    desc = []\n",
    "    for i in range(len(news)):\n",
    "        desc.append(news[i]['description'])\n",
    "    url = []\n",
    "    for i in range(len(news)):\n",
    "        url.append(news[i]['url'])\n",
    "    return url, desc"
   ]
  },
  {
   "cell_type": "code",
   "execution_count": 0,
   "metadata": {
    "colab": {},
    "colab_type": "code",
    "id": "3VYai9N8TM-G"
   },
   "outputs": [],
   "source": [
    "urls = []\n",
    "desc = []\n",
    "countries = ['in', 'us', 'ca', 'it', 'se', 'gb', 'cn', 've', 'nz']\n",
    "for i in range(len(countries)):\n",
    "    u, d = google_news_articles_countries(countries[i])\n",
    "    urls.append(u)\n",
    "    desc.append(d)"
   ]
  },
  {
   "cell_type": "code",
   "execution_count": 0,
   "metadata": {
    "colab": {},
    "colab_type": "code",
    "id": "UjLteVfVVd6-"
   },
   "outputs": [],
   "source": [
    "# lets compare news from US/Italy/London\n",
    "desc_text = {}\n",
    "desc_text['us'] = ' '.join(desc[1])\n",
    "desc_text['it'] = ' '.join(desc[3])\n",
    "desc_text['gb'] = ' '.join(desc[5])"
   ]
  },
  {
   "cell_type": "code",
   "execution_count": 0,
   "metadata": {
    "colab": {
     "base_uri": "https://localhost:8080/",
     "height": 238
    },
    "colab_type": "code",
    "executionInfo": {
     "elapsed": 519,
     "status": "ok",
     "timestamp": 1588692400660,
     "user": {
      "displayName": "Manas Amish Dresswala",
      "photoUrl": "https://lh3.googleusercontent.com/a-/AOh14Gh69o2M9nXpFzsYlaunjbCtHhoUxz5CSdo5JC8E=s64",
      "userId": "14098387314810309220"
     },
     "user_tz": 240
    },
    "id": "RIBC9RR0WP6d",
    "outputId": "4e521c7b-3aa7-4491-db05-15bbcfe92f21"
   },
   "outputs": [
    {
     "name": "stdout",
     "output_type": "stream",
     "text": [
      "Top words from news descriptions of USA\n",
      "5 coronavirus\n",
      "2 university\n",
      "2 trump\n",
      "2 state\n",
      "2 said\n",
      "2 people\n",
      "2 newsom\n",
      "2 infected\n",
      "2 important\n",
      "2 covid 19\n",
      "2 covid\n",
      "2 19\n"
     ]
    }
   ],
   "source": [
    "from sklearn.feature_extraction.text import CountVectorizer\n",
    "c_vec = CountVectorizer(ngram_range=(1, 3), stop_words='english')\n",
    "# input to fit_transform() should be an iterable with strings\n",
    "ngrams = c_vec.fit_transform([desc_text['us']])\n",
    "# needs to happen after fit_transform()\n",
    "vocab = c_vec.vocabulary_\n",
    "count_values = ngrams.toarray().sum(axis=0)\n",
    "# output n-grams\n",
    "print('Top words from news descriptions of USA')\n",
    "for ng_count, ng_text in sorted([(count_values[i],k) for k,i in vocab.items()], reverse=True):\n",
    "  if ng_count > 1:\n",
    "    print(ng_count, ng_text)"
   ]
  },
  {
   "cell_type": "code",
   "execution_count": 0,
   "metadata": {
    "colab": {},
    "colab_type": "code",
    "id": "mjRf1UFmXvO_"
   },
   "outputs": [],
   "source": [
    "!pip install googletrans"
   ]
  },
  {
   "cell_type": "code",
   "execution_count": 0,
   "metadata": {
    "colab": {},
    "colab_type": "code",
    "id": "CoUifHB5YtaT"
   },
   "outputs": [],
   "source": [
    "!pip install stop-words"
   ]
  },
  {
   "cell_type": "code",
   "execution_count": 0,
   "metadata": {
    "colab": {},
    "colab_type": "code",
    "id": "iSYfX7sHXxoY"
   },
   "outputs": [],
   "source": [
    "from googletrans import Translator\n",
    "translator = Translator()"
   ]
  },
  {
   "cell_type": "code",
   "execution_count": 0,
   "metadata": {
    "colab": {
     "base_uri": "https://localhost:8080/",
     "height": 238
    },
    "colab_type": "code",
    "executionInfo": {
     "elapsed": 1153,
     "status": "ok",
     "timestamp": 1588692413537,
     "user": {
      "displayName": "Manas Amish Dresswala",
      "photoUrl": "https://lh3.googleusercontent.com/a-/AOh14Gh69o2M9nXpFzsYlaunjbCtHhoUxz5CSdo5JC8E=s64",
      "userId": "14098387314810309220"
     },
     "user_tz": 240
    },
    "id": "aMhoiBuVWoA-",
    "outputId": "582fa6bd-b430-4697-d80a-fe1a813de19c"
   },
   "outputs": [
    {
     "name": "stdout",
     "output_type": "stream",
     "text": [
      "Top words from news descriptions of Italy\n",
      "3 region\n",
      "3 data\n",
      "3 coronavirus\n",
      "3 antibodies\n",
      "2 virus\n",
      "2 blood\n",
      "2 origin\n",
      "2 dead\n",
      "2 after\n",
      "2 White House\n",
      "2 House\n",
      "2 bianca\n"
     ]
    }
   ],
   "source": [
    "from stop_words import get_stop_words\n",
    "it_stop_words = get_stop_words('it')\n",
    "\n",
    "c_vec = CountVectorizer(ngram_range=(1, 3), stop_words=it_stop_words)\n",
    "# input to fit_transform() should be an iterable with strings\n",
    "ngrams = c_vec.fit_transform([desc_text['it']])\n",
    "# needs to happen after fit_transform()\n",
    "vocab = c_vec.vocabulary_\n",
    "count_values = ngrams.toarray().sum(axis=0)\n",
    "# output n-grams\n",
    "print('Top words from news descriptions of Italy')\n",
    "for ng_count, ng_text in sorted([(count_values[i],k) for k,i in vocab.items()], reverse=True):\n",
    "  if ng_count > 1:\n",
    "    print(ng_count, translator.translate(ng_text).text)"
   ]
  },
  {
   "cell_type": "code",
   "execution_count": 0,
   "metadata": {
    "colab": {
     "base_uri": "https://localhost:8080/",
     "height": 136
    },
    "colab_type": "code",
    "executionInfo": {
     "elapsed": 456,
     "status": "ok",
     "timestamp": 1588692421479,
     "user": {
      "displayName": "Manas Amish Dresswala",
      "photoUrl": "https://lh3.googleusercontent.com/a-/AOh14Gh69o2M9nXpFzsYlaunjbCtHhoUxz5CSdo5JC8E=s64",
      "userId": "14098387314810309220"
     },
     "user_tz": 240
    },
    "id": "qs5hmTeWXdiE",
    "outputId": "4198cb67-a91e-4fe1-e030-c6cc21e49444"
   },
   "outputs": [
    {
     "name": "stdout",
     "output_type": "stream",
     "text": [
      "Top words from news descriptions of UK\n",
      "3 uk\n",
      "3 mps\n",
      "3 coronavirus\n",
      "2 deaths\n",
      "2 china\n",
      "2 10\n"
     ]
    }
   ],
   "source": [
    "from stop_words import get_stop_words\n",
    "en_stop_words = get_stop_words('en')\n",
    "\n",
    "c_vec = CountVectorizer(ngram_range=(1, 3), stop_words=en_stop_words)\n",
    "# input to fit_transform() should be an iterable with strings\n",
    "ngrams = c_vec.fit_transform([desc_text['gb']])\n",
    "# needs to happen after fit_transform()\n",
    "vocab = c_vec.vocabulary_\n",
    "count_values = ngrams.toarray().sum(axis=0)\n",
    "# output n-grams\n",
    "print('Top words from news descriptions of UK')\n",
    "for ng_count, ng_text in sorted([(count_values[i],k) for k,i in vocab.items()], reverse=True):\n",
    "  if ng_count > 1:\n",
    "    print(ng_count, ng_text)"
   ]
  },
  {
   "cell_type": "markdown",
   "metadata": {
    "colab_type": "text",
    "id": "Zp6dPMPdlqZ1"
   },
   "source": [
    "# Trying a new local news api"
   ]
  },
  {
   "cell_type": "code",
   "execution_count": 2,
   "metadata": {
    "colab": {
     "base_uri": "https://localhost:8080/",
     "height": 173
    },
    "colab_type": "code",
    "executionInfo": {
     "elapsed": 3104,
     "status": "ok",
     "timestamp": 1588867915371,
     "user": {
      "displayName": "Manas Amish Dresswala",
      "photoUrl": "https://lh3.googleusercontent.com/a-/AOh14Gh69o2M9nXpFzsYlaunjbCtHhoUxz5CSdo5JC8E=s64",
      "userId": "14098387314810309220"
     },
     "user_tz": 240
    },
    "id": "dcd7kpnqZJ4t",
    "outputId": "026d6f1a-960a-488b-c540-6c4729af4b04"
   },
   "outputs": [
    {
     "name": "stdout",
     "output_type": "stream",
     "text": [
      "Requirement already satisfied: eventregistry in /usr/local/lib/python3.6/dist-packages (8.7)\n",
      "Requirement already satisfied: pytz in /usr/local/lib/python3.6/dist-packages (from eventregistry) (2018.9)\n",
      "Requirement already satisfied: requests in /usr/local/lib/python3.6/dist-packages (from eventregistry) (2.23.0)\n",
      "Requirement already satisfied: six in /usr/local/lib/python3.6/dist-packages (from eventregistry) (1.12.0)\n",
      "Requirement already satisfied: urllib3!=1.25.0,!=1.25.1,<1.26,>=1.21.1 in /usr/local/lib/python3.6/dist-packages (from requests->eventregistry) (1.24.3)\n",
      "Requirement already satisfied: chardet<4,>=3.0.2 in /usr/local/lib/python3.6/dist-packages (from requests->eventregistry) (3.0.4)\n",
      "Requirement already satisfied: certifi>=2017.4.17 in /usr/local/lib/python3.6/dist-packages (from requests->eventregistry) (2020.4.5.1)\n",
      "Requirement already satisfied: idna<3,>=2.5 in /usr/local/lib/python3.6/dist-packages (from requests->eventregistry) (2.9)\n"
     ]
    }
   ],
   "source": [
    "!pip install eventregistry"
   ]
  },
  {
   "cell_type": "code",
   "execution_count": 0,
   "metadata": {
    "colab": {},
    "colab_type": "code",
    "id": "ERtOjWeSluYj"
   },
   "outputs": [],
   "source": [
    "import eventregistry"
   ]
  },
  {
   "cell_type": "code",
   "execution_count": 0,
   "metadata": {
    "colab": {},
    "colab_type": "code",
    "id": "UzKMb3mVlz_w"
   },
   "outputs": [],
   "source": [
    "API_KEY = 'c0e88e2f-b44a-4417-b034-5a531f544661'"
   ]
  },
  {
   "cell_type": "code",
   "execution_count": 5,
   "metadata": {
    "colab": {
     "base_uri": "https://localhost:8080/",
     "height": 68
    },
    "colab_type": "code",
    "executionInfo": {
     "elapsed": 100585,
     "status": "ok",
     "timestamp": 1588868539512,
     "user": {
      "displayName": "Manas Amish Dresswala",
      "photoUrl": "https://lh3.googleusercontent.com/a-/AOh14Gh69o2M9nXpFzsYlaunjbCtHhoUxz5CSdo5JC8E=s64",
      "userId": "14098387314810309220"
     },
     "user_tz": 240
    },
    "id": "8ZogUoJamtjb",
    "outputId": "f1b095a7-1a70-4188-ed22-dc7be4212758"
   },
   "outputs": [
    {
     "name": "stdout",
     "output_type": "stream",
     "text": [
      "using user provided API key for making requests\n",
      "Event Registry host: http://eventregistry.org\n",
      "Text analytics host: http://analytics.eventregistry.org\n"
     ]
    }
   ],
   "source": [
    "from eventregistry import *\n",
    "er = EventRegistry(apiKey = API_KEY)\n",
    "q = QueryArticlesIter(conceptUri = er.getConceptUri(\"coronavirus\"))\n",
    "covidNews = []\n",
    "k = 0\n",
    "for art in q.execQuery(er, sortBy = \"date\"):\n",
    "  if k==20000:\n",
    "    break\n",
    "  else:\n",
    "    covidNews.append(art)\n",
    "    k = k + 1"
   ]
  },
  {
   "cell_type": "code",
   "execution_count": 6,
   "metadata": {
    "colab": {
     "base_uri": "https://localhost:8080/",
     "height": 34
    },
    "colab_type": "code",
    "executionInfo": {
     "elapsed": 417,
     "status": "ok",
     "timestamp": 1588868562315,
     "user": {
      "displayName": "Manas Amish Dresswala",
      "photoUrl": "https://lh3.googleusercontent.com/a-/AOh14Gh69o2M9nXpFzsYlaunjbCtHhoUxz5CSdo5JC8E=s64",
      "userId": "14098387314810309220"
     },
     "user_tz": 240
    },
    "id": "8dVbxkeTm0rW",
    "outputId": "c1d74a04-a100-4b95-9904-78551bca5037"
   },
   "outputs": [
    {
     "data": {
      "text/plain": [
       "20000"
      ]
     },
     "execution_count": 6,
     "metadata": {
      "tags": []
     },
     "output_type": "execute_result"
    }
   ],
   "source": [
    "len(covidNews)"
   ]
  },
  {
   "cell_type": "code",
   "execution_count": 0,
   "metadata": {
    "colab": {},
    "colab_type": "code",
    "id": "G91JT5as5-OX"
   },
   "outputs": [],
   "source": [
    "news_sources = []\n",
    "for i in covidNews:\n",
    "  news_sources.append(i['source']['title'])"
   ]
  },
  {
   "cell_type": "code",
   "execution_count": 0,
   "metadata": {
    "colab": {},
    "colab_type": "code",
    "id": "-zN_At0A8lWl"
   },
   "outputs": [],
   "source": [
    "import pandas as pd\n",
    "\n",
    "covidNewsDf = pd.DataFrame(covidNews)\n",
    "covidNewsDf.head()"
   ]
  },
  {
   "cell_type": "code",
   "execution_count": 0,
   "metadata": {
    "colab": {},
    "colab_type": "code",
    "id": "FLvIruRO9GNp"
   },
   "outputs": [],
   "source": [
    "covidNewsDf.to_csv('covidLocalNews.csv')\n",
    "!cp covidLocalNews.csv \"/content/drive/My Drive/Sustainable-Peace-Project/\""
   ]
  },
  {
   "cell_type": "code",
   "execution_count": 0,
   "metadata": {
    "colab": {},
    "colab_type": "code",
    "id": "k6C4FUMl9upY"
   },
   "outputs": [],
   "source": [
    "news_sources_u = set(news_sources)"
   ]
  },
  {
   "cell_type": "code",
   "execution_count": 22,
   "metadata": {
    "colab": {
     "base_uri": "https://localhost:8080/",
     "height": 445
    },
    "colab_type": "code",
    "executionInfo": {
     "elapsed": 371,
     "status": "ok",
     "timestamp": 1588869162276,
     "user": {
      "displayName": "Manas Amish Dresswala",
      "photoUrl": "https://lh3.googleusercontent.com/a-/AOh14Gh69o2M9nXpFzsYlaunjbCtHhoUxz5CSdo5JC8E=s64",
      "userId": "14098387314810309220"
     },
     "user_tz": 240
    },
    "id": "psotrmHz-sMm",
    "outputId": "de6dfb2b-d2f0-44d3-d777-b3c0fb7b35a9"
   },
   "outputs": [
    {
     "data": {
      "text/plain": [
       "{'authors': [{'isAgency': False,\n",
       "   'name': 'Guillermo Peris Peris',\n",
       "   'type': 'author',\n",
       "   'uri': 'guillermo_peris_peris@diariosigloxxi.com'}],\n",
       " 'body': \"La quinta temporada del proyecto de creación cultural digital más relevante del sur de Europa, Círculo Fusión, reunirá próximamente, los rostros más destacados del mundo del arte, la gastronomía y la música, vinculados a la innovación y vanguardia internacional. Actualmente, debido a la crisis del coronavirus, todos los contenidos son de acceso gratuito y se está realizando una recogida de firmas, en la plataforma change.org, en apoyo a la creación cultural independiente. La gastronomía, el arte y la música, son los sectores más afectados por la grave crísis internacional del COVID-19, aún así, Círculo Fusión lanzará durante el 2020 su nueva temporada, la más internacional de todas.\\n\\nEl pistoletazo de salida, lo encabeza Gabriel Kreuther, con dos estrellas Michelin en su restaurante propio, fue el responsable de lanzar al estrellato gastronómico el restaurante del archiconocido MoMa, ambos en el corazón de la isla de Manhattan, Nueva York. Alta gastronomía francesa fusionada con una de las mejores cartas de vino en la ciudad de Nueva York, un lujo que saben apreciar algunas de las celebrities estadounidenses más famosas, como la querida presentadora Oprah Winfrey.\\n\\nGabriel Kreuther se une a Elena Arzak y su padre, Juan Mari Arzak (3 estrellas Michelin), que han tratado temas tan interesantes en el mundo de la gastronomía como la incursión de la mujer en la alta cocina, o la evolución del famoso pintxo de San Sebastián, Diego Cabrera (The World ́s 50 Best Bars), Martin Berasategui (12 estrellas Michelin), Pedro Subijana (3 estrellas Michelin), los hermanos Torres (2 estrellas Michelin), Víctor Gutiérrez (1 estrella Michelin), Iván Cerdeño (1 estrella Michelin), Paco Roncero (2 estrellas Michelin), Jorge Bonet Juan & Andrea Formentera, Andoni Luis Aduriz (2 estrellas Michelin), Ricardo Sanz Kabuki (4 estrella Michelin), Juan Antonio Medina (1 estrella Michelin), Manuel Domínguez (1 estrella Michelin), Jorge Dávila, Pedro Ballesteros (Master of Wine), Javier Aranda (1 estrella Michelin), Alejandro Montes, Iván Domínguez (1 estrella Michelin), Javi Estévez (1 estrella Michelin).\\n\\nEn cuanto al arte contemporáneo, María Elena Ortiz, una de las principales comisarias de arte en Miami, tanto en su trabajo con el Pérez Art Museum Miami (PAMM), como para la misma ciudad de Miami, incluyendo Miami Beach, donde es parte del comité que aprueba el diseño de las nuevas construcciones. Contará detalles de cómo el arte en Miami fusiona las corrientes del Caribe, América del Sur y EE.UU., una combinación única en el mundo.\\n\\nMaría Elena Ortiz del PAMM, se añade a la lista de los mejores profesionales de la cultura europea: Juana de Aizpuru, fundadora del evento de arte contemporáneo más importante de España, ARCO. La escritora Isabel Allende, en una de sus entrevistas más interesantes, el diseñador de moda Custo Barcelona, Lorenzo Caprile, Louise Jeffreys (directora de Barbican Centre London), Hans Ulrich Obrist (director de The Serpentine Gallery London), Gary Gautier (CEO de la Casa Batlló de Barcelona), Rosa Ferré (Matadero Madrid), Carlos Bardem, Manuel Fontan del Junco (Fundación Juan March), Juan Ignacio Vidarte (Guggenheim), Enrique Loewe y Sheila Loewe, Elena Ruiz Sastre (Museo de Arte Contemporáneo de Ibiza), Cristiano Lovatelli (Francis Bacon Collection), Luis Chillida (director del museo de Eduardo Chillida), Anne Barth (Galería Marlborough) y muchos más.\\n\\nTambién participa uno de los protagonistas del festival de música electrónica más importante del continente europeo, Tomorrowland, Joris Voorn es uno de los artistas que cuenta con escenario propio en el festival y es parte de la nueva temporada de Círculo Fusión. Joris Voorn es uno de los DJ's del momento, por su vinculación a la isla de Ibiza y su repercusión internacional.\\n\\nDj Nano, Dj Pelacha, Dj Tango, Cristian Varela, CHUS+CEBALLOS, Edu Imbernon, Dj Amable, Fernando Fuentes, Belén Chanes, Camilo Franco de Space Ibiz... son algunas de las grandes figuras de la música electrónica que forman parte del proyecto cultural, Círculo Fusión.\\n\\nEstas son algunas de las muchas voces que, próximamente, se podrán escuchar en Círculo Fusión, y que sirven para dar sentido a este proyecto cultural, la colisión en un mismo espacio de las tres disciplinas, que más están innovando en estas primeras décadas del siglo XXI: el arte, la gastronomía y la música. Circulo Fusión vuelve a demostrar que hay un hilo conductor entre ellas, y que cuentan con fuertes nexos en común.\\n\\nLa plataforma cultural se convierte en una fuente de documentación imprescindible sobre la vanguardia de estos tres ámbitos, con más de 70 intervenciones de los más grandes artistas y profesionales de las últimas décadas. Con más 2 millones de personas conectadas a través de los canales Spotify, Facebook, Instagram, Apple iTunes, iVoox y Google Podcast entre otros, Círculo Fusión es el proyecto de creación cultural digital más importante del sur de Europa.\\n\\nPresentado y dirigido por Luis Arranz, economista especializado en marketing, comunicación y eventos. Ha colaborado para varias de las marcas de entretenimiento, turismo y cultura más importantes del mundo. Círculo Fusión surge tras su trabajo con Ferran Adrià y Guy Laliberté (fundador de Cirque Du Soleil) y comienza en 2016 en el icónico Círculo de Bellas Artes de Madrid.\",\n",
       " 'dataType': 'news',\n",
       " 'date': '2020-05-07',\n",
       " 'dateTime': '2020-05-07T15:47:00Z',\n",
       " 'dateTimePub': '2020-05-07T15:22:00Z',\n",
       " 'eventUri': None,\n",
       " 'image': 'http://www.diariosigloxxi.com/images/20537',\n",
       " 'isDuplicate': False,\n",
       " 'lang': 'spa',\n",
       " 'relevance': 100,\n",
       " 'sentiment': None,\n",
       " 'sim': 0,\n",
       " 'source': {'dataType': 'news',\n",
       "  'title': 'Diario Siglo XXI',\n",
       "  'uri': 'diariosigloxxi.com'},\n",
       " 'time': '15:47:00',\n",
       " 'title': 'Círculo Fusión reúne los rostros más destacados del arte, la gastronomía y la música',\n",
       " 'uri': '6059352674',\n",
       " 'url': 'http://www.diariosigloxxi.com/texto-diario/mostrar/1949276/circulo-fusion-reune-rostros-destacados-arte-gastronomia-musica',\n",
       " 'wgt': 326562420}"
      ]
     },
     "execution_count": 22,
     "metadata": {
      "tags": []
     },
     "output_type": "execute_result"
    }
   ],
   "source": [
    "covidNews[0]"
   ]
  },
  {
   "cell_type": "code",
   "execution_count": 0,
   "metadata": {
    "colab": {},
    "colab_type": "code",
    "id": "1ZNxgBxW-uxb"
   },
   "outputs": [],
   "source": []
  }
 ],
 "metadata": {
  "colab": {
   "authorship_tag": "ABX9TyMOpVPMtjtPkUCYt6gdR+5+",
   "name": "COVID-NewsReporting.ipynb",
   "provenance": []
  },
  "kernelspec": {
   "display_name": "Python 3",
   "language": "python",
   "name": "python3"
  },
  "language_info": {
   "codemirror_mode": {
    "name": "ipython",
    "version": 3
   },
   "file_extension": ".py",
   "mimetype": "text/x-python",
   "name": "python",
   "nbconvert_exporter": "python",
   "pygments_lexer": "ipython3",
   "version": "3.7.4"
  }
 },
 "nbformat": 4,
 "nbformat_minor": 1
}
