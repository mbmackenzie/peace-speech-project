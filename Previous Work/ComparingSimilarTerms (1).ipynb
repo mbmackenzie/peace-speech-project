{
 "cells": [
  {
   "cell_type": "code",
   "execution_count": 0,
   "metadata": {
    "colab": {
     "base_uri": "https://localhost:8080/",
     "height": 122
    },
    "colab_type": "code",
    "executionInfo": {
     "elapsed": 31977,
     "status": "ok",
     "timestamp": 1585576175724,
     "user": {
      "displayName": "Manas Amish Dresswala",
      "photoUrl": "https://lh3.googleusercontent.com/a-/AOh14Gh69o2M9nXpFzsYlaunjbCtHhoUxz5CSdo5JC8E=s64",
      "userId": "14098387314810309220"
     },
     "user_tz": 240
    },
    "id": "RZd-vPphTs00",
    "outputId": "d5d4e99c-5a43-4d57-d273-55eb16c1d1a1"
   },
   "outputs": [
    {
     "name": "stdout",
     "output_type": "stream",
     "text": [
      "Go to this URL in a browser: https://accounts.google.com/o/oauth2/auth?client_id=947318989803-6bn6qk8qdgf4n4g3pfee6491hc0brc4i.apps.googleusercontent.com&redirect_uri=urn%3aietf%3awg%3aoauth%3a2.0%3aoob&response_type=code&scope=email%20https%3a%2f%2fwww.googleapis.com%2fauth%2fdocs.test%20https%3a%2f%2fwww.googleapis.com%2fauth%2fdrive%20https%3a%2f%2fwww.googleapis.com%2fauth%2fdrive.photos.readonly%20https%3a%2f%2fwww.googleapis.com%2fauth%2fpeopleapi.readonly\n",
      "\n",
      "Enter your authorization code:\n",
      "··········\n",
      "Mounted at /content/drive/\n"
     ]
    }
   ],
   "source": [
    "from google.colab import drive\n",
    "drive.mount('/content/drive/', force_remount=True)"
   ]
  },
  {
   "cell_type": "code",
   "execution_count": 0,
   "metadata": {
    "colab": {},
    "colab_type": "code",
    "id": "8qIu83xWPFMi"
   },
   "outputs": [],
   "source": [
    "import warnings\n",
    "warnings.filterwarnings('ignore')"
   ]
  },
  {
   "cell_type": "code",
   "execution_count": 0,
   "metadata": {
    "colab": {
     "base_uri": "https://localhost:8080/",
     "height": 105
    },
    "colab_type": "code",
    "executionInfo": {
     "elapsed": 5491,
     "status": "ok",
     "timestamp": 1585576187217,
     "user": {
      "displayName": "Manas Amish Dresswala",
      "photoUrl": "https://lh3.googleusercontent.com/a-/AOh14Gh69o2M9nXpFzsYlaunjbCtHhoUxz5CSdo5JC8E=s64",
      "userId": "14098387314810309220"
     },
     "user_tz": 240
    },
    "id": "jMCpz8nKNSMe",
    "outputId": "f6879952-606a-446b-9e88-4bb117dea680"
   },
   "outputs": [
    {
     "name": "stdout",
     "output_type": "stream",
     "text": [
      "Collecting fuzzywuzzy\n",
      "  Downloading https://files.pythonhosted.org/packages/43/ff/74f23998ad2f93b945c0309f825be92e04e0348e062026998b5eefef4c33/fuzzywuzzy-0.18.0-py2.py3-none-any.whl\n",
      "Installing collected packages: fuzzywuzzy\n",
      "Successfully installed fuzzywuzzy-0.18.0\n"
     ]
    }
   ],
   "source": [
    "!pip install fuzzywuzzy"
   ]
  },
  {
   "cell_type": "code",
   "execution_count": 0,
   "metadata": {
    "colab": {
     "base_uri": "https://localhost:8080/",
     "height": 68
    },
    "colab_type": "code",
    "executionInfo": {
     "elapsed": 743,
     "status": "ok",
     "timestamp": 1585576230001,
     "user": {
      "displayName": "Manas Amish Dresswala",
      "photoUrl": "https://lh3.googleusercontent.com/a-/AOh14Gh69o2M9nXpFzsYlaunjbCtHhoUxz5CSdo5JC8E=s64",
      "userId": "14098387314810309220"
     },
     "user_tz": 240
    },
    "id": "qYN2SNAlPQlr",
    "outputId": "eebae172-aa3c-4d8e-9748-a0787d68b65a"
   },
   "outputs": [
    {
     "name": "stdout",
     "output_type": "stream",
     "text": [
      "[nltk_data] Downloading package punkt to /root/nltk_data...\n",
      "[nltk_data]   Package punkt is already up-to-date!\n"
     ]
    },
    {
     "data": {
      "text/plain": [
       "True"
      ]
     },
     "execution_count": 9,
     "metadata": {
      "tags": []
     },
     "output_type": "execute_result"
    }
   ],
   "source": [
    "# importing libraries\n",
    "import requests\n",
    "import pandas as pd\n",
    "import numpy as np\n",
    "import matplotlib.pyplot as plt\n",
    "\n",
    "from bs4 import BeautifulSoup\n",
    "import requests\n",
    "from fuzzywuzzy import fuzz\n",
    "\n",
    "import nltk\n",
    "from nltk import word_tokenize\n",
    "from nltk import sent_tokenize\n",
    "from nltk.util import ngrams\n",
    "from collections import Counter\n",
    "from nltk import tokenize\n",
    "import re\n",
    "import gensim\n",
    "from gensim.models import Word2Vec\n",
    "nltk.download('punkt')"
   ]
  },
  {
   "cell_type": "code",
   "execution_count": 0,
   "metadata": {
    "colab": {},
    "colab_type": "code",
    "id": "Be_KZDklS68N"
   },
   "outputs": [],
   "source": [
    "# reading the different lexicons and defining negative words\n",
    "negative_words = [\"no\", \"not\", \"not any\", \"none\", \"never\", \"neither\", \"nor\", \"few\", \"hardly\", \"little\", \"scarcely\", \"rarely\", \"seldom\", \"isn't\", \"don't\", \"can't\", \"hadn't\"]\n",
    "\n",
    "xlsx_file = '/content/drive/My Drive/Sustainable-Peace-Project/BBCLexicon.xlsx'\n",
    "dfs = pd.read_excel(xlsx_file)\n",
    "dfs = dfs.drop(['Unnamed: 1','Unnamed: 2','Unnamed: 3'], axis=1)\n",
    "dfs.columns = ['Peace_Lexicon']\n",
    "#preprocessing the peace lexicon words \n",
    "dfs['Peace_Lexicon'] = dfs['Peace_Lexicon'].str.lower()\n",
    "dfs['Peace_Lexicon'] = dfs['Peace_Lexicon'].str.replace(\"_\", \" \")\n",
    "dfs['Peace_Lexicon'] = dfs['Peace_Lexicon'].str.strip()\n",
    "peace_lexicon_list = list(dfs.Peace_Lexicon)\n",
    "\n",
    "conflict_file = '/content/drive/My Drive/Sustainable-Peace-Project/NewsLexicon-Conflict.csv'\n",
    "dfs = pd.read_csv(conflict_file)\n",
    "dfs.columns = ['Conflict_Lexicon']\n",
    "#preprocessing the conflict lexicon words \n",
    "dfs['Conflict_Lexicon'] = dfs['Conflict_Lexicon'].str.lower()\n",
    "dfs['Conflict_Lexicon'] = dfs['Conflict_Lexicon'].str.replace(\"_\", \" \")\n",
    "dfs['Conflict_Lexicon'] = dfs['Conflict_Lexicon'].str.strip()\n",
    "conflict_lexicon_list = list(dfs.Conflict_Lexicon)\n",
    "a\n",
    "nonPeace_file = '/content/drive/My Drive/Sustainable-Peace-Project/non_peaceful.csv'\n",
    "dfs = pd.read_csv(nonPeace_file)\n",
    "dfs.columns = ['NonPeaceful_Lexicon']\n",
    "#preprocessing the non peace lexicon words\n",
    "dfs['NonPeaceful_Lexicon'] = dfs['NonPeaceful_Lexicon'].str.lower()\n",
    "dfs['NonPeaceful_Lexicon'] = dfs['NonPeaceful_Lexicon'].str.replace(\"_\", \" \")\n",
    "dfs['NonPeaceful_Lexicon'] = dfs['NonPeaceful_Lexicon'].str.strip()\n",
    "nonPeace_lexicon_list = list(dfs.NonPeaceful_Lexicon)"
   ]
  },
  {
   "cell_type": "code",
   "execution_count": 0,
   "metadata": {
    "colab": {
     "base_uri": "https://localhost:8080/",
     "height": 54
    },
    "colab_type": "code",
    "executionInfo": {
     "elapsed": 3552,
     "status": "ok",
     "timestamp": 1585576205542,
     "user": {
      "displayName": "Manas Amish Dresswala",
      "photoUrl": "https://lh3.googleusercontent.com/a-/AOh14Gh69o2M9nXpFzsYlaunjbCtHhoUxz5CSdo5JC8E=s64",
      "userId": "14098387314810309220"
     },
     "user_tz": 240
    },
    "id": "ftNhD1aUWbzj",
    "outputId": "41819a86-c879-4026-de54-f94d0b3f89bf"
   },
   "outputs": [
    {
     "data": {
      "text/plain": [
       "' How has your life changed because of the coronavirus? The answer will depend a lot on where you live.  Around half the people in the US have been told to stay at home in a bid to try to stop the spread of the virus. That means tens of millions of other Americans are living under less stringent restrictions. Some are still out gallivanting. Many, though, are hunkering down following social distancing guidance.  Here is a look at how some Americans in very different parts of the country are reacting to their own \"new normal\". Coronavirus cases: 1,247 Restrictions: No state-wide stay-at-home orders but bars and nightclubs are closed and public gatherings over 10 are banned. Making masks for hospital workers Courtney Eidson lives in Sharpsburg, a small rural community south of Atlanta. She\\'s a graphic designer and is staying at home with her husband, a commercial appraiser, and her two sons.   She\\'s angry at the shortage of protective equipment for those on the frontline of the outbreak. \"We\\'ve been caught with our pants down,\" she says. \"At least you should have had enough masks for healthcare workers.\"  Her son Sam, 16, is now working on a Boy Scout project to make surgical masks for a local hospital, creating them from sewing patterns. The whole family is pitching in. Coronavirus cases: 3,023 Restrictions: Residents must stay at home except to perform essential services, buy groceries, take a walk or get medical help.  Biking and beverages  Mark Madeo, 53, a photographer and actor in San Francisco, says that the virus - for all its peril - has helped bring people together. The city is in \"lockdown\", he says, and he is hunkering down in his apartment except for bike rides and twice-daily trips to a liquor store near his house - often for Kombucha. '"
      ]
     },
     "execution_count": 6,
     "metadata": {
      "tags": []
     },
     "output_type": "execute_result"
    }
   ],
   "source": [
    "url = 'https://www.bbc.com/news/world-us-canada-52019510'\n",
    "def bbc_news(url):    \n",
    "    response = requests.get(url, headers={'User-agent': 'Mozilla/5.0 (Windows NT 6.2; WOW64) AppleWebKit/537.36 (KHTML, like Gecko) Chrome/37.0.2062.120 Safari/537.36'})\n",
    "    soup = BeautifulSoup(response.content, \"lxml\")\n",
    "    article = soup.findAll('p') \n",
    "    article = article[12:27]\n",
    "    news_article = \"\"\n",
    "    for a in article:\n",
    "        temp = a.get_text()\n",
    "        news_article = news_article + \" \" + temp\n",
    "    return news_article\n",
    "text = bbc_news(url)\n",
    "text"
   ]
  },
  {
   "cell_type": "code",
   "execution_count": 0,
   "metadata": {
    "colab": {
     "base_uri": "https://localhost:8080/",
     "height": 54
    },
    "colab_type": "code",
    "executionInfo": {
     "elapsed": 1348,
     "status": "ok",
     "timestamp": 1585576209029,
     "user": {
      "displayName": "Manas Amish Dresswala",
      "photoUrl": "https://lh3.googleusercontent.com/a-/AOh14Gh69o2M9nXpFzsYlaunjbCtHhoUxz5CSdo5JC8E=s64",
      "userId": "14098387314810309220"
     },
     "user_tz": 240
    },
    "id": "YfYfJ0BWWzRL",
    "outputId": "cd6b7f4c-b7a3-45dd-f1e9-16001e9f8652"
   },
   "outputs": [
    {
     "data": {
      "text/plain": [
       "\" how has your life changed because of the coronavirus? the answer will depend a lot on where you live.  around half the people in the us have been told to stay at home in a bid to try to stop the spread of the virus. that means tens of millions of other americans are living under less stringent restrictions. some are still out gallivanting. many though are hunkering down following social distancing guidance.  here is a look at how some americans in very different parts of the country are reacting to their own new normal. coronavirus cases: 1247 restrictions: no state-wide stay-at-home orders but bars and nightclubs are closed and public gatherings over 10 are banned. making masks for hospital workers courtney eidson lives in sharpsburg a small rural community south of atlanta. she's a graphic designer and is staying at home with her husband a commercial appraiser and her two sons.   she's angry at the shortage of protective equipment for those on the frontline of the outbreak. we've been caught with our pants down she says. at least you should have had enough masks for healthcare workers.  her son sam 16 is now working on a boy scout project to make surgical masks for a local hospital creating them from sewing patterns. the whole family is pitching in. coronavirus cases: 3023 restrictions: residents must stay at home except to perform essential services buy groceries take a walk or get medical help.  biking and beverages  mark madeo 53 a photographer and actor in san francisco says that the virus - for all its peril - has helped bring people together. the city is in lockdown he says and he is hunkering down in his apartment except for bike rides and twice-daily trips to a liquor store near his house - often for kombucha. \""
      ]
     },
     "execution_count": 7,
     "metadata": {
      "tags": []
     },
     "output_type": "execute_result"
    }
   ],
   "source": [
    "# preprocessing with the text\n",
    "def preprocess_text(text):\n",
    "    text = text.lower()\n",
    "    text = re.sub('[!@#$,\"()'']', '', text.lower())\n",
    "    return(text)\n",
    "text = preprocess_text(text)\n",
    "text"
   ]
  },
  {
   "cell_type": "code",
   "execution_count": 0,
   "metadata": {
    "colab": {},
    "colab_type": "code",
    "id": "gUG0ebZ_EFNb"
   },
   "outputs": [],
   "source": [
    "# iterate through each sentence in the file \n",
    "data = []\n",
    "for i in sent_tokenize(text): \n",
    "    temp = []\n",
    "    # tokenize the sentence into words \n",
    "    for j in word_tokenize(i): \n",
    "        temp.append(j.lower())\n",
    "    data.append(temp)\n",
    "data.append(peace_lexicon_list)\n",
    "\n",
    "model = gensim.models.Word2Vec(data, min_count = 1,  \n",
    "                              size = 100, window = 5, sg = 1)"
   ]
  },
  {
   "cell_type": "code",
   "execution_count": 0,
   "metadata": {
    "colab": {},
    "colab_type": "code",
    "id": "MhljuNEYW2Zg"
   },
   "outputs": [],
   "source": [
    "# functions for finding the peace / non-peace / conflict scores - \n",
    "def peace_score(text):\n",
    "    text = text.lower()\n",
    "    sentences = tokenize.sent_tokenize(text)\n",
    "    words = []\n",
    "    temp = []\n",
    "    for x in sentences:\n",
    "        temp = x.split(' ')\n",
    "        words.append(temp)\n",
    "        temp = []\n",
    "    flag = 0\n",
    "    score = 0\n",
    "    #print(words)\n",
    "    for x in words:\n",
    "        for y in x:\n",
    "            temp = compare_terms(y, peace_lexicon_list)\n",
    "            if y in negative_words and flag == 0:\n",
    "                print(y)\n",
    "                flag = 1\n",
    "            elif temp != None and flag == 0:\n",
    "                print(y + ', ' + temp)\n",
    "                score = score + 1\n",
    "            elif temp != None and flag == 1:\n",
    "                print(y + ', ' + temp)\n",
    "                score = score - 1\n",
    "                flag = 0\n",
    "        flag = 0\n",
    "    return score\n",
    "def compare_terms(term, lexicon):\n",
    "    for i in lexicon:\n",
    "      term = term.strip(' ')\n",
    "      term = term.strip('.')\n",
    "      if term != '' and fuzz.ratio(term, i) > 85 and model.similarity(term, i) > 0.1:\n",
    "        return i"
   ]
  },
  {
   "cell_type": "code",
   "execution_count": 0,
   "metadata": {
    "colab": {
     "base_uri": "https://localhost:8080/",
     "height": 136
    },
    "colab_type": "code",
    "executionInfo": {
     "elapsed": 3906,
     "status": "ok",
     "timestamp": 1585576277104,
     "user": {
      "displayName": "Manas Amish Dresswala",
      "photoUrl": "https://lh3.googleusercontent.com/a-/AOh14Gh69o2M9nXpFzsYlaunjbCtHhoUxz5CSdo5JC8E=s64",
      "userId": "14098387314810309220"
     },
     "user_tz": 240
    },
    "id": "9yKFdCTbW_6Q",
    "outputId": "31bc9b48-b917-4be2-84f5-b20e487555b1"
   },
   "outputs": [
    {
     "name": "stdout",
     "output_type": "stream",
     "text": [
      "no\n",
      "community, community\n",
      "healthcare, healthcare\n",
      "local, local\n",
      "family, family\n",
      "help., help\n"
     ]
    },
    {
     "data": {
      "text/plain": [
       "5"
      ]
     },
     "execution_count": 12,
     "metadata": {
      "tags": []
     },
     "output_type": "execute_result"
    }
   ],
   "source": [
    "peace_score(text)"
   ]
  },
  {
   "cell_type": "code",
   "execution_count": 0,
   "metadata": {
    "colab": {
     "base_uri": "https://localhost:8080/",
     "height": 85
    },
    "colab_type": "code",
    "executionInfo": {
     "elapsed": 4522,
     "status": "ok",
     "timestamp": 1585515573788,
     "user": {
      "displayName": "Manas Amish Dresswala",
      "photoUrl": "https://lh3.googleusercontent.com/a-/AOh14Gh69o2M9nXpFzsYlaunjbCtHhoUxz5CSdo5JC8E=s64",
      "userId": "14098387314810309220"
     },
     "user_tz": 240
    },
    "id": "1RSjuwHqSedU",
    "outputId": "13ecc4e9-0449-4f04-a0a6-ea8df290e8c0"
   },
   "outputs": [
    {
     "name": "stdout",
     "output_type": "stream",
     "text": [
      "don't\n",
      "united, unite\n",
      "concern, concert\n"
     ]
    },
    {
     "data": {
      "text/plain": [
       "2"
      ]
     },
     "execution_count": 70,
     "metadata": {
      "tags": []
     },
     "output_type": "execute_result"
    }
   ],
   "source": [
    "peace_score(text)"
   ]
  },
  {
   "cell_type": "code",
   "execution_count": 0,
   "metadata": {
    "colab": {
     "base_uri": "https://localhost:8080/",
     "height": 307
    },
    "colab_type": "code",
    "executionInfo": {
     "elapsed": 482,
     "status": "error",
     "timestamp": 1585515591093,
     "user": {
      "displayName": "Manas Amish Dresswala",
      "photoUrl": "https://lh3.googleusercontent.com/a-/AOh14Gh69o2M9nXpFzsYlaunjbCtHhoUxz5CSdo5JC8E=s64",
      "userId": "14098387314810309220"
     },
     "user_tz": 240
    },
    "id": "yBv6fFYkF54e",
    "outputId": "bf5e44a7-257c-4e09-f4e5-5d1d0fb0f29a"
   },
   "outputs": [
    {
     "ename": "KeyError",
     "evalue": "ignored",
     "output_type": "error",
     "traceback": [
      "\u001b[0;31m---------------------------------------------------------------------------\u001b[0m",
      "\u001b[0;31mKeyError\u001b[0m                                  Traceback (most recent call last)",
      "\u001b[0;32m<ipython-input-72-31c80ab2eee8>\u001b[0m in \u001b[0;36m<module>\u001b[0;34m()\u001b[0m\n\u001b[0;32m----> 1\u001b[0;31m \u001b[0mpeace_score\u001b[0m\u001b[0;34m(\u001b[0m\u001b[0mtext\u001b[0m\u001b[0;34m)\u001b[0m\u001b[0;34m\u001b[0m\u001b[0;34m\u001b[0m\u001b[0m\n\u001b[0m",
      "\u001b[0;32m<ipython-input-71-c41e7aee6cfd>\u001b[0m in \u001b[0;36mpeace_score\u001b[0;34m(text)\u001b[0m\n\u001b[1;32m     13\u001b[0m     \u001b[0;32mfor\u001b[0m \u001b[0mx\u001b[0m \u001b[0;32min\u001b[0m \u001b[0mwords\u001b[0m\u001b[0;34m:\u001b[0m\u001b[0;34m\u001b[0m\u001b[0;34m\u001b[0m\u001b[0m\n\u001b[1;32m     14\u001b[0m         \u001b[0;32mfor\u001b[0m \u001b[0my\u001b[0m \u001b[0;32min\u001b[0m \u001b[0mx\u001b[0m\u001b[0;34m:\u001b[0m\u001b[0;34m\u001b[0m\u001b[0;34m\u001b[0m\u001b[0m\n\u001b[0;32m---> 15\u001b[0;31m             \u001b[0mtemp\u001b[0m \u001b[0;34m=\u001b[0m \u001b[0mcompare_terms\u001b[0m\u001b[0;34m(\u001b[0m\u001b[0my\u001b[0m\u001b[0;34m,\u001b[0m \u001b[0mpeace_lexicon_list\u001b[0m\u001b[0;34m)\u001b[0m\u001b[0;34m\u001b[0m\u001b[0;34m\u001b[0m\u001b[0m\n\u001b[0m\u001b[1;32m     16\u001b[0m             \u001b[0;32mif\u001b[0m \u001b[0my\u001b[0m \u001b[0;32min\u001b[0m \u001b[0mnegative_words\u001b[0m \u001b[0;32mand\u001b[0m \u001b[0mflag\u001b[0m \u001b[0;34m==\u001b[0m \u001b[0;36m0\u001b[0m\u001b[0;34m:\u001b[0m\u001b[0;34m\u001b[0m\u001b[0;34m\u001b[0m\u001b[0m\n\u001b[1;32m     17\u001b[0m                 \u001b[0mprint\u001b[0m\u001b[0;34m(\u001b[0m\u001b[0my\u001b[0m\u001b[0;34m)\u001b[0m\u001b[0;34m\u001b[0m\u001b[0;34m\u001b[0m\u001b[0m\n",
      "\u001b[0;32m<ipython-input-71-c41e7aee6cfd>\u001b[0m in \u001b[0;36mcompare_terms\u001b[0;34m(term, lexicon)\u001b[0m\n\u001b[1;32m     29\u001b[0m     \u001b[0;32mfor\u001b[0m \u001b[0mi\u001b[0m \u001b[0;32min\u001b[0m \u001b[0mlexicon\u001b[0m\u001b[0;34m:\u001b[0m\u001b[0;34m\u001b[0m\u001b[0;34m\u001b[0m\u001b[0m\n\u001b[1;32m     30\u001b[0m       \u001b[0mterm\u001b[0m \u001b[0;34m=\u001b[0m \u001b[0mterm\u001b[0m\u001b[0;34m.\u001b[0m\u001b[0mstrip\u001b[0m\u001b[0;34m(\u001b[0m\u001b[0;34m'.'\u001b[0m\u001b[0;34m)\u001b[0m\u001b[0;34m\u001b[0m\u001b[0;34m\u001b[0m\u001b[0m\n\u001b[0;32m---> 31\u001b[0;31m       \u001b[0;32mif\u001b[0m \u001b[0mmodel\u001b[0m\u001b[0;34m.\u001b[0m\u001b[0msimilarity\u001b[0m\u001b[0;34m(\u001b[0m\u001b[0mterm\u001b[0m\u001b[0;34m,\u001b[0m \u001b[0mi\u001b[0m\u001b[0;34m)\u001b[0m \u001b[0;34m>\u001b[0m \u001b[0;36m0\u001b[0m\u001b[0;34m:\u001b[0m\u001b[0;34m\u001b[0m\u001b[0;34m\u001b[0m\u001b[0m\n\u001b[0m\u001b[1;32m     32\u001b[0m         \u001b[0;32mreturn\u001b[0m \u001b[0mi\u001b[0m\u001b[0;34m\u001b[0m\u001b[0;34m\u001b[0m\u001b[0m\n",
      "\u001b[0;32m/usr/local/lib/python3.6/dist-packages/gensim/utils.py\u001b[0m in \u001b[0;36mnew_func1\u001b[0;34m(*args, **kwargs)\u001b[0m\n\u001b[1;32m   1420\u001b[0m                     \u001b[0mstacklevel\u001b[0m\u001b[0;34m=\u001b[0m\u001b[0;36m2\u001b[0m\u001b[0;34m\u001b[0m\u001b[0;34m\u001b[0m\u001b[0m\n\u001b[1;32m   1421\u001b[0m                 )\n\u001b[0;32m-> 1422\u001b[0;31m                 \u001b[0;32mreturn\u001b[0m \u001b[0mfunc\u001b[0m\u001b[0;34m(\u001b[0m\u001b[0;34m*\u001b[0m\u001b[0margs\u001b[0m\u001b[0;34m,\u001b[0m \u001b[0;34m**\u001b[0m\u001b[0mkwargs\u001b[0m\u001b[0;34m)\u001b[0m\u001b[0;34m\u001b[0m\u001b[0;34m\u001b[0m\u001b[0m\n\u001b[0m\u001b[1;32m   1423\u001b[0m \u001b[0;34m\u001b[0m\u001b[0m\n\u001b[1;32m   1424\u001b[0m             \u001b[0;32mreturn\u001b[0m \u001b[0mnew_func1\u001b[0m\u001b[0;34m\u001b[0m\u001b[0;34m\u001b[0m\u001b[0m\n",
      "\u001b[0;32m/usr/local/lib/python3.6/dist-packages/gensim/models/base_any2vec.py\u001b[0m in \u001b[0;36msimilarity\u001b[0;34m(self, w1, w2)\u001b[0m\n\u001b[1;32m   1450\u001b[0m \u001b[0;34m\u001b[0m\u001b[0m\n\u001b[1;32m   1451\u001b[0m         \"\"\"\n\u001b[0;32m-> 1452\u001b[0;31m         \u001b[0;32mreturn\u001b[0m \u001b[0mself\u001b[0m\u001b[0;34m.\u001b[0m\u001b[0mwv\u001b[0m\u001b[0;34m.\u001b[0m\u001b[0msimilarity\u001b[0m\u001b[0;34m(\u001b[0m\u001b[0mw1\u001b[0m\u001b[0;34m,\u001b[0m \u001b[0mw2\u001b[0m\u001b[0;34m)\u001b[0m\u001b[0;34m\u001b[0m\u001b[0;34m\u001b[0m\u001b[0m\n\u001b[0m\u001b[1;32m   1453\u001b[0m \u001b[0;34m\u001b[0m\u001b[0m\n\u001b[1;32m   1454\u001b[0m     \u001b[0;34m@\u001b[0m\u001b[0mdeprecated\u001b[0m\u001b[0;34m(\u001b[0m\u001b[0;34m\"Method will be removed in 4.0.0, use self.wv.n_similarity() instead\"\u001b[0m\u001b[0;34m)\u001b[0m\u001b[0;34m\u001b[0m\u001b[0;34m\u001b[0m\u001b[0m\n",
      "\u001b[0;32m/usr/local/lib/python3.6/dist-packages/gensim/models/keyedvectors.py\u001b[0m in \u001b[0;36msimilarity\u001b[0;34m(self, w1, w2)\u001b[0m\n\u001b[1;32m    990\u001b[0m \u001b[0;34m\u001b[0m\u001b[0m\n\u001b[1;32m    991\u001b[0m         \"\"\"\n\u001b[0;32m--> 992\u001b[0;31m         \u001b[0;32mreturn\u001b[0m \u001b[0mdot\u001b[0m\u001b[0;34m(\u001b[0m\u001b[0mmatutils\u001b[0m\u001b[0;34m.\u001b[0m\u001b[0munitvec\u001b[0m\u001b[0;34m(\u001b[0m\u001b[0mself\u001b[0m\u001b[0;34m[\u001b[0m\u001b[0mw1\u001b[0m\u001b[0;34m]\u001b[0m\u001b[0;34m)\u001b[0m\u001b[0;34m,\u001b[0m \u001b[0mmatutils\u001b[0m\u001b[0;34m.\u001b[0m\u001b[0munitvec\u001b[0m\u001b[0;34m(\u001b[0m\u001b[0mself\u001b[0m\u001b[0;34m[\u001b[0m\u001b[0mw2\u001b[0m\u001b[0;34m]\u001b[0m\u001b[0;34m)\u001b[0m\u001b[0;34m)\u001b[0m\u001b[0;34m\u001b[0m\u001b[0;34m\u001b[0m\u001b[0m\n\u001b[0m\u001b[1;32m    993\u001b[0m \u001b[0;34m\u001b[0m\u001b[0m\n\u001b[1;32m    994\u001b[0m     \u001b[0;32mdef\u001b[0m \u001b[0mn_similarity\u001b[0m\u001b[0;34m(\u001b[0m\u001b[0mself\u001b[0m\u001b[0;34m,\u001b[0m \u001b[0mws1\u001b[0m\u001b[0;34m,\u001b[0m \u001b[0mws2\u001b[0m\u001b[0;34m)\u001b[0m\u001b[0;34m:\u001b[0m\u001b[0;34m\u001b[0m\u001b[0;34m\u001b[0m\u001b[0m\n",
      "\u001b[0;32m/usr/local/lib/python3.6/dist-packages/gensim/models/keyedvectors.py\u001b[0m in \u001b[0;36m__getitem__\u001b[0;34m(self, entities)\u001b[0m\n\u001b[1;32m    335\u001b[0m         \u001b[0;32mif\u001b[0m \u001b[0misinstance\u001b[0m\u001b[0;34m(\u001b[0m\u001b[0mentities\u001b[0m\u001b[0;34m,\u001b[0m \u001b[0mstring_types\u001b[0m\u001b[0;34m)\u001b[0m\u001b[0;34m:\u001b[0m\u001b[0;34m\u001b[0m\u001b[0;34m\u001b[0m\u001b[0m\n\u001b[1;32m    336\u001b[0m             \u001b[0;31m# allow calls like trained_model['office'], as a shorthand for trained_model[['office']]\u001b[0m\u001b[0;34m\u001b[0m\u001b[0;34m\u001b[0m\u001b[0;34m\u001b[0m\u001b[0m\n\u001b[0;32m--> 337\u001b[0;31m             \u001b[0;32mreturn\u001b[0m \u001b[0mself\u001b[0m\u001b[0;34m.\u001b[0m\u001b[0mget_vector\u001b[0m\u001b[0;34m(\u001b[0m\u001b[0mentities\u001b[0m\u001b[0;34m)\u001b[0m\u001b[0;34m\u001b[0m\u001b[0;34m\u001b[0m\u001b[0m\n\u001b[0m\u001b[1;32m    338\u001b[0m \u001b[0;34m\u001b[0m\u001b[0m\n\u001b[1;32m    339\u001b[0m         \u001b[0;32mreturn\u001b[0m \u001b[0mvstack\u001b[0m\u001b[0;34m(\u001b[0m\u001b[0;34m[\u001b[0m\u001b[0mself\u001b[0m\u001b[0;34m.\u001b[0m\u001b[0mget_vector\u001b[0m\u001b[0;34m(\u001b[0m\u001b[0mentity\u001b[0m\u001b[0;34m)\u001b[0m \u001b[0;32mfor\u001b[0m \u001b[0mentity\u001b[0m \u001b[0;32min\u001b[0m \u001b[0mentities\u001b[0m\u001b[0;34m]\u001b[0m\u001b[0;34m)\u001b[0m\u001b[0;34m\u001b[0m\u001b[0;34m\u001b[0m\u001b[0m\n",
      "\u001b[0;32m/usr/local/lib/python3.6/dist-packages/gensim/models/keyedvectors.py\u001b[0m in \u001b[0;36mget_vector\u001b[0;34m(self, word)\u001b[0m\n\u001b[1;32m    453\u001b[0m \u001b[0;34m\u001b[0m\u001b[0m\n\u001b[1;32m    454\u001b[0m     \u001b[0;32mdef\u001b[0m \u001b[0mget_vector\u001b[0m\u001b[0;34m(\u001b[0m\u001b[0mself\u001b[0m\u001b[0;34m,\u001b[0m \u001b[0mword\u001b[0m\u001b[0;34m)\u001b[0m\u001b[0;34m:\u001b[0m\u001b[0;34m\u001b[0m\u001b[0;34m\u001b[0m\u001b[0m\n\u001b[0;32m--> 455\u001b[0;31m         \u001b[0;32mreturn\u001b[0m \u001b[0mself\u001b[0m\u001b[0;34m.\u001b[0m\u001b[0mword_vec\u001b[0m\u001b[0;34m(\u001b[0m\u001b[0mword\u001b[0m\u001b[0;34m)\u001b[0m\u001b[0;34m\u001b[0m\u001b[0;34m\u001b[0m\u001b[0m\n\u001b[0m\u001b[1;32m    456\u001b[0m \u001b[0;34m\u001b[0m\u001b[0m\n\u001b[1;32m    457\u001b[0m     \u001b[0;32mdef\u001b[0m \u001b[0mwords_closer_than\u001b[0m\u001b[0;34m(\u001b[0m\u001b[0mself\u001b[0m\u001b[0;34m,\u001b[0m \u001b[0mw1\u001b[0m\u001b[0;34m,\u001b[0m \u001b[0mw2\u001b[0m\u001b[0;34m)\u001b[0m\u001b[0;34m:\u001b[0m\u001b[0;34m\u001b[0m\u001b[0;34m\u001b[0m\u001b[0m\n",
      "\u001b[0;32m/usr/local/lib/python3.6/dist-packages/gensim/models/keyedvectors.py\u001b[0m in \u001b[0;36mword_vec\u001b[0;34m(self, word, use_norm)\u001b[0m\n\u001b[1;32m    450\u001b[0m             \u001b[0;32mreturn\u001b[0m \u001b[0mresult\u001b[0m\u001b[0;34m\u001b[0m\u001b[0;34m\u001b[0m\u001b[0m\n\u001b[1;32m    451\u001b[0m         \u001b[0;32melse\u001b[0m\u001b[0;34m:\u001b[0m\u001b[0;34m\u001b[0m\u001b[0;34m\u001b[0m\u001b[0m\n\u001b[0;32m--> 452\u001b[0;31m             \u001b[0;32mraise\u001b[0m \u001b[0mKeyError\u001b[0m\u001b[0;34m(\u001b[0m\u001b[0;34m\"word '%s' not in vocabulary\"\u001b[0m \u001b[0;34m%\u001b[0m \u001b[0mword\u001b[0m\u001b[0;34m)\u001b[0m\u001b[0;34m\u001b[0m\u001b[0;34m\u001b[0m\u001b[0m\n\u001b[0m\u001b[1;32m    453\u001b[0m \u001b[0;34m\u001b[0m\u001b[0m\n\u001b[1;32m    454\u001b[0m     \u001b[0;32mdef\u001b[0m \u001b[0mget_vector\u001b[0m\u001b[0;34m(\u001b[0m\u001b[0mself\u001b[0m\u001b[0;34m,\u001b[0m \u001b[0mword\u001b[0m\u001b[0;34m)\u001b[0m\u001b[0;34m:\u001b[0m\u001b[0;34m\u001b[0m\u001b[0;34m\u001b[0m\u001b[0m\n",
      "\u001b[0;31mKeyError\u001b[0m: \"word '' not in vocabulary\""
     ]
    }
   ],
   "source": [
    "peace_score(text)"
   ]
  },
  {
   "cell_type": "code",
   "execution_count": 0,
   "metadata": {
    "colab": {},
    "colab_type": "code",
    "id": "q5aHeJXQF_Hi"
   },
   "outputs": [],
   "source": []
  }
 ],
 "metadata": {
  "colab": {
   "authorship_tag": "ABX9TyM9WKHwx3Xd2ZNz+US/tVVY",
   "collapsed_sections": [],
   "name": "ComparingSimilarTerms.ipynb",
   "provenance": []
  },
  "kernelspec": {
   "display_name": "Python 3",
   "language": "python",
   "name": "python3"
  },
  "language_info": {
   "codemirror_mode": {
    "name": "ipython",
    "version": 3
   },
   "file_extension": ".py",
   "mimetype": "text/x-python",
   "name": "python",
   "nbconvert_exporter": "python",
   "pygments_lexer": "ipython3",
   "version": "3.7.4"
  }
 },
 "nbformat": 4,
 "nbformat_minor": 1
}
