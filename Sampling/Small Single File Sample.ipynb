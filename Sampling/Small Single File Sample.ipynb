{
 "cells": [
  {
   "cell_type": "code",
   "execution_count": 1,
   "metadata": {},
   "outputs": [
    {
     "data": {
      "text/plain": [
       "'C:\\\\Users\\\\mattb\\\\Documents\\\\GitHub\\\\peace-speech-project\\\\data\\\\clean_sample'"
      ]
     },
     "execution_count": 1,
     "metadata": {},
     "output_type": "execute_result"
    }
   ],
   "source": [
    "import os\n",
    "import glob\n",
    "import pathlib\n",
    "from datetime import datetime\n",
    "\n",
    "from tqdm import tqdm\n",
    "\n",
    "import numpy as np\n",
    "import pandas as pd\n",
    "\n",
    "# CLEAN_DATA_FOLDER = os.path.join(\"/Users\", \"mmackenzie\", \"Data\", \"peace-speech-project\", \"clean_sample\")\n",
    "CLEAN_DATA_FOLDER = r\"C:\\Users\\mattb\\Documents\\GitHub\\peace-speech-project\\data\\clean_sample\"\n",
    "CLEAN_DATA_FOLDER"
   ]
  },
  {
   "cell_type": "code",
   "execution_count": 2,
   "metadata": {},
   "outputs": [],
   "source": [
    "def get_countries(): \n",
    "    country_folders = glob.glob(os.path.join(CLEAN_DATA_FOLDER, \"*/\"))\n",
    "    return [pathlib.Path(x).parts[-1] for x in country_folders]\n",
    "\n",
    "def get_all_files(country: str, publisher=\"*\", year=\"*\"):\n",
    "    text_files = glob.glob(os.path.join(CLEAN_DATA_FOLDER, country, publisher, year, \"*.txt\"))\n",
    "    return [os.path.join(*pathlib.Path(x).parts[-4:]) for x in text_files]\n",
    "\n",
    "def clean_file_name(file_name):\n",
    "    id_, _, date = file_name[:-4].split(\"_\")\n",
    "    month = datetime.strptime(date, \"%d-%m-%y\").month\n",
    "    return (month, id_)\n",
    "\n",
    "def get_details_from_path(file_path):\n",
    "    parts = pathlib.Path(file_path).parts[-4:]\n",
    "    extra = clean_file_name(parts[-1])\n",
    "    names = [\"country\", \"publisher\", \"year\", \"month\", \"id\"]\n",
    "    return pd.Series(\n",
    "        (*parts[:-1], *extra),\n",
    "        index=names\n",
    "    )\n",
    "\n",
    "def get_text_from_file(file_path, path=CLEAN_DATA_FOLDER):\n",
    "    with open(os.path.join(path, file_path), \"r\", encoding=\"ISO-8859-1\") as f:\n",
    "        lines = f.readlines()\n",
    "        f.close()\n",
    "        \n",
    "    title = lines[1].strip()\n",
    "    text = lines[-1].strip()\n",
    "        \n",
    "        \n",
    "    return pd.Series(\n",
    "        (title, text),\n",
    "        index=[\"title\", \"text\"]\n",
    "    )"
   ]
  },
  {
   "cell_type": "code",
   "execution_count": 3,
   "metadata": {},
   "outputs": [
    {
     "name": "stderr",
     "output_type": "stream",
     "text": [
      "Finding files: 100%|███████████████████████████████████████████████████████████████████| 20/20 [01:01<00:00,  3.05s/it]\n"
     ]
    }
   ],
   "source": [
    "countries = get_countries()\n",
    "article_paths = []\n",
    "for country in tqdm(countries, desc=\"Finding files\"):\n",
    "    article_paths.append(pd.Series(get_all_files(country)))\n",
    "    \n",
    "articles = pd.concat(article_paths).rename(\"path\")"
   ]
  },
  {
   "cell_type": "code",
   "execution_count": 8,
   "metadata": {},
   "outputs": [
    {
     "name": "stderr",
     "output_type": "stream",
     "text": [
      "C:\\Users\\mattb\\Miniconda3\\envs\\peace\\lib\\site-packages\\tqdm\\std.py:697: FutureWarning: The Panel class is removed from pandas. Accessing it from the top-level namespace will also be removed in the next version\n",
      "  from pandas import Panel\n",
      "Getting details: 100%|█████████████████████████████████████████████████████| 1415825/1415825 [07:04<00:00, 3335.10it/s]\n"
     ]
    }
   ],
   "source": [
    "tqdm.pandas(desc=\"Getting details\")\n",
    "path_details = articles.progress_apply(get_details_from_path).reset_index(drop=True)\n",
    "path_details = path_details.join(articles.reset_index(drop=True))"
   ]
  },
  {
   "cell_type": "code",
   "execution_count": 9,
   "metadata": {},
   "outputs": [],
   "source": [
    "sample_counts = path_details.groupby(\n",
    "    [\"country\", \"publisher\", \"year\"]\n",
    ").size().rename(\"num_articles\").reset_index()"
   ]
  },
  {
   "cell_type": "code",
   "execution_count": 10,
   "metadata": {},
   "outputs": [
    {
     "data": {
      "text/html": [
       "<div>\n",
       "<style scoped>\n",
       "    .dataframe tbody tr th:only-of-type {\n",
       "        vertical-align: middle;\n",
       "    }\n",
       "\n",
       "    .dataframe tbody tr th {\n",
       "        vertical-align: top;\n",
       "    }\n",
       "\n",
       "    .dataframe thead th {\n",
       "        text-align: right;\n",
       "    }\n",
       "</style>\n",
       "<table border=\"1\" class=\"dataframe\">\n",
       "  <thead>\n",
       "    <tr style=\"text-align: right;\">\n",
       "      <th></th>\n",
       "      <th>country</th>\n",
       "      <th>year</th>\n",
       "      <th>publisher</th>\n",
       "      <th>total_articles</th>\n",
       "      <th>sampled_articles</th>\n",
       "    </tr>\n",
       "  </thead>\n",
       "  <tbody>\n",
       "    <tr>\n",
       "      <th>0</th>\n",
       "      <td>AU</td>\n",
       "      <td>2010</td>\n",
       "      <td>abc-local</td>\n",
       "      <td>248</td>\n",
       "      <td>62</td>\n",
       "    </tr>\n",
       "    <tr>\n",
       "      <th>1</th>\n",
       "      <td>AU</td>\n",
       "      <td>2010</td>\n",
       "      <td>abc-online</td>\n",
       "      <td>2010</td>\n",
       "      <td>503</td>\n",
       "    </tr>\n",
       "    <tr>\n",
       "      <th>2</th>\n",
       "      <td>AU</td>\n",
       "      <td>2010</td>\n",
       "      <td>adnews</td>\n",
       "      <td>5</td>\n",
       "      <td>1</td>\n",
       "    </tr>\n",
       "    <tr>\n",
       "      <th>3</th>\n",
       "      <td>AU</td>\n",
       "      <td>2010</td>\n",
       "      <td>architecture-and-design</td>\n",
       "      <td>108</td>\n",
       "      <td>27</td>\n",
       "    </tr>\n",
       "    <tr>\n",
       "      <th>4</th>\n",
       "      <td>AU</td>\n",
       "      <td>2010</td>\n",
       "      <td>australian-personal-computer</td>\n",
       "      <td>193</td>\n",
       "      <td>48</td>\n",
       "    </tr>\n",
       "  </tbody>\n",
       "</table>\n",
       "</div>"
      ],
      "text/plain": [
       "  country  year                     publisher  total_articles  \\\n",
       "0      AU  2010                     abc-local             248   \n",
       "1      AU  2010                    abc-online            2010   \n",
       "2      AU  2010                        adnews               5   \n",
       "3      AU  2010       architecture-and-design             108   \n",
       "4      AU  2010  australian-personal-computer             193   \n",
       "\n",
       "   sampled_articles  \n",
       "0                62  \n",
       "1               503  \n",
       "2                 1  \n",
       "3                27  \n",
       "4                48  "
      ]
     },
     "execution_count": 10,
     "metadata": {},
     "output_type": "execute_result"
    }
   ],
   "source": [
    "CAP = 2500\n",
    "\n",
    "def get_num_samples(x, num_samples):\n",
    "    pct, max_ = x[\"pct\"], x[\"total_articles\"]\n",
    "    n = int(np.around(num_samples * pct))\n",
    "    if n > max_:\n",
    "        n = max_\n",
    "        \n",
    "    return n if n > 0 else 1\n",
    "\n",
    "sampled_counts = []\n",
    "for country, country_df in sample_counts.groupby(\"country\"):\n",
    "    \n",
    "    articles_by_year = country_df.groupby(\"year\")[\"num_articles\"].sum()\n",
    "    \n",
    "    num_to_sample = CAP\n",
    "#     num_to_sample = np.min([CAP, num_to_sample])\n",
    "    \n",
    "    # Going through each year at a time per country. \n",
    "    for year, year_df in country_df.groupby(\"year\"):\n",
    "        publishers = year_df.groupby(\"publisher\")[\"num_articles\"].sum().reset_index()\n",
    "        publishers[\"country\"] = country\n",
    "        publishers[\"year\"] = year\n",
    "        \n",
    "        publishers[\"pct\"] = publishers.num_articles / publishers.num_articles.sum()\n",
    "        publishers[\"total_articles\"] = publishers.num_articles\n",
    "        \n",
    "        publishers[\"sampled_articles\"] = publishers.apply(\n",
    "            get_num_samples, axis=1, num_samples=num_to_sample\n",
    "        )\n",
    "    \n",
    "        sampled_counts.append(publishers[[\n",
    "            \"country\", \"year\", \"publisher\", \"total_articles\", \"sampled_articles\"\n",
    "         ]].copy())\n",
    "        \n",
    "small_sample = pd.concat(sampled_counts)\n",
    "small_sample.head()"
   ]
  },
  {
   "cell_type": "code",
   "execution_count": 11,
   "metadata": {},
   "outputs": [
    {
     "name": "stdout",
     "output_type": "stream",
     "text": [
      "total_articles      1,415,825\n",
      "sampled_articles      483,870\n",
      "dtype: object\n"
     ]
    }
   ],
   "source": [
    "print(small_sample[[\"total_articles\", \"sampled_articles\"]].sum().apply(lambda x: f\"{x:,d}\"))"
   ]
  },
  {
   "cell_type": "code",
   "execution_count": 12,
   "metadata": {},
   "outputs": [
    {
     "name": "stderr",
     "output_type": "stream",
     "text": [
      "Getting details: 100%|██████████████████████████████████████████████████████████| 14288/14288 [00:57<00:00, 246.39it/s]\n"
     ]
    },
    {
     "data": {
      "text/html": [
       "<div>\n",
       "<style scoped>\n",
       "    .dataframe tbody tr th:only-of-type {\n",
       "        vertical-align: middle;\n",
       "    }\n",
       "\n",
       "    .dataframe tbody tr th {\n",
       "        vertical-align: top;\n",
       "    }\n",
       "\n",
       "    .dataframe thead th {\n",
       "        text-align: right;\n",
       "    }\n",
       "</style>\n",
       "<table border=\"1\" class=\"dataframe\">\n",
       "  <thead>\n",
       "    <tr style=\"text-align: right;\">\n",
       "      <th></th>\n",
       "      <th>country</th>\n",
       "      <th>publisher</th>\n",
       "      <th>year</th>\n",
       "      <th>id</th>\n",
       "      <th>path</th>\n",
       "    </tr>\n",
       "  </thead>\n",
       "  <tbody>\n",
       "    <tr>\n",
       "      <th>0</th>\n",
       "      <td>AU</td>\n",
       "      <td>9honey</td>\n",
       "      <td>2016</td>\n",
       "      <td>4</td>\n",
       "      <td>AU\\9honey\\2016\\16005675_AU_20-12-16.txt</td>\n",
       "    </tr>\n",
       "    <tr>\n",
       "      <th>1</th>\n",
       "      <td>AU</td>\n",
       "      <td>9honey</td>\n",
       "      <td>2016</td>\n",
       "      <td>3</td>\n",
       "      <td>AU\\9honey\\2016\\15895978_AU_13-12-16.txt</td>\n",
       "    </tr>\n",
       "    <tr>\n",
       "      <th>2</th>\n",
       "      <td>AU</td>\n",
       "      <td>9honey</td>\n",
       "      <td>2017</td>\n",
       "      <td>49</td>\n",
       "      <td>AU\\9honey\\2017\\18514519_AU_18-05-17.txt</td>\n",
       "    </tr>\n",
       "    <tr>\n",
       "      <th>3</th>\n",
       "      <td>AU</td>\n",
       "      <td>9honey</td>\n",
       "      <td>2017</td>\n",
       "      <td>104</td>\n",
       "      <td>AU\\9honey\\2017\\21657914_AU_13-11-17.txt</td>\n",
       "    </tr>\n",
       "    <tr>\n",
       "      <th>4</th>\n",
       "      <td>AU</td>\n",
       "      <td>9honey</td>\n",
       "      <td>2017</td>\n",
       "      <td>8</td>\n",
       "      <td>AU\\9honey\\2017\\16640224_AU_29-01-17.txt</td>\n",
       "    </tr>\n",
       "  </tbody>\n",
       "</table>\n",
       "</div>"
      ],
      "text/plain": [
       "  country publisher  year   id                                     path\n",
       "0      AU    9honey  2016    4  AU\\9honey\\2016\\16005675_AU_20-12-16.txt\n",
       "1      AU    9honey  2016    3  AU\\9honey\\2016\\15895978_AU_13-12-16.txt\n",
       "2      AU    9honey  2017   49  AU\\9honey\\2017\\18514519_AU_18-05-17.txt\n",
       "3      AU    9honey  2017  104  AU\\9honey\\2017\\21657914_AU_13-11-17.txt\n",
       "4      AU    9honey  2017    8  AU\\9honey\\2017\\16640224_AU_29-01-17.txt"
      ]
     },
     "execution_count": 12,
     "metadata": {},
     "output_type": "execute_result"
    }
   ],
   "source": [
    "import sys\n",
    "def sample_paths(x):\n",
    "    country, publisher, year = x.iloc[0, :3]\n",
    "    to_sample = small_sample.loc[\n",
    "        (small_sample.country == country) &\n",
    "        (small_sample.publisher == publisher) &\n",
    "        (small_sample.year == year)\n",
    "    ].iloc[0, -1]\n",
    "    \n",
    "    return x.sample(to_sample)[\"path\"]\n",
    "    sys.exit()\n",
    "\n",
    "paths_to_sample = path_details.groupby([\"country\", \"publisher\", \"year\"]).progress_apply(sample_paths)\n",
    "paths_to_sample = paths_to_sample.reset_index().rename(columns={\"level_3\": \"id\"})\n",
    "paths_to_sample.head()"
   ]
  },
  {
   "cell_type": "code",
   "execution_count": 13,
   "metadata": {},
   "outputs": [
    {
     "name": "stderr",
     "output_type": "stream",
     "text": [
      "Getting details: 100%|███████████████████████████████████████████████████████| 483870/483870 [05:54<00:00, 1363.25it/s]\n"
     ]
    }
   ],
   "source": [
    "text = paths_to_sample.path.progress_apply(get_text_from_file)"
   ]
  },
  {
   "cell_type": "code",
   "execution_count": 14,
   "metadata": {},
   "outputs": [],
   "source": [
    "paths_to_sample.join(text).to_csv(\"../data/medium_sample_text.csv\", index=False)"
   ]
  },
  {
   "cell_type": "code",
   "execution_count": 15,
   "metadata": {},
   "outputs": [
    {
     "data": {
      "text/html": [
       "<div>\n",
       "<style scoped>\n",
       "    .dataframe tbody tr th:only-of-type {\n",
       "        vertical-align: middle;\n",
       "    }\n",
       "\n",
       "    .dataframe tbody tr th {\n",
       "        vertical-align: top;\n",
       "    }\n",
       "\n",
       "    .dataframe thead th {\n",
       "        text-align: right;\n",
       "    }\n",
       "</style>\n",
       "<table border=\"1\" class=\"dataframe\">\n",
       "  <thead>\n",
       "    <tr style=\"text-align: right;\">\n",
       "      <th></th>\n",
       "      <th>country</th>\n",
       "      <th>publisher</th>\n",
       "      <th>year</th>\n",
       "      <th>id</th>\n",
       "      <th>text</th>\n",
       "      <th>n_words</th>\n",
       "    </tr>\n",
       "  </thead>\n",
       "  <tbody>\n",
       "    <tr>\n",
       "      <th>0</th>\n",
       "      <td>AU</td>\n",
       "      <td>9honey</td>\n",
       "      <td>2016</td>\n",
       "      <td>4</td>\n",
       "      <td>meghan markle target cruel topless photo leak ...</td>\n",
       "      <td>181</td>\n",
       "    </tr>\n",
       "    <tr>\n",
       "      <th>1</th>\n",
       "      <td>AU</td>\n",
       "      <td>9honey</td>\n",
       "      <td>2016</td>\n",
       "      <td>3</td>\n",
       "      <td>kid go viral perfect review london chicken sho...</td>\n",
       "      <td>187</td>\n",
       "    </tr>\n",
       "    <tr>\n",
       "      <th>2</th>\n",
       "      <td>AU</td>\n",
       "      <td>9honey</td>\n",
       "      <td>2017</td>\n",
       "      <td>49</td>\n",
       "      <td>look come today blow dry bubble stunningjasyar...</td>\n",
       "      <td>81</td>\n",
       "    </tr>\n",
       "    <tr>\n",
       "      <th>3</th>\n",
       "      <td>AU</td>\n",
       "      <td>9honey</td>\n",
       "      <td>2017</td>\n",
       "      <td>104</td>\n",
       "      <td>mum four try one last baby mother four mary mc...</td>\n",
       "      <td>253</td>\n",
       "    </tr>\n",
       "    <tr>\n",
       "      <th>4</th>\n",
       "      <td>AU</td>\n",
       "      <td>9honey</td>\n",
       "      <td>2017</td>\n",
       "      <td>8</td>\n",
       "      <td>'s amazing love good haircut first meet bindi ...</td>\n",
       "      <td>73</td>\n",
       "    </tr>\n",
       "  </tbody>\n",
       "</table>\n",
       "</div>"
      ],
      "text/plain": [
       "  country publisher  year   id  \\\n",
       "0      AU    9honey  2016    4   \n",
       "1      AU    9honey  2016    3   \n",
       "2      AU    9honey  2017   49   \n",
       "3      AU    9honey  2017  104   \n",
       "4      AU    9honey  2017    8   \n",
       "\n",
       "                                                text  n_words  \n",
       "0  meghan markle target cruel topless photo leak ...      181  \n",
       "1  kid go viral perfect review london chicken sho...      187  \n",
       "2  look come today blow dry bubble stunningjasyar...       81  \n",
       "3  mum four try one last baby mother four mary mc...      253  \n",
       "4  's amazing love good haircut first meet bindi ...       73  "
      ]
     },
     "execution_count": 15,
     "metadata": {},
     "output_type": "execute_result"
    }
   ],
   "source": [
    "text_df = paths_to_sample.join(text)[[\"country\", \"publisher\", \"year\", \"id\", \"text\"]]\n",
    "text_df[\"n_words\"] = text_df.text.str.split().str.len()\n",
    "\n",
    "text_df.head()"
   ]
  },
  {
   "cell_type": "code",
   "execution_count": null,
   "metadata": {},
   "outputs": [],
   "source": []
  }
 ],
 "metadata": {
  "kernelspec": {
   "display_name": "Python 3",
   "language": "python",
   "name": "python3"
  },
  "language_info": {
   "codemirror_mode": {
    "name": "ipython",
    "version": 3
   },
   "file_extension": ".py",
   "mimetype": "text/x-python",
   "name": "python",
   "nbconvert_exporter": "python",
   "pygments_lexer": "ipython3",
   "version": "3.8.5"
  }
 },
 "nbformat": 4,
 "nbformat_minor": 4
}
