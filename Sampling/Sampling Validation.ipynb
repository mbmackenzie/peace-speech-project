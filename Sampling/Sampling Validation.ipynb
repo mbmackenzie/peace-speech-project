{
 "cells": [
  {
   "cell_type": "code",
   "execution_count": 5,
   "metadata": {},
   "outputs": [],
   "source": [
    "import os\n",
    "import glob\n",
    "import pathlib\n",
    "from datetime import datetime\n",
    "\n",
    "from tqdm import tqdm\n",
    "import pandas as pd\n",
    "\n",
    "CLEAN_DATA_FOLDER = os.path.join(\"..\", \"data\", \"clean\")"
   ]
  },
  {
   "cell_type": "code",
   "execution_count": 35,
   "metadata": {},
   "outputs": [],
   "source": [
    "def get_countries(): \n",
    "    country_folders = glob.glob(os.path.join(CLEAN_DATA_FOLDER, \"*/\"))\n",
    "    return [pathlib.Path(x).parts[-1] for x in country_folders]\n",
    "\n",
    "def get_all_files(country: str, publisher=\"*\", year=\"*\"):\n",
    "    text_files = glob.glob(os.path.join(CLEAN_DATA_FOLDER, country, publisher, year, \"*.txt\"))\n",
    "    return [os.path.join(*pathlib.Path(x).parts[-4:]) for x in text_files]\n",
    "\n",
    "def clean_file_name(file_name):\n",
    "    id_, _, date = file_name[:-4].split(\"_\")\n",
    "    month = datetime.strptime(date, \"%d-%m-%y\").month\n",
    "    return (month, id_)\n",
    "\n",
    "def get_details_from_path(file_path):\n",
    "    parts = pathlib.Path(file_path).parts[-4:]\n",
    "    extra = clean_file_name(parts[-1])\n",
    "    names = [\"country\", \"publisher\", \"year\", \"month\", \"id\"]\n",
    "    return pd.Series(\n",
    "        (*parts[:-1], *extra),\n",
    "        index=names\n",
    "    )\n",
    "\n",
    "def get_details_from_file(file_path, path=CLEAN_DATA_FOLDER):\n",
    "    with open(os.path.join(path, file_path), \"r\", encoding=\"ISO-8859-1\") as f:\n",
    "        lines = f.readlines()\n",
    "        f.close()\n",
    "        \n",
    "    id_ = lines[0].strip()\n",
    "    publisher = lines[2].strip()\n",
    "    has_text = bool(lines[-1].strip())\n",
    "        \n",
    "        \n",
    "    return pd.Series(\n",
    "        (id_, publisher, has_text),\n",
    "        index=[\"article_id\", \"article_publisher\", \"has_text\"]\n",
    "    )"
   ]
  },
  {
   "cell_type": "code",
   "execution_count": 13,
   "metadata": {},
   "outputs": [
    {
     "name": "stderr",
     "output_type": "stream",
     "text": [
      "100%|██████████████████████████████████████████████████████████████████████████████████| 20/20 [00:23<00:00,  1.15s/it]\n"
     ]
    }
   ],
   "source": [
    "countries = get_countries()\n",
    "sampled_article_paths = []\n",
    "for country in tqdm(countries):\n",
    "    sampled_article_paths.append(pd.Series(get_all_files(country)))\n",
    "    \n",
    "sampled_articles = pd.concat(sampled_article_paths).rename(\"path\")"
   ]
  },
  {
   "cell_type": "code",
   "execution_count": 16,
   "metadata": {},
   "outputs": [
    {
     "name": "stderr",
     "output_type": "stream",
     "text": [
      "C:\\Users\\mattb\\Miniconda3\\envs\\peace\\lib\\site-packages\\tqdm\\std.py:697: FutureWarning: The Panel class is removed from pandas. Accessing it from the top-level namespace will also be removed in the next version\n",
      "  from pandas import Panel\n",
      "100%|██████████████████████████████████████████████████████████████████████| 1464949/1464949 [06:34<00:00, 3709.60it/s]\n"
     ]
    }
   ],
   "source": [
    "tqdm.pandas()\n",
    "path_details = sampled_articles.progress_apply(get_details_from_path).reset_index(drop=True)\n",
    "in_file_details = sampled_articles.progress_apply(get_details_from_file).reset_index(drop=True)"
   ]
  },
  {
   "cell_type": "code",
   "execution_count": 55,
   "metadata": {},
   "outputs": [],
   "source": [
    "sampled_articles_details = path_details.join(in_file_details)\n",
    "sampled_articles_details[\"path\"] = sampled_articles.values\n",
    "sampled_articles_details.to_csv(\"../data/actual_sampled_articles.csv\", index=False)"
   ]
  },
  {
   "cell_type": "code",
   "execution_count": 56,
   "metadata": {},
   "outputs": [
    {
     "name": "stdout",
     "output_type": "stream",
     "text": [
      "(1464949, 9)\n"
     ]
    },
    {
     "data": {
      "text/html": [
       "<div>\n",
       "<style scoped>\n",
       "    .dataframe tbody tr th:only-of-type {\n",
       "        vertical-align: middle;\n",
       "    }\n",
       "\n",
       "    .dataframe tbody tr th {\n",
       "        vertical-align: top;\n",
       "    }\n",
       "\n",
       "    .dataframe thead th {\n",
       "        text-align: right;\n",
       "    }\n",
       "</style>\n",
       "<table border=\"1\" class=\"dataframe\">\n",
       "  <thead>\n",
       "    <tr style=\"text-align: right;\">\n",
       "      <th></th>\n",
       "      <th>country</th>\n",
       "      <th>publisher</th>\n",
       "      <th>year</th>\n",
       "      <th>month</th>\n",
       "      <th>id</th>\n",
       "      <th>article_id</th>\n",
       "      <th>article_publisher</th>\n",
       "      <th>has_text</th>\n",
       "      <th>path</th>\n",
       "    </tr>\n",
       "  </thead>\n",
       "  <tbody>\n",
       "    <tr>\n",
       "      <th>0</th>\n",
       "      <td>AU</td>\n",
       "      <td>9honey</td>\n",
       "      <td>2016</td>\n",
       "      <td>12</td>\n",
       "      <td>15732244</td>\n",
       "      <td>15732244</td>\n",
       "      <td>9Honey</td>\n",
       "      <td>True</td>\n",
       "      <td>AU\\9honey\\2016\\15732244_AU_04-12-16.txt</td>\n",
       "    </tr>\n",
       "    <tr>\n",
       "      <th>1</th>\n",
       "      <td>AU</td>\n",
       "      <td>9honey</td>\n",
       "      <td>2016</td>\n",
       "      <td>12</td>\n",
       "      <td>15849634</td>\n",
       "      <td>15849634</td>\n",
       "      <td>9Honey</td>\n",
       "      <td>True</td>\n",
       "      <td>AU\\9honey\\2016\\15849634_AU_11-12-16.txt</td>\n",
       "    </tr>\n",
       "    <tr>\n",
       "      <th>2</th>\n",
       "      <td>AU</td>\n",
       "      <td>9honey</td>\n",
       "      <td>2016</td>\n",
       "      <td>12</td>\n",
       "      <td>15855997</td>\n",
       "      <td>15855997</td>\n",
       "      <td>9Honey</td>\n",
       "      <td>True</td>\n",
       "      <td>AU\\9honey\\2016\\15855997_AU_11-12-16.txt</td>\n",
       "    </tr>\n",
       "    <tr>\n",
       "      <th>3</th>\n",
       "      <td>AU</td>\n",
       "      <td>9honey</td>\n",
       "      <td>2016</td>\n",
       "      <td>12</td>\n",
       "      <td>15895978</td>\n",
       "      <td>15895978</td>\n",
       "      <td>9Honey</td>\n",
       "      <td>True</td>\n",
       "      <td>AU\\9honey\\2016\\15895978_AU_13-12-16.txt</td>\n",
       "    </tr>\n",
       "    <tr>\n",
       "      <th>4</th>\n",
       "      <td>AU</td>\n",
       "      <td>9honey</td>\n",
       "      <td>2016</td>\n",
       "      <td>12</td>\n",
       "      <td>16005675</td>\n",
       "      <td>16005675</td>\n",
       "      <td>9Honey</td>\n",
       "      <td>True</td>\n",
       "      <td>AU\\9honey\\2016\\16005675_AU_20-12-16.txt</td>\n",
       "    </tr>\n",
       "  </tbody>\n",
       "</table>\n",
       "</div>"
      ],
      "text/plain": [
       "  country publisher  year  month        id article_id article_publisher  \\\n",
       "0      AU    9honey  2016     12  15732244   15732244            9Honey   \n",
       "1      AU    9honey  2016     12  15849634   15849634            9Honey   \n",
       "2      AU    9honey  2016     12  15855997   15855997            9Honey   \n",
       "3      AU    9honey  2016     12  15895978   15895978            9Honey   \n",
       "4      AU    9honey  2016     12  16005675   16005675            9Honey   \n",
       "\n",
       "   has_text                                     path  \n",
       "0      True  AU\\9honey\\2016\\15732244_AU_04-12-16.txt  \n",
       "1      True  AU\\9honey\\2016\\15849634_AU_11-12-16.txt  \n",
       "2      True  AU\\9honey\\2016\\15855997_AU_11-12-16.txt  \n",
       "3      True  AU\\9honey\\2016\\15895978_AU_13-12-16.txt  \n",
       "4      True  AU\\9honey\\2016\\16005675_AU_20-12-16.txt  "
      ]
     },
     "execution_count": 56,
     "metadata": {},
     "output_type": "execute_result"
    }
   ],
   "source": [
    "print(sampled_articles_details.shape)\n",
    "sampled_articles_details.head()"
   ]
  },
  {
   "cell_type": "code",
   "execution_count": 57,
   "metadata": {},
   "outputs": [
    {
     "data": {
      "text/html": [
       "<div>\n",
       "<style scoped>\n",
       "    .dataframe tbody tr th:only-of-type {\n",
       "        vertical-align: middle;\n",
       "    }\n",
       "\n",
       "    .dataframe tbody tr th {\n",
       "        vertical-align: top;\n",
       "    }\n",
       "\n",
       "    .dataframe thead th {\n",
       "        text-align: right;\n",
       "    }\n",
       "</style>\n",
       "<table border=\"1\" class=\"dataframe\">\n",
       "  <thead>\n",
       "    <tr style=\"text-align: right;\">\n",
       "      <th></th>\n",
       "      <th>country</th>\n",
       "      <th>publisher</th>\n",
       "      <th>year</th>\n",
       "      <th>month</th>\n",
       "      <th>id</th>\n",
       "      <th>article_id</th>\n",
       "      <th>article_publisher</th>\n",
       "      <th>has_text</th>\n",
       "      <th>path</th>\n",
       "    </tr>\n",
       "  </thead>\n",
       "  <tbody>\n",
       "  </tbody>\n",
       "</table>\n",
       "</div>"
      ],
      "text/plain": [
       "Empty DataFrame\n",
       "Columns: [country, publisher, year, month, id, article_id, article_publisher, has_text, path]\n",
       "Index: []"
      ]
     },
     "execution_count": 57,
     "metadata": {},
     "output_type": "execute_result"
    }
   ],
   "source": [
    "sampled_articles_details[~sampled_articles_details.has_text]"
   ]
  },
  {
   "cell_type": "code",
   "execution_count": null,
   "metadata": {},
   "outputs": [],
   "source": []
  }
 ],
 "metadata": {
  "kernelspec": {
   "display_name": "Python 3",
   "language": "python",
   "name": "python3"
  },
  "language_info": {
   "codemirror_mode": {
    "name": "ipython",
    "version": 3
   },
   "file_extension": ".py",
   "mimetype": "text/x-python",
   "name": "python",
   "nbconvert_exporter": "python",
   "pygments_lexer": "ipython3",
   "version": "3.8.5"
  }
 },
 "nbformat": 4,
 "nbformat_minor": 4
}
