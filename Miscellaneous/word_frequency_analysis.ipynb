{
 "cells": [
  {
   "cell_type": "code",
   "execution_count": 1,
   "metadata": {},
   "outputs": [
    {
     "name": "stderr",
     "output_type": "stream",
     "text": [
      "[nltk_data] Downloading package punkt to\n",
      "[nltk_data]     C:\\Users\\jinwoo\\AppData\\Roaming\\nltk_data...\n",
      "[nltk_data]   Package punkt is already up-to-date!\n"
     ]
    }
   ],
   "source": [
    "import os\n",
    "import pandas as pd\n",
    "import numpy as np\n",
    "import time\n",
    "import re\n",
    "import codecs\n",
    "import pathlib\n",
    "import matplotlib.pyplot as plt\n",
    "import seaborn as sns\n",
    "import nltk\n",
    "from nltk.tokenize import sent_tokenize\n",
    "from nltk.tokenize import word_tokenize\n",
    "from sklearn.feature_extraction.text import CountVectorizer\n",
    "import datetime\n",
    "from scipy.spatial.distance import cosine\n",
    "\n",
    "nltk.download('punkt')\n",
    "%matplotlib inline"
   ]
  },
  {
   "cell_type": "markdown",
   "metadata": {},
   "source": [
    "# Import data\n",
    "\n",
    "### Please change the directories based on your local machine"
   ]
  },
  {
   "cell_type": "code",
   "execution_count": 2,
   "metadata": {},
   "outputs": [],
   "source": [
    "#Please change directories based on your local machine\n",
    "base_dir = os.path.join(os.getcwd(),'data')\n",
    "preprocessed_dir = os.path.join(base_dir,'preprocessed','lemmatized')\n",
    "\n",
    "lexicon_dir = os.path.join(base_dir,'lexicon')\n",
    "conflict = pd.read_excel(os.path.join(lexicon_dir,'enh_conflict_lexicon.xlsx'))\n",
    "peace = pd.read_excel(os.path.join(lexicon_dir,'enh_peace_lexicon.xlsx'))\n",
    "resilence = pd.read_excel(os.path.join(lexicon_dir,'enh_resilience_lexicon.xlsx'))\n",
    "\n",
    "\n",
    "#Please designate the save directory of csv and image file\n",
    "output_csv_dir = os.path.join(base_dir,'preprocessed')"
   ]
  },
  {
   "cell_type": "code",
   "execution_count": 3,
   "metadata": {},
   "outputs": [
    {
     "name": "stdout",
     "output_type": "stream",
     "text": [
      "C:\\Users\\jinwoo\\0.JupyterNotebook\\1. Captsone Project\\2. Matt Github\\data\\preprocessed\\lemmatized\\HK\n"
     ]
    }
   ],
   "source": [
    "country_dir = os.path.join(preprocessed_dir,'HK')\n",
    "print(country_dir)"
   ]
  },
  {
   "cell_type": "code",
   "execution_count": 4,
   "metadata": {},
   "outputs": [],
   "source": [
    "#Read Files from local machine\n",
    "start_time = datetime.datetime.now()\n",
    "df_dict_country = {\"id\": [], \"title\": [], \"publisher\": [], \"article_text\":[],\"url\":[], \"path\":[]}\n",
    "for entry_publisher in os.scandir(country_dir):\n",
    "    for entry_year in os.scandir(entry_publisher.path):\n",
    "        for entry_final in os.scandir(entry_year.path):\n",
    "            try:\n",
    "                with open(entry_final, \"r\") as f:\n",
    "                    article_id = f.readline().strip()\n",
    "                    article_title = f.readline().strip()\n",
    "                    publisher = f.readline().strip()\n",
    "                    url = f.readline()\n",
    "                    f.readline()\n",
    "                    f.readline()\n",
    "                    article_text = f.readline().strip()\n",
    "                    df_dict_country['url'].append(url)\n",
    "                    df_dict_country['id'].append(article_id)\n",
    "                    df_dict_country['title'].append(article_title)\n",
    "                    df_dict_country['publisher'].append(publisher)\n",
    "                    df_dict_country['article_text'].append(article_text)\n",
    "                    df_dict_country['path'].append(entry_final.name)\n",
    "            except:\n",
    "                pass\n",
    "end_time = datetime.datetime.now()"
   ]
  },
  {
   "cell_type": "code",
   "execution_count": 5,
   "metadata": {},
   "outputs": [
    {
     "data": {
      "text/plain": [
       "datetime.timedelta(microseconds=357073)"
      ]
     },
     "execution_count": 5,
     "metadata": {},
     "output_type": "execute_result"
    }
   ],
   "source": [
    "#time taken for reading one country\n",
    "end_time - start_time"
   ]
  },
  {
   "cell_type": "code",
   "execution_count": 6,
   "metadata": {},
   "outputs": [],
   "source": [
    "df_dict_country = pd.DataFrame.from_dict(df_dict_country)"
   ]
  },
  {
   "cell_type": "code",
   "execution_count": 7,
   "metadata": {},
   "outputs": [
    {
     "data": {
      "text/html": [
       "<div>\n",
       "<style scoped>\n",
       "    .dataframe tbody tr th:only-of-type {\n",
       "        vertical-align: middle;\n",
       "    }\n",
       "\n",
       "    .dataframe tbody tr th {\n",
       "        vertical-align: top;\n",
       "    }\n",
       "\n",
       "    .dataframe thead th {\n",
       "        text-align: right;\n",
       "    }\n",
       "</style>\n",
       "<table border=\"1\" class=\"dataframe\">\n",
       "  <thead>\n",
       "    <tr style=\"text-align: right;\">\n",
       "      <th></th>\n",
       "      <th>id</th>\n",
       "      <th>title</th>\n",
       "      <th>publisher</th>\n",
       "      <th>article_text</th>\n",
       "      <th>url</th>\n",
       "      <th>path</th>\n",
       "    </tr>\n",
       "  </thead>\n",
       "  <tbody>\n",
       "    <tr>\n",
       "      <th>0</th>\n",
       "      <td>13517304</td>\n",
       "      <td>Toyota Motor Thailand Revises Thailand Car Sal...</td>\n",
       "      <td>ACN Newswire (press release)</td>\n",
       "      <td>bangkok july jcn newswire toyota motor thailan...</td>\n",
       "      <td>http://en.acnnewswire.com/press-release/englis...</td>\n",
       "      <td>13517304_HK_26-07-16.txt</td>\n",
       "    </tr>\n",
       "    <tr>\n",
       "      <th>1</th>\n",
       "      <td>13642498</td>\n",
       "      <td>Fujitsu Creates One of Europe's Biggest Servic...</td>\n",
       "      <td>ACN Newswire (press release)</td>\n",
       "      <td>public cloud platform continue new growth area...</td>\n",
       "      <td>http://en.acnnewswire.com/press-release/englis...</td>\n",
       "      <td>13642498_HK_02-08-16.txt</td>\n",
       "    </tr>\n",
       "    <tr>\n",
       "      <th>2</th>\n",
       "      <td>14204012</td>\n",
       "      <td>Mars, Incorporated announced as Spikes Asia Ad...</td>\n",
       "      <td>ACN Newswire (press release)</td>\n",
       "      <td>singapore sept acn newswire spike asia today a...</td>\n",
       "      <td>http://en.acnnewswire.com/press-release/englis...</td>\n",
       "      <td>14204012_HK_05-09-16.txt</td>\n",
       "    </tr>\n",
       "    <tr>\n",
       "      <th>3</th>\n",
       "      <td>14270310</td>\n",
       "      <td>IBDExpo 2016 to Accelerate Indonesia's Busines...</td>\n",
       "      <td>ACN Newswire (press release)</td>\n",
       "      <td>ibdexpo international trade exhibition design ...</td>\n",
       "      <td>http://en.acnnewswire.com/press-release/englis...</td>\n",
       "      <td>14270310_HK_08-09-16.txt</td>\n",
       "    </tr>\n",
       "    <tr>\n",
       "      <th>4</th>\n",
       "      <td>14354286</td>\n",
       "      <td>NEC Demonstrates Transport Technology and Solu...</td>\n",
       "      <td>ACN Newswire (press release)</td>\n",
       "      <td>tokyo sept jcn newswire nec corporation tse to...</td>\n",
       "      <td>http://en.acnnewswire.com/press-release/englis...</td>\n",
       "      <td>14354286_HK_14-09-16.txt</td>\n",
       "    </tr>\n",
       "    <tr>\n",
       "      <th>...</th>\n",
       "      <td>...</td>\n",
       "      <td>...</td>\n",
       "      <td>...</td>\n",
       "      <td>...</td>\n",
       "      <td>...</td>\n",
       "      <td>...</td>\n",
       "    </tr>\n",
       "    <tr>\n",
       "      <th>5065</th>\n",
       "      <td>10305109</td>\n",
       "      <td>Step Aside, IKEA: China's Stock-Trading Halls ...</td>\n",
       "      <td>Wall Street Journal</td>\n",
       "      <td>nvestors playng card shangha stock tradng hall...</td>\n",
       "      <td>http://blogs.wsj.com/chinarealtime/2016/02/16/...</td>\n",
       "      <td>10305109_HK_15-02-16.txt</td>\n",
       "    </tr>\n",
       "    <tr>\n",
       "      <th>5066</th>\n",
       "      <td>7837939</td>\n",
       "      <td>Once Bitten, Twice Shy: Zhou Xiaochuan Didn't ...</td>\n",
       "      <td>Wall Street Journal</td>\n",
       "      <td>zhou xaochuan governor people 's bank chna lst...</td>\n",
       "      <td>http://blogs.wsj.com/chinarealtime/2016/03/22/...</td>\n",
       "      <td>7837939_HK_22-03-16.txt</td>\n",
       "    </tr>\n",
       "    <tr>\n",
       "      <th>5067</th>\n",
       "      <td>8212433</td>\n",
       "      <td>Field of Dreams: China Aims to Become 'Top-Qua...</td>\n",
       "      <td>Wall Street Journal</td>\n",
       "      <td>n th march fle photo student take part n socce...</td>\n",
       "      <td>http://blogs.wsj.com/chinarealtime/2016/04/12/...</td>\n",
       "      <td>8212433_HK_12-04-16.txt</td>\n",
       "    </tr>\n",
       "    <tr>\n",
       "      <th>5068</th>\n",
       "      <td>8709245</td>\n",
       "      <td>Maoist Overtones in Beijing Concert Raise Red ...</td>\n",
       "      <td>Wall Street Journal</td>\n",
       "      <td>recent concert featurng maost red song stag n ...</td>\n",
       "      <td>http://blogs.wsj.com/chinarealtime/2016/05/08/...</td>\n",
       "      <td>8709245_HK_08-05-16.txt</td>\n",
       "    </tr>\n",
       "    <tr>\n",
       "      <th>5069</th>\n",
       "      <td>8730828</td>\n",
       "      <td>Window Plummets from 76th Floor of Shanghai To...</td>\n",
       "      <td>Wall Street Journal</td>\n",
       "      <td>shangha tower n cty 's fnancal dstrct pudong f...</td>\n",
       "      <td>http://blogs.wsj.com/chinarealtime/2016/05/09/...</td>\n",
       "      <td>8730828_HK_09-05-16.txt</td>\n",
       "    </tr>\n",
       "  </tbody>\n",
       "</table>\n",
       "<p>5070 rows × 6 columns</p>\n",
       "</div>"
      ],
      "text/plain": [
       "            id                                              title  \\\n",
       "0     13517304  Toyota Motor Thailand Revises Thailand Car Sal...   \n",
       "1     13642498  Fujitsu Creates One of Europe's Biggest Servic...   \n",
       "2     14204012  Mars, Incorporated announced as Spikes Asia Ad...   \n",
       "3     14270310  IBDExpo 2016 to Accelerate Indonesia's Busines...   \n",
       "4     14354286  NEC Demonstrates Transport Technology and Solu...   \n",
       "...        ...                                                ...   \n",
       "5065  10305109  Step Aside, IKEA: China's Stock-Trading Halls ...   \n",
       "5066   7837939  Once Bitten, Twice Shy: Zhou Xiaochuan Didn't ...   \n",
       "5067   8212433  Field of Dreams: China Aims to Become 'Top-Qua...   \n",
       "5068   8709245  Maoist Overtones in Beijing Concert Raise Red ...   \n",
       "5069   8730828  Window Plummets from 76th Floor of Shanghai To...   \n",
       "\n",
       "                         publisher  \\\n",
       "0     ACN Newswire (press release)   \n",
       "1     ACN Newswire (press release)   \n",
       "2     ACN Newswire (press release)   \n",
       "3     ACN Newswire (press release)   \n",
       "4     ACN Newswire (press release)   \n",
       "...                            ...   \n",
       "5065           Wall Street Journal   \n",
       "5066           Wall Street Journal   \n",
       "5067           Wall Street Journal   \n",
       "5068           Wall Street Journal   \n",
       "5069           Wall Street Journal   \n",
       "\n",
       "                                           article_text  \\\n",
       "0     bangkok july jcn newswire toyota motor thailan...   \n",
       "1     public cloud platform continue new growth area...   \n",
       "2     singapore sept acn newswire spike asia today a...   \n",
       "3     ibdexpo international trade exhibition design ...   \n",
       "4     tokyo sept jcn newswire nec corporation tse to...   \n",
       "...                                                 ...   \n",
       "5065  nvestors playng card shangha stock tradng hall...   \n",
       "5066  zhou xaochuan governor people 's bank chna lst...   \n",
       "5067  n th march fle photo student take part n socce...   \n",
       "5068  recent concert featurng maost red song stag n ...   \n",
       "5069  shangha tower n cty 's fnancal dstrct pudong f...   \n",
       "\n",
       "                                                    url  \\\n",
       "0     http://en.acnnewswire.com/press-release/englis...   \n",
       "1     http://en.acnnewswire.com/press-release/englis...   \n",
       "2     http://en.acnnewswire.com/press-release/englis...   \n",
       "3     http://en.acnnewswire.com/press-release/englis...   \n",
       "4     http://en.acnnewswire.com/press-release/englis...   \n",
       "...                                                 ...   \n",
       "5065  http://blogs.wsj.com/chinarealtime/2016/02/16/...   \n",
       "5066  http://blogs.wsj.com/chinarealtime/2016/03/22/...   \n",
       "5067  http://blogs.wsj.com/chinarealtime/2016/04/12/...   \n",
       "5068  http://blogs.wsj.com/chinarealtime/2016/05/08/...   \n",
       "5069  http://blogs.wsj.com/chinarealtime/2016/05/09/...   \n",
       "\n",
       "                          path  \n",
       "0     13517304_HK_26-07-16.txt  \n",
       "1     13642498_HK_02-08-16.txt  \n",
       "2     14204012_HK_05-09-16.txt  \n",
       "3     14270310_HK_08-09-16.txt  \n",
       "4     14354286_HK_14-09-16.txt  \n",
       "...                        ...  \n",
       "5065  10305109_HK_15-02-16.txt  \n",
       "5066   7837939_HK_22-03-16.txt  \n",
       "5067   8212433_HK_12-04-16.txt  \n",
       "5068   8709245_HK_08-05-16.txt  \n",
       "5069   8730828_HK_09-05-16.txt  \n",
       "\n",
       "[5070 rows x 6 columns]"
      ]
     },
     "execution_count": 7,
     "metadata": {},
     "output_type": "execute_result"
    }
   ],
   "source": [
    "df_dict_country"
   ]
  },
  {
   "cell_type": "markdown",
   "metadata": {},
   "source": [
    "## Word Frequency Analysis with visualization\n",
    "\n",
    "create_vocab_dict: creates the vocab dictionary based on the lexicons from *peace*, *conflict*, *resilence*; have only counted lexicons less than 5 words (4-gram max)\n",
    "\n",
    "word_freq: uses Countvectorizer to creates the dictionary with word counts {str(word):int(count)}\n",
    "\n",
    "plot_n_most_common_words: using the dictionary with word counts, output the graph with given integer n."
   ]
  },
  {
   "cell_type": "code",
   "execution_count": 8,
   "metadata": {},
   "outputs": [],
   "source": [
    "conflict['label'] = 'conflict'\n",
    "peace['label'] = 'peace'\n",
    "resilence['label'] = 'resilence'\n",
    "conflict = conflict.loc[:,['Term', 'label']]\n",
    "peace['Term'] = peace['academic freedom']\n",
    "peace = peace.loc[:,['Term', 'label']]\n",
    "resilence = resilence.loc[:,['Term', 'label']]\n",
    "\n",
    "vocab_df = conflict.copy()\n",
    "vocab_df = vocab_df.append(peace)\n",
    "vocab_df = vocab_df.append(resilence)\n",
    "vocab_df.index = np.arange(0, len(vocab_df))"
   ]
  },
  {
   "cell_type": "code",
   "execution_count": 9,
   "metadata": {},
   "outputs": [],
   "source": [
    "#Create dictionary for the vocab in CountVectorizer\n",
    "def create_vocab_dict(vocab_df):\n",
    "    vocabs = vocab_df.Term.str.lower()\n",
    "    vocabs = list(set(vocabs))\n",
    "    vocab_dictionary = {}\n",
    "    idx = 0\n",
    "    for vocab in vocabs:\n",
    "        voc_len = len(word_tokenize(vocab))\n",
    "        if voc_len < 5:\n",
    "            vocab_dictionary[vocab] = idx\n",
    "            idx += 1\n",
    "    return vocab_dictionary"
   ]
  },
  {
   "cell_type": "code",
   "execution_count": 10,
   "metadata": {},
   "outputs": [],
   "source": [
    "#Using Countvectorizer to count all the n-grams\n",
    "def word_freq(df, vocab_dictionary):\n",
    "    count_vectorizer = CountVectorizer(stop_words='english', ngram_range=(1,4), vocabulary=vocab_dictionary)\n",
    "    count_data = count_vectorizer.fit_transform(df.article_text)\n",
    "    words = count_vectorizer.get_feature_names()\n",
    "    total_counts = np.zeros(len(words))\n",
    "    for t in count_data:\n",
    "        total_counts += t.toarray()[0]\n",
    "  \n",
    "    count_dict = (zip(words, total_counts))\n",
    "    count_dict = sorted(count_dict, key = lambda x:x[1], reverse = True)\n",
    "\n",
    "    return count_dict"
   ]
  },
  {
   "cell_type": "code",
   "execution_count": 11,
   "metadata": {},
   "outputs": [],
   "source": [
    "def plot_n_most_common_words(count_dict, n):\n",
    "    count_dict = sorted(count_dict, key=lambda x:x[1], reverse=True)[0:n]\n",
    "    words = [w[0] for w in count_dict]\n",
    "    counts = [w[1] for w in count_dict]\n",
    "    x_pos = np.arange(len(words)) \n",
    "    plt.figure(2, figsize=(15, 15/1.6180))\n",
    "    plt.subplot(title= str(n) + ' most common words')\n",
    "    sns.set_context(\"notebook\", font_scale=1.25, rc={\"lines.linewidth\": 2.5})\n",
    "    sns.barplot(x_pos, counts, palette='husl')\n",
    "    plt.xticks(x_pos, words, rotation=90) \n",
    "    plt.xlabel('words')\n",
    "    plt.ylabel('counts')\n",
    "    plt.show()\n",
    "    plt.savefig('elbow_method.jpg', bbox_inches='tight', dpi=500)"
   ]
  },
  {
   "cell_type": "markdown",
   "metadata": {},
   "source": [
    "### Create Word Freq\n",
    "\n",
    "If you have used different columns for cleaned_text, please add another column or change the column name to text."
   ]
  },
  {
   "cell_type": "code",
   "execution_count": 12,
   "metadata": {},
   "outputs": [],
   "source": [
    "vocab_dictionary = create_vocab_dict(vocab_df)"
   ]
  },
  {
   "cell_type": "code",
   "execution_count": 13,
   "metadata": {},
   "outputs": [],
   "source": [
    "df_dict_country['text'] = df_dict_country['article_text']\n",
    "start_time = datetime.datetime.now()\n",
    "count_dict= word_freq(df_dict_country, vocab_dictionary)\n",
    "end_time = datetime.datetime.now()"
   ]
  },
  {
   "cell_type": "code",
   "execution_count": 14,
   "metadata": {},
   "outputs": [
    {
     "data": {
      "text/plain": [
       "datetime.timedelta(seconds=4, microseconds=26849)"
      ]
     },
     "execution_count": 14,
     "metadata": {},
     "output_type": "execute_result"
    }
   ],
   "source": [
    "#Time taken for creating count_dict\n",
    "end_time - start_time"
   ]
  },
  {
   "cell_type": "code",
   "execution_count": 15,
   "metadata": {},
   "outputs": [
    {
     "name": "stderr",
     "output_type": "stream",
     "text": [
      "C:\\Users\\jinwoo\\anaconda3\\lib\\site-packages\\seaborn\\_decorators.py:36: FutureWarning: Pass the following variables as keyword args: x, y. From version 0.12, the only valid positional argument will be `data`, and passing other arguments without an explicit keyword will result in an error or misinterpretation.\n",
      "  warnings.warn(\n"
     ]
    },
    {
     "data": {
      "image/png": "[encoded data removed]",
      "text/plain": [
       "<Figure size 1080x667.491 with 1 Axes>"
      ]
     },
     "metadata": {
      "needs_background": "light"
     },
     "output_type": "display_data"
    },
    {
     "data": {
      "text/plain": [
       "<Figure size 432x288 with 0 Axes>"
      ]
     },
     "metadata": {},
     "output_type": "display_data"
    }
   ],
   "source": [
    "plot_n_most_common_words(count_dict, 10)"
   ]
  },
  {
   "cell_type": "markdown",
   "metadata": {},
   "source": [
    "## Export\n",
    "\n",
    "\n",
    "#### The country_directory should be in the form of .../COUNTRY_CODE_IN_TWO_ALPHABET.\n",
    "One can change the country_name part (hard-code) in the below funciton"
   ]
  },
  {
   "cell_type": "code",
   "execution_count": 16,
   "metadata": {},
   "outputs": [],
   "source": [
    "#expects the country_directory to be written as .../COUNTRY_CODE\n",
    "country_name =  country_dir[-2:]"
   ]
  },
  {
   "cell_type": "code",
   "execution_count": 17,
   "metadata": {},
   "outputs": [],
   "source": [
    "def create_countdict_df(count_dict, vocab_df, save_dir, country_name):\n",
    "    words = [w[0] for w in count_dict]\n",
    "    counts = [w[1] for w in count_dict]\n",
    "    \n",
    "    df_count_dict = pd.DataFrame(words,columns = ['Term'])\n",
    "    df_count_dict['count'] = counts\n",
    "    df_count_dict['nation'] = country_name\n",
    "    \n",
    "    vocab_df['Term_lower'] = vocab_df.Term.str.lower()\n",
    "    label_dictionary_lower = dict(zip(vocab_df['Term_lower'], vocab_df['label']))\n",
    "    og_term_dictionary = dict(zip(vocab_df['Term_lower'], vocab_df['Term']))\n",
    "    \n",
    "    df_count_dict['label'] = ''\n",
    "    df_count_dict['Original_Term'] = ''\n",
    "    for i in range(len(df_count_dict)):\n",
    "        df_count_dict['label'][i] = label_dictionary_lower[df_count_dict['Term'][i]]\n",
    "        df_count_dict['Original_Term'][i] = og_term_dictionary[df_count_dict['Term'][i]]\n",
    "    \n",
    "    return df_count_dict"
   ]
  },
  {
   "cell_type": "code",
   "execution_count": 18,
   "metadata": {},
   "outputs": [],
   "source": [
    "def save_plot(count_dict, n, save_dir, country_name):\n",
    "    \n",
    "    img_dir = os.path.join(save_dir, country_name + '.jpg')\n",
    "    \n",
    "    count_dict = sorted(count_dict, key=lambda x:x[1], reverse=True)[0:n]\n",
    "    words = [w[0] for w in count_dict]\n",
    "    counts = [w[1] for w in count_dict]\n",
    "    x_pos = np.arange(len(words)) \n",
    "    plt.figure(2, figsize=(15, 15/1.6180))\n",
    "    plt.subplot(title= str(n) + ' most common words')\n",
    "    sns.set_context(\"notebook\", font_scale=1.25, rc={\"lines.linewidth\": 2.5})\n",
    "    sns.barplot(x_pos, counts, palette='husl')\n",
    "    plt.xticks(x_pos, words, rotation=90) \n",
    "    plt.xlabel('words')\n",
    "    plt.ylabel('counts')\n",
    "    \n",
    "    plt.savefig(img_dir, bbox_inches='tight', dpi=500)"
   ]
  },
  {
   "cell_type": "code",
   "execution_count": 19,
   "metadata": {},
   "outputs": [
    {
     "name": "stderr",
     "output_type": "stream",
     "text": [
      "<ipython-input-17-84b463629c14>:16: SettingWithCopyWarning: \n",
      "A value is trying to be set on a copy of a slice from a DataFrame\n",
      "\n",
      "See the caveats in the documentation: https://pandas.pydata.org/pandas-docs/stable/user_guide/indexing.html#returning-a-view-versus-a-copy\n",
      "  df_count_dict['label'][i] = label_dictionary_lower[df_count_dict['Term'][i]]\n",
      "<ipython-input-17-84b463629c14>:17: SettingWithCopyWarning: \n",
      "A value is trying to be set on a copy of a slice from a DataFrame\n",
      "\n",
      "See the caveats in the documentation: https://pandas.pydata.org/pandas-docs/stable/user_guide/indexing.html#returning-a-view-versus-a-copy\n",
      "  df_count_dict['Original_Term'][i] = og_term_dictionary[df_count_dict['Term'][i]]\n",
      "C:\\Users\\jinwoo\\anaconda3\\lib\\site-packages\\seaborn\\_decorators.py:36: FutureWarning: Pass the following variables as keyword args: x, y. From version 0.12, the only valid positional argument will be `data`, and passing other arguments without an explicit keyword will result in an error or misinterpretation.\n",
      "  warnings.warn(\n"
     ]
    },
    {
     "data": {
      "image/png": "[encoded data removed]",
      "text/plain": [
       "<Figure size 1080x667.491 with 1 Axes>"
      ]
     },
     "metadata": {
      "needs_background": "light"
     },
     "output_type": "display_data"
    }
   ],
   "source": [
    "df_test = create_countdict_df(count_dict = count_dict, vocab_df = vocab_df,save_dir =  output_csv_dir, country_name = country_name)\n",
    "df_test.to_csv(os.path.join(output_csv_dir, country_name + '.csv'))\n",
    "save_plot(count_dict, 10,  output_csv_dir, country_name)"
   ]
  },
  {
   "cell_type": "code",
   "execution_count": null,
   "metadata": {},
   "outputs": [],
   "source": []
  }
 ],
 "metadata": {
  "kernelspec": {
   "display_name": "Python 3",
   "language": "python",
   "name": "python3"
  },
  "language_info": {
   "codemirror_mode": {
    "name": "ipython",
    "version": 3
   },
   "file_extension": ".py",
   "mimetype": "text/x-python",
   "name": "python",
   "nbconvert_exporter": "python",
   "pygments_lexer": "ipython3",
   "version": "3.8.5"
  }
 },
 "nbformat": 4,
 "nbformat_minor": 4
}
