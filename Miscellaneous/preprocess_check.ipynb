{
 "cells": [
  {
   "source": [
    "Code to produce folders for people to review the preprocessing.\n",
    "\n",
    "REQUIRES:\n",
    "- text folders: \"orig\", \"n_gram\", \"cosine\", and \"merged\" containing outputed and cleaned text files. These should contain the exact same articles in each."
   ],
   "cell_type": "markdown",
   "metadata": {}
  },
  {
   "cell_type": "code",
   "execution_count": 26,
   "metadata": {},
   "outputs": [],
   "source": [
    "import os\n",
    "import glob\n",
    "import random\n",
    "import pathlib\n",
    "\n",
    "import numpy as np \n",
    "import pandas as pd\n",
    "\n",
    "\n",
    "DIRECTORIES = {\n",
    "    \"ORIGINAL\": \"orig\",\n",
    "    \"NGRAM\": \"n_gram\", \n",
    "    \"COSINE\": \"cosine\", \n",
    "    \"MERGED\": \"merged\"\n",
    "}\n",
    "\n",
    "NUM_REVIEWERS = 2\n",
    "NUM_ARTICLES_PER_COUNTRY = 1"
   ]
  },
  {
   "cell_type": "code",
   "execution_count": 50,
   "metadata": {},
   "outputs": [],
   "source": [
    "def get_countries(): \n",
    "    country_folders = glob.glob(os.path.join(DIRECTORIES[\"ORIGINAL\"], \"*/\"))\n",
    "    return [pathlib.Path(x).parts[-1] for x in country_folders]\n",
    "\n",
    "def get_all_files(country: str):\n",
    "    text_files = glob.glob(os.path.join(DIRECTORIES[\"ORIGINAL\"], country, \"*\", \"*\", \"*.txt\"))\n",
    "    return [os.path.join(*pathlib.Path(x).parts[-4:]) for x in text_files]\n",
    "\n",
    "def sample_files(text_files, num_articles):\n",
    "    return random.choices(text_files, k=num_articles)\n",
    "\n",
    "def get_all_versions(text_file, paths):\n",
    "    text = []\n",
    "    for name, path in paths.items():\n",
    "        full_path = os.path.join(path, text_file)\n",
    "        with open(full_path, \"r\") as f:\n",
    "            lines = f.readlines()\n",
    "            text.append(lines)\n",
    "            f.close()\n",
    "                \n",
    "    return text\n",
    "\n",
    "def output_files(reviewer_num, article_num, text_file, texts, paths, base_dir=\"to_review\"):\n",
    "    country, publisher, year, file = pathlib.Path(text_file).parts\n",
    "    for text, name in zip(texts, paths.keys()):\n",
    "        new_file_name = f\"{name}__{publisher}__{year}__{file}\"\n",
    "        new_path = os.path.join(base_dir, f\"reviewer_{reviewer_num}\", country, f\"article_{article_num}\")\n",
    "        \n",
    "        pathlib.Path(new_path).mkdir(parents=True, exist_ok=True)\n",
    "        with open(os.path.join(new_path, new_file_name), \"w\") as f:\n",
    "            f.writelines(text)\n",
    "            f.close()"
   ]
  },
  {
   "cell_type": "code",
   "execution_count": 51,
   "metadata": {},
   "outputs": [],
   "source": [
    "countries = get_countries()\n",
    "\n",
    "exported, id_and_title = [], []\n",
    "for country in countries:\n",
    "    all_text_files = get_all_files(country)\n",
    "    for reviewer_num in range(1, NUM_REVIEWERS + 1):\n",
    "        sampled_files = sample_files(all_text_files, NUM_ARTICLES_PER_COUNTRY)\n",
    "        for article_num, text_file in enumerate(sampled_files, 1):\n",
    "            \n",
    "            texts = get_all_versions(text_file, DIRECTORIES)\n",
    "            output_files(reviewer_num, article_num, text_file, texts, DIRECTORIES)\n",
    "            exported.append(list(pathlib.Path(text_file).parts) + texts[0][:2])"
   ]
  },
  {
   "cell_type": "code",
   "execution_count": 62,
   "metadata": {},
   "outputs": [],
   "source": [
    "exported_df = pd.DataFrame(exported, columns=[\"country\", \"publisher\", \"year\", \"text_file\", \"id\", \"title\"])\n",
    "exported_df[\"id\"] = exported_df.id.apply(lambda x: int(x.strip()))\n",
    "exported_df[\"title\"] = exported_df.title.apply(lambda x: x.strip())\n",
    "exported_df[[\"id\", \"title\", \"country\", \"publisher\", \"year\", \"text_file\"]].to_csv(\"review.csv\", index=False)"
   ]
  },
  {
   "cell_type": "code",
   "execution_count": null,
   "metadata": {},
   "outputs": [],
   "source": []
  }
 ],
 "metadata": {
  "kernelspec": {
   "display_name": "Python 3",
   "language": "python",
   "name": "python3"
  },
  "language_info": {
   "codemirror_mode": {
    "name": "ipython",
    "version": 3
   },
   "file_extension": ".py",
   "mimetype": "text/x-python",
   "name": "python",
   "nbconvert_exporter": "python",
   "pygments_lexer": "ipython3",
   "version": "3.8.5"
  }
 },
 "nbformat": 4,
 "nbformat_minor": 4
}