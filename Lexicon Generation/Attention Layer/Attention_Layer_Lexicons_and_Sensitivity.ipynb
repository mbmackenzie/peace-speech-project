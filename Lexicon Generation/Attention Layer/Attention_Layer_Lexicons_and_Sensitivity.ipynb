{
  "nbformat": 4,
  "nbformat_minor": 0,
  "metadata": {
    "colab": {
      "name": "Attention Layer - Lexicons and Sensitivity.ipynb",
      "provenance": [],
      "collapsed_sections": [],
      "toc_visible": true
    },
    "kernelspec": {
      "name": "python3",
      "display_name": "Python 3"
    },
    "widgets": {
      "application/vnd.jupyter.widget-state+json": {
        "a59eee3cdb244be2851510c5e52d7108": {
          "model_module": "@jupyter-widgets/controls",
          "model_name": "HBoxModel",
          "state": {
            "_view_name": "HBoxView",
            "_dom_classes": [],
            "_model_name": "HBoxModel",
            "_view_module": "@jupyter-widgets/controls",
            "_model_module_version": "1.5.0",
            "_view_count": null,
            "_view_module_version": "1.5.0",
            "box_style": "",
            "layout": "IPY_MODEL_7b7292ba903e415ca926876412a0d2ee",
            "_model_module": "@jupyter-widgets/controls",
            "children": [
              "IPY_MODEL_c5c445b0ae9547f89690a12333d30d9f",
              "IPY_MODEL_3e792ea0b0b345fbba97d5abb42c9f46"
            ]
          }
        },
        "7b7292ba903e415ca926876412a0d2ee": {
          "model_module": "@jupyter-widgets/base",
          "model_name": "LayoutModel",
          "state": {
            "_view_name": "LayoutView",
            "grid_template_rows": null,
            "right": null,
            "justify_content": null,
            "_view_module": "@jupyter-widgets/base",
            "overflow": null,
            "_model_module_version": "1.2.0",
            "_view_count": null,
            "flex_flow": null,
            "width": null,
            "min_width": null,
            "border": null,
            "align_items": null,
            "bottom": null,
            "_model_module": "@jupyter-widgets/base",
            "top": null,
            "grid_column": null,
            "overflow_y": null,
            "overflow_x": null,
            "grid_auto_flow": null,
            "grid_area": null,
            "grid_template_columns": null,
            "flex": null,
            "_model_name": "LayoutModel",
            "justify_items": null,
            "grid_row": null,
            "max_height": null,
            "align_content": null,
            "visibility": null,
            "align_self": null,
            "height": null,
            "min_height": null,
            "padding": null,
            "grid_auto_rows": null,
            "grid_gap": null,
            "max_width": null,
            "order": null,
            "_view_module_version": "1.2.0",
            "grid_template_areas": null,
            "object_position": null,
            "object_fit": null,
            "grid_auto_columns": null,
            "margin": null,
            "display": null,
            "left": null
          }
        },
        "c5c445b0ae9547f89690a12333d30d9f": {
          "model_module": "@jupyter-widgets/controls",
          "model_name": "FloatProgressModel",
          "state": {
            "_view_name": "ProgressView",
            "style": "IPY_MODEL_2aec09d5d3234ef385b343b403f1a7cb",
            "_dom_classes": [],
            "description": "100%",
            "_model_name": "FloatProgressModel",
            "bar_style": "success",
            "max": 6,
            "_view_module": "@jupyter-widgets/controls",
            "_model_module_version": "1.5.0",
            "value": 6,
            "_view_count": null,
            "_view_module_version": "1.5.0",
            "orientation": "horizontal",
            "min": 0,
            "description_tooltip": null,
            "_model_module": "@jupyter-widgets/controls",
            "layout": "IPY_MODEL_d3b1ae3435d7475cb15399852853771b"
          }
        },
        "3e792ea0b0b345fbba97d5abb42c9f46": {
          "model_module": "@jupyter-widgets/controls",
          "model_name": "HTMLModel",
          "state": {
            "_view_name": "HTMLView",
            "style": "IPY_MODEL_6c4c0f345f0740cbb84e7dee5704f273",
            "_dom_classes": [],
            "description": "",
            "_model_name": "HTMLModel",
            "placeholder": "​",
            "_view_module": "@jupyter-widgets/controls",
            "_model_module_version": "1.5.0",
            "value": " 6/6 [00:37&lt;00:00,  6.20s/it]",
            "_view_count": null,
            "_view_module_version": "1.5.0",
            "description_tooltip": null,
            "_model_module": "@jupyter-widgets/controls",
            "layout": "IPY_MODEL_d07e5fcb3d79414b8222d3252c3cff1a"
          }
        },
        "2aec09d5d3234ef385b343b403f1a7cb": {
          "model_module": "@jupyter-widgets/controls",
          "model_name": "ProgressStyleModel",
          "state": {
            "_view_name": "StyleView",
            "_model_name": "ProgressStyleModel",
            "description_width": "initial",
            "_view_module": "@jupyter-widgets/base",
            "_model_module_version": "1.5.0",
            "_view_count": null,
            "_view_module_version": "1.2.0",
            "bar_color": null,
            "_model_module": "@jupyter-widgets/controls"
          }
        },
        "d3b1ae3435d7475cb15399852853771b": {
          "model_module": "@jupyter-widgets/base",
          "model_name": "LayoutModel",
          "state": {
            "_view_name": "LayoutView",
            "grid_template_rows": null,
            "right": null,
            "justify_content": null,
            "_view_module": "@jupyter-widgets/base",
            "overflow": null,
            "_model_module_version": "1.2.0",
            "_view_count": null,
            "flex_flow": null,
            "width": null,
            "min_width": null,
            "border": null,
            "align_items": null,
            "bottom": null,
            "_model_module": "@jupyter-widgets/base",
            "top": null,
            "grid_column": null,
            "overflow_y": null,
            "overflow_x": null,
            "grid_auto_flow": null,
            "grid_area": null,
            "grid_template_columns": null,
            "flex": null,
            "_model_name": "LayoutModel",
            "justify_items": null,
            "grid_row": null,
            "max_height": null,
            "align_content": null,
            "visibility": null,
            "align_self": null,
            "height": null,
            "min_height": null,
            "padding": null,
            "grid_auto_rows": null,
            "grid_gap": null,
            "max_width": null,
            "order": null,
            "_view_module_version": "1.2.0",
            "grid_template_areas": null,
            "object_position": null,
            "object_fit": null,
            "grid_auto_columns": null,
            "margin": null,
            "display": null,
            "left": null
          }
        },
        "6c4c0f345f0740cbb84e7dee5704f273": {
          "model_module": "@jupyter-widgets/controls",
          "model_name": "DescriptionStyleModel",
          "state": {
            "_view_name": "StyleView",
            "_model_name": "DescriptionStyleModel",
            "description_width": "",
            "_view_module": "@jupyter-widgets/base",
            "_model_module_version": "1.5.0",
            "_view_count": null,
            "_view_module_version": "1.2.0",
            "_model_module": "@jupyter-widgets/controls"
          }
        },
        "d07e5fcb3d79414b8222d3252c3cff1a": {
          "model_module": "@jupyter-widgets/base",
          "model_name": "LayoutModel",
          "state": {
            "_view_name": "LayoutView",
            "grid_template_rows": null,
            "right": null,
            "justify_content": null,
            "_view_module": "@jupyter-widgets/base",
            "overflow": null,
            "_model_module_version": "1.2.0",
            "_view_count": null,
            "flex_flow": null,
            "width": null,
            "min_width": null,
            "border": null,
            "align_items": null,
            "bottom": null,
            "_model_module": "@jupyter-widgets/base",
            "top": null,
            "grid_column": null,
            "overflow_y": null,
            "overflow_x": null,
            "grid_auto_flow": null,
            "grid_area": null,
            "grid_template_columns": null,
            "flex": null,
            "_model_name": "LayoutModel",
            "justify_items": null,
            "grid_row": null,
            "max_height": null,
            "align_content": null,
            "visibility": null,
            "align_self": null,
            "height": null,
            "min_height": null,
            "padding": null,
            "grid_auto_rows": null,
            "grid_gap": null,
            "max_width": null,
            "order": null,
            "_view_module_version": "1.2.0",
            "grid_template_areas": null,
            "object_position": null,
            "object_fit": null,
            "grid_auto_columns": null,
            "margin": null,
            "display": null,
            "left": null
          }
        }
      }
    }
  },
  "cells": [
    {
      "cell_type": "code",
      "metadata": {
        "colab": {
          "base_uri": "https://localhost:8080/"
        },
        "id": "zj8-aIth4OZd",
        "outputId": "868d3489-f475-48ce-b837-0873ea654e70"
      },
      "source": [
        "from google.colab import drive\n",
        "drive.mount('/content/drive')"
      ],
      "execution_count": null,
      "outputs": [
        {
          "output_type": "stream",
          "text": [
            "Mounted at /content/drive\n"
          ],
          "name": "stdout"
        }
      ]
    },
    {
      "cell_type": "code",
      "metadata": {
        "id": "ktPxAk2K4QPP"
      },
      "source": [
        "import os\n",
        "import re\n",
        "import sys\n",
        "from imp import reload\n",
        "from collections import defaultdict\n",
        "\n",
        "if sys.version[0] == '2':\n",
        "    reload(sys)\n",
        "    sys.setdefaultencoding(\"utf-8\")\n",
        "\n",
        "from tqdm.notebook import tqdm\n",
        "\n",
        "import numpy as np\n",
        "import pandas as pd\n",
        "\n",
        "import matplotlib.pyplot as plt\n",
        "import seaborn as sns\n",
        "%matplotlib inline"
      ],
      "execution_count": null,
      "outputs": []
    },
    {
      "cell_type": "code",
      "metadata": {
        "colab": {
          "base_uri": "https://localhost:8080/"
        },
        "id": "CZVAhANB9eSH",
        "outputId": "274284af-47a2-4ec4-ebb9-cbf6168a3539"
      },
      "source": [
        "import nltk\n",
        "from nltk.tokenize import word_tokenize\n",
        "\n",
        "nltk.download('wordnet')\n",
        "nltk.download('stopwords')\n",
        "\n",
        "from nltk.corpus import wordnet\n",
        "from nltk.corpus import stopwords\n",
        "\n",
        "def wordnet_pos(w, pos):\n",
        "    synsets = wordnet.synsets(w)\n",
        "    return [w for w in synsets if w.pos() == pos]\n",
        "\n",
        "import warnings\n",
        "warnings.filterwarnings(action=\"ignore\")"
      ],
      "execution_count": null,
      "outputs": [
        {
          "output_type": "stream",
          "text": [
            "[nltk_data] Downloading package wordnet to /root/nltk_data...\n",
            "[nltk_data]   Unzipping corpora/wordnet.zip.\n",
            "[nltk_data] Downloading package stopwords to /root/nltk_data...\n",
            "[nltk_data]   Unzipping corpora/stopwords.zip.\n"
          ],
          "name": "stdout"
        }
      ]
    },
    {
      "cell_type": "code",
      "metadata": {
        "colab": {
          "base_uri": "https://localhost:8080/"
        },
        "id": "ersPXiq34dQa",
        "outputId": "2d88b207-e7b9-45ee-ff8b-dd09203c72ce"
      },
      "source": [
        "%%time\n",
        "\n",
        "BASE_DIR = \"/content/drive/MyDrive/peace-speech-project/\"\n",
        "TERMS_PATH = os.path.join(BASE_DIR, \"Attention Layer Lexicon\", \"top_terms_by_mean_weight__articles.csv\")\n",
        "\n",
        "top_terms_by_article = pd.read_csv(TERMS_PATH, index_col=[0])"
      ],
      "execution_count": null,
      "outputs": [
        {
          "output_type": "stream",
          "text": [
            "CPU times: user 29 s, sys: 4.56 s, total: 33.6 s\n",
            "Wall time: 48 s\n"
          ],
          "name": "stdout"
        }
      ]
    },
    {
      "cell_type": "code",
      "metadata": {
        "id": "3ox86kXm49iZ"
      },
      "source": [
        "def get_top_terms(terms, n):\n",
        "  top_terms = terms.groupby(\"article_id\").head(n)\n",
        "  top_terms = top_terms.groupby([\"society\", \"term\"]).size().rename(\"n\").reset_index()\n",
        "  top_terms = top_terms[(top_terms.term.str.isalpha()) & (top_terms.term.str.len() > 2)]\n",
        "  top_terms = top_terms.reset_index(drop=True)\n",
        "\n",
        "  top_terms[\"n_synsets\"] = top_terms.term.apply(lambda x: len(wordnet.synsets(x)))\n",
        "  top_terms[\"n_nouns\"] = top_terms.term.apply(lambda x: len(wordnet_pos(x, \"n\")))\n",
        "  top_terms[\"n_verbs\"] = top_terms.term.apply(lambda x: len(wordnet_pos(x, \"v\")))\n",
        "\n",
        "  return top_terms\n",
        "\n",
        "def filter_terms(terms):\n",
        "  swords = set(stopwords.words('english'))\n",
        "\n",
        "  filtered_terms = terms[(terms.n_synsets > 0) & (terms.n_nouns == 0)]\n",
        "  filtered_terms[[\"society\", \"term\", \"n\"]].to_csv(\"filtered_terms_with_counts.csv\", index=False)\n",
        "  filtered_terms = filtered_terms[~filtered_terms.term.apply(lambda x: x in swords)]\n",
        "\n",
        "  return filtered_terms\n",
        "\n",
        "def get_lexicon_label(row, median_diff):\n",
        "  if pd.isna(row.peaceful):\n",
        "      return \"conflict\"\n",
        "  elif pd.isna(row.nonpeaceful):\n",
        "      return \"peace\"\n",
        "  elif abs(row.peaceful - row.nonpeaceful) > median_diff:\n",
        "      return \"peace\" if row.peaceful > row.nonpeaceful else \"conflict\"\n",
        "  else:\n",
        "      return \"NONE\"\n",
        "\n",
        "def generate_lexicon(terms, cutoff = 0.001):\n",
        "  terms = terms.copy()\n",
        "  terms[\"pct_of_group\"] = terms.groupby(\"society\").n.apply(lambda x: x / sum(x))\n",
        "  lexicon = terms[terms.pct_of_group >= cutoff]\n",
        "\n",
        "  lexicon[\"lexicon\"] = lexicon.society.apply(lambda x: {\"peaceful\": \"peace\", \"nonpeaceful\": \"conflict\"}[x])\n",
        "\n",
        "  lexicon = lexicon[[\"society\", \"term\", \"pct_of_group\"]].pivot(index=\"term\", columns=\"society\", values=\"pct_of_group\")\n",
        "  lexicon = lexicon.reset_index()\n",
        "  lexicon = lexicon.rename_axis(None, axis = 1)\n",
        "\n",
        "  median_diff = lexicon.dropna().apply(lambda x: np.abs(x.nonpeaceful - x.peaceful), axis=1).median()\n",
        "  lexicon[\"lexicon\"] = lexicon.apply(get_lexicon_label, axis=1, median_diff=median_diff)\n",
        "\n",
        "  return lexicon\n",
        "\n",
        "def clean_lexicon(lexicon, add_society=False):\n",
        "  attention_lexicon = lexicon[lexicon.lexicon != \"NONE\"].copy().reset_index(drop=True)\n",
        "  attention_lexicon = attention_lexicon[[\"lexicon\", \"term\"]].sort_values([\"lexicon\", \"term\"])\n",
        "\n",
        "  if add_society:\n",
        "    attention_lexicon[\"society\"] = attention_lexicon.lexicon.apply(lambda x: \"peaceful\" if x == \"peace\" else \"nonpeaceful\")\n",
        "\n",
        "  return attention_lexicon\n",
        "\n",
        "def normalize_lexicon(lexicon, terms_weighting, norm=100):\n",
        "  lexicon_norm = lexicon.merge(\n",
        "      terms_weighting,\n",
        "      on=[\"society\", \"term\"],\n",
        "      how=\"left\"\n",
        "  )\n",
        "\n",
        "  lexicon_norm = lexicon_norm[[\"lexicon\", \"term\", \"n\"]] \\\n",
        "      .sort_values([\"lexicon\", \"n\"], ascending=False) \\\n",
        "      .groupby(\"lexicon\") \\\n",
        "      .head(norm) \\\n",
        "      .reset_index()\n",
        "\n",
        "  lexicon_norm = lexicon_norm[[\"lexicon\", \"term\"]]\n",
        "\n",
        "  return lexicon_norm\n",
        "\n",
        "def run_lexicon(terms, n, norm=100):\n",
        "  top_terms = get_top_terms(terms, n)\n",
        "  filtered_terms = filter_terms(top_terms)\n",
        "\n",
        "  lexicon = generate_lexicon(filtered_terms)\n",
        "  lexicon = clean_lexicon(lexicon, add_society=True)\n",
        "  norm_lexicon = normalize_lexicon(lexicon, filtered_terms, norm=norm)\n",
        "\n",
        "  return top_terms, filtered_terms, lexicon, norm_lexicon\n",
        "\n",
        "def save_output(n, top_terms, filtered_terms, lexicon, norm_lexicon):\n",
        "  BASE_PATH = os.path.join(BASE_DIR, \"Attention Layer Lexicon\", \"Sensitivity\")\n",
        "\n",
        "  top_terms.to_csv(os.path.join(BASE_PATH, f\"top_terms__{n}.csv\"), index=False)\n",
        "  filtered_terms.to_csv(os.path.join(BASE_PATH, f\"filtered_terms__{n}.csv\"), index=False)\n",
        "  lexicon.to_csv(os.path.join(BASE_PATH, f\"lexicon__{n}.csv\"), index=False)\n",
        "  norm_lexicon.to_csv(os.path.join(BASE_PATH, f\"norm_lexicon__{n}.csv\"), index=False)"
      ],
      "execution_count": null,
      "outputs": []
    },
    {
      "cell_type": "code",
      "metadata": {
        "colab": {
          "base_uri": "https://localhost:8080/",
          "height": 67,
          "referenced_widgets": [
            "a59eee3cdb244be2851510c5e52d7108",
            "7b7292ba903e415ca926876412a0d2ee",
            "c5c445b0ae9547f89690a12333d30d9f",
            "3e792ea0b0b345fbba97d5abb42c9f46",
            "2aec09d5d3234ef385b343b403f1a7cb",
            "d3b1ae3435d7475cb15399852853771b",
            "6c4c0f345f0740cbb84e7dee5704f273",
            "d07e5fcb3d79414b8222d3252c3cff1a"
          ]
        },
        "id": "bUIldKu4-V9J",
        "outputId": "dd862285-9b73-4edd-ae44-47b66af5923b"
      },
      "source": [
        "for n in tqdm([1, 5, 10, 25, 50, 100]):\n",
        "  top_terms, filtered_terms, lexicon, norm_lexicon = run_lexicon(top_terms_by_article, n)\n",
        "  save_output(n, top_terms, filtered_terms, lexicon, norm_lexicon)"
      ],
      "execution_count": null,
      "outputs": [
        {
          "output_type": "display_data",
          "data": {
            "application/vnd.jupyter.widget-view+json": {
              "model_id": "a59eee3cdb244be2851510c5e52d7108",
              "version_minor": 0,
              "version_major": 2
            },
            "text/plain": [
              "HBox(children=(FloatProgress(value=0.0, max=6.0), HTML(value='')))"
            ]
          },
          "metadata": {
            "tags": []
          }
        },
        {
          "output_type": "stream",
          "text": [
            "\n"
          ],
          "name": "stdout"
        }
      ]
    },
    {
      "cell_type": "code",
      "metadata": {
        "id": "BqO1ZLYwJUzA"
      },
      "source": [
        ""
      ],
      "execution_count": null,
      "outputs": []
    }
  ]
}