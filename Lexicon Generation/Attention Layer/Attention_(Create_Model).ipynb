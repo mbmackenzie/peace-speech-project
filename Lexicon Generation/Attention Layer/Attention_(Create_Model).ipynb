{
  "nbformat": 4,
  "nbformat_minor": 0,
  "metadata": {
    "colab": {
      "name": "Attention (Create Model).ipynb",
      "provenance": [],
      "collapsed_sections": []
    },
    "kernelspec": {
      "name": "python3",
      "display_name": "Python 3"
    }
  },
  "cells": [
    {
      "cell_type": "markdown",
      "metadata": {
        "id": "QcuLfGDOL5St"
      },
      "source": [
        "## Mount Drive"
      ]
    },
    {
      "cell_type": "code",
      "metadata": {
        "colab": {
          "base_uri": "https://localhost:8080/"
        },
        "id": "B6qdV6pTfb5-",
        "outputId": "fff4e91a-6a6b-4c6b-aed2-4abb936f6453"
      },
      "source": [
        "from google.colab import drive\n",
        "drive.mount('/content/drive')"
      ],
      "execution_count": null,
      "outputs": [
        {
          "output_type": "stream",
          "text": [
            "Mounted at /content/drive\n"
          ],
          "name": "stdout"
        }
      ]
    },
    {
      "cell_type": "markdown",
      "metadata": {
        "id": "BWCwPLlvL8db"
      },
      "source": [
        "## Import Files"
      ]
    },
    {
      "cell_type": "code",
      "metadata": {
        "id": "0vJwMMgygeDu"
      },
      "source": [
        "import os\n",
        "import pandas as pd\n",
        "from sklearn.model_selection import train_test_split"
      ],
      "execution_count": null,
      "outputs": []
    },
    {
      "cell_type": "code",
      "metadata": {
        "colab": {
          "base_uri": "https://localhost:8080/"
        },
        "id": "B3e4-BENffOo",
        "outputId": "f360a74d-5e8f-4238-9b7c-eaf2d816eade"
      },
      "source": [
        "from importlib import reload\n",
        "import sys\n",
        "from imp import reload\n",
        "import warnings\n",
        "warnings.filterwarnings('ignore')\n",
        "if sys.version[0] == '2':\n",
        "    reload(sys)\n",
        "    sys.setdefaultencoding(\"utf-8\")\n",
        "\n",
        "import nltk\n",
        "nltk.download('stopwords')\n",
        "nltk.download('wordnet')\n",
        "\n",
        "import re\n",
        "from nltk.stem import WordNetLemmatizer\n",
        "from nltk.corpus import stopwords\n",
        "\n",
        "import tensorflow as tf\n",
        "import tensorflow.keras as keras\n",
        "from tensorflow.keras.preprocessing.text import Tokenizer\n",
        "from tensorflow.keras.preprocessing.sequence import pad_sequences\n",
        "from tensorflow.keras.layers import Concatenate, Dense, Input, LSTM, Embedding, Dropout, Activation, GRU, Flatten\n",
        "from tensorflow.keras.layers import Bidirectional, GlobalMaxPool1D\n",
        "from tensorflow.keras.models import Model, Sequential\n",
        "from tensorflow.keras.layers import Convolution1D\n",
        "from tensorflow.keras import initializers, regularizers, constraints, optimizers, layers"
      ],
      "execution_count": null,
      "outputs": [
        {
          "output_type": "stream",
          "text": [
            "[nltk_data] Downloading package stopwords to /root/nltk_data...\n",
            "[nltk_data]   Unzipping corpora/stopwords.zip.\n",
            "[nltk_data] Downloading package wordnet to /root/nltk_data...\n",
            "[nltk_data]   Unzipping corpora/wordnet.zip.\n"
          ],
          "name": "stdout"
        }
      ]
    },
    {
      "cell_type": "markdown",
      "metadata": {
        "id": "rqdFZ4G0MF_F"
      },
      "source": [
        "## Peaceful Countries & Non Peaceful Countries"
      ]
    },
    {
      "cell_type": "code",
      "metadata": {
        "id": "QCjlu6WchsYj"
      },
      "source": [
        "peaceful_countries = ['GB','AU','CA','SG','NZ','IE']\n",
        "non_peaceful_countries = ['PK','BD','NG','KE','ZA','TZ']"
      ],
      "execution_count": null,
      "outputs": []
    },
    {
      "cell_type": "markdown",
      "metadata": {
        "id": "W-7C8osvMPGj"
      },
      "source": [
        "## Import data to Datafrmae"
      ]
    },
    {
      "cell_type": "code",
      "metadata": {
        "id": "f-qrbLMpfuuF"
      },
      "source": [
        "directory = '/content/drive/My Drive/capstone_data/data/5_domestic_filter_Ngram_stopwords_lemmatize'\n",
        "\n",
        "#data = pd.DataFrame([])\n",
        "\n",
        "data = []\n",
        "\n",
        "for entry in os.scandir(directory):\n",
        "  if (\"domestic_Ngram_stopword_lematize.csv\" in entry.path):\n",
        "    country = entry.name.split(\"_domestic_Ngram_stopword_lematize.csv\")[0]\n",
        "    # print(country)\n",
        "    if (country in peaceful_countries):\n",
        "      country_csv_path = entry.path\n",
        "      df = pd.read_csv(country_csv_path,index_col=[0])\n",
        "      df.rename(columns={'article_text_Ngram_stopword_lemmatize':'Processed_Reviews'}, inplace=True)\n",
        "      df['peaceful'] = 1\n",
        "      df = df[['Processed_Reviews','peaceful']]\n",
        "      data.append(df)\n",
        "      # print(data)\n",
        "      # print(df)\n",
        "    elif (country in non_peaceful_countries):\n",
        "      country_csv_path = entry.path\n",
        "      df = pd.read_csv(country_csv_path,index_col=[0])\n",
        "      df.rename(columns={'article_text_Ngram_stopword_lemmatize':'Processed_Reviews'}, inplace=True)\n",
        "      df['peaceful'] = 0\n",
        "      df = df[['Processed_Reviews','peaceful']]\n",
        "      data.append(df)\n",
        "      # print(df)\n",
        "      # print(data)\n",
        "    else:\n",
        "      continue"
      ],
      "execution_count": null,
      "outputs": []
    },
    {
      "cell_type": "markdown",
      "metadata": {
        "id": "I1x2lcN8Mlhv"
      },
      "source": [
        "## Concat to one dataframe"
      ]
    },
    {
      "cell_type": "code",
      "metadata": {
        "id": "ZzKgMFGqgcb4"
      },
      "source": [
        "df_full = pd.concat(data, axis=0, ignore_index=True)"
      ],
      "execution_count": null,
      "outputs": []
    },
    {
      "cell_type": "code",
      "metadata": {
        "colab": {
          "base_uri": "https://localhost:8080/"
        },
        "id": "76b715MpV985",
        "outputId": "e7f1ab62-7733-45a1-d99a-0e4f12febf9d"
      },
      "source": [
        "import nltk\n",
        "from nltk.stem import WordNetLemmatizer\n",
        "from nltk.corpus import stopwords, wordnet\n",
        "import string\n",
        "from textblob import TextBlob, Word\n",
        "from nltk.tokenize import word_tokenize\n",
        "import os\n",
        "import pandas as pd\n",
        "import datetime\n",
        "\n",
        "nltk.download('punkt')\n",
        "nltk.download('stopwords')\n",
        "nltk.download('averaged_perceptron_tagger')\n",
        "nltk.download('wordnet')\n",
        "\n",
        "\n",
        "stopwords.words('english')\n",
        "\n",
        "stop_words = set(stopwords.words('english'))\n",
        "lemmatizer = WordNetLemmatizer()"
      ],
      "execution_count": null,
      "outputs": [
        {
          "output_type": "stream",
          "text": [
            "[nltk_data] Downloading package punkt to /root/nltk_data...\n",
            "[nltk_data]   Unzipping tokenizers/punkt.zip.\n",
            "[nltk_data] Downloading package stopwords to /root/nltk_data...\n",
            "[nltk_data]   Package stopwords is already up-to-date!\n",
            "[nltk_data] Downloading package averaged_perceptron_tagger to\n",
            "[nltk_data]     /root/nltk_data...\n",
            "[nltk_data]   Unzipping taggers/averaged_perceptron_tagger.zip.\n",
            "[nltk_data] Downloading package wordnet to /root/nltk_data...\n",
            "[nltk_data]   Package wordnet is already up-to-date!\n"
          ],
          "name": "stdout"
        }
      ]
    },
    {
      "cell_type": "code",
      "metadata": {
        "id": "1uXwj7vIVlDD"
      },
      "source": [
        "stop_words = ['\\'s']\n",
        "result = ''.join([i for i in s if not i.isdigit()])"
      ],
      "execution_count": null,
      "outputs": []
    },
    {
      "cell_type": "code",
      "metadata": {
        "id": "CD_Id_RJU5qb"
      },
      "source": [
        "def remove_stopwords(text):\n",
        "    filtered_sentence = ''.join([i for i in text if not i.isdigit()])\n",
        "    return ' '.join(filtered_sentence)"
      ],
      "execution_count": null,
      "outputs": []
    },
    {
      "cell_type": "code",
      "metadata": {
        "id": "YOdt9R4UWnZL"
      },
      "source": [
        "''.join([i for i in df_full['Processed_Reviews'][0] if not i.isdigit()])"
      ],
      "execution_count": null,
      "outputs": []
    },
    {
      "cell_type": "code",
      "metadata": {
        "colab": {
          "base_uri": "https://localhost:8080/",
          "height": 204
        },
        "id": "VZxR-4kthfWj",
        "outputId": "bff9da14-a41b-45b2-f97c-375b04955504"
      },
      "source": [
        "df_full.head()"
      ],
      "execution_count": null,
      "outputs": [
        {
          "output_type": "execute_result",
          "data": {
            "text/html": [
              "<div>\n",
              "<style scoped>\n",
              "    .dataframe tbody tr th:only-of-type {\n",
              "        vertical-align: middle;\n",
              "    }\n",
              "\n",
              "    .dataframe tbody tr th {\n",
              "        vertical-align: top;\n",
              "    }\n",
              "\n",
              "    .dataframe thead th {\n",
              "        text-align: right;\n",
              "    }\n",
              "</style>\n",
              "<table border=\"1\" class=\"dataframe\">\n",
              "  <thead>\n",
              "    <tr style=\"text-align: right;\">\n",
              "      <th></th>\n",
              "      <th>Processed_Reviews</th>\n",
              "      <th>peaceful</th>\n",
              "    </tr>\n",
              "  </thead>\n",
              "  <tbody>\n",
              "    <tr>\n",
              "      <th>0</th>\n",
              "      <td>Netflix 's dark comedy A Series Unfortunate Ev...</td>\n",
              "      <td>1</td>\n",
              "    </tr>\n",
              "    <tr>\n",
              "      <th>1</th>\n",
              "      <td>Taiwanese bubble tea chain Playmade know make ...</td>\n",
              "      <td>1</td>\n",
              "    </tr>\n",
              "    <tr>\n",
              "      <th>2</th>\n",
              "      <td>In mid July Build A Bear debut Pay Your Age de...</td>\n",
              "      <td>1</td>\n",
              "    </tr>\n",
              "    <tr>\n",
              "      <th>3</th>\n",
              "      <td>Suicide main cause death millennials Singapore...</td>\n",
              "      <td>1</td>\n",
              "    </tr>\n",
              "    <tr>\n",
              "      <th>4</th>\n",
              "      <td>Bowflex make adjustable kettlebell go 8 40 pou...</td>\n",
              "      <td>1</td>\n",
              "    </tr>\n",
              "  </tbody>\n",
              "</table>\n",
              "</div>"
            ],
            "text/plain": [
              "                                   Processed_Reviews  peaceful\n",
              "0  Netflix 's dark comedy A Series Unfortunate Ev...         1\n",
              "1  Taiwanese bubble tea chain Playmade know make ...         1\n",
              "2  In mid July Build A Bear debut Pay Your Age de...         1\n",
              "3  Suicide main cause death millennials Singapore...         1\n",
              "4  Bowflex make adjustable kettlebell go 8 40 pou...         1"
            ]
          },
          "metadata": {
            "tags": []
          },
          "execution_count": 11
        }
      ]
    },
    {
      "cell_type": "code",
      "metadata": {
        "id": "7T3SJ7HwozDu"
      },
      "source": [
        "df_full.dropna(inplace=True)\n",
        "df_full.reset_index(drop=True, inplace=True)"
      ],
      "execution_count": null,
      "outputs": []
    },
    {
      "cell_type": "code",
      "metadata": {
        "colab": {
          "base_uri": "https://localhost:8080/"
        },
        "id": "CtRAVduXop2J",
        "outputId": "32889c63-ffac-49a6-d191-42e2683acdbe"
      },
      "source": [
        "df_full.info()"
      ],
      "execution_count": null,
      "outputs": [
        {
          "output_type": "stream",
          "text": [
            "<class 'pandas.core.frame.DataFrame'>\n",
            "RangeIndex: 552329 entries, 0 to 552328\n",
            "Data columns (total 2 columns):\n",
            " #   Column             Non-Null Count   Dtype \n",
            "---  ------             --------------   ----- \n",
            " 0   Processed_Reviews  552329 non-null  object\n",
            " 1   peaceful           552329 non-null  int64 \n",
            "dtypes: int64(1), object(1)\n",
            "memory usage: 8.4+ MB\n"
          ],
          "name": "stdout"
        }
      ]
    },
    {
      "cell_type": "markdown",
      "metadata": {
        "id": "9F0Cp6SupE_t"
      },
      "source": [
        ""
      ]
    },
    {
      "cell_type": "code",
      "metadata": {
        "colab": {
          "base_uri": "https://localhost:8080/"
        },
        "id": "MkPw4nZkorfv",
        "outputId": "5adbfd0e-753f-4212-edc0-8d130155610c"
      },
      "source": [
        "df_full.Processed_Reviews.apply(lambda x: len(x.split(\" \"))).mean()"
      ],
      "execution_count": null,
      "outputs": [
        {
          "output_type": "execute_result",
          "data": {
            "text/plain": [
              "366.2066992680087"
            ]
          },
          "metadata": {
            "tags": []
          },
          "execution_count": 10
        }
      ]
    },
    {
      "cell_type": "code",
      "metadata": {
        "id": "ri_luD68tlOa"
      },
      "source": [
        "df = df_full.sample(frac = 1) "
      ],
      "execution_count": null,
      "outputs": []
    },
    {
      "cell_type": "code",
      "metadata": {
        "id": "g_BxIkR1pFz0"
      },
      "source": [
        "MAX_FEATURES = 6000\n",
        "EMBED_SIZE = 128\n",
        "tokenizer = Tokenizer(num_words=MAX_FEATURES)\n",
        "tokenizer.fit_on_texts(df['Processed_Reviews'])\n",
        "list_tokenized_train = tokenizer.texts_to_sequences(df['Processed_Reviews'])\n",
        "\n",
        "RNN_CELL_SIZE = 32\n",
        "\n",
        "MAX_LEN = 367   # Since our mean length is 128.5 (353.0975)\n",
        "X_train = pad_sequences(list_tokenized_train, maxlen=MAX_LEN)\n",
        "y_train = df['peaceful']"
      ],
      "execution_count": null,
      "outputs": []
    },
    {
      "cell_type": "code",
      "metadata": {
        "colab": {
          "base_uri": "https://localhost:8080/"
        },
        "id": "VksJZjQ8vIZQ",
        "outputId": "048c1791-30b6-4f2e-b288-e10a3f377fd8"
      },
      "source": [
        "X_train.shape"
      ],
      "execution_count": null,
      "outputs": [
        {
          "output_type": "execute_result",
          "data": {
            "text/plain": [
              "(552329, 367)"
            ]
          },
          "metadata": {
            "tags": []
          },
          "execution_count": 14
        }
      ]
    },
    {
      "cell_type": "code",
      "metadata": {
        "id": "1Fx3z4-2IX38"
      },
      "source": [
        "df['Processed_Reviews'][0]"
      ],
      "execution_count": null,
      "outputs": []
    },
    {
      "cell_type": "code",
      "metadata": {
        "id": "_vNKuPKXIeX8"
      },
      "source": [
        "X_train[0]"
      ],
      "execution_count": null,
      "outputs": []
    },
    {
      "cell_type": "code",
      "metadata": {
        "id": "7Sb4rmrL4sTR"
      },
      "source": [
        "##Investigation of the attention layer part\n",
        "list_tokenized_train"
      ],
      "execution_count": null,
      "outputs": []
    },
    {
      "cell_type": "code",
      "metadata": {
        "id": "nckaWLkqIRE6"
      },
      "source": [
        ""
      ],
      "execution_count": null,
      "outputs": []
    },
    {
      "cell_type": "markdown",
      "metadata": {
        "id": "2QvayhDqSdJO"
      },
      "source": [
        ""
      ]
    },
    {
      "cell_type": "code",
      "metadata": {
        "id": "EuTupG_wuJkJ"
      },
      "source": [
        "X_train_test_valid, y_train_test_valid = X_train, y_train\n",
        "X_train_valid, X_test, y_train_valid, y_test = train_test_split(X_train_test_valid, y_train_test_valid, test_size=0.2, random_state=42)"
      ],
      "execution_count": null,
      "outputs": []
    },
    {
      "cell_type": "code",
      "metadata": {
        "id": "BfpeOfaTpeMM"
      },
      "source": [
        "class Attention(tf.keras.Model):\n",
        "    def __init__(self, units):\n",
        "        super(Attention, self).__init__()\n",
        "        self.W1 = tf.keras.layers.Dense(units)\n",
        "        self.W2 = tf.keras.layers.Dense(units)\n",
        "        self.V = tf.keras.layers.Dense(1)\n",
        " \n",
        "    def call(self, features, hidden):\n",
        "        # hidden shape == (batch_size, hidden size)\n",
        "        # hidden_with_time_axis shape == (batch_size, 1, hidden size)\n",
        "        # we are doing this to perform addition to calculate the score\n",
        "        hidden_with_time_axis = tf.expand_dims(hidden, 1)\n",
        "\n",
        "        # score shape == (batch_size, max_length, 1)\n",
        "        # we get 1 at the last axis because we are applying score to self.V\n",
        "        # the shape of the tensor before applying self.V is (batch_size, max_length, units)\n",
        "        score = tf.nn.tanh(\n",
        "            self.W1(features) + self.W2(hidden_with_time_axis))\n",
        "        \n",
        "        # attention_weights shape == (batch_size, max_length, 1)\n",
        "        attention_weights = tf.nn.softmax(self.V(score), axis=1)\n",
        "\n",
        "        # context_vector shape after sum == (batch_size, hidden_size)\n",
        "        context_vector = attention_weights * features\n",
        "        context_vector = tf.reduce_sum(context_vector, axis=1)\n",
        " \n",
        "        return context_vector, attention_weights"
      ],
      "execution_count": null,
      "outputs": []
    },
    {
      "cell_type": "code",
      "metadata": {
        "id": "QFe64fZXpq5c",
        "colab": {
          "base_uri": "https://localhost:8080/",
          "height": 232
        },
        "outputId": "10a201c9-d272-4709-88fb-0e78cb1400ed"
      },
      "source": [
        "sequence_input = Input(shape=(MAX_LEN,), dtype=\"int32\")\n",
        "embedded_sequences = Embedding(MAX_FEATURES, EMBED_SIZE)(sequence_input)\n",
        "\n",
        "lstm = Bidirectional(LSTM(RNN_CELL_SIZE, return_sequences = True), name=\"bi_lstm_0\")(embedded_sequences)\n",
        "\n",
        "# Getting our LSTM outputs\n",
        "(lstm, forward_h, forward_c, backward_h, backward_c) = Bidirectional(LSTM(RNN_CELL_SIZE, return_sequences=True, return_state=True), name=\"bi_lstm_1\")(lstm)\n",
        "\n",
        "\n",
        "state_h = Concatenate()([forward_h, backward_h])\n",
        "state_c = Concatenate()([forward_c, backward_c])\n",
        "\n",
        "context_vector, attention_weights = Attention(10)(lstm, state_h)\n",
        "\n",
        "attention_model = keras.Model(inputs=sequence_input, outputs=attention_weights)  ## Attention Model\n",
        "\n",
        "# Removal of the globalMaxPool1D could be trouble\n",
        "#globmax = GlobalMaxPool1D()(context_vector)\n",
        "dense1 = Dense(20, activation=\"relu\")(context_vector)\n",
        "dropout = Dropout(0.05)(dense1)\n",
        "output = Dense(1, activation=\"sigmoid\")(dropout)\n",
        "\n",
        "model = keras.Model(inputs=sequence_input, outputs=output)\n",
        "# summarize layers\n",
        "print(model.summary())\n",
        "print(attention_model.summary())"
      ],
      "execution_count": null,
      "outputs": [
        {
          "output_type": "error",
          "ename": "NameError",
          "evalue": "ignored",
          "traceback": [
            "\u001b[0;31m---------------------------------------------------------------------------\u001b[0m",
            "\u001b[0;31mNameError\u001b[0m                                 Traceback (most recent call last)",
            "\u001b[0;32m<ipython-input-22-eb6aa3535c6f>\u001b[0m in \u001b[0;36m<module>\u001b[0;34m()\u001b[0m\n\u001b[0;32m----> 1\u001b[0;31m \u001b[0msequence_input\u001b[0m \u001b[0;34m=\u001b[0m \u001b[0mInput\u001b[0m\u001b[0;34m(\u001b[0m\u001b[0mshape\u001b[0m\u001b[0;34m=\u001b[0m\u001b[0;34m(\u001b[0m\u001b[0mMAX_LEN\u001b[0m\u001b[0;34m,\u001b[0m\u001b[0;34m)\u001b[0m\u001b[0;34m,\u001b[0m \u001b[0mdtype\u001b[0m\u001b[0;34m=\u001b[0m\u001b[0;34m\"int32\"\u001b[0m\u001b[0;34m)\u001b[0m\u001b[0;34m\u001b[0m\u001b[0;34m\u001b[0m\u001b[0m\n\u001b[0m\u001b[1;32m      2\u001b[0m \u001b[0membedded_sequences\u001b[0m \u001b[0;34m=\u001b[0m \u001b[0mEmbedding\u001b[0m\u001b[0;34m(\u001b[0m\u001b[0mMAX_FEATURES\u001b[0m\u001b[0;34m,\u001b[0m \u001b[0mEMBED_SIZE\u001b[0m\u001b[0;34m)\u001b[0m\u001b[0;34m(\u001b[0m\u001b[0msequence_input\u001b[0m\u001b[0;34m)\u001b[0m\u001b[0;34m\u001b[0m\u001b[0;34m\u001b[0m\u001b[0m\n\u001b[1;32m      3\u001b[0m \u001b[0;34m\u001b[0m\u001b[0m\n\u001b[1;32m      4\u001b[0m \u001b[0mlstm\u001b[0m \u001b[0;34m=\u001b[0m \u001b[0mBidirectional\u001b[0m\u001b[0;34m(\u001b[0m\u001b[0mLSTM\u001b[0m\u001b[0;34m(\u001b[0m\u001b[0mRNN_CELL_SIZE\u001b[0m\u001b[0;34m,\u001b[0m \u001b[0mreturn_sequences\u001b[0m \u001b[0;34m=\u001b[0m \u001b[0;32mTrue\u001b[0m\u001b[0;34m)\u001b[0m\u001b[0;34m,\u001b[0m \u001b[0mname\u001b[0m\u001b[0;34m=\u001b[0m\u001b[0;34m\"bi_lstm_0\"\u001b[0m\u001b[0;34m)\u001b[0m\u001b[0;34m(\u001b[0m\u001b[0membedded_sequences\u001b[0m\u001b[0;34m)\u001b[0m\u001b[0;34m\u001b[0m\u001b[0;34m\u001b[0m\u001b[0m\n\u001b[1;32m      5\u001b[0m \u001b[0;34m\u001b[0m\u001b[0m\n",
            "\u001b[0;31mNameError\u001b[0m: name 'MAX_LEN' is not defined"
          ]
        }
      ]
    },
    {
      "cell_type": "code",
      "metadata": {
        "colab": {
          "base_uri": "https://localhost:8080/"
        },
        "id": "4s12npqpp2YV",
        "outputId": "a45f09d3-9487-4488-a1c3-b56668e1fd23"
      },
      "source": [
        "# summarize layers\n",
        "print(model.summary())\n",
        "print(attention_model.summary())"
      ],
      "execution_count": null,
      "outputs": [
        {
          "output_type": "stream",
          "text": [
            "Model: \"functional_1\"\n",
            "__________________________________________________________________________________________________\n",
            "Layer (type)                    Output Shape         Param #     Connected to                     \n",
            "==================================================================================================\n",
            "input_1 (InputLayer)            [(None, 367)]        0                                            \n",
            "__________________________________________________________________________________________________\n",
            "embedding (Embedding)           (None, 367, 128)     768000      input_1[0][0]                    \n",
            "__________________________________________________________________________________________________\n",
            "bi_lstm_0 (Bidirectional)       (None, 367, 64)      41216       embedding[0][0]                  \n",
            "__________________________________________________________________________________________________\n",
            "bi_lstm_1 (Bidirectional)       [(None, 367, 64), (N 24832       bi_lstm_0[0][0]                  \n",
            "__________________________________________________________________________________________________\n",
            "concatenate (Concatenate)       (None, 64)           0           bi_lstm_1[0][1]                  \n",
            "                                                                 bi_lstm_1[0][3]                  \n",
            "__________________________________________________________________________________________________\n",
            "attention (Attention)           ((None, 64), (None,  1311        bi_lstm_1[0][0]                  \n",
            "                                                                 concatenate[0][0]                \n",
            "__________________________________________________________________________________________________\n",
            "dense_3 (Dense)                 (None, 20)           1300        attention[0][0]                  \n",
            "__________________________________________________________________________________________________\n",
            "dropout (Dropout)               (None, 20)           0           dense_3[0][0]                    \n",
            "__________________________________________________________________________________________________\n",
            "dense_4 (Dense)                 (None, 1)            21          dropout[0][0]                    \n",
            "==================================================================================================\n",
            "Total params: 836,680\n",
            "Trainable params: 836,680\n",
            "Non-trainable params: 0\n",
            "__________________________________________________________________________________________________\n",
            "None\n"
          ],
          "name": "stdout"
        }
      ]
    },
    {
      "cell_type": "code",
      "metadata": {
        "colab": {
          "base_uri": "https://localhost:8080/",
          "height": 812
        },
        "id": "FGF6IwyRp3u1",
        "outputId": "abdc3b3c-3f47-433b-9741-7048d570cc59"
      },
      "source": [
        "keras.utils.plot_model(model, show_shapes=True, dpi=90)"
      ],
      "execution_count": null,
      "outputs": [
        {
          "output_type": "execute_result",
          "data": {
            "image/png": "[encoded data removed]",
            "text/plain": [
              "<IPython.core.display.Image object>"
            ]
          },
          "metadata": {
            "tags": []
          },
          "execution_count": 20
        }
      ]
    },
    {
      "cell_type": "code",
      "metadata": {
        "id": "0IX_TFFsp6pS"
      },
      "source": [
        "METRICS = [\n",
        "      keras.metrics.TruePositives(name='tp'),\n",
        "      keras.metrics.FalsePositives(name='fp'),\n",
        "      keras.metrics.TrueNegatives(name='tn'),\n",
        "      keras.metrics.FalseNegatives(name='fn'), \n",
        "      keras.metrics.BinaryAccuracy(name='accuracy'),\n",
        "      keras.metrics.Precision(name='precision'),\n",
        "      keras.metrics.Recall(name='recall'),\n",
        "      keras.metrics.AUC(name='auc'),\n",
        "]\n",
        "\n",
        "model.compile(loss='binary_crossentropy', optimizer='adam', metrics=METRICS)\n"
      ],
      "execution_count": null,
      "outputs": []
    },
    {
      "cell_type": "code",
      "metadata": {
        "id": "FXiG9c6FqutM"
      },
      "source": [
        "# AUTOTUNE = tf.data.experimental.AUTOTUNE\n",
        "# BATCH_SIZE = 32\n",
        "# IMG_SIZE = 192\n",
        "# SHUFFLE_SIZE = 1000\n",
        "\n",
        "# image_label_ds = tf.data.Dataset.zip((tf.data.Dataset.from_tensor_slices(X_train),tf.data.Dataset.from_tensor_slices(y_train)))\n",
        "# print(image_label_ds)\n",
        "# train_ds = image_label_ds.cache()\n",
        "# train_ds = image_label_ds.shuffle(SHUFFLE_SIZE)\n",
        "# train_ds = image_label_ds.batch(BATCH_SIZE).prefetch(buffer_size = AUTOTUNE)"
      ],
      "execution_count": null,
      "outputs": []
    },
    {
      "cell_type": "code",
      "metadata": {
        "id": "XFw_9D21uwTE"
      },
      "source": [
        "# AUTOTUNE = tf.data.experimental.AUTOTUNE\n",
        "# BATCH_SIZE = 32\n",
        "# IMG_SIZE = 192\n",
        "# SHUFFLE_SIZE = 1000\n",
        "\n",
        "# image_label_ds = tf.data.Dataset.zip((tf.data.Dataset.from_tensor_slices(X_test),tf.data.Dataset.from_tensor_slices(y_test)))\n",
        "# print(image_label_ds)\n",
        "# test_ds = image_label_ds.cache()\n",
        "# test_ds = image_label_ds.shuffle(SHUFFLE_SIZE)\n",
        "# test_ds = image_label_ds.batch(BATCH_SIZE).prefetch(buffer_size = AUTOTUNE)"
      ],
      "execution_count": null,
      "outputs": []
    },
    {
      "cell_type": "markdown",
      "metadata": {
        "id": "_R3_RUdzu4Av"
      },
      "source": [
        ""
      ]
    },
    {
      "cell_type": "code",
      "metadata": {
        "colab": {
          "base_uri": "https://localhost:8080/"
        },
        "id": "cV93sEFzp94k",
        "outputId": "258b7d09-d34a-4366-b40f-36d2c618c232"
      },
      "source": [
        "BATCH_SIZE = 100\n",
        "EPOCHS = 5\n",
        "history = model.fit(X_train_valid,y_train_valid,\n",
        "                    batch_size=BATCH_SIZE,\n",
        "                    epochs=EPOCHS,\n",
        "                    validation_split=0.2)"
      ],
      "execution_count": null,
      "outputs": [
        {
          "output_type": "stream",
          "text": [
            "Epoch 1/5\n",
            "3535/3535 [==============================] - 3484s 986ms/step - loss: 0.1045 - tp: 195953.0000 - fp: 8984.0000 - tn: 143938.0000 - fn: 4615.0000 - accuracy: 0.9615 - precision: 0.9562 - recall: 0.9770 - auc: 0.9921 - val_loss: 0.0794 - val_tp: 48883.0000 - val_fp: 1477.0000 - val_tn: 36984.0000 - val_fn: 1029.0000 - val_accuracy: 0.9716 - val_precision: 0.9707 - val_recall: 0.9794 - val_auc: 0.9953\n",
            "Epoch 2/5\n",
            "3535/3535 [==============================] - 3467s 981ms/step - loss: 0.0688 - tp: 197429.0000 - fp: 5697.0000 - tn: 147225.0000 - fn: 3139.0000 - accuracy: 0.9750 - precision: 0.9720 - recall: 0.9843 - auc: 0.9963 - val_loss: 0.0738 - val_tp: 48769.0000 - val_fp: 1246.0000 - val_tn: 37215.0000 - val_fn: 1143.0000 - val_accuracy: 0.9730 - val_precision: 0.9751 - val_recall: 0.9771 - val_auc: 0.9963\n",
            "Epoch 3/5\n",
            "3535/3535 [==============================] - 3460s 979ms/step - loss: 0.0565 - tp: 197971.0000 - fp: 4867.0000 - tn: 148055.0000 - fn: 2597.0000 - accuracy: 0.9789 - precision: 0.9760 - recall: 0.9871 - auc: 0.9974 - val_loss: 0.0715 - val_tp: 48920.0000 - val_fp: 1315.0000 - val_tn: 37146.0000 - val_fn: 992.0000 - val_accuracy: 0.9739 - val_precision: 0.9738 - val_recall: 0.9801 - val_auc: 0.9961\n",
            "Epoch 4/5\n",
            "3535/3535 [==============================] - 3474s 983ms/step - loss: 0.0459 - tp: 198328.0000 - fp: 3824.0000 - tn: 149098.0000 - fn: 2240.0000 - accuracy: 0.9828 - precision: 0.9811 - recall: 0.9888 - auc: 0.9983 - val_loss: 0.0776 - val_tp: 49071.0000 - val_fp: 1459.0000 - val_tn: 37002.0000 - val_fn: 841.0000 - val_accuracy: 0.9740 - val_precision: 0.9711 - val_recall: 0.9832 - val_auc: 0.9951\n",
            "Epoch 5/5\n",
            "3535/3535 [==============================] - 3466s 980ms/step - loss: 0.0361 - tp: 198742.0000 - fp: 2933.0000 - tn: 149989.0000 - fn: 1826.0000 - accuracy: 0.9865 - precision: 0.9855 - recall: 0.9909 - auc: 0.9988 - val_loss: 0.0840 - val_tp: 49044.0000 - val_fp: 1468.0000 - val_tn: 36993.0000 - val_fn: 868.0000 - val_accuracy: 0.9736 - val_precision: 0.9709 - val_recall: 0.9826 - val_auc: 0.9941\n"
          ],
          "name": "stdout"
        }
      ]
    },
    {
      "cell_type": "code",
      "metadata": {
        "id": "LHCX_uL_OslT"
      },
      "source": [
        "y_pred = model.predict(X_test)"
      ],
      "execution_count": null,
      "outputs": []
    },
    {
      "cell_type": "code",
      "metadata": {
        "colab": {
          "base_uri": "https://localhost:8080/"
        },
        "id": "c2yfjwhtilpF",
        "outputId": "89670a42-bc93-4d46-e32d-f3ccd9c1a338"
      },
      "source": [
        "model.evaluate(X_test, y_test, batch_size = BATCH_SIZE)"
      ],
      "execution_count": null,
      "outputs": [
        {
          "output_type": "stream",
          "text": [
            "1105/1105 [==============================] - 268s 243ms/step - loss: 0.0806 - tp: 61454.0000 - fp: 1815.0000 - tn: 46192.0000 - fn: 1005.0000 - accuracy: 0.9745 - precision: 0.9713 - recall: 0.9839 - auc: 0.9946\n"
          ],
          "name": "stdout"
        },
        {
          "output_type": "execute_result",
          "data": {
            "text/plain": [
              "[0.08062847703695297,\n",
              " 61454.0,\n",
              " 1815.0,\n",
              " 46192.0,\n",
              " 1005.0,\n",
              " 0.9744718074798584,\n",
              " 0.971312940120697,\n",
              " 0.9839094281196594,\n",
              " 0.9945700168609619]"
            ]
          },
          "metadata": {
            "tags": []
          },
          "execution_count": 26
        }
      ]
    },
    {
      "cell_type": "code",
      "metadata": {
        "id": "ZaVT3-hfLRnM"
      },
      "source": [
        "model.save_weights(\"/content/drive/My Drive/attention_base_model_2.h5\")"
      ],
      "execution_count": null,
      "outputs": []
    },
    {
      "cell_type": "code",
      "metadata": {
        "id": "lAEmMWAmK_Jx"
      },
      "source": [
        "plt.plot(history.history['acc'])\n",
        "plt.plot(history.history['val_acc'])\n",
        "plt.title('model accuracy')\n",
        "plt.ylabel('accuracy')\n",
        "plt.xlabel('epoch')\n",
        "plt.legend(['train', 'val'], loc='upper left')\n",
        "plt.show()"
      ],
      "execution_count": null,
      "outputs": []
    },
    {
      "cell_type": "code",
      "metadata": {
        "id": "VIz9fMFphUqx"
      },
      "source": [
        ""
      ],
      "execution_count": null,
      "outputs": []
    }
  ]
}