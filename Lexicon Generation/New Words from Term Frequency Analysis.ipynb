{
 "cells": [
  {
   "cell_type": "code",
   "execution_count": 1,
   "metadata": {},
   "outputs": [],
   "source": [
    "%load_ext autoreload\n",
    "%autoreload 2"
   ]
  },
  {
   "cell_type": "code",
   "execution_count": 2,
   "metadata": {},
   "outputs": [
    {
     "data": {
      "text/plain": [
       "'C:\\\\Users\\\\mattb\\\\Documents\\\\GitHub\\\\peace-speech-project\\\\data\\\\clean_sample'"
      ]
     },
     "execution_count": 2,
     "metadata": {},
     "output_type": "execute_result"
    }
   ],
   "source": [
    "import os\n",
    "import pathlib\n",
    "import warnings\n",
    "warnings.filterwarnings(action=\"ignore\")\n",
    "\n",
    "import pprint\n",
    "import itertools\n",
    "from tqdm import tqdm\n",
    "\n",
    "import numpy as np\n",
    "import pandas as pd\n",
    "\n",
    "import matplotlib.pyplot as plt\n",
    "import seaborn as sns\n",
    "\n",
    "%matplotlib inline\n",
    "\n",
    "from utils.reading import read_all_files, get_text\n",
    "from utils.common import get_country_labels, get_society_label\n",
    "\n",
    "# CLEAN_DATA_FOLDER = os.path.join(\"/Users\", \"mmackenzie\", \"Data\", \"peace-speech-project\", \"clean_sample\")\n",
    "CLEAN_DATA_FOLDER = r\"C:\\Users\\mattb\\Documents\\GitHub\\peace-speech-project\\data\\clean_sample\"\n",
    "CLEAN_DATA_FOLDER"
   ]
  },
  {
   "cell_type": "code",
   "execution_count": 4,
   "metadata": {},
   "outputs": [],
   "source": [
    "# articles = read_all_files(path=CLEAN_DATA_FOLDER,\n",
    "#                           countries = list(itertools.chain(*get_country_labels().values())))\n",
    "\n",
    "# articles_with_text = get_text(articles, path=CLEAN_DATA_FOLDER)"
   ]
  },
  {
   "cell_type": "code",
   "execution_count": 5,
   "metadata": {},
   "outputs": [
    {
     "data": {
      "text/plain": [
       "AU    109723\n",
       "CA    109502\n",
       "GB    107534\n",
       "NZ    107335\n",
       "IE    105035\n",
       "NG     79617\n",
       "SG     56314\n",
       "KE     56297\n",
       "PK     55194\n",
       "BD     23400\n",
       "TZ     16861\n",
       "Name: country, dtype: int64"
      ]
     },
     "execution_count": 5,
     "metadata": {},
     "output_type": "execute_result"
    }
   ],
   "source": [
    "countries = list(itertools.chain(*get_country_labels().values()))\n",
    "articles_with_text = pd.read_csv(\"data/clean_sample/all_data.csv\")\n",
    "\n",
    "articles_with_text = articles_with_text[articles_with_text.country.isin(countries)]\n",
    "articles_with_text.country.value_counts()"
   ]
  },
  {
   "cell_type": "code",
   "execution_count": 6,
   "metadata": {},
   "outputs": [
    {
     "name": "stdout",
     "output_type": "stream",
     "text": [
      "(826812, 9)\n"
     ]
    },
    {
     "data": {
      "text/plain": [
       "Peaceful       595443\n",
       "Nonpeaceful    231369\n",
       "Name: society, dtype: int64"
      ]
     },
     "execution_count": 6,
     "metadata": {},
     "output_type": "execute_result"
    }
   ],
   "source": [
    "country_labels = get_country_labels()\n",
    "articles_with_text[\"society\"] = articles_with_text.country.apply(get_society_label, country_labels=country_labels)\n",
    "\n",
    "print(articles_with_text.shape)\n",
    "articles_with_text.society.value_counts()"
   ]
  },
  {
   "cell_type": "code",
   "execution_count": 7,
   "metadata": {},
   "outputs": [],
   "source": [
    "from sklearn.feature_extraction.text import TfidfVectorizer\n",
    "\n",
    "def combine_text_by_group(text_df, group):\n",
    "    by_group = text_df.groupby(group).text.apply(lambda x: x.str.cat(sep = \"\\n\\n\"))\n",
    "    return by_group.reset_index()\n",
    "    \n",
    "def fit_tfidf(text, binary=False, min_df=1, max_df=1):\n",
    "    tfidf = TfidfVectorizer(stop_words=\"english\", \n",
    "                            binary=binary, min_df=min_df, max_df=max_df)\n",
    "    tfidf.fit(text)\n",
    "    \n",
    "    return tfidf\n",
    "\n",
    "def get_top_n_terms(text, tfidf, n=10):\n",
    "    response = tfidf.transform(text)\n",
    "    top_values = np.partition(response.toarray(), -n, axis=1)[:, -n:][:, ::-1]\n",
    "\n",
    "    terms = np.array(tfidf.get_feature_names())\n",
    "    tfidf_sorting = np.argsort(-response.toarray())\n",
    "    top_n_by_doc_idx = tfidf_sorting[:, :n]\n",
    "    \n",
    "    top_terms = terms[top_n_by_doc_idx]\n",
    "    \n",
    "    return np.around(top_values, 4), top_terms\n",
    "\n",
    "def create_top_n_terms_df(text_df, top_terms, top_values):\n",
    "    df = text_df.copy()\n",
    "    \n",
    "    df[\"combined\"] = np.stack((top_terms,top_values), axis=2).tolist()\n",
    "    \n",
    "    df_long = df.explode(\"combined\")\n",
    "    df_long[['term', 'value']] = pd.DataFrame(df_long['combined'].tolist(), index=df_long.index) \n",
    "    \n",
    "    return df_long.drop(\"combined\", axis=1)"
   ]
  },
  {
   "cell_type": "markdown",
   "metadata": {},
   "source": [
    "## Word Distributions"
   ]
  },
  {
   "cell_type": "code",
   "execution_count": 8,
   "metadata": {},
   "outputs": [
    {
     "name": "stderr",
     "output_type": "stream",
     "text": [
      "[nltk_data] Downloading package wordnet to\n",
      "[nltk_data]     C:\\Users\\mattb\\AppData\\Roaming\\nltk_data...\n",
      "[nltk_data]   Package wordnet is already up-to-date!\n"
     ]
    }
   ],
   "source": [
    "import nltk\n",
    "from nltk.tokenize import word_tokenize\n",
    "from nltk.corpus import wordnet\n",
    "\n",
    "nltk.download('wordnet')\n",
    "\n",
    "def wordnet_pos(w, pos):\n",
    "    synsets = wordnet.synsets(w)\n",
    "    return [w for w in synsets if w.pos() == pos]"
   ]
  },
  {
   "cell_type": "code",
   "execution_count": 9,
   "metadata": {},
   "outputs": [
    {
     "name": "stderr",
     "output_type": "stream",
     "text": [
      "Tokenizing words: 100%|███████████████████████████████████████████████████████| 826812/826812 [14:27<00:00, 953.22it/s]"
     ]
    },
    {
     "name": "stdout",
     "output_type": "stream",
     "text": [
      "Wall time: 14min 27s\n"
     ]
    },
    {
     "name": "stderr",
     "output_type": "stream",
     "text": [
      "\n"
     ]
    }
   ],
   "source": [
    "%%time\n",
    "\n",
    "tqdm.pandas(desc=\"Tokenizing words\")\n",
    "words = articles_with_text.text.progress_apply(lambda x: np.nan if pd.isna(x) else word_tokenize(x))"
   ]
  },
  {
   "cell_type": "code",
   "execution_count": 59,
   "metadata": {},
   "outputs": [
    {
     "name": "stderr",
     "output_type": "stream",
     "text": [
      "Getting synsets: 100%|██████████████████████████████████████████████████████| 130423/130423 [00:03<00:00, 37136.75it/s]\n",
      "Getting noun synsets: 100%|█████████████████████████████████████████████████| 130423/130423 [00:01<00:00, 73869.03it/s]\n",
      "Getting verb synsets: 100%|█████████████████████████████████████████████████| 130423/130423 [00:01<00:00, 77645.19it/s]\n"
     ]
    },
    {
     "name": "stdout",
     "output_type": "stream",
     "text": [
      "Wall time: 6min 52s\n"
     ]
    }
   ],
   "source": [
    "%%time\n",
    "\n",
    "word_freqs = articles_with_text[[\"society\", \"country\", \"year\"]].join(words.rename(\"word\"))\n",
    "word_freqs = word_freqs[~word_freqs.word.isna()]\n",
    "\n",
    "word_freqs = word_freqs.explode(\"word\").groupby([\"society\", \"word\"]).size().rename(\"freq\").reset_index()\n",
    "word_freqs = word_freqs[word_freqs.freq > 30]\n",
    "\n",
    "word_freqs[\"log_freq\"] = np.log(word_freqs.freq)\n",
    "word_freqs[\"word_len\"] = word_freqs.word.str.len()\n",
    "\n",
    "word_freqs = word_freqs[(word_freqs.word_len > 3) & (word_freqs.word.str.isalpha())]\n",
    "\n",
    "tqdm.pandas(desc=\"Getting synsets\")\n",
    "word_freqs[\"n_syns\"] = word_freqs.word.progress_apply(lambda x: len(wordnet.synsets(x)))\n",
    "\n",
    "tqdm.pandas(desc=\"Getting noun synsets\")\n",
    "word_freqs[\"n_synnouns\"] = word_freqs.word.progress_apply(lambda x: len(wordnet_pos(x, \"n\")))\n",
    "\n",
    "tqdm.pandas(desc=\"Getting verb synsets\")\n",
    "word_freqs[\"n_synverbs\"] = word_freqs.word.progress_apply(lambda x: len(wordnet_pos(x, \"v\")))\n",
    "\n",
    "word_freqs = word_freqs[word_freqs.n_syns > 0]"
   ]
  },
  {
   "cell_type": "code",
   "execution_count": 60,
   "metadata": {},
   "outputs": [],
   "source": [
    "def apply_rankings(wf):\n",
    "    df = wf.copy()\n",
    "    \n",
    "    df[\"freq_rank\"] = df.groupby(\"society\").freq.rank(ascending=False)\n",
    "    df[\"freq_rank_pct\"] = df.groupby(\"society\").freq.rank(ascending=False, pct=True)\n",
    "    \n",
    "    return df"
   ]
  },
  {
   "cell_type": "code",
   "execution_count": 61,
   "metadata": {},
   "outputs": [
    {
     "data": {
      "text/html": [
       "<div>\n",
       "<style scoped>\n",
       "    .dataframe tbody tr th:only-of-type {\n",
       "        vertical-align: middle;\n",
       "    }\n",
       "\n",
       "    .dataframe tbody tr th {\n",
       "        vertical-align: top;\n",
       "    }\n",
       "\n",
       "    .dataframe thead th {\n",
       "        text-align: right;\n",
       "    }\n",
       "</style>\n",
       "<table border=\"1\" class=\"dataframe\">\n",
       "  <thead>\n",
       "    <tr style=\"text-align: right;\">\n",
       "      <th></th>\n",
       "      <th></th>\n",
       "      <th>log_freq</th>\n",
       "      <th>freq_rank</th>\n",
       "    </tr>\n",
       "    <tr>\n",
       "      <th>society</th>\n",
       "      <th></th>\n",
       "      <th></th>\n",
       "      <th></th>\n",
       "    </tr>\n",
       "  </thead>\n",
       "  <tbody>\n",
       "    <tr>\n",
       "      <th rowspan=\"2\" valign=\"top\">Nonpeaceful</th>\n",
       "      <th>log_freq</th>\n",
       "      <td>1.000000</td>\n",
       "      <td>-0.952359</td>\n",
       "    </tr>\n",
       "    <tr>\n",
       "      <th>freq_rank</th>\n",
       "      <td>-0.952359</td>\n",
       "      <td>1.000000</td>\n",
       "    </tr>\n",
       "    <tr>\n",
       "      <th rowspan=\"2\" valign=\"top\">Peaceful</th>\n",
       "      <th>log_freq</th>\n",
       "      <td>1.000000</td>\n",
       "      <td>-0.955561</td>\n",
       "    </tr>\n",
       "    <tr>\n",
       "      <th>freq_rank</th>\n",
       "      <td>-0.955561</td>\n",
       "      <td>1.000000</td>\n",
       "    </tr>\n",
       "  </tbody>\n",
       "</table>\n",
       "</div>"
      ],
      "text/plain": [
       "                       log_freq  freq_rank\n",
       "society                                   \n",
       "Nonpeaceful log_freq   1.000000  -0.952359\n",
       "            freq_rank -0.952359   1.000000\n",
       "Peaceful    log_freq   1.000000  -0.955561\n",
       "            freq_rank -0.955561   1.000000"
      ]
     },
     "execution_count": 61,
     "metadata": {},
     "output_type": "execute_result"
    }
   ],
   "source": [
    "apply_rankings(word_freqs).groupby(\"society\")[[\"log_freq\", \"freq_rank\"]].corr()"
   ]
  },
  {
   "cell_type": "code",
   "execution_count": 68,
   "metadata": {},
   "outputs": [],
   "source": [
    "word_freqs.to_csv(\"data/word_frequencies.csv\", index=False)"
   ]
  },
  {
   "cell_type": "code",
   "execution_count": 62,
   "metadata": {},
   "outputs": [
    {
     "name": "stdout",
     "output_type": "stream",
     "text": [
      "Wall time: 1min 24s\n"
     ]
    },
    {
     "data": {
      "image/png": "[encoded data removed]",
      "text/plain": [
       "<Figure size 1440x576 with 2 Axes>"
      ]
     },
     "metadata": {
      "needs_background": "light"
     },
     "output_type": "display_data"
    }
   ],
   "source": [
    "%%time\n",
    "\n",
    "def plot_zipfs(wf, society, ax=None):\n",
    "\n",
    "    df = wf[wf.society == society].copy()\n",
    "    df = df.sort_values(by=[\"freq\"], ascending=False)\n",
    "\n",
    "    x = np.log(df.freq_rank.values)\n",
    "    y = np.log(df.freq.values)\n",
    "\n",
    "    ax = sns.lineplot(x, y, ax=ax)\n",
    "    ax.set_xlabel(\"LOG Word Rank\")\n",
    "    ax.set_ylabel(\"LOG Number of Occurences\")\n",
    "    ax.set_title(society)\n",
    "    \n",
    "fig, axes = plt.subplots(ncols=2, figsize=(20, 8))\n",
    "\n",
    "plot_zipfs(apply_rankings(word_freqs), \"Peaceful\", axes[0])\n",
    "plot_zipfs(apply_rankings(word_freqs), \"Nonpeaceful\", axes[1])"
   ]
  },
  {
   "cell_type": "code",
   "execution_count": 70,
   "metadata": {},
   "outputs": [],
   "source": [
    "def get_top_n(top_n):\n",
    "    peaceful_words = set(top_n[top_n.society == \"Peaceful\"].word.tolist())\n",
    "    nonpeaceful_words = set(top_n[top_n.society == \"Nonpeaceful\"].word.tolist())\n",
    "\n",
    "    common_words = set.intersection(peaceful_words, nonpeaceful_words)\n",
    "    \n",
    "    return peaceful_words - common_words, nonpeaceful_words - common_words\n",
    "\n",
    "def get_rank_comparison(top_n):\n",
    "    def get_higher_rank(x):\n",
    "        p, n = x[\"Peaceful\"], x[\"Nonpeaceful\"]\n",
    "        if p > n:\n",
    "            return \"Nonpeaceful\"\n",
    "        elif n > p:\n",
    "            return \"Peaceful\"\n",
    "        else:\n",
    "            return pd.NA\n",
    "    rank_comparison = top_n[[\"society\", \"word\", \"freq_rank\"]].copy()\n",
    "    rank_comparison = rank_comparison[rank_comparison.duplicated(\"word\", keep=False)]\n",
    "    rank_comparison = rank_comparison.pivot(index=\"word\", columns=\"society\", values=\"freq_rank\").reset_index()\n",
    "    rank_comparison[\"abs_diff_rank\"] = np.abs(rank_comparison.Nonpeaceful - rank_comparison.Peaceful)\n",
    "    rank_comparison[\"higher_ranked\"] = rank_comparison.apply(get_higher_rank, axis=1)\n",
    "    \n",
    "    return rank_comparison.copy()\n",
    "\n",
    "def get_diff_rank_words(top_n, diff=30):\n",
    "    rank_comparison = get_rank_comparison(top_n)\n",
    "    rank_comparison = rank_comparison[rank_comparison.abs_diff_rank >= diff]\n",
    "    \n",
    "    words = {g: set(d.word.tolist()) for g, d in rank_comparison.groupby(\"higher_ranked\")}\n",
    "    \n",
    "    return words[\"Peaceful\"], words[\"Nonpeaceful\"]\n",
    "\n",
    "def pprint_words(u_peaceful_words, u_nonpeaceful_words, c_peaceful_words, c_nonpeaceful_words, diff=30):\n",
    "    \n",
    "    pp = pprint.PrettyPrinter(width=130, compact=True)\n",
    "\n",
    "    print(\"**Peaceful Words**\")\n",
    "    print(\"Unique - \")\n",
    "    pp.pprint(u_peaceful_words)\n",
    "    \n",
    "    print(f\"\\nHigher Ranked (diff of {diff}+) - \")\n",
    "    pp.pprint(c_peaceful_words)\n",
    "\n",
    "    print(\"\\n\\n**Non Peaceful Words**\")\n",
    "    print(\"Unique - \")\n",
    "    pp.pprint(u_nonpeaceful_words)\n",
    "    \n",
    "    print(f\"\\nHigher Ranked (diff of {diff}+) - \")\n",
    "    pp.pprint(c_nonpeaceful_words)\n",
    "    \n",
    "def run_words(wf, n=100, diff=30, print_words=True):\n",
    "    df = apply_rankings(wf).copy()\n",
    "    top_n = df[df[\"freq_rank\"] <= n].copy()\n",
    "    u_peaceful_words, u_nonpeaceful_words = get_top_n(top_n)\n",
    "    c_peaceful_words, c_nonpeaceful_words = get_diff_rank_words(top_n, diff)\n",
    "    \n",
    "    if print_words:\n",
    "        pprint_words(u_peaceful_words, u_nonpeaceful_words, c_peaceful_words, c_nonpeaceful_words, diff)\n",
    "        \n",
    "    return u_peaceful_words, u_nonpeaceful_words, c_peaceful_words, c_nonpeaceful_words"
   ]
  },
  {
   "cell_type": "code",
   "execution_count": 71,
   "metadata": {},
   "outputs": [
    {
     "name": "stdout",
     "output_type": "stream",
     "text": [
      "**Peaceful Words**\n",
      "Unique - \n",
      "{'another', 'around', 'base', 'best', 'cent', 'change', 'city', 'community', 'continue', 'every', 'family', 'five', 'four',\n",
      " 'game', 'great', 'health', 'home', 'keep', 'leave', 'live', 'long', 'move', 'much', 'next', 'open', 'plan', 'play', 'player',\n",
      " 'point', 'really', 'season', 'second', 'thing', 'think', 'week'}\n",
      "\n",
      "Higher Ranked (diff of 30+) - \n",
      "{'show', 'look', 'find', 'back', 'still', 'team', 'help', 'month'}\n",
      "\n",
      "\n",
      "**Non Peaceful Words**\n",
      "Unique - \n",
      "{'accord', 'bank', 'billion', 'chief', 'court', 'development', 'election', 'general', 'governor', 'hold', 'house', 'however',\n",
      " 'increase', 'international', 'kenya', 'leader', 'local', 'medium', 'minister', 'must', 'nation', 'nigeria', 'nigerian',\n",
      " 'official', 'order', 'pakistan', 'party', 'political', 'power', 'president', 'project', 'recommend', 'sector', 'security',\n",
      " 'university'}\n",
      "\n",
      "Higher Ranked (diff of 30+) - \n",
      "{'police', 'member', 'country', 'case', 'issue', 'state', 'million', 'national', 'area'}\n"
     ]
    }
   ],
   "source": [
    "_ = run_words(word_freqs)"
   ]
  },
  {
   "cell_type": "code",
   "execution_count": 72,
   "metadata": {},
   "outputs": [
    {
     "name": "stdout",
     "output_type": "stream",
     "text": [
      "**Peaceful Words**\n",
      "Unique - \n",
      "{'absolutely', 'alongside', 'beautiful', 'certainly', 'cheap', 'clearly', 'compete', 'completely', 'connect', 'dangerous',\n",
      " 'defend', 'definitely', 'directly', 'easily', 'eventually', 'exactly', 'excite', 'extremely', 'famous', 'guilty', 'healthy',\n",
      " 'heard', 'imagine', 'inspire', 'intend', 'interested', 'listen', 'maybe', 'mental', 'obviously', 'physical', 'powerful',\n",
      " 'pretty', 'previously', 'probably', 'proud', 'quickly', 'realise', 'recognise', 'reflect', 'related', 'replace', 'sexual',\n",
      " 'slow', 'southern', 'survive', 'twice', 'unique', 'warm', 'wide'}\n",
      "\n",
      "Higher Ranked (diff of 30+) - \n",
      "{'actually', 'admit', 'almost', 'appear', 'apply', 'arrive', 'aware', 'certain', 'choose', 'contain', 'digital', 'discover',\n",
      " 'easy', 'either', 'enter', 'environmental', 'ever', 'finally', 'happy', 'hard', 'hear', 'highly', 'likely', 'massive', 'near',\n",
      " 'nearly', 'occur', 'often', 'online', 'perhaps', 'popular', 'prove', 'publish', 'quite', 'rather', 'really', 'remember', 'seem',\n",
      " 'select', 'significant', 'similar', 'simply', 'sometimes', 'spend', 'suggest', 'sure', 'throughout', 'usually'}\n",
      "\n",
      "\n",
      "**Non Peaceful Words**\n",
      "Unique - \n",
      "{'abroad', 'acquire', 'adopt', 'advise', 'agricultural', 'allegedly', 'apart', 'appoint', 'appreciate', 'approve', 'assure',\n",
      " 'besides', 'conclude', 'cultural', 'declare', 'democratic', 'depend', 'destroy', 'disclose', 'electoral', 'enhance',\n",
      " 'facilitate', 'fiscal', 'illegal', 'immediate', 'industrial', 'inform', 'insist', 'islamic', 'marry', 'observe', 'obtain',\n",
      " 'ongoing', 'organise', 'participate', 'pray', 'presidential', 'proper', 'recommend', 'recover', 'respectively', 'rural',\n",
      " 'strategic', 'strengthen', 'submit', 'supreme', 'suspend', 'sustain', 'sustainable', 'therefore'}\n",
      "\n",
      "Higher Ranked (diff of 30+) - \n",
      "{'accuse', 'achieve', 'allege', 'civil', 'commit', 'contribute', 'deny', 'direct', 'economic', 'effective', 'emerge', 'enable',\n",
      " 'engage', 'ensure', 'especially', 'establish', 'explain', 'fail', 'foreign', 'fresh', 'generate', 'immediately', 'improve',\n",
      " 'indeed', 'indicate', 'maintain', 'political', 'promote', 'regional', 'represent', 'responsible', 'thank', 'traditional',\n",
      " 'unite', 'various'}\n"
     ]
    }
   ],
   "source": [
    "_ = run_words(word_freqs.query(\"n_synnouns == 0\"), 250)"
   ]
  },
  {
   "cell_type": "code",
   "execution_count": 73,
   "metadata": {},
   "outputs": [
    {
     "name": "stdout",
     "output_type": "stream",
     "text": [
      "**Peaceful Words**\n",
      "Unique - \n",
      "{'chance', 'coach', 'couple', 'cover', 'design', 'drop', 'drug', 'fall', 'feature', 'figure', 'finish', 'front', 'hear', 'image',\n",
      " 'light', 'miss', 'model', 'park', 'pick', 'picture', 'program', 'race', 'range', 'review', 'round', 'save', 'score', 'short',\n",
      " 'spend', 'stage', 'store', 'suggest', 'track', 'travel', 'trump', 'wait', 'walk', 'watch'}\n",
      "\n",
      "Higher Ranked (diff of 30+) - \n",
      "{'appear', 'book', 'break', 'build', 'building', 'care', 'centre', 'close', 'club', 'comment', 'consider', 'course', 'date',\n",
      " 'deal', 'drive', 'experience', 'feel', 'film', 'fire', 'focus', 'full', 'happen', 'home', 'impact', 'involve', 'keep', 'learn',\n",
      " 'line', 'look', 'love', 'mark', 'mean', 'offer', 'open', 'play', 'research', 'rise', 'risk', 'season', 'seem', 'sport', 'staff',\n",
      " 'star', 'stay', 'study', 'test', 'think', 'turn', 'write'}\n",
      "\n",
      "\n",
      "**Non Peaceful Words**\n",
      "Unique - \n",
      "{'accuse', 'address', 'affect', 'agree', 'amount', 'appeal', 'arrest', 'commission', 'conduct', 'direct', 'establish', 'exchange',\n",
      " 'explain', 'export', 'express', 'fail', 'file', 'finance', 'firm', 'fruit', 'import', 'limit', 'measure', 'meeting', 'plant',\n",
      " 'port', 'practice', 'press', 'programme', 'promise', 'recommend', 'regard', 'represent', 'reveal', 'stock', 'supply', 'suspect',\n",
      " 'urge'}\n",
      "\n",
      "Higher Ranked (diff of 30+) - \n",
      "{'access', 'accord', 'account', 'action', 'attack', 'bank', 'benefit', 'bill', 'carry', 'challenge', 'court', 'demand', 'develop',\n",
      " 'ensure', 'fight', 'force', 'fund', 'improve', 'kill', 'land', 'manage', 'minister', 'note', 'order', 'position', 'present',\n",
      " 'prime', 'process', 'produce', 'project', 'reach', 'reason', 'reduce', 'rule', 'seek', 'serve', 'source', 'speak', 'state',\n",
      " 'total', 'trade', 'train', 'united', 'visit', 'vote'}\n"
     ]
    }
   ],
   "source": [
    "_ = run_words(word_freqs.query(\"n_synverbs > 1\"), 250)"
   ]
  },
  {
   "cell_type": "code",
   "execution_count": 78,
   "metadata": {},
   "outputs": [],
   "source": [
    "up1, un1, cp1, cn1 = run_words(word_freqs.query(\"n_synnouns == 0\"), 300, print_words=False)\n",
    "up2, un2, cp2, cn2 = run_words(word_freqs.query(\"n_synverbs > 1\"), 300, print_words=False)\n",
    "\n",
    "new_lexicon = []\n",
    "for label, words in zip([\"peace\", \"conflict\", \"peace\", \"conflict\"] * 2, [up1, un1, cp1, cn1, up2, un2, cp2, cn2]):\n",
    "    lexicon_df = pd.DataFrame({\"term\": list(words)}, index=range(len(words)))\n",
    "    lexicon_df[\"lexicon\"] = label\n",
    "    lexicon_df[\"society\"] = \"Peaceful\" if label == \"peace\" else \"Nonpeaceful\"\n",
    "    new_lexicon.append(lexicon_df)\n",
    "    \n",
    "new_lexicon = pd.concat(new_lexicon).reset_index(drop=True)\n",
    "new_lexicon = new_lexicon.drop_duplicates([\"term\", \"lexicon\"])\n",
    "\n",
    "# new_lexicon.to_csv(\"lexicons/top_words_lexicon.csv\", index=False)"
   ]
  },
  {
   "cell_type": "code",
   "execution_count": 92,
   "metadata": {},
   "outputs": [
    {
     "name": "stdout",
     "output_type": "stream",
     "text": [
      "peace       100\n",
      "conflict    100\n",
      "Name: lexicon, dtype: int64\n"
     ]
    },
    {
     "data": {
      "text/html": [
       "<div>\n",
       "<style scoped>\n",
       "    .dataframe tbody tr th:only-of-type {\n",
       "        vertical-align: middle;\n",
       "    }\n",
       "\n",
       "    .dataframe tbody tr th {\n",
       "        vertical-align: top;\n",
       "    }\n",
       "\n",
       "    .dataframe thead th {\n",
       "        text-align: right;\n",
       "    }\n",
       "</style>\n",
       "<table border=\"1\" class=\"dataframe\">\n",
       "  <thead>\n",
       "    <tr style=\"text-align: right;\">\n",
       "      <th></th>\n",
       "      <th>lexicon</th>\n",
       "      <th>term</th>\n",
       "    </tr>\n",
       "  </thead>\n",
       "  <tbody>\n",
       "    <tr>\n",
       "      <th>0</th>\n",
       "      <td>peace</td>\n",
       "      <td>look</td>\n",
       "    </tr>\n",
       "    <tr>\n",
       "      <th>1</th>\n",
       "      <td>peace</td>\n",
       "      <td>think</td>\n",
       "    </tr>\n",
       "    <tr>\n",
       "      <th>2</th>\n",
       "      <td>peace</td>\n",
       "      <td>play</td>\n",
       "    </tr>\n",
       "    <tr>\n",
       "      <th>3</th>\n",
       "      <td>peace</td>\n",
       "      <td>home</td>\n",
       "    </tr>\n",
       "    <tr>\n",
       "      <th>4</th>\n",
       "      <td>peace</td>\n",
       "      <td>really</td>\n",
       "    </tr>\n",
       "    <tr>\n",
       "      <th>...</th>\n",
       "      <td>...</td>\n",
       "      <td>...</td>\n",
       "    </tr>\n",
       "    <tr>\n",
       "      <th>195</th>\n",
       "      <td>conflict</td>\n",
       "      <td>attend</td>\n",
       "    </tr>\n",
       "    <tr>\n",
       "      <th>196</th>\n",
       "      <td>conflict</td>\n",
       "      <td>respect</td>\n",
       "    </tr>\n",
       "    <tr>\n",
       "      <th>197</th>\n",
       "      <td>conflict</td>\n",
       "      <td>declare</td>\n",
       "    </tr>\n",
       "    <tr>\n",
       "      <th>198</th>\n",
       "      <td>conflict</td>\n",
       "      <td>presidential</td>\n",
       "    </tr>\n",
       "    <tr>\n",
       "      <th>199</th>\n",
       "      <td>conflict</td>\n",
       "      <td>protest</td>\n",
       "    </tr>\n",
       "  </tbody>\n",
       "</table>\n",
       "<p>200 rows × 2 columns</p>\n",
       "</div>"
      ],
      "text/plain": [
       "      lexicon          term\n",
       "0       peace          look\n",
       "1       peace         think\n",
       "2       peace          play\n",
       "3       peace          home\n",
       "4       peace        really\n",
       "..        ...           ...\n",
       "195  conflict        attend\n",
       "196  conflict       respect\n",
       "197  conflict       declare\n",
       "198  conflict  presidential\n",
       "199  conflict       protest\n",
       "\n",
       "[200 rows x 2 columns]"
      ]
     },
     "execution_count": 92,
     "metadata": {},
     "output_type": "execute_result"
    }
   ],
   "source": [
    "new_lexicon_norm = new_lexicon.merge(\n",
    "    word_freqs, \n",
    "    left_on=[\"society\", \"term\"],\n",
    "    right_on=[\"society\", \"word\"],\n",
    "    how=\"left\"\n",
    ")\n",
    "\n",
    "new_lexicon_norm = new_lexicon_norm[[\"lexicon\", \"term\", \"freq\"]] \\\n",
    "    .sort_values([\"lexicon\", \"freq\"], ascending=False) \\\n",
    "    .groupby(\"lexicon\") \\\n",
    "    .head(100) \\\n",
    "    .reset_index()\n",
    "\n",
    "new_lexicon_norm = new_lexicon_norm[[\"lexicon\", \"term\"]]\n",
    "new_lexicon_norm.to_csv(\"lexicons/tf_lexicon__normalized.csv\", index=False)\n",
    "\n",
    "print(new_lexicon_norm.lexicon.value_counts())\n",
    "new_lexicon_norm"
   ]
  },
  {
   "cell_type": "code",
   "execution_count": null,
   "metadata": {},
   "outputs": [],
   "source": []
  }
 ],
 "metadata": {
  "kernelspec": {
   "display_name": "Python 3",
   "language": "python",
   "name": "python3"
  },
  "language_info": {
   "codemirror_mode": {
    "name": "ipython",
    "version": 3
   },
   "file_extension": ".py",
   "mimetype": "text/x-python",
   "name": "python",
   "nbconvert_exporter": "python",
   "pygments_lexer": "ipython3",
   "version": "3.8.5"
  }
 },
 "nbformat": 4,
 "nbformat_minor": 4
}
