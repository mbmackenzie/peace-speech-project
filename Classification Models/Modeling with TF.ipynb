{
 "cells": [
  {
   "cell_type": "markdown",
   "metadata": {},
   "source": [
    "# Linear Model with Lexicon Term Frequencies"
   ]
  },
  {
   "cell_type": "code",
   "execution_count": 1,
   "metadata": {},
   "outputs": [],
   "source": [
    "import os\n",
    "import re\n",
    "import pathlib\n",
    "import warnings\n",
    "warnings.filterwarnings(action=\"ignore\")\n",
    "\n",
    "import pprint\n",
    "import itertools\n",
    "from tqdm import tqdm\n",
    "\n",
    "import numpy as np\n",
    "import pandas as pd\n",
    "\n",
    "import matplotlib.pyplot as plt\n",
    "import seaborn as sns"
   ]
  },
  {
   "cell_type": "code",
   "execution_count": 2,
   "metadata": {},
   "outputs": [],
   "source": [
    "def annotateBars(ax, fmt=\"{:.0f}\", percent=False): \n",
    "    for p in ax.patches:\n",
    "        value = p.get_height()\n",
    "        if percent:\n",
    "            value = f\"{value * 100:.0f}%\"\n",
    "        else:\n",
    "            value = fmt.format(value)\n",
    "            \n",
    "        ax.annotate(value, \n",
    "                    (p.get_x() + p.get_width() / 2., 0),\n",
    "                    ha='center', va='center', fontsize=22, color='black', xytext=(0, 20), textcoords='offset points')\n",
    "        \n",
    "def pretty_plot(ax, title, xlab, ylab, sizes=(18, 14, 13)):\n",
    "    ax.set_title(title, fontsize=sizes[0], y=1.01)\n",
    "    ax.set_xlabel(xlab, fontsize=sizes[1])\n",
    "    ax.set_ylabel(ylab, fontsize=sizes[1])\n",
    "\n",
    "    ax.tick_params(axis=\"x\", labelsize=sizes[2])\n",
    "    ax.tick_params(axis=\"x\", labelsize=sizes[2])"
   ]
  },
  {
   "cell_type": "markdown",
   "metadata": {},
   "source": [
    "### I want to predict the society label for peaceful and nonpeaceful countries using the frequencies of the words in the lexicons."
   ]
  },
  {
   "cell_type": "markdown",
   "metadata": {},
   "source": [
    "## Prep Data"
   ]
  },
  {
   "cell_type": "code",
   "execution_count": 3,
   "metadata": {},
   "outputs": [],
   "source": [
    "word_counts = pd.read_csv(\"../data/word_counts_by_article_NO_OTHER.csv\")\n",
    "lexicon = pd.read_csv(\"../lexicons/lexicon.csv\")"
   ]
  },
  {
   "cell_type": "code",
   "execution_count": 4,
   "metadata": {},
   "outputs": [
    {
     "data": {
      "text/plain": [
       "(822988, 2392)"
      ]
     },
     "execution_count": 4,
     "metadata": {},
     "output_type": "execute_result"
    }
   ],
   "source": [
    "word_counts.shape"
   ]
  },
  {
   "cell_type": "code",
   "execution_count": 5,
   "metadata": {},
   "outputs": [
    {
     "data": {
      "image/png": "[encoded data removed]",
      "text/plain": [
       "<Figure size 576x360 with 1 Axes>"
      ]
     },
     "metadata": {
      "needs_background": "light"
     },
     "output_type": "display_data"
    }
   ],
   "source": [
    "word_counts.country.value_counts().plot(kind=\"bar\", figsize=(8, 5),\n",
    "                                        title=\"Total # articles from each country\", \n",
    "                                        xlabel=\"Country\", ylabel=\"# Articles\");"
   ]
  },
  {
   "cell_type": "markdown",
   "metadata": {},
   "source": [
    "I randomly sample 75,000 articles from each society, where each country has the same number of articles."
   ]
  },
  {
   "cell_type": "code",
   "execution_count": 6,
   "metadata": {},
   "outputs": [
    {
     "name": "stderr",
     "output_type": "stream",
     "text": [
      "Getting sample for NONPEACEFUL: 100%|████████████████████████████████████████████████████| 5/5 [00:24<00:00,  4.95s/it]\n",
      "Getting sample for PEACEFUL: 100%|███████████████████████████████████████████████████████| 6/6 [00:49<00:00,  8.26s/it]\n"
     ]
    }
   ],
   "source": [
    "resample = []\n",
    "\n",
    "N = 75_000\n",
    "for society, society_df in word_counts.groupby(\"society\"):\n",
    "    num_countries = society_df.country.unique().shape[0]\n",
    "    num_to_sample = int(np.floor(N / num_countries))\n",
    "    \n",
    "    for country, country_df in tqdm(society_df.groupby(\"country\"), desc=f\"Getting sample for {society.upper()}\"):\n",
    "        if country_df.shape[0] >= num_to_sample:\n",
    "            df = country_df.sample(num_to_sample, random_state=2020)\n",
    "        else:\n",
    "            df = country_df\n",
    "            \n",
    "        resample.append(df)\n",
    "\n",
    "del word_counts\n",
    "word_counts = pd.concat(resample)"
   ]
  },
  {
   "cell_type": "code",
   "execution_count": 7,
   "metadata": {},
   "outputs": [
    {
     "data": {
      "image/png": "[encoded data removed]",
      "text/plain": [
       "<Figure size 576x360 with 1 Axes>"
      ]
     },
     "metadata": {
      "needs_background": "light"
     },
     "output_type": "display_data"
    }
   ],
   "source": [
    "word_counts.country.value_counts().plot(kind=\"bar\", figsize=(8, 5),\n",
    "                                        title=\"Resampled # articles from each country\", \n",
    "                                        xlabel=\"Country\", ylabel=\"# Articles\");"
   ]
  },
  {
   "cell_type": "markdown",
   "metadata": {},
   "source": [
    "The data is in a wide format already, with each column being a word and each row is an article. The values are the counts of that word in that article."
   ]
  },
  {
   "cell_type": "code",
   "execution_count": 8,
   "metadata": {},
   "outputs": [
    {
     "name": "stdout",
     "output_type": "stream",
     "text": [
      "(150000, 2392)\n"
     ]
    },
    {
     "data": {
      "text/html": [
       "<div>\n",
       "<style scoped>\n",
       "    .dataframe tbody tr th:only-of-type {\n",
       "        vertical-align: middle;\n",
       "    }\n",
       "\n",
       "    .dataframe tbody tr th {\n",
       "        vertical-align: top;\n",
       "    }\n",
       "\n",
       "    .dataframe thead th {\n",
       "        text-align: right;\n",
       "    }\n",
       "</style>\n",
       "<table border=\"1\" class=\"dataframe\">\n",
       "  <thead>\n",
       "    <tr style=\"text-align: right;\">\n",
       "      <th></th>\n",
       "      <th>academic freedom</th>\n",
       "      <th>acceptance</th>\n",
       "      <th>accepting</th>\n",
       "      <th>active listening</th>\n",
       "      <th>activism</th>\n",
       "      <th>advocate</th>\n",
       "      <th>agree</th>\n",
       "      <th>agreed</th>\n",
       "      <th>agreeing</th>\n",
       "      <th>agreement</th>\n",
       "      <th>...</th>\n",
       "      <th>prof</th>\n",
       "      <th>rd</th>\n",
       "      <th>town</th>\n",
       "      <th>news</th>\n",
       "      <th>customize</th>\n",
       "      <th>territory</th>\n",
       "      <th>podcast</th>\n",
       "      <th>society</th>\n",
       "      <th>country</th>\n",
       "      <th>year</th>\n",
       "    </tr>\n",
       "  </thead>\n",
       "  <tbody>\n",
       "    <tr>\n",
       "      <th>121240</th>\n",
       "      <td>0</td>\n",
       "      <td>0</td>\n",
       "      <td>0</td>\n",
       "      <td>0</td>\n",
       "      <td>0</td>\n",
       "      <td>0</td>\n",
       "      <td>0</td>\n",
       "      <td>0</td>\n",
       "      <td>0</td>\n",
       "      <td>0</td>\n",
       "      <td>...</td>\n",
       "      <td>0</td>\n",
       "      <td>0</td>\n",
       "      <td>0</td>\n",
       "      <td>0</td>\n",
       "      <td>0</td>\n",
       "      <td>0</td>\n",
       "      <td>0</td>\n",
       "      <td>Nonpeaceful</td>\n",
       "      <td>BD</td>\n",
       "      <td>2013</td>\n",
       "    </tr>\n",
       "    <tr>\n",
       "      <th>116714</th>\n",
       "      <td>0</td>\n",
       "      <td>0</td>\n",
       "      <td>0</td>\n",
       "      <td>0</td>\n",
       "      <td>0</td>\n",
       "      <td>0</td>\n",
       "      <td>0</td>\n",
       "      <td>0</td>\n",
       "      <td>0</td>\n",
       "      <td>0</td>\n",
       "      <td>...</td>\n",
       "      <td>0</td>\n",
       "      <td>0</td>\n",
       "      <td>0</td>\n",
       "      <td>1</td>\n",
       "      <td>0</td>\n",
       "      <td>0</td>\n",
       "      <td>0</td>\n",
       "      <td>Nonpeaceful</td>\n",
       "      <td>BD</td>\n",
       "      <td>2012</td>\n",
       "    </tr>\n",
       "    <tr>\n",
       "      <th>127724</th>\n",
       "      <td>0</td>\n",
       "      <td>0</td>\n",
       "      <td>0</td>\n",
       "      <td>0</td>\n",
       "      <td>0</td>\n",
       "      <td>0</td>\n",
       "      <td>0</td>\n",
       "      <td>0</td>\n",
       "      <td>0</td>\n",
       "      <td>0</td>\n",
       "      <td>...</td>\n",
       "      <td>0</td>\n",
       "      <td>0</td>\n",
       "      <td>0</td>\n",
       "      <td>0</td>\n",
       "      <td>0</td>\n",
       "      <td>0</td>\n",
       "      <td>0</td>\n",
       "      <td>Nonpeaceful</td>\n",
       "      <td>BD</td>\n",
       "      <td>2011</td>\n",
       "    </tr>\n",
       "    <tr>\n",
       "      <th>122645</th>\n",
       "      <td>0</td>\n",
       "      <td>0</td>\n",
       "      <td>0</td>\n",
       "      <td>0</td>\n",
       "      <td>0</td>\n",
       "      <td>0</td>\n",
       "      <td>0</td>\n",
       "      <td>0</td>\n",
       "      <td>0</td>\n",
       "      <td>0</td>\n",
       "      <td>...</td>\n",
       "      <td>0</td>\n",
       "      <td>0</td>\n",
       "      <td>0</td>\n",
       "      <td>0</td>\n",
       "      <td>0</td>\n",
       "      <td>0</td>\n",
       "      <td>0</td>\n",
       "      <td>Nonpeaceful</td>\n",
       "      <td>BD</td>\n",
       "      <td>2014</td>\n",
       "    </tr>\n",
       "    <tr>\n",
       "      <th>129808</th>\n",
       "      <td>0</td>\n",
       "      <td>0</td>\n",
       "      <td>0</td>\n",
       "      <td>0</td>\n",
       "      <td>0</td>\n",
       "      <td>0</td>\n",
       "      <td>0</td>\n",
       "      <td>0</td>\n",
       "      <td>0</td>\n",
       "      <td>0</td>\n",
       "      <td>...</td>\n",
       "      <td>0</td>\n",
       "      <td>0</td>\n",
       "      <td>0</td>\n",
       "      <td>0</td>\n",
       "      <td>0</td>\n",
       "      <td>0</td>\n",
       "      <td>0</td>\n",
       "      <td>Nonpeaceful</td>\n",
       "      <td>BD</td>\n",
       "      <td>2020</td>\n",
       "    </tr>\n",
       "  </tbody>\n",
       "</table>\n",
       "<p>5 rows × 2392 columns</p>\n",
       "</div>"
      ],
      "text/plain": [
       "        academic freedom  acceptance  accepting  active listening  activism  \\\n",
       "121240                 0           0          0                 0         0   \n",
       "116714                 0           0          0                 0         0   \n",
       "127724                 0           0          0                 0         0   \n",
       "122645                 0           0          0                 0         0   \n",
       "129808                 0           0          0                 0         0   \n",
       "\n",
       "        advocate  agree  agreed  agreeing  agreement  ...  prof  rd  town  \\\n",
       "121240         0      0       0         0          0  ...     0   0     0   \n",
       "116714         0      0       0         0          0  ...     0   0     0   \n",
       "127724         0      0       0         0          0  ...     0   0     0   \n",
       "122645         0      0       0         0          0  ...     0   0     0   \n",
       "129808         0      0       0         0          0  ...     0   0     0   \n",
       "\n",
       "        news  customize  territory  podcast      society  country  year  \n",
       "121240     0          0          0        0  Nonpeaceful       BD  2013  \n",
       "116714     1          0          0        0  Nonpeaceful       BD  2012  \n",
       "127724     0          0          0        0  Nonpeaceful       BD  2011  \n",
       "122645     0          0          0        0  Nonpeaceful       BD  2014  \n",
       "129808     0          0          0        0  Nonpeaceful       BD  2020  \n",
       "\n",
       "[5 rows x 2392 columns]"
      ]
     },
     "execution_count": 8,
     "metadata": {},
     "output_type": "execute_result"
    }
   ],
   "source": [
    "print(word_counts.shape)\n",
    "word_counts.head()"
   ]
  },
  {
   "cell_type": "code",
   "execution_count": 9,
   "metadata": {},
   "outputs": [],
   "source": [
    "X = word_counts.iloc[:, :-3]\n",
    "y = word_counts.iloc[:, -3]"
   ]
  },
  {
   "cell_type": "markdown",
   "metadata": {},
   "source": [
    "#### To speed things up, I am going to drop the words that do not appear often (if ever) in the sample. Also, the word must be at least 3 characters long."
   ]
  },
  {
   "cell_type": "code",
   "execution_count": 10,
   "metadata": {},
   "outputs": [],
   "source": [
    "X_tot_word_counts = X.stack().reset_index()\n",
    "X_tot_word_counts.columns = [\"article\", \"term\", \"n\"]\n",
    "X_tot_word_counts = X_tot_word_counts.groupby(\"term\")\n",
    "\n",
    "n = X_tot_word_counts.n.sum().rename(\"n\").reset_index().set_index(\"term\")\n",
    "n_articles = X_tot_word_counts.n.apply(lambda x: (x > 0).sum()).rename(\"n_articles\").reset_index().set_index(\"term\")\n",
    "\n",
    "X_tot_word_counts = n.join(n_articles).reset_index()\n",
    "X_tot_word_counts = X_tot_word_counts[X_tot_word_counts.term.str.len() > 2]"
   ]
  },
  {
   "cell_type": "markdown",
   "metadata": {},
   "source": [
    "Let's quickly visualize how many words might be worth dropping."
   ]
  },
  {
   "cell_type": "code",
   "execution_count": 11,
   "metadata": {},
   "outputs": [
    {
     "data": {
      "image/png": "[encoded data removed]",
      "text/plain": [
       "<Figure size 1152x432 with 2 Axes>"
      ]
     },
     "metadata": {
      "needs_background": "light"
     },
     "output_type": "display_data"
    }
   ],
   "source": [
    "def get_pct_lt_n_words(x):\n",
    "    return X_tot_word_counts[X_tot_word_counts.n < x].shape[0] / X.shape[1]\n",
    "\n",
    "def get_pct_lt_n_articles(x):\n",
    "    return X_tot_word_counts[X_tot_word_counts.n_articles < x].shape[0] / X.shape[1]\n",
    "\n",
    "xs = np.arange(0, 30)\n",
    "ns = [get_pct_lt_n_words(n) for n in xs]\n",
    "n_articles = [get_pct_lt_n_articles(n) for n in xs]\n",
    "\n",
    "fig, axes = plt.subplots(ncols=2, figsize=(16, 6))\n",
    "sns.lineplot(xs, ns, ax=axes[0])\n",
    "pretty_plot(axes[0], \"What percent of words have less than n occurences?\", \"# Words\", \"Prop\", sizes=(14, 14, 13))\n",
    "\n",
    "sns.lineplot(xs, n_articles, ax=axes[1])\n",
    "pretty_plot(axes[1], \"What percent of words appear in less than n articles?\", \"# Articles\", \"Prop\", sizes=(14, 14, 13))"
   ]
  },
  {
   "cell_type": "markdown",
   "metadata": {},
   "source": [
    "Arbitrarily, I am going with words must appear in atleast 5 articles."
   ]
  },
  {
   "cell_type": "code",
   "execution_count": 12,
   "metadata": {},
   "outputs": [
    {
     "name": "stdout",
     "output_type": "stream",
     "text": [
      "23.4%\n"
     ]
    }
   ],
   "source": [
    "pct = get_pct_lt_n_articles(5)\n",
    "print(f\"{pct * 100:.1f}%\")"
   ]
  },
  {
   "cell_type": "markdown",
   "metadata": {},
   "source": [
    "What is getting removed?"
   ]
  },
  {
   "cell_type": "code",
   "execution_count": 13,
   "metadata": {},
   "outputs": [
    {
     "name": "stdout",
     "output_type": "stream",
     "text": [
      "Attention Layer Conflict\n",
      "{'using', 'recommend0', 'techcentral', 'greater', 'securities', 'news24'}\n",
      "\n",
      "Attention Layer Peace\n",
      "{'using', 'recommend0', 'techcentral', 'greater', '\"\\'s\"', 'news24'}\n",
      "\n",
      "Original Conflict\n",
      "{'aborted state', 'aching', 'adversant', 'adversative', 'adversatively', 'adverseness', 'afflicter', 'afflicting', 'aggravating factors', 'aggravator', 'ak-47', 'anarchic state',\n",
      " 'anarchical', 'anarchism', 'anarchize', 'annihilative', 'annihilator', 'antagonization', 'antagonizer', 'argumentation', 'argumentatively', 'argumentativeness', 'armed combat',\n",
      " 'assassinative', 'assassinator', 'assaultable', 'attackable', 'aversive racism', 'bad feelings', 'battleful', 'beheader', 'bioattack', 'breachful', 'childhood punishment',\n",
      " 'closed economy', 'coercive diplomacy', 'coercively', 'coerciveness', 'coercivity', 'collective guilt', 'collective violence', 'collisive', 'combatable', 'combater', 'combats',\n",
      " \"coup d'etat\", 'cyber-terrorism', 'cyberwar', 'deathblow', 'decapitator', 'decimator', 'decollate', 'depressively', 'depressiveness', 'destroyable', 'destructively',\n",
      " 'destructiveness', 'destructivity', 'detractors', 'devastative', 'devastator', 'discordance', 'discordancy', 'discriminately', 'discriminatively', 'discriminator',\n",
      " 'disguised unemployment', 'displaceability', 'displaceable', 'disputation', 'disputative', 'disputer', 'disruptability', 'disruptable', 'disruptively', 'disruptiveness',\n",
      " 'dissonancy', 'divisively', 'dominance orientation', 'dominant minorities', 'dominative', 'dustup', 'eco-warfare', 'ecoterrorism', 'elite-dominated democracy',\n",
      " 'enclave economies', 'eradicative', 'eradicator', 'essentialism', 'ethnicism', 'ethno-nationalism', 'ethno-nationalists', 'ethnocide', 'executer', 'executional', 'executioners',\n",
      " 'fight against', 'forcefulness', 'frozen democracy', 'furiousness', 'generalized prejudice', 'hatefully', 'hatefulness', 'hidden unemployment', 'homicidally',\n",
      " 'horizontal inequality', 'hostilely', 'hostileness', 'hurtfully', 'hurtfulness', 'impalement', 'impaler', 'incompatibleness', 'incompatibly', 'indirect aggression', 'inequal',\n",
      " 'infringer', 'injustices', 'insecurely', 'insecureness', 'instable', 'intolerability', 'intolerableness', 'intolerancy', 'intolerantness', 'intractability',\n",
      " 'intractable conflict', 'intractableness', 'irredentism', 'killing field', 'knived', 'lapidate', 'lash out', 'late warning', 'lustration', 'machineful', 'martyrization',\n",
      " 'martyrize', 'martyrizer', 'moral exclusion', 'mortality salience', 'murderment', 'murderously', 'murderousness', 'naval battle', 'near crisis', 'near-crisis',\n",
      " 'negative reciprocity', 'negativeness', 'neo-colonial', 'neo-colonialism', 'non-peace', 'one-party dominance', 'oppressible', 'oppressiveness', 'painfulness',\n",
      " 'passive-aggressive', 'peacekeeping forces', 'peacekeeping mandate', 'pirates', 'political disenfranchisement', 'political divisions', 'poverty gap', 'protracted conflict',\n",
      " 'quarreled', 'quarreling', 'rageful', 'ragefully', 'represser', 'repressively', 'repressiveness', 'rigid institutions', 'rigidness', 'riot exposure', 'run-in', 'savageness',\n",
      " 'security dilemma', 'self-annihilation', 'self-destruction', 'shoot down', 'slaughterer', 'social dominance', 'stereotyper', 'stereotypic', 'stifled tension', 'stifling',\n",
      " 'stooges', 'strangling', 'stratified society', 'stressfully', 'strifeful', 'strike down', 'structural violence', 'suffocative', 'suicidalism', 'suicidally', 'suicidical',\n",
      " 'suicidism', 'sweep over', 'terrorization', 'terrorizer', 'threatful', 'threatfully', 'tug-of-war', 'unstable peace', 'vehemency', 'violater', 'violentness', 'vulnerable groups',\n",
      " 'weaponed', 'weapons', 'wearying', 'willing executioners', 'wipe out'}\n",
      "\n",
      "Original Peace\n",
      "{'active listening', 'alliance formation', 'altruist', 'altruistically', 'basic needs', 'chautauqua', 'civilizer', 'civilness', 'co-existence,', 'coaction', 'coalescence',\n",
      " 'coalescency', 'collaborationism', 'collaborative governance', 'collectiveness', 'communality', 'communalization', 'communalize', 'communalizer', 'communicatively',\n",
      " 'communicativeness', 'compatibleness', 'compatibly', 'comprehensiveness', 'compromiser', 'concordal', 'concordance', 'constructive ambiguity', 'constructive conflicts',\n",
      " 'constructiveness', 'contact effect', 'contact theory', 'cooperative orientation', 'cooperative structures', 'cross-cutting', 'cross-cutting ties', 'deep ecology', 'democratism',\n",
      " 'dialogue circles', 'dialogue groups', 'dialoguer', 'divineness', 'do-gooder', 'ecologic', 'ecopsychology', 'empathically', 'empathizer', 'epistemic communities', 'equalizing',\n",
      " 'equalness', 'ethicalness', 'ethicism', 'ethicize', 'faith-based', 'forgivableness', 'forgivably', 'forgiver', 'fraternally', 'friendly relations', 'fusionism', 'gender roles',\n",
      " 'generousness', 'global ethic', 'global identity', 'godful', 'harmonial', 'harmonious co-existence,', 'harmoniousness', 'harmonizer', 'healthfully', 'hopefulness',\n",
      " 'hospitableness', 'hospitably', 'human rights', 'human-centered', 'human-centred', 'humaneness', 'humanistical', 'humanistically', 'humanitarianize', 'humanization',\n",
      " 'humorousness', 'imperfect peace', 'imperfected', 'informatively', 'integrative complexity', 'intentional communities', 'intercultural communication', 'interculturalist',\n",
      " 'interculture', 'intergroup contact', 'intervention, humanitarian', 'intervention, nonviolent', 'joyfulness', 'joyousness', 'knowledgeableness', 'knowledgeably',\n",
      " 'leadership theories', 'learning community', 'listen actively', 'literariness', 'literary works', 'matrilineage', 'media openness', 'meditatively', 'meditativeness', 'meditator',\n",
      " 'mobile communications', 'moralism', 'moralness', 'morals', 'multi-track diplomacy', 'musicalization', 'musicalize', 'musicalness', 'mutualism', 'mutualization', 'mutualize',\n",
      " 'mutualness', 'neural plasticity', 'non offensive', 'nongovernmental organizations', 'nonviolation', 'nurturable', 'nurtural', 'nurturance', 'nurturer', 'outgroup engagement',\n",
      " 'outgroup tolerance', 'pacificity', 'pacifistic', 'pacifistically', 'participatively', 'peace beliefs', 'peace conferences', 'peace constitutions', 'peace diplomat',\n",
      " 'peace durability', 'peace ecologist', 'peace educator', 'peace encyclopedist', 'peace facilitator', 'peace futurist', 'peace historian', 'peace interculturalist',\n",
      " 'peace journalist', 'peace linguist', 'peace monuments', 'peace news', 'peace parks', 'peace philosopher', 'peace psychologist', 'peace researcher', 'peace science',\n",
      " 'peace studies', 'peace symbols', 'peace terminologist', 'peace theologian', 'peace together', 'peace training', 'peace vision', 'peaceful communicator', 'peaceful elite',\n",
      " 'peaceful globalizer', 'peaceful language', 'peaceful leadership', 'peaceful relationships', 'peaceful societies', 'peacepromoting', 'peacewriter', 'personal satisfaction',\n",
      " 'perspective-taking', 'physical synchronization', 'physicalism', 'pluralistically', 'politeful', 'political liberty', 'positive affect', 'positive contact', 'positive peace',\n",
      " 'positive reciprocity', 'positiveness', 'prayerfully', 'prayerfulness', 'progressivity', 'prosperation', 'prosperously', 'prosperousness', 'protecting vulnerable',\n",
      " 'reciprocality', 'reciprocalize', 'reciprocalness', 'reciprocative', 'reciprocator', 'respectableness', 'respectfulness', 'respecting others', 'responsibleness', 'restraintful',\n",
      " 'role models', 'samskaaras', 'self-transcendent', 'self-transcendent values', 'sereneness', 'shared identity', 'sincereness', 'social learning', 'social well-being', 'solidarize',\n",
      " 'spiritualness', 'spirituous', 'stableness', 'susquehannock', 'svoboda', 'tolerancy', 'transnational citizenship', 'transnational theory', 'transparentness', 'trustfully',\n",
      " 'trustfulness', 'unanimousness', 'uncertainty tolerance', 'united nations', 'uniter', 'well-being', 'well-performing', 'win-win', 'world governance'}\n",
      "\n",
      "Original Resilience\n",
      "{'accountableness', 'aid/assistance', 'anti militarism', 'anti-coup', 'anti-imperialist', 'antiballistic', 'antinuclear', 'appeaser', 'arms control', 'asylum seekers',\n",
      " 'back-channel negotiation', 'batna', 'bias awareness', 'cease-fire', 'civil resistance', 'civil rights', 'civil-military cooperation', 'civilian peacekeeping',\n",
      " 'civilian-based defense', 'coercive diplomacy', 'collectiveness', 'commercial treaty', 'communication styles', 'complexity theory', 'conflict handling', 'conflict transformation',\n",
      " 'conscientious objection', 'constabulary force', 'cosmopolitan democracy', 'cross-border linkages', 'de-escalation', 'demobilization', 'developed countries',\n",
      " 'developing countries', 'dialoguer', 'diaspora communities', 'donor coordination', 'draft evasion', 'draft refusal', 'draft resistance', 'eco-pacifism', 'economic conversion',\n",
      " 'eminent persons', 'empathic concern', 'empathically', 'enosis', 'equalizing', 'experiential peacebuilding', 'fact-finding', 'feeling safe', 'feminist eco-pacifism',\n",
      " 'geneva conventions', 'good offices', 'green parties', 'green politics', 'human patriotism', 'human rights', 'humaneness', 'humanitarian aid/assistance', 'humanization',\n",
      " 'industrial union', 'knowledgeableness', 'knowledgeably', 'morals', 'mutualness', 'negative peace', 'negotiant', 'neoliberal globalization', 'neutralism', 'no war',\n",
      " 'non-alignment', 'non-killing', 'non-violence', 'nonviolent action', 'nonviolent intervention', 'nonviolent revolution', 'pacificity', 'pardonableness', 'pardonably', 'pardoner',\n",
      " 'pardoning', 'pax romana', 'peace advocate', 'peace dividend', 'post-conflict', 'post-conflict recovery', 'postcolonialism', 'prejudice reduction', 'preventively',\n",
      " 'preventiveness', 'problem-solving', 'procedural justice', 'proximity talks', 'rassemblement', 'reconciliable', 'reconciliate', 'reconciliative', 'reconciliator',\n",
      " 'reconstructing', 'reducing prejudice', 'regime type', 'rent seeking', 'reparations', 'reparative', 'respectfulness', 'respecting others', 'safeness', 'sanctions', 'secure base',\n",
      " 'self-sacrifice', 'socialist internationalism', 'stable peace', 'sustained dialogue', 'syncretism', 'third-party intervention', 'trades union', 'transitional peace',\n",
      " 'transnational actors', 'tribunals', 'unificator', 'voicing out', 'war resistance', 'warless societies', \"women's rights\", 'world passport', 'written agreement'}\n",
      "\n"
     ]
    }
   ],
   "source": [
    "pp = pprint.PrettyPrinter(compact=True, width=180)\n",
    "\n",
    "X_tot_word_counts_ = X_tot_word_counts.merge(lexicon, on=\"term\")[[\"version\", \"lexicon\", \"term\", \"n\", \"n_articles\"]]\n",
    "for g, df in X_tot_word_counts_[X_tot_word_counts_.n_articles < 5].groupby([\"version\", \"lexicon\"]):\n",
    "    print(\" \".join(g).title())\n",
    "    if df.empty:\n",
    "        print(set())\n",
    "    else:\n",
    "        pp.pprint(set(df.term.tolist()))\n",
    "    print()"
   ]
  },
  {
   "cell_type": "markdown",
   "metadata": {},
   "source": [
    "How much data did I remove?"
   ]
  },
  {
   "cell_type": "code",
   "execution_count": 15,
   "metadata": {},
   "outputs": [
    {
     "name": "stdout",
     "output_type": "stream",
     "text": [
      "Old X shape (150000, 2389)\n",
      "New X shape (150000, 1803)\n"
     ]
    }
   ],
   "source": [
    "print(\"Old X shape\", X.shape)\n",
    "X_ = X[X_tot_word_counts[X_tot_word_counts.n_articles >= 5].term]\n",
    "print(\"New X shape\", X_.shape)"
   ]
  },
  {
   "cell_type": "markdown",
   "metadata": {},
   "source": [
    "## Begin Modeling"
   ]
  },
  {
   "cell_type": "code",
   "execution_count": 16,
   "metadata": {},
   "outputs": [],
   "source": [
    "from sklearn.model_selection import train_test_split, cross_val_score\n",
    "\n",
    "from sklearn.dummy import DummyClassifier\n",
    "from sklearn.linear_model import LogisticRegressionCV, LogisticRegression\n",
    "from sklearn.ensemble import RandomForestClassifier\n",
    "\n",
    "from sklearn.feature_extraction.text import TfidfTransformer\n",
    "from sklearn.preprocessing import StandardScaler\n",
    "\n",
    "from sklearn.pipeline import Pipeline\n",
    "from sklearn.compose import make_column_transformer\n",
    "\n",
    "from sklearn.model_selection import GridSearchCV"
   ]
  },
  {
   "cell_type": "markdown",
   "metadata": {},
   "source": [
    "### Model Selection\n",
    "\n",
    "I train a Logistic Regression and Random Forest with 10 fold cross-validation to selct the model."
   ]
  },
  {
   "cell_type": "code",
   "execution_count": 17,
   "metadata": {},
   "outputs": [
    {
     "name": "stdout",
     "output_type": "stream",
     "text": [
      "X_train (112500, 1803)\n",
      "y_train (112500,)\n",
      "X_test (37500, 1803)\n",
      "y_test (37500,)\n"
     ]
    }
   ],
   "source": [
    "X_train, X_test, y_train, y_test = train_test_split(X_, y, stratify=y, random_state=116)\n",
    "print(\"X_train\", X_train.shape)\n",
    "print(\"y_train\", y_train.shape)\n",
    "print(\"X_test\",  X_test.shape)\n",
    "print(\"y_test\",  y_test.shape)"
   ]
  },
  {
   "cell_type": "code",
   "execution_count": 18,
   "metadata": {},
   "outputs": [
    {
     "data": {
      "text/plain": [
       "Peaceful       56250\n",
       "Nonpeaceful    56250\n",
       "Name: society, dtype: int64"
      ]
     },
     "execution_count": 18,
     "metadata": {},
     "output_type": "execute_result"
    }
   ],
   "source": [
    "y_train.value_counts()"
   ]
  },
  {
   "cell_type": "markdown",
   "metadata": {},
   "source": [
    "#### Validate logistic regression will work"
   ]
  },
  {
   "cell_type": "code",
   "execution_count": 19,
   "metadata": {},
   "outputs": [
    {
     "name": "stdout",
     "output_type": "stream",
     "text": [
      "Fitting 10 folds for each of 3 candidates, totalling 30 fits\n",
      "[Parallel(n_jobs=-1)]: Using backend LokyBackend with 12 concurrent workers.\n",
      "[Parallel(n_jobs=-1)]: Done   1 tasks      | elapsed:   41.7s\n",
      "[Parallel(n_jobs=-1)]: Done   2 tasks      | elapsed:   42.4s\n",
      "[Parallel(n_jobs=-1)]: Done   3 tasks      | elapsed:   42.6s\n",
      "[Parallel(n_jobs=-1)]: Done   4 tasks      | elapsed:   43.8s\n",
      "[Parallel(n_jobs=-1)]: Done   5 tasks      | elapsed:   46.3s\n",
      "[Parallel(n_jobs=-1)]: Done   6 tasks      | elapsed:   46.9s\n",
      "[Parallel(n_jobs=-1)]: Done   7 tasks      | elapsed:   46.9s\n",
      "[Parallel(n_jobs=-1)]: Done   8 out of  30 | elapsed:   47.3s remaining:  2.2min\n",
      "[Parallel(n_jobs=-1)]: Done   9 out of  30 | elapsed:   47.3s remaining:  1.8min\n",
      "[Parallel(n_jobs=-1)]: Done  10 out of  30 | elapsed:   48.7s remaining:  1.6min\n",
      "[Parallel(n_jobs=-1)]: Done  11 out of  30 | elapsed:  3.8min remaining:  6.6min\n",
      "[Parallel(n_jobs=-1)]: Done  12 out of  30 | elapsed:  4.2min remaining:  6.3min\n",
      "[Parallel(n_jobs=-1)]: Done  13 out of  30 | elapsed:  5.0min remaining:  6.5min\n",
      "[Parallel(n_jobs=-1)]: Done  14 out of  30 | elapsed:  5.0min remaining:  5.7min\n",
      "[Parallel(n_jobs=-1)]: Done  15 out of  30 | elapsed:  5.0min remaining:  5.0min\n",
      "[Parallel(n_jobs=-1)]: Done  16 out of  30 | elapsed:  5.1min remaining:  4.4min\n",
      "[Parallel(n_jobs=-1)]: Done  17 out of  30 | elapsed:  5.1min remaining:  3.9min\n",
      "[Parallel(n_jobs=-1)]: Done  18 out of  30 | elapsed:  5.2min remaining:  3.5min\n",
      "[Parallel(n_jobs=-1)]: Done  19 out of  30 | elapsed:  5.3min remaining:  3.0min\n",
      "[Parallel(n_jobs=-1)]: Done  20 out of  30 | elapsed:  5.3min remaining:  2.7min\n",
      "[Parallel(n_jobs=-1)]: Done  21 out of  30 | elapsed: 12.9min remaining:  5.5min\n",
      "[Parallel(n_jobs=-1)]: Done  22 out of  30 | elapsed: 12.9min remaining:  4.7min\n",
      "[Parallel(n_jobs=-1)]: Done  23 out of  30 | elapsed: 14.0min remaining:  4.3min\n",
      "[Parallel(n_jobs=-1)]: Done  24 out of  30 | elapsed: 14.2min remaining:  3.5min\n",
      "[Parallel(n_jobs=-1)]: Done  25 out of  30 | elapsed: 14.5min remaining:  2.9min\n",
      "[Parallel(n_jobs=-1)]: Done  26 out of  30 | elapsed: 14.5min remaining:  2.2min\n",
      "[Parallel(n_jobs=-1)]: Done  27 out of  30 | elapsed: 14.5min remaining:  1.6min\n",
      "[Parallel(n_jobs=-1)]: Done  28 out of  30 | elapsed: 14.5min remaining:  1.0min\n",
      "[Parallel(n_jobs=-1)]: Done  30 out of  30 | elapsed: 14.6min remaining:    0.0s\n",
      "[Parallel(n_jobs=-1)]: Done  30 out of  30 | elapsed: 14.6min finished\n"
     ]
    }
   ],
   "source": [
    "pipeline = Pipeline([\n",
    "    ('tfidf', TfidfTransformer()),\n",
    "    ('scale', StandardScaler(with_mean=False)),\n",
    "    ('model', DummyClassifier())\n",
    "])\n",
    "\n",
    "grid = {\n",
    "    \"model\": [\n",
    "        DummyClassifier(),\n",
    "        LogisticRegressionCV(penalty='l1', solver='liblinear'),\n",
    "        RandomForestClassifier()\n",
    "    ]\n",
    "}\n",
    "\n",
    "gs = GridSearchCV(pipeline, grid, cv=10, scoring=[\"accuracy\", \"f1\"], n_jobs=-1, verbose=100, return_train_score=True, refit=\"f1\")\n",
    "gs.fit(X_train, y_train == \"Peaceful\");"
   ]
  },
  {
   "cell_type": "code",
   "execution_count": 20,
   "metadata": {},
   "outputs": [],
   "source": [
    "def tidy_cv_result(cv_result, split_type, metric=\"score\", nfolds=10):\n",
    "    regex = r\"split[\\d]+_{:}_{:}\".format(split_type, metric)\n",
    "    cols = [\"param_model\"] + [c for c in cv_result.columns if re.match(regex, c)]\n",
    "    res = cv_result[cols]\n",
    "    res.columns = [\"model\"] + [str(i) for i in range(nfolds)]\n",
    "    res[\"model\"] = res.model.astype(str).str.extract(r\"(\\w+)\\(*\")\n",
    "    res = res.set_index(\"model\").stack().reset_index()\n",
    "    res.columns = [\"model\", \"split\", \"score\"]\n",
    "    res[\"metric\"] = metric\n",
    "    res[\"split_type\"] = split_type\n",
    "    \n",
    "    return res[[\"model\", \"metric\", \"split_type\", \"split\", \"score\"]]"
   ]
  },
  {
   "cell_type": "code",
   "execution_count": 21,
   "metadata": {},
   "outputs": [
    {
     "data": {
      "image/png": "[encoded data removed]",
      "text/plain": [
       "<Figure size 1872x576 with 2 Axes>"
      ]
     },
     "metadata": {
      "needs_background": "light"
     },
     "output_type": "display_data"
    }
   ],
   "source": [
    "res = pd.DataFrame(gs.cv_results_)\n",
    "\n",
    "res_acc = pd.concat([\n",
    "    tidy_cv_result(res, \"train\", \"accuracy\"),\n",
    "    tidy_cv_result(res, \"test\",  \"accuracy\"),\n",
    "])\n",
    "\n",
    "res_f1 = pd.concat([\n",
    "    tidy_cv_result(res, \"train\", \"f1\"),\n",
    "    tidy_cv_result(res, \"test\",  \"f1\"),\n",
    "])\n",
    "\n",
    "fig, axes = plt.subplots(ncols=2, figsize=(26, 8))\n",
    "title = \"Classifier performance when predicting society type from lexion words\"\n",
    "\n",
    "sns.barplot(x=\"model\", y=\"score\", hue=\"split_type\", data=res_acc, ax=axes[0])\n",
    "pretty_plot(axes[0], \"Accuracy Score\", \"Model\", \"Accuracy Score\")\n",
    "annotateBars(axes[0], percent=True)\n",
    "\n",
    "legend = axes[0].legend(title=\"Split Type\", loc=\"upper left\", fontsize=13)\n",
    "legend.get_title().set_fontsize(14)\n",
    "\n",
    "sns.barplot(x=\"model\", y=\"score\", hue=\"split_type\", data=res_f1, ax=axes[1])\n",
    "pretty_plot(axes[1], \"F1 Score\", \"Model\", \"F1 Score\")\n",
    "annotateBars(axes[1], percent=True)\n",
    "\n",
    "legend = axes[1].legend(title=\"Split Type\", loc=\"upper left\", fontsize=13)\n",
    "legend.get_title().set_fontsize(14)\n",
    "\n",
    "plt.suptitle(title, fontsize=22);"
   ]
  },
  {
   "cell_type": "code",
   "execution_count": 22,
   "metadata": {},
   "outputs": [
    {
     "data": {
      "text/plain": [
       "Original           1954\n",
       "Attention Layer     464\n",
       "Term Frequency      414\n",
       "Name: version, dtype: int64"
      ]
     },
     "execution_count": 22,
     "metadata": {},
     "output_type": "execute_result"
    }
   ],
   "source": [
    "lexicon.version.value_counts()"
   ]
  },
  {
   "cell_type": "code",
   "execution_count": 23,
   "metadata": {},
   "outputs": [
    {
     "name": "stdout",
     "output_type": "stream",
     "text": [
      "Fitting 10 folds for each of 4 candidates, totalling 40 fits\n",
      "[Parallel(n_jobs=-1)]: Using backend LokyBackend with 12 concurrent workers.\n",
      "[Parallel(n_jobs=-1)]: Done   1 tasks      | elapsed:   32.5s\n",
      "[Parallel(n_jobs=-1)]: Done   2 tasks      | elapsed:   39.7s\n",
      "[Parallel(n_jobs=-1)]: Done   3 tasks      | elapsed:   39.9s\n",
      "[Parallel(n_jobs=-1)]: Done   4 tasks      | elapsed:   39.9s\n",
      "[Parallel(n_jobs=-1)]: Done   5 tasks      | elapsed:  1.0min\n",
      "[Parallel(n_jobs=-1)]: Done   6 tasks      | elapsed:  1.2min\n",
      "[Parallel(n_jobs=-1)]: Done   7 tasks      | elapsed:  2.0min\n",
      "[Parallel(n_jobs=-1)]: Done   8 tasks      | elapsed:  2.0min\n",
      "[Parallel(n_jobs=-1)]: Done   9 tasks      | elapsed:  2.1min\n",
      "[Parallel(n_jobs=-1)]: Done  10 tasks      | elapsed:  2.2min\n",
      "[Parallel(n_jobs=-1)]: Done  11 tasks      | elapsed:  2.4min\n",
      "[Parallel(n_jobs=-1)]: Done  12 tasks      | elapsed:  2.6min\n",
      "[Parallel(n_jobs=-1)]: Done  13 tasks      | elapsed:  3.4min\n",
      "[Parallel(n_jobs=-1)]: Done  14 tasks      | elapsed:  3.5min\n",
      "[Parallel(n_jobs=-1)]: Done  15 tasks      | elapsed:  4.9min\n",
      "[Parallel(n_jobs=-1)]: Done  16 tasks      | elapsed:  5.0min\n",
      "[Parallel(n_jobs=-1)]: Done  17 tasks      | elapsed:  5.1min\n",
      "[Parallel(n_jobs=-1)]: Done  18 out of  40 | elapsed:  5.2min remaining:  6.3min\n",
      "[Parallel(n_jobs=-1)]: Done  19 out of  40 | elapsed:  5.3min remaining:  5.8min\n",
      "[Parallel(n_jobs=-1)]: Done  20 out of  40 | elapsed:  5.4min remaining:  5.4min\n",
      "[Parallel(n_jobs=-1)]: Done  21 out of  40 | elapsed:  5.7min remaining:  5.2min\n",
      "[Parallel(n_jobs=-1)]: Done  22 out of  40 | elapsed:  5.9min remaining:  4.8min\n",
      "[Parallel(n_jobs=-1)]: Done  23 out of  40 | elapsed:  5.9min remaining:  4.4min\n",
      "[Parallel(n_jobs=-1)]: Done  24 out of  40 | elapsed:  5.9min remaining:  4.0min\n",
      "[Parallel(n_jobs=-1)]: Done  25 out of  40 | elapsed:  6.0min remaining:  3.6min\n",
      "[Parallel(n_jobs=-1)]: Done  26 out of  40 | elapsed:  6.3min remaining:  3.4min\n",
      "[Parallel(n_jobs=-1)]: Done  27 out of  40 | elapsed:  6.3min remaining:  3.0min\n",
      "[Parallel(n_jobs=-1)]: Done  28 out of  40 | elapsed:  6.4min remaining:  2.8min\n",
      "[Parallel(n_jobs=-1)]: Done  29 out of  40 | elapsed:  6.5min remaining:  2.5min\n",
      "[Parallel(n_jobs=-1)]: Done  30 out of  40 | elapsed:  6.5min remaining:  2.2min\n",
      "[Parallel(n_jobs=-1)]: Done  31 out of  40 | elapsed:  6.6min remaining:  1.9min\n",
      "[Parallel(n_jobs=-1)]: Done  32 out of  40 | elapsed:  6.7min remaining:  1.7min\n",
      "[Parallel(n_jobs=-1)]: Done  33 out of  40 | elapsed:  6.7min remaining:  1.4min\n",
      "[Parallel(n_jobs=-1)]: Done  34 out of  40 | elapsed:  6.7min remaining:  1.2min\n",
      "[Parallel(n_jobs=-1)]: Done  35 out of  40 | elapsed:  6.8min remaining:   57.8s\n",
      "[Parallel(n_jobs=-1)]: Done  36 out of  40 | elapsed:  6.8min remaining:   45.2s\n",
      "[Parallel(n_jobs=-1)]: Done  37 out of  40 | elapsed:  7.0min remaining:   33.9s\n",
      "[Parallel(n_jobs=-1)]: Done  38 out of  40 | elapsed:  7.0min remaining:   22.1s\n",
      "[Parallel(n_jobs=-1)]: Done  40 out of  40 | elapsed:  7.0min remaining:    0.0s\n",
      "[Parallel(n_jobs=-1)]: Done  40 out of  40 | elapsed:  7.0min finished\n"
     ]
    }
   ],
   "source": [
    "from sklearn.compose import ColumnTransformer, make_column_transformer\n",
    "from sklearn.preprocessing import FunctionTransformer\n",
    "\n",
    "identity_transformer = FunctionTransformer(lambda x: x)\n",
    "\n",
    "def get_lexicon(allowed, lexicon, version):\n",
    "    if version.lower() == \"all\":\n",
    "        terms = lexicon.term.unique()\n",
    "    else:\n",
    "        terms = lexicon[lexicon.version == version].term.unique()\n",
    "        \n",
    "    return [t for t in terms if t in allowed]\n",
    "\n",
    "def column_selector(allowed, lexicon, version):\n",
    "    return ColumnTransformer([\n",
    "        (version, identity_transformer, get_lexicon(allowed, lexicon, version)),\n",
    "    ], remainder=\"drop\")\n",
    "\n",
    "pipeline = Pipeline([\n",
    "    ('select', column_selector(X_train.columns, lexicon, \"all\")),\n",
    "    ('tfidf', TfidfTransformer()),\n",
    "    ('scale', StandardScaler(with_mean=False)),\n",
    "    ('model', LogisticRegressionCV(penalty='l1', solver='liblinear'))\n",
    "])\n",
    "\n",
    "grid = {\n",
    "    \"select\": [\n",
    "        column_selector(X_train.columns, lexicon, \"All\"),\n",
    "        column_selector(X_train.columns, lexicon, \"Original\"),\n",
    "        column_selector(X_train.columns, lexicon, \"Term Frequency\"),\n",
    "        column_selector(X_train.columns, lexicon, \"Attention Layer\")\n",
    "    ]\n",
    "}\n",
    "\n",
    "gs = GridSearchCV(pipeline, grid, cv=10, scoring=[\"accuracy\", \"f1\"], n_jobs=-1, verbose=100, return_train_score=True, refit=\"f1\")\n",
    "gs.fit(X_train, y_train == \"Peaceful\");"
   ]
  },
  {
   "cell_type": "code",
   "execution_count": 42,
   "metadata": {},
   "outputs": [
    {
     "data": {
      "image/png": "[encoded data removed]",
      "text/plain": [
       "<Figure size 936x576 with 1 Axes>"
      ]
     },
     "metadata": {
      "needs_background": "light"
     },
     "output_type": "display_data"
    }
   ],
   "source": [
    "res = pd.DataFrame(gs.cv_results_)\n",
    "res[\"param_model\"] = res[\"param_select\"].apply(lambda x: f\"Lexicon{x.transformers[0][0].upper().replace(' ', '_')}()\")\n",
    "\n",
    "res_tidy = pd.concat([\n",
    "    tidy_cv_result(res, \"test\",  \"accuracy\"),\n",
    "#     tidy_cv_result(res, \"test\",  \"f1\"),\n",
    "])\n",
    "\n",
    "fig, ax = plt.subplots(figsize=(13, 8))\n",
    "\n",
    "sns.barplot(x=\"model\", y=\"score\", data=res_tidy, ax=ax)\n",
    "pretty_plot(ax, \"Predictive power of each lexicon version individually\", \"Model\", \"Accuracy Score\")\n",
    "annotateBars(ax, percent=True)\n",
    "\n",
    "# legend = ax.legend(title=\"Scorint Metric\", bbox_to_anchor=(1,1), loc=\"upper left\", fontsize=13)\n",
    "# legend.get_title().set_fontsize(14)"
   ]
  },
  {
   "cell_type": "markdown",
   "metadata": {},
   "source": [
    "### Model Evaluation"
   ]
  },
  {
   "cell_type": "code",
   "execution_count": 25,
   "metadata": {},
   "outputs": [],
   "source": [
    "pipeline = Pipeline([\n",
    "    ('tfidf', TfidfTransformer()),\n",
    "    ('scale', StandardScaler(with_mean=False)),\n",
    "    ('model', LogisticRegressionCV(penalty='l1', solver='liblinear'))\n",
    "])\n",
    "\n",
    "pipeline.fit(X_train, y_train);\n",
    "lr_fit = pipeline.named_steps[\"model\"]"
   ]
  },
  {
   "cell_type": "code",
   "execution_count": 26,
   "metadata": {},
   "outputs": [
    {
     "data": {
      "image/png": "[encoded data removed]",
      "text/plain": [
       "<Figure size 864x576 with 2 Axes>"
      ]
     },
     "metadata": {
      "needs_background": "light"
     },
     "output_type": "display_data"
    }
   ],
   "source": [
    "from sklearn.metrics import plot_confusion_matrix\n",
    "\n",
    "fig, ax = plt.subplots(figsize=(12, 8))\n",
    "pretty_plot(ax, \"Confusion matrix of training data\", \"Predicted Label\", \"True Label\")\n",
    "plot_confusion_matrix(pipeline, X_train, y_train, ax=ax);"
   ]
  },
  {
   "cell_type": "code",
   "execution_count": 27,
   "metadata": {},
   "outputs": [
    {
     "data": {
      "text/html": [
       "<div>\n",
       "<style scoped>\n",
       "    .dataframe tbody tr th:only-of-type {\n",
       "        vertical-align: middle;\n",
       "    }\n",
       "\n",
       "    .dataframe tbody tr th {\n",
       "        vertical-align: top;\n",
       "    }\n",
       "\n",
       "    .dataframe thead th {\n",
       "        text-align: right;\n",
       "    }\n",
       "</style>\n",
       "<table border=\"1\" class=\"dataframe\">\n",
       "  <thead>\n",
       "    <tr style=\"text-align: right;\">\n",
       "      <th>version</th>\n",
       "      <th>lexicon</th>\n",
       "      <th>version</th>\n",
       "      <th>term</th>\n",
       "    </tr>\n",
       "  </thead>\n",
       "  <tbody>\n",
       "    <tr>\n",
       "      <th>0</th>\n",
       "      <td>conflict</td>\n",
       "      <td>Attention Layer</td>\n",
       "      <td>abide</td>\n",
       "    </tr>\n",
       "    <tr>\n",
       "      <th>1</th>\n",
       "      <td>conflict</td>\n",
       "      <td>Original</td>\n",
       "      <td>aborted state</td>\n",
       "    </tr>\n",
       "    <tr>\n",
       "      <th>2</th>\n",
       "      <td>conflict</td>\n",
       "      <td>Term Frequency</td>\n",
       "      <td>abroad</td>\n",
       "    </tr>\n",
       "    <tr>\n",
       "      <th>3</th>\n",
       "      <td>conflict</td>\n",
       "      <td>Original</td>\n",
       "      <td>absolute poverty</td>\n",
       "    </tr>\n",
       "    <tr>\n",
       "      <th>4</th>\n",
       "      <td>conflict</td>\n",
       "      <td>Term Frequency</td>\n",
       "      <td>access</td>\n",
       "    </tr>\n",
       "    <tr>\n",
       "      <th>...</th>\n",
       "      <td>...</td>\n",
       "      <td>...</td>\n",
       "      <td>...</td>\n",
       "    </tr>\n",
       "    <tr>\n",
       "      <th>2798</th>\n",
       "      <td>resilience</td>\n",
       "      <td>Original</td>\n",
       "      <td>world health organization</td>\n",
       "    </tr>\n",
       "    <tr>\n",
       "      <th>2799</th>\n",
       "      <td>resilience</td>\n",
       "      <td>Original</td>\n",
       "      <td>world law</td>\n",
       "    </tr>\n",
       "    <tr>\n",
       "      <th>2800</th>\n",
       "      <td>resilience</td>\n",
       "      <td>Original</td>\n",
       "      <td>world order</td>\n",
       "    </tr>\n",
       "    <tr>\n",
       "      <th>2801</th>\n",
       "      <td>resilience</td>\n",
       "      <td>Original</td>\n",
       "      <td>world passport</td>\n",
       "    </tr>\n",
       "    <tr>\n",
       "      <th>2802</th>\n",
       "      <td>resilience</td>\n",
       "      <td>Original</td>\n",
       "      <td>written agreement</td>\n",
       "    </tr>\n",
       "  </tbody>\n",
       "</table>\n",
       "<p>2803 rows × 3 columns</p>\n",
       "</div>"
      ],
      "text/plain": [
       "version     lexicon          version                       term\n",
       "0          conflict  Attention Layer                      abide\n",
       "1          conflict         Original              aborted state\n",
       "2          conflict   Term Frequency                     abroad\n",
       "3          conflict         Original           absolute poverty\n",
       "4          conflict   Term Frequency                     access\n",
       "...             ...              ...                        ...\n",
       "2798     resilience         Original  world health organization\n",
       "2799     resilience         Original                  world law\n",
       "2800     resilience         Original                world order\n",
       "2801     resilience         Original             world passport\n",
       "2802     resilience         Original          written agreement\n",
       "\n",
       "[2803 rows x 3 columns]"
      ]
     },
     "execution_count": 27,
     "metadata": {},
     "output_type": "execute_result"
    }
   ],
   "source": [
    "lexicon_simple = lexicon[[\"lexicon\", \"term\" , \"version\"]]\n",
    "lexicon_simple[\"present\"] = True\n",
    "lexicon_simple = lexicon_simple.pivot(\n",
    "    index=[\"lexicon\", \"term\"], \n",
    "    columns=\"version\", \n",
    "    values=\"present\"\n",
    ").reset_index().replace(np.nan, False)\n",
    "\n",
    "def get_lexicon_version(row):\n",
    "    orig = row[\"Original\"]\n",
    "    tf = row[\"Term Frequency\"]\n",
    "    atten = row[\"Attention Layer\"]\n",
    "    \n",
    "    if all([orig, tf, atten]):\n",
    "        return \"Original\"\n",
    "    elif tf:\n",
    "        return \"Term Frequency\"\n",
    "    elif atten:\n",
    "        return \"Attention Layer\"\n",
    "    \n",
    "    return \"Original\"\n",
    "\n",
    "lexicon_simple[\"version\"] = lexicon_simple.apply(get_lexicon_version, axis=1)\n",
    "lexicon_simple = lexicon_simple[[\"lexicon\", \"version\", \"term\"]]\n",
    "lexicon_simple"
   ]
  },
  {
   "cell_type": "code",
   "execution_count": 32,
   "metadata": {},
   "outputs": [
    {
     "name": "stdout",
     "output_type": "stream",
     "text": [
      "(1548, 8)\n"
     ]
    },
    {
     "data": {
      "text/html": [
       "<div>\n",
       "<style scoped>\n",
       "    .dataframe tbody tr th:only-of-type {\n",
       "        vertical-align: middle;\n",
       "    }\n",
       "\n",
       "    .dataframe tbody tr th {\n",
       "        vertical-align: top;\n",
       "    }\n",
       "\n",
       "    .dataframe thead th {\n",
       "        text-align: right;\n",
       "    }\n",
       "</style>\n",
       "<table border=\"1\" class=\"dataframe\">\n",
       "  <thead>\n",
       "    <tr style=\"text-align: right;\">\n",
       "      <th></th>\n",
       "      <th>term</th>\n",
       "      <th>coef</th>\n",
       "      <th>lexicon</th>\n",
       "      <th>version</th>\n",
       "      <th>abs_coef</th>\n",
       "      <th>sign_coef</th>\n",
       "      <th>importance_rank</th>\n",
       "      <th>bar_color</th>\n",
       "    </tr>\n",
       "  </thead>\n",
       "  <tbody>\n",
       "    <tr>\n",
       "      <th>1649</th>\n",
       "      <td>salaam</td>\n",
       "      <td>-0.512115</td>\n",
       "      <td>peace</td>\n",
       "      <td>Attention Layer</td>\n",
       "      <td>0.512115</td>\n",
       "      <td>NEG</td>\n",
       "      <td>1.0</td>\n",
       "      <td>#6db7f7</td>\n",
       "    </tr>\n",
       "    <tr>\n",
       "      <th>1038</th>\n",
       "      <td>islam</td>\n",
       "      <td>-0.229471</td>\n",
       "      <td>peace</td>\n",
       "      <td>Original</td>\n",
       "      <td>0.229471</td>\n",
       "      <td>NEG</td>\n",
       "      <td>8.0</td>\n",
       "      <td>#6db7f7</td>\n",
       "    </tr>\n",
       "    <tr>\n",
       "      <th>837</th>\n",
       "      <td>governor</td>\n",
       "      <td>-0.223390</td>\n",
       "      <td>conflict</td>\n",
       "      <td>Attention Layer</td>\n",
       "      <td>0.223390</td>\n",
       "      <td>NEG</td>\n",
       "      <td>9.0</td>\n",
       "      <td>#FF5A59</td>\n",
       "    </tr>\n",
       "    <tr>\n",
       "      <th>1908</th>\n",
       "      <td>tribune</td>\n",
       "      <td>-0.205679</td>\n",
       "      <td>conflict</td>\n",
       "      <td>Attention Layer</td>\n",
       "      <td>0.205679</td>\n",
       "      <td>NEG</td>\n",
       "      <td>12.0</td>\n",
       "      <td>#FF5A59</td>\n",
       "    </tr>\n",
       "    <tr>\n",
       "      <th>1817</th>\n",
       "      <td>summary</td>\n",
       "      <td>-0.177184</td>\n",
       "      <td>conflict</td>\n",
       "      <td>Attention Layer</td>\n",
       "      <td>0.177184</td>\n",
       "      <td>NEG</td>\n",
       "      <td>20.0</td>\n",
       "      <td>#FF5A59</td>\n",
       "    </tr>\n",
       "  </tbody>\n",
       "</table>\n",
       "</div>"
      ],
      "text/plain": [
       "          term      coef   lexicon          version  abs_coef sign_coef  \\\n",
       "1649    salaam -0.512115     peace  Attention Layer  0.512115       NEG   \n",
       "1038     islam -0.229471     peace         Original  0.229471       NEG   \n",
       "837   governor -0.223390  conflict  Attention Layer  0.223390       NEG   \n",
       "1908   tribune -0.205679  conflict  Attention Layer  0.205679       NEG   \n",
       "1817   summary -0.177184  conflict  Attention Layer  0.177184       NEG   \n",
       "\n",
       "      importance_rank bar_color  \n",
       "1649              1.0   #6db7f7  \n",
       "1038              8.0   #6db7f7  \n",
       "837               9.0   #FF5A59  \n",
       "1908             12.0   #FF5A59  \n",
       "1817             20.0   #FF5A59  "
      ]
     },
     "execution_count": 32,
     "metadata": {},
     "output_type": "execute_result"
    }
   ],
   "source": [
    "term_coef = pd.DataFrame(\n",
    "    np.column_stack([\n",
    "        X_train.columns,\n",
    "        lr_fit.coef_.reshape(-1)\n",
    "    ]), columns=[\"term\", \"coef\"]\n",
    ")\n",
    "\n",
    "term_coef = term_coef.merge(\n",
    "    lexicon_simple, \n",
    "    on=\"term\", \n",
    "    how=\"left\"\n",
    ")\n",
    "\n",
    "colors = {\n",
    "    \"peace\": \"#6db7f7\", \n",
    "    \"resilience\": \"#36CB8A\", \n",
    "    \"conflict\": \"#FF5A59\"\n",
    "}\n",
    "\n",
    "term_coef[\"coef\"] = term_coef[\"coef\"].astype(float)\n",
    "term_coef[\"abs_coef\"] = np.abs(term_coef.coef)\n",
    "term_coef[\"sign_coef\"] = term_coef.coef.apply(lambda x: \"POS\" if np.sign(x) > 0 else \"NEG\")\n",
    "term_coef[\"importance_rank\"] = term_coef.abs_coef.rank(method=\"min\", ascending=False)\n",
    "term_coef[\"bar_color\"] = term_coef.lexicon.apply(lambda x: colors[x])\n",
    "\n",
    "term_coef = term_coef.drop_duplicates(\"term\", keep=False)\n",
    "term_coef = term_coef[term_coef.term.str.len() > 3]\n",
    "term_coef = term_coef.sort_values(\"abs_coef\", ascending=False)\n",
    "\n",
    "term_coef.to_csv(\"../data/LR_term_coef.csv\", index=False)\n",
    "\n",
    "print(term_coef.shape)\n",
    "term_coef.head()"
   ]
  },
  {
   "cell_type": "markdown",
   "metadata": {},
   "source": [
    "### FOR EASE, terms that apper in multiple lexicons are removed. If a term appears in multiple versions, the original is the default.\n",
    "\n",
    "do any coefficients go to 0, what lexicons are they coming from?"
   ]
  },
  {
   "cell_type": "code",
   "execution_count": 33,
   "metadata": {},
   "outputs": [
    {
     "data": {
      "text/plain": [
       "version          lexicon   \n",
       "Attention Layer  conflict       16\n",
       "                 peace          20\n",
       "Original         conflict      292\n",
       "                 peace         213\n",
       "                 resilience     73\n",
       "Term Frequency   conflict       31\n",
       "                 peace          39\n",
       "dtype: int64"
      ]
     },
     "execution_count": 33,
     "metadata": {},
     "output_type": "execute_result"
    }
   ],
   "source": [
    "term_coef[term_coef.coef == 0].groupby([\"version\", \"lexicon\"]).size()"
   ]
  },
  {
   "cell_type": "markdown",
   "metadata": {},
   "source": [
    "What are these words?"
   ]
  },
  {
   "cell_type": "code",
   "execution_count": 34,
   "metadata": {},
   "outputs": [
    {
     "name": "stdout",
     "output_type": "stream",
     "text": [
      "ATTENTION LAYER CONFLICT\n",
      "{'investments', 'diagnosis', 'users', 'attractive', 'feed', 'publishes', 'settings', 'jacob', 'should', 'comments', 'asks', 'news', 'browser', 'guidelines', 'learner', 'stud'}\n",
      "\n",
      "ATTENTION LAYER PEACE\n",
      "{'apartheid', 'berry', 'blues', 'constable', 'cookies', 'demonstration', 'dissatisfied', 'inaccuracy', 'intrusion', 'investors', 'liable', 'media', 'modi', 'more', 'newspaper',\n",
      " 'newsroom', 'observer', 'primarily', 'proactive', 'translate'}\n",
      "\n",
      "ORIGINAL CONFLICT\n",
      "{'ache', 'adverse', 'afflict', 'afflicted', 'affliction', 'afoul', 'afraid', 'aggravating', 'aggravation', 'aggressive behavior', 'aggressively', 'alarm', 'alarming', 'anarchic',\n",
      " 'anarchy', 'anger', 'annihilation', 'antagonize', 'anxiety', 'arguing', 'argumentative', 'arguments', 'armed', 'armed conflict', 'asphyxiate', 'asphyxiation', 'assassinate',\n",
      " 'atrocities', 'atrocity', 'authoritarian', 'authoritarianism', 'badness', 'battled', 'bioterrorism', 'black market', 'blood', 'bomb', 'brain drain', 'brinkmanship', 'bureaucracy',\n",
      " 'capital flight', 'chaos', 'civil conflict', 'civil war', 'class struggle', 'class warfare', 'cleavage', 'coercion', 'coercive', 'cold war', 'collide', 'combatant', 'competition',\n",
      " 'competitively', 'competitiveness', 'complex emergency', 'conflict', 'confrontation', 'conqueror', 'conspire', 'contestation', 'counterinsurgency', 'counterpoint', 'crime',\n",
      " 'crimes', 'crisis', 'criticised', 'criticized', 'decimate', 'decimation', 'demagogue', 'depress', 'depressant', 'depressed', 'depressing', 'depression', 'depressive', 'despatch',\n",
      " 'destroyer', 'destruct', 'destructive', 'deterrent', 'devastating', 'devastation', 'dictatorship', 'dilemma', 'discord', 'discordant', 'discriminate', 'discrimination',\n",
      " 'disenfranchise', 'disenfranchisement', 'disgust', 'dismember', 'dismembered', 'disordered', 'disputant', 'dispute', 'dissension', 'dissonance', 'dissonant', 'divided',\n",
      " 'divisions', 'divisiveness', 'dogfight', 'dominance', 'dominated', 'domination', 'doomsayers', 'economic crisis', 'eradication', 'ethnic conflict', 'ethnic war', 'ethnocentric',\n",
      " 'exclusion', 'execution', 'executioner', 'extremism', 'factional', 'factionalism', 'failure', 'family conflict', 'feared', 'fearfully', 'ferocity', 'feud', 'fierceness',\n",
      " 'fighting', 'firearms', 'food insecurity', 'forced', 'friction', 'genocidal', 'global warming', 'grenade', 'grievance', 'guerilla', 'guerilla warfare', 'hate', 'hateful',\n",
      " 'hatred', 'high alert', 'homicidal', 'hostage', 'hostile', 'hostility', 'humanitarian emergency', 'hurt', 'hurtful', 'hurting', 'hypocrisy', 'ill treatment', 'imprisonment',\n",
      " 'incapacitated', 'incompatibility', 'inequality', 'infringe', 'inner turmoil', 'insult', 'insulting', 'insults', 'insurgent', 'insurrection', 'internal conflict', 'internment',\n",
      " 'intolerable', 'intolerably', 'intolerance', 'intolerant', 'intractable', 'jealousy', 'jihad', 'jobless growth', 'lamenting', 'marginalize', 'market failure', 'militants',\n",
      " 'militarism', 'militarize', 'military', 'misunderstand', 'negatively', 'negativity', 'obliterate', 'obliteration', 'oppositional', 'oppressed', 'oppression', 'oppressive',\n",
      " 'oppressively', 'overpower', 'overtake', 'pained', 'painfully', 'poison', 'polarization', 'polarize', 'political exclusion', 'problem', 'propaganda', 'proxy war',\n",
      " 'psychological warfare', 'punisher', 'pyrrhic victory', 'race riot', 'racial bias', 'racism', 'radicalisation', 'radicalization', 'radicalize', 'repress', 'repressed',\n",
      " 'repression', 'repressive', 'resigned', 'revolution', 'rigidity', 'riots', 'road rage', 'rogue', 'run afoul', 'savagely', 'scare', 'scared', 'seize power', 'separation',\n",
      " 'shed blood', 'slaughter', 'slay', 'smother', 'social conflict', 'societal collapse', 'state collapse', 'state failure', 'state terror', 'state terrorism', 'stereotype',\n",
      " 'stereotyped', 'stereotypical', 'stereotyping', 'stifle', 'stifled', 'strangle', 'strangles', 'strife', 'struggle', 'subvert', 'suffer', 'suffocate', 'suffocating', 'suicidal',\n",
      " 'suicide', 'taunted', 'tension', 'terminate', 'termination', 'terror', 'terrorist act', 'threat', 'torturer', 'torturing', 'totalitarianism', 'transgress', 'trauma',\n",
      " 'trench warfare', 'trigger', 'turbulent', 'unacceptable', 'underdevelopment', 'undermine', 'undermining', 'uneasiness', 'uneasy', 'unemployment', 'unnatural', 'unrest',\n",
      " 'unstable', 'upheaval', 'vehemence', 'vicious', 'vicious cycle', 'violence', 'violent behavior', 'violent video', 'violently', 'war crimes', 'warned', 'wasteful', 'weapon',\n",
      " 'weariness', 'weary', 'worried'}\n",
      "\n",
      "ORIGINAL PEACE\n",
      "{'academic freedom', 'acceptance', 'accepting', 'agreed', 'agreeing', 'agreements', 'aide', 'brotherhood', 'buddhism', 'calmness', 'caring', 'celebrated', 'citizen diplomacy',\n",
      " 'civility', 'coalesce', 'coexist', 'cohesive', 'cohesively', 'cohesiveness', 'collaborate', 'collective identity', 'commitment', 'common good', 'common identity', 'commonality',\n",
      " 'communal', 'communally', 'communicating', 'communications', 'communities', 'compatible', 'comprehensively', 'conciliator', 'connectedness', 'constitution making', 'constructive',\n",
      " 'constructively', 'cooperative housing', 'dance', 'democracies', 'democratically', 'democratization', 'democratize', 'dialogue process', 'dissolution', 'divine', 'divinely',\n",
      " 'ecology', 'educationally', 'egalitarian', 'egalitarianism', 'elect', 'elections', 'empathy', 'ethically', 'fair', 'faithful', 'faithfully', 'familial', 'forgive', 'forgiveness',\n",
      " 'forgiving', 'freeing', 'friends', 'friendship', 'fusion', 'gender sensitivity', 'general trust', 'generously', 'giving', 'global citizenship', 'golden rule', 'good',\n",
      " 'happy family', 'happy life', 'harmonious', 'harmoniously', 'harmony', 'health', 'healthful', 'healthfulness', 'helpful', 'helpfulness', 'helping', 'hinduism', 'hope', 'hopeful',\n",
      " 'hospitable', 'humanist', 'humorous', 'humorously', 'improving', 'included', 'inclusive', 'inclusively', 'inclusiveness', 'inner peace', 'integrated', 'integration',\n",
      " 'integrative', 'intercultural', 'international relation', 'journalism', 'journalistic', 'joyful', 'joyfully', 'joyous', 'kindred', 'kinship', 'learning', 'liberator', 'liberty',\n",
      " 'life expectancy', 'lifesaving', 'listening', 'literacy', 'loving', 'matrimony', 'mediate', 'meditating', 'meditation', 'meditative', 'moral', 'morally', 'music', 'musically',\n",
      " 'mutual trust', 'mutuality', 'narratives', 'national anthem', 'novels', 'nurture', 'optimistic', 'pacifist', 'parity', 'participative', 'peace education', 'peace research',\n",
      " 'peace treaty', 'photography', 'playful', 'playfully', 'playfulness', 'plays', 'pluralistic', 'politely', 'politeness', 'positive', 'positive thinking', 'positivity', 'prestige',\n",
      " 'progressive', 'progressively', 'progressiveness', 'prosperous', 'quietness', 'reassured', 'reciprocally', 'reciprocation', 'regional organization', 'religion', 'resilient',\n",
      " 'resolved', 'resources', 'respectable', 'respectably', 'responsibility', 'responsibly', 'rewarding', 'rights', 'scientific', 'selflessness', 'shared', 'sharing', 'sincere',\n",
      " 'sincerely', 'skills', 'social capital', 'social contract', 'solidarity', 'spiritualism', 'spirituality', 'spiritually', 'sports', 'stable', 'storyteller', 'storytelling',\n",
      " 'sustainable peace', 'thoughtfully', 'thoughtfulness', 'thrive', 'togetherness', 'tourism', 'traditions', 'tranquil', 'tranquility', 'tranquillity', 'transparency', 'transparent',\n",
      " 'transparently', 'treaties', 'trustful', 'unanimously', 'unison', 'universal', 'universities', 'values', 'virtue', 'voting', 'warmth', 'welcoming', 'world federation', 'worship'}\n",
      "\n",
      "ORIGINAL RESILIENCE\n",
      "{'accountable', 'adjudication', 'allegiance', 'amity', 'amnesty', 'appease', 'asymmetry', 'capitalism', 'ceasefires', 'civic engagement', 'confidence building',\n",
      " 'conflict prevention', 'conscientiousness', 'contact group', 'convention', 'cosmopolitanism', 'courts', 'crisis management', 'development aid', 'disarmament',\n",
      " 'environmental security', 'federalism', 'feminist', 'guarantor', 'heal', 'healing', 'human capital', 'humanitarian intervention', 'impartiality', 'independency',\n",
      " 'interfaith dialogue', 'interpreting', 'knowledge transfer', 'labor movement', 'legitimacy', 'monitoring', 'mutual aid', 'nature', 'negotiable', 'neutrally', 'opportunity',\n",
      " 'pacification', 'pact', 'pardonable', 'peace activist', 'peace building', 'peace enforcement', 'peace operation', 'peacekeeping', 'political tolerance', 'psychoanalysis',\n",
      " 'quietude', 'rapprochement', 'rational', 'rationality', 'rebuilding', 'reconstruct', 'reintegrate', 'reintegration', 'restorative', 'rightness', 'risk management', 'safe space',\n",
      " 'security sector', 'self determination', 'shuttle diplomacy', 'socialism', 'stability', 'summit meeting', 'trade union', 'truce', 'world law', 'world order'}\n",
      "\n",
      "TERM FREQUENCY CONFLICT\n",
      "{'adopt', 'allege', 'allegedly', 'attack', 'carry', 'commit', 'destroy', 'develop', 'fear', 'finance', 'force', 'generate', 'identify', 'immediate', 'insist', 'islamic', 'measure',\n",
      " 'obtain', 'ongoing', 'practice', 'protect', 'protest', 'reduce', 'reportedly', 'rural', 'serve', 'stock', 'strike', 'supreme', 'trade', 'zone'}\n",
      "\n",
      "TERM FREQUENCY PEACE\n",
      "{'admit', 'busy', 'chance', 'club', 'connect', 'cross', 'definitely', 'digital', 'easy', 'either', 'excellent', 'excite', 'expensive', 'experience', 'famous', 'feel', 'highly',\n",
      " 'initially', 'inspire', 'keep', 'learn', 'occur', 'play', 'popular', 'powerful', 'pressure', 'proud', 'realise', 'remember', 'rest', 'select', 'sport', 'stay', 'survive', 'test',\n",
      " 'truly', 'unique', 'wait', 'watch'}\n",
      "\n"
     ]
    }
   ],
   "source": [
    "pp = pprint.PrettyPrinter(compact=True, width=180)\n",
    "\n",
    "for g, df in term_coef[term_coef.coef == 0].groupby([\"version\", \"lexicon\"]):\n",
    "    print(\" \".join(g).upper())\n",
    "    pp.pprint(set(df.term.tolist()))\n",
    "    print()"
   ]
  },
  {
   "cell_type": "markdown",
   "metadata": {},
   "source": [
    "**All the zero-coef terms are from the old lexicon.**\n",
    "\n",
    "How do the most important terms drive our prediction? Are these drivers consistent with our lexicons?"
   ]
  },
  {
   "cell_type": "code",
   "execution_count": 44,
   "metadata": {},
   "outputs": [
    {
     "data": {
      "image/png": "[encoded data removed]",
      "text/plain": [
       "<Figure size 864x504 with 1 Axes>"
      ]
     },
     "metadata": {
      "needs_background": "light"
     },
     "output_type": "display_data"
    }
   ],
   "source": [
    "lexicon_consistency = term_coef.sort_values(\"abs_coef\", ascending=False).head(500)\n",
    "lexicon_consistency = lexicon_consistency.groupby([\"sign_coef\", \"lexicon\"]).size().rename(\"n\").reset_index()\n",
    "lexicon_consistency = lexicon_consistency.sort_values([\"sign_coef\", \"n\"], ascending=False)\n",
    "lexicon_consistency[\"bar_color\"] = lexicon_consistency.lexicon.apply(lambda x: colors[x])\n",
    "\n",
    "fig, ax = plt.subplots(figsize=(12, 7))\n",
    "sns.barplot(\n",
    "    x=\"sign_coef\", \n",
    "    y=\"n\",\n",
    "    hue=\"lexicon\",\n",
    "    palette=lexicon_consistency.bar_color,\n",
    "    data=lexicon_consistency\n",
    ")\n",
    "\n",
    "title = \"Is the model consistent with the combined lexicons for top 500 important terms?\"\n",
    "pretty_plot(ax, title, \"Sign of Coefficient on Term\", \"Number of Terms\")\n",
    "\n",
    "legend = plt.legend(title=\"Lexicon\", loc=\"upper center\", fontsize=13)\n",
    "legend.get_title().set_fontsize(14)\n",
    "\n",
    "annotateBars(ax)"
   ]
  },
  {
   "cell_type": "markdown",
   "metadata": {},
   "source": [
    "For the top 500 terms from the logistic regression model, we see that the vast majority of terms with a positive coefficient are from the peace lexicon, and similarly the terms with negative coefficients are mostly from the conflict lexicon. This seems to imply that our lexicons are doing a good job of separating the two types of countries. For this model, positive coefficients increase the probability of being a 'peaceful' country, so it looks like our peaceful terms drive the probability up while conflict terms tend to drive it down. It is also interesting that the resillience lexicon appears evenly in both groups.\n",
    "\n",
    "Next are some actual words and how their pressence drives the probability of being a peaceful nation. The bars are colored by lexicon, so that we see the trend discussed above. "
   ]
  },
  {
   "cell_type": "code",
   "execution_count": 38,
   "metadata": {},
   "outputs": [
    {
     "data": {
      "image/png": "[encoded data removed]",
      "text/plain": [
       "<Figure size 864x1008 with 1 Axes>"
      ]
     },
     "metadata": {
      "needs_background": "light"
     },
     "output_type": "display_data"
    }
   ],
   "source": [
    "top_coef = term_coef.groupby(\"sign_coef\").apply(lambda x: x.nlargest(20, ['abs_coef'])).reset_index(drop=True)\n",
    "top_coef = top_coef.sort_values(\"coef\", ascending=False)\n",
    "\n",
    "fig, ax = plt.subplots(figsize=(12, 14))\n",
    "sns.barplot(x=\"coef\", y=\"term\", palette=top_coef.bar_color, data=top_coef, ax=ax)\n",
    "\n",
    "title = \"Relative importances of top positive and negative coefficient terms\"\n",
    "xlab = \"Relative Importance (Positive values drive prediction towards Peaceful)\"\n",
    "\n",
    "labels = [\"Peace\", \"Conflict\", \"Resilience\"]\n",
    "handles = [plt.Rectangle((0,0),1,1, color=colors[label.lower()]) for label in labels]\n",
    "           \n",
    "legend = plt.legend(handles, labels, title=\"Lexicon\", loc=\"upper left\", fontsize=13)\n",
    "legend.get_title().set_fontsize(14)\n",
    "\n",
    "pretty_plot(ax, title, xlab, None)"
   ]
  },
  {
   "cell_type": "markdown",
   "metadata": {},
   "source": [
    "I don't know. My takeaway here is that terms in the new lexicon tend to have much larger coefficients than terms from the old lexicon."
   ]
  },
  {
   "cell_type": "code",
   "execution_count": 39,
   "metadata": {},
   "outputs": [
    {
     "data": {
      "text/plain": [
       "0.81336"
      ]
     },
     "execution_count": 39,
     "metadata": {},
     "output_type": "execute_result"
    }
   ],
   "source": [
    "pipeline.score(X_test, y_test)"
   ]
  },
  {
   "cell_type": "code",
   "execution_count": null,
   "metadata": {},
   "outputs": [],
   "source": []
  }
 ],
 "metadata": {
  "kernelspec": {
   "display_name": "Python 3",
   "language": "python",
   "name": "python3"
  },
  "language_info": {
   "codemirror_mode": {
    "name": "ipython",
    "version": 3
   },
   "file_extension": ".py",
   "mimetype": "text/x-python",
   "name": "python",
   "nbconvert_exporter": "python",
   "pygments_lexer": "ipython3",
   "version": "3.8.5"
  }
 },
 "nbformat": 4,
 "nbformat_minor": 4
}
