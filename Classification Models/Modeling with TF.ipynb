{
 "cells": [
  {
   "cell_type": "markdown",
   "metadata": {},
   "source": [
    "# Linear Model with Lexicon Term Frequencies"
   ]
  },
  {
   "cell_type": "code",
   "execution_count": 3,
   "metadata": {},
   "outputs": [],
   "source": [
    "import os\n",
    "import re\n",
    "import pathlib\n",
    "import warnings\n",
    "warnings.filterwarnings(action=\"ignore\")\n",
    "\n",
    "import pprint\n",
    "import itertools\n",
    "from tqdm import tqdm\n",
    "\n",
    "import numpy as np\n",
    "import pandas as pd\n",
    "\n",
    "import matplotlib.pyplot as plt\n",
    "import seaborn as sns"
   ]
  },
  {
   "cell_type": "code",
   "execution_count": 4,
   "metadata": {},
   "outputs": [],
   "source": [
    "def annotateBars(ax, fmt=\"{:.0f}\", percent=False): \n",
    "    for p in ax.patches:\n",
    "        value = p.get_height()\n",
    "        if percent:\n",
    "            value = f\"{value * 100:.0f}%\"\n",
    "        else:\n",
    "            value = fmt.format(value)\n",
    "            \n",
    "        ax.annotate(value, \n",
    "                    (p.get_x() + p.get_width() / 2., 0),\n",
    "                    ha='center', va='center', fontsize=22, color='black', xytext=(0, 20), textcoords='offset points')\n",
    "        \n",
    "def pretty_plot(ax, title, xlab, ylab, sizes=(18, 14, 13)):\n",
    "    ax.set_title(title, fontsize=sizes[0], y=1.01)\n",
    "    ax.set_xlabel(xlab, fontsize=sizes[1])\n",
    "    ax.set_ylabel(ylab, fontsize=sizes[1])\n",
    "\n",
    "    ax.tick_params(axis=\"x\", labelsize=sizes[2])\n",
    "    ax.tick_params(axis=\"x\", labelsize=sizes[2])"
   ]
  },
  {
   "cell_type": "markdown",
   "metadata": {},
   "source": [
    "### I want to predict the society label for peaceful and nonpeaceful countries using the frequencies of the words in the lexicons."
   ]
  },
  {
   "cell_type": "markdown",
   "metadata": {},
   "source": [
    "## Prep Data"
   ]
  },
  {
   "cell_type": "code",
   "execution_count": 5,
   "metadata": {},
   "outputs": [],
   "source": [
    "word_counts = pd.read_csv(\"../data/word_counts_by_article_NO_OTHER.csv\")\n",
    "lexicon = pd.read_csv(\"../lexicons/lexicon.csv\")\n",
    "\n",
    "lexicon = lexicon[lexicon.lexicon != \"resilience\"].copy()"
   ]
  },
  {
   "cell_type": "code",
   "execution_count": 6,
   "metadata": {},
   "outputs": [
    {
     "name": "stdout",
     "output_type": "stream",
     "text": [
      "(822988, 2057)\n",
      "(822988, 1796)\n"
     ]
    }
   ],
   "source": [
    "print(word_counts.shape)\n",
    "\n",
    "use_cols = [c for c in word_counts.columns if c in lexicon.term.unique()] + [c for c in word_counts.columns[-3:]]\n",
    "word_counts = word_counts[use_cols]\n",
    "\n",
    "print(word_counts.shape)"
   ]
  },
  {
   "cell_type": "code",
   "execution_count": 7,
   "metadata": {},
   "outputs": [
    {
     "data": {
      "image/png": "[encoded data removed]",
      "text/plain": [
       "<Figure size 576x360 with 1 Axes>"
      ]
     },
     "metadata": {
      "needs_background": "light"
     },
     "output_type": "display_data"
    }
   ],
   "source": [
    "word_counts.country.value_counts().plot(kind=\"bar\", figsize=(8, 5),\n",
    "                                        title=\"Total # articles from each country\", \n",
    "                                        xlabel=\"Country\", ylabel=\"# Articles\");"
   ]
  },
  {
   "cell_type": "markdown",
   "metadata": {},
   "source": [
    "I randomly sample 75,000 articles from each society, where each country has the same number of articles."
   ]
  },
  {
   "cell_type": "code",
   "execution_count": 8,
   "metadata": {},
   "outputs": [
    {
     "name": "stderr",
     "output_type": "stream",
     "text": [
      "Getting sample for NONPEACEFUL: 100%|████████████████████████████████████████████████████| 5/5 [00:08<00:00,  1.70s/it]\n",
      "Getting sample for PEACEFUL: 100%|███████████████████████████████████████████████████████| 6/6 [00:19<00:00,  3.21s/it]\n"
     ]
    }
   ],
   "source": [
    "resample = []\n",
    "\n",
    "N = 75_000\n",
    "for society, society_df in word_counts.groupby(\"society\"):\n",
    "    num_countries = society_df.country.unique().shape[0]\n",
    "    num_to_sample = int(np.floor(N / num_countries))\n",
    "    \n",
    "    for country, country_df in tqdm(society_df.groupby(\"country\"), desc=f\"Getting sample for {society.upper()}\"):\n",
    "        if country_df.shape[0] >= num_to_sample:\n",
    "            df = country_df.sample(num_to_sample, random_state=2020)\n",
    "        else:\n",
    "            df = country_df\n",
    "            \n",
    "        resample.append(df)\n",
    "\n",
    "del word_counts\n",
    "word_counts = pd.concat(resample)"
   ]
  },
  {
   "cell_type": "code",
   "execution_count": 9,
   "metadata": {},
   "outputs": [
    {
     "data": {
      "image/png": "[encoded data removed]",
      "text/plain": [
       "<Figure size 576x360 with 1 Axes>"
      ]
     },
     "metadata": {
      "needs_background": "light"
     },
     "output_type": "display_data"
    }
   ],
   "source": [
    "word_counts.country.value_counts().plot(kind=\"bar\", figsize=(8, 5),\n",
    "                                        title=\"Resampled # articles from each country\", \n",
    "                                        xlabel=\"Country\", ylabel=\"# Articles\");"
   ]
  },
  {
   "cell_type": "markdown",
   "metadata": {},
   "source": [
    "The data is in a wide format already, with each column being a word and each row is an article. The values are the counts of that word in that article."
   ]
  },
  {
   "cell_type": "code",
   "execution_count": 10,
   "metadata": {},
   "outputs": [
    {
     "name": "stdout",
     "output_type": "stream",
     "text": [
      "(150000, 1796)\n"
     ]
    },
    {
     "data": {
      "text/html": [
       "<div>\n",
       "<style scoped>\n",
       "    .dataframe tbody tr th:only-of-type {\n",
       "        vertical-align: middle;\n",
       "    }\n",
       "\n",
       "    .dataframe tbody tr th {\n",
       "        vertical-align: top;\n",
       "    }\n",
       "\n",
       "    .dataframe thead th {\n",
       "        text-align: right;\n",
       "    }\n",
       "</style>\n",
       "<table border=\"1\" class=\"dataframe\">\n",
       "  <thead>\n",
       "    <tr style=\"text-align: right;\">\n",
       "      <th></th>\n",
       "      <th>academic freedom</th>\n",
       "      <th>acceptance</th>\n",
       "      <th>accepting</th>\n",
       "      <th>active listening</th>\n",
       "      <th>activism</th>\n",
       "      <th>advocate</th>\n",
       "      <th>agree</th>\n",
       "      <th>agreed</th>\n",
       "      <th>agreeing</th>\n",
       "      <th>agreement</th>\n",
       "      <th>...</th>\n",
       "      <th>commit</th>\n",
       "      <th>participate</th>\n",
       "      <th>successful</th>\n",
       "      <th>understand</th>\n",
       "      <th>immediate</th>\n",
       "      <th>adopt</th>\n",
       "      <th>amend</th>\n",
       "      <th>society</th>\n",
       "      <th>country</th>\n",
       "      <th>year</th>\n",
       "    </tr>\n",
       "  </thead>\n",
       "  <tbody>\n",
       "    <tr>\n",
       "      <th>121240</th>\n",
       "      <td>0</td>\n",
       "      <td>0</td>\n",
       "      <td>0</td>\n",
       "      <td>0</td>\n",
       "      <td>0</td>\n",
       "      <td>0</td>\n",
       "      <td>0</td>\n",
       "      <td>0</td>\n",
       "      <td>0</td>\n",
       "      <td>0</td>\n",
       "      <td>...</td>\n",
       "      <td>0</td>\n",
       "      <td>0</td>\n",
       "      <td>0</td>\n",
       "      <td>0</td>\n",
       "      <td>0</td>\n",
       "      <td>0</td>\n",
       "      <td>0</td>\n",
       "      <td>Nonpeaceful</td>\n",
       "      <td>BD</td>\n",
       "      <td>2013</td>\n",
       "    </tr>\n",
       "    <tr>\n",
       "      <th>116714</th>\n",
       "      <td>0</td>\n",
       "      <td>0</td>\n",
       "      <td>0</td>\n",
       "      <td>0</td>\n",
       "      <td>0</td>\n",
       "      <td>0</td>\n",
       "      <td>0</td>\n",
       "      <td>0</td>\n",
       "      <td>0</td>\n",
       "      <td>0</td>\n",
       "      <td>...</td>\n",
       "      <td>0</td>\n",
       "      <td>0</td>\n",
       "      <td>0</td>\n",
       "      <td>0</td>\n",
       "      <td>0</td>\n",
       "      <td>0</td>\n",
       "      <td>0</td>\n",
       "      <td>Nonpeaceful</td>\n",
       "      <td>BD</td>\n",
       "      <td>2012</td>\n",
       "    </tr>\n",
       "    <tr>\n",
       "      <th>127724</th>\n",
       "      <td>0</td>\n",
       "      <td>0</td>\n",
       "      <td>0</td>\n",
       "      <td>0</td>\n",
       "      <td>0</td>\n",
       "      <td>0</td>\n",
       "      <td>0</td>\n",
       "      <td>0</td>\n",
       "      <td>0</td>\n",
       "      <td>0</td>\n",
       "      <td>...</td>\n",
       "      <td>1</td>\n",
       "      <td>0</td>\n",
       "      <td>0</td>\n",
       "      <td>0</td>\n",
       "      <td>0</td>\n",
       "      <td>0</td>\n",
       "      <td>0</td>\n",
       "      <td>Nonpeaceful</td>\n",
       "      <td>BD</td>\n",
       "      <td>2011</td>\n",
       "    </tr>\n",
       "    <tr>\n",
       "      <th>122645</th>\n",
       "      <td>0</td>\n",
       "      <td>0</td>\n",
       "      <td>0</td>\n",
       "      <td>0</td>\n",
       "      <td>0</td>\n",
       "      <td>0</td>\n",
       "      <td>0</td>\n",
       "      <td>0</td>\n",
       "      <td>0</td>\n",
       "      <td>0</td>\n",
       "      <td>...</td>\n",
       "      <td>0</td>\n",
       "      <td>0</td>\n",
       "      <td>0</td>\n",
       "      <td>1</td>\n",
       "      <td>0</td>\n",
       "      <td>0</td>\n",
       "      <td>0</td>\n",
       "      <td>Nonpeaceful</td>\n",
       "      <td>BD</td>\n",
       "      <td>2014</td>\n",
       "    </tr>\n",
       "    <tr>\n",
       "      <th>129808</th>\n",
       "      <td>0</td>\n",
       "      <td>0</td>\n",
       "      <td>0</td>\n",
       "      <td>0</td>\n",
       "      <td>0</td>\n",
       "      <td>0</td>\n",
       "      <td>0</td>\n",
       "      <td>0</td>\n",
       "      <td>0</td>\n",
       "      <td>0</td>\n",
       "      <td>...</td>\n",
       "      <td>0</td>\n",
       "      <td>0</td>\n",
       "      <td>0</td>\n",
       "      <td>0</td>\n",
       "      <td>0</td>\n",
       "      <td>0</td>\n",
       "      <td>0</td>\n",
       "      <td>Nonpeaceful</td>\n",
       "      <td>BD</td>\n",
       "      <td>2020</td>\n",
       "    </tr>\n",
       "  </tbody>\n",
       "</table>\n",
       "<p>5 rows × 1796 columns</p>\n",
       "</div>"
      ],
      "text/plain": [
       "        academic freedom  acceptance  accepting  active listening  activism  \\\n",
       "121240                 0           0          0                 0         0   \n",
       "116714                 0           0          0                 0         0   \n",
       "127724                 0           0          0                 0         0   \n",
       "122645                 0           0          0                 0         0   \n",
       "129808                 0           0          0                 0         0   \n",
       "\n",
       "        advocate  agree  agreed  agreeing  agreement  ...  commit  \\\n",
       "121240         0      0       0         0          0  ...       0   \n",
       "116714         0      0       0         0          0  ...       0   \n",
       "127724         0      0       0         0          0  ...       1   \n",
       "122645         0      0       0         0          0  ...       0   \n",
       "129808         0      0       0         0          0  ...       0   \n",
       "\n",
       "        participate  successful  understand  immediate  adopt  amend  \\\n",
       "121240            0           0           0          0      0      0   \n",
       "116714            0           0           0          0      0      0   \n",
       "127724            0           0           0          0      0      0   \n",
       "122645            0           0           1          0      0      0   \n",
       "129808            0           0           0          0      0      0   \n",
       "\n",
       "            society  country  year  \n",
       "121240  Nonpeaceful       BD  2013  \n",
       "116714  Nonpeaceful       BD  2012  \n",
       "127724  Nonpeaceful       BD  2011  \n",
       "122645  Nonpeaceful       BD  2014  \n",
       "129808  Nonpeaceful       BD  2020  \n",
       "\n",
       "[5 rows x 1796 columns]"
      ]
     },
     "execution_count": 10,
     "metadata": {},
     "output_type": "execute_result"
    }
   ],
   "source": [
    "print(word_counts.shape)\n",
    "word_counts.head()"
   ]
  },
  {
   "cell_type": "code",
   "execution_count": 11,
   "metadata": {},
   "outputs": [],
   "source": [
    "X = word_counts.iloc[:, :-3]\n",
    "y = word_counts.iloc[:, -3]"
   ]
  },
  {
   "cell_type": "code",
   "execution_count": 12,
   "metadata": {},
   "outputs": [],
   "source": [
    "X.to_csv(\"LR Sampled X.csv\")\n",
    "y.to_csv(\"LR Sampled y.csv\")"
   ]
  },
  {
   "cell_type": "code",
   "execution_count": 13,
   "metadata": {},
   "outputs": [],
   "source": [
    "del word_counts"
   ]
  },
  {
   "cell_type": "markdown",
   "metadata": {},
   "source": [
    "#### To speed things up, I am going to drop the words that do not appear often (if ever) in the sample. Also, the word must be at least 3 characters long."
   ]
  },
  {
   "cell_type": "code",
   "execution_count": 11,
   "metadata": {},
   "outputs": [],
   "source": [
    "X_tot_word_counts = X.stack().reset_index()\n",
    "X_tot_word_counts.columns = [\"article\", \"term\", \"n\"]\n",
    "X_tot_word_counts = X_tot_word_counts.groupby(\"term\")\n",
    "\n",
    "n = X_tot_word_counts.n.sum().rename(\"n\").reset_index().set_index(\"term\")\n",
    "n_articles = X_tot_word_counts.n.apply(lambda x: (x > 0).sum()).rename(\"n_articles\").reset_index().set_index(\"term\")\n",
    "\n",
    "X_tot_word_counts = n.join(n_articles).reset_index()\n",
    "X_tot_word_counts = X_tot_word_counts[X_tot_word_counts.term.str.len() > 2]"
   ]
  },
  {
   "cell_type": "markdown",
   "metadata": {},
   "source": [
    "Let's quickly visualize how many words might be worth dropping."
   ]
  },
  {
   "cell_type": "code",
   "execution_count": 12,
   "metadata": {},
   "outputs": [
    {
     "data": {
      "image/png": "[encoded data removed]",
      "text/plain": [
       "<Figure size 1152x432 with 2 Axes>"
      ]
     },
     "metadata": {
      "needs_background": "light"
     },
     "output_type": "display_data"
    }
   ],
   "source": [
    "def get_pct_lt_n_words(x):\n",
    "    return X_tot_word_counts[X_tot_word_counts.n < x].shape[0] / X.shape[1]\n",
    "\n",
    "def get_pct_lt_n_articles(x):\n",
    "    return X_tot_word_counts[X_tot_word_counts.n_articles < x].shape[0] / X.shape[1]\n",
    "\n",
    "xs = np.arange(0, 30)\n",
    "ns = [get_pct_lt_n_words(n) for n in xs]\n",
    "n_articles = [get_pct_lt_n_articles(n) for n in xs]\n",
    "\n",
    "fig, axes = plt.subplots(ncols=2, figsize=(16, 6))\n",
    "sns.lineplot(xs, ns, ax=axes[0])\n",
    "pretty_plot(axes[0], \"What percent of words have less than n occurences?\", \"# Words\", \"Prop\", sizes=(14, 14, 13))\n",
    "\n",
    "sns.lineplot(xs, n_articles, ax=axes[1])\n",
    "pretty_plot(axes[1], \"What percent of words appear in less than n articles?\", \"# Articles\", \"Prop\", sizes=(14, 14, 13))"
   ]
  },
  {
   "cell_type": "markdown",
   "metadata": {},
   "source": [
    "Arbitrarily, I am going with words must appear in atleast 5 articles."
   ]
  },
  {
   "cell_type": "code",
   "execution_count": 13,
   "metadata": {},
   "outputs": [
    {
     "name": "stdout",
     "output_type": "stream",
     "text": [
      "24.7%\n"
     ]
    }
   ],
   "source": [
    "pct = get_pct_lt_n_articles(5)\n",
    "print(f\"{pct * 100:.1f}%\")"
   ]
  },
  {
   "cell_type": "markdown",
   "metadata": {},
   "source": [
    "What is getting removed?"
   ]
  },
  {
   "cell_type": "code",
   "execution_count": 14,
   "metadata": {},
   "outputs": [
    {
     "name": "stdout",
     "output_type": "stream",
     "text": [
      "Original Conflict\n",
      "{'aborted state', 'aching', 'adversant', 'adversative', 'adversatively', 'adverseness', 'afflicter',\n",
      " 'afflicting', 'aggravating factors', 'aggravator', 'ak-47', 'anarchic state', 'anarchical',\n",
      " 'anarchism', 'anarchize', 'annihilative', 'annihilator', 'antagonization', 'antagonizer',\n",
      " 'argumentation', 'argumentatively', 'argumentativeness', 'armed combat', 'assassinative',\n",
      " 'assassinator', 'assaultable', 'attackable', 'aversive racism', 'bad feelings', 'battleful',\n",
      " 'beheader', 'bioattack', 'breachful', 'childhood punishment', 'closed economy',\n",
      " 'coercive diplomacy', 'coercively', 'coerciveness', 'coercivity', 'collective guilt',\n",
      " 'collective violence', 'collisive', 'combatable', 'combater', 'combats', \"coup d'etat\",\n",
      " 'cyber-terrorism', 'cyberwar', 'deathblow', 'decapitator', 'decimator', 'decollate',\n",
      " 'depressively', 'depressiveness', 'destroyable', 'destructively', 'destructiveness',\n",
      " 'destructivity', 'detractors', 'devastative', 'devastator', 'discordance', 'discordancy',\n",
      " 'discriminately', 'discriminatively', 'discriminator', 'disguised unemployment', 'displaceability',\n",
      " 'displaceable', 'disputation', 'disputative', 'disputer', 'disruptability', 'disruptable',\n",
      " 'disruptively', 'disruptiveness', 'dissonancy', 'divisively', 'dominance orientation',\n",
      " 'dominant minorities', 'dominative', 'dustup', 'eco-warfare', 'ecoterrorism',\n",
      " 'elite-dominated democracy', 'enclave economies', 'eradicative', 'eradicator', 'essentialism',\n",
      " 'ethnicism', 'ethno-nationalism', 'ethno-nationalists', 'ethnocide', 'executer', 'executional',\n",
      " 'executioners', 'fight against', 'forcefulness', 'frozen democracy', 'furiousness',\n",
      " 'generalized prejudice', 'hatefully', 'hatefulness', 'hidden unemployment', 'homicidally',\n",
      " 'horizontal inequality', 'hostilely', 'hostileness', 'hurtfully', 'hurtfulness', 'impalement',\n",
      " 'impaler', 'incompatibleness', 'incompatibly', 'indirect aggression', 'inequal', 'infringer',\n",
      " 'injustices', 'insecurely', 'insecureness', 'instable', 'intolerability', 'intolerableness',\n",
      " 'intolerancy', 'intolerantness', 'intractability', 'intractable conflict', 'intractableness',\n",
      " 'irredentism', 'killing field', 'knived', 'lapidate', 'lash out', 'late warning', 'lustration',\n",
      " 'machineful', 'martyrization', 'martyrize', 'martyrizer', 'moral exclusion', 'mortality salience',\n",
      " 'murderment', 'murderously', 'murderousness', 'naval battle', 'near crisis', 'near-crisis',\n",
      " 'negative reciprocity', 'negativeness', 'neo-colonial', 'neo-colonialism', 'non-peace',\n",
      " 'one-party dominance', 'oppressible', 'oppressiveness', 'painfulness', 'passive-aggressive',\n",
      " 'peacekeeping forces', 'peacekeeping mandate', 'pirates', 'political disenfranchisement',\n",
      " 'political divisions', 'poverty gap', 'protracted conflict', 'quarreled', 'quarreling', 'rageful',\n",
      " 'ragefully', 'represser', 'repressively', 'repressiveness', 'rigid institutions', 'rigidness',\n",
      " 'riot exposure', 'run-in', 'savageness', 'security dilemma', 'self-annihilation',\n",
      " 'self-destruction', 'shoot down', 'slaughterer', 'social dominance', 'stereotyper', 'stereotypic',\n",
      " 'stifled tension', 'stifling', 'stooges', 'strangling', 'stratified society', 'stressfully',\n",
      " 'strifeful', 'strike down', 'structural violence', 'suffocative', 'suicidalism', 'suicidally',\n",
      " 'suicidical', 'suicidism', 'sweep over', 'terrorization', 'terrorizer', 'threatful', 'threatfully',\n",
      " 'tug-of-war', 'unstable peace', 'vehemency', 'violater', 'violentness', 'vulnerable groups',\n",
      " 'weaponed', 'weapons', 'wearying', 'willing executioners', 'wipe out'}\n",
      "\n",
      "Original Peace\n",
      "{'active listening', 'alliance formation', 'altruist', 'altruistically', 'basic needs',\n",
      " 'chautauqua', 'civilizer', 'civilness', 'co-existence,', 'coaction', 'coalescence', 'coalescency',\n",
      " 'collaborationism', 'collaborative governance', 'collectiveness', 'communality', 'communalization',\n",
      " 'communalize', 'communalizer', 'communicatively', 'communicativeness', 'compatibleness',\n",
      " 'compatibly', 'comprehensiveness', 'compromiser', 'concordal', 'concordance',\n",
      " 'constructive ambiguity', 'constructive conflicts', 'constructiveness', 'contact effect',\n",
      " 'contact theory', 'cooperative orientation', 'cooperative structures', 'cross-cutting',\n",
      " 'cross-cutting ties', 'deep ecology', 'democratism', 'dialogue circles', 'dialogue groups',\n",
      " 'dialoguer', 'divineness', 'do-gooder', 'ecologic', 'ecopsychology', 'empathically', 'empathizer',\n",
      " 'epistemic communities', 'equalizing', 'equalness', 'ethicalness', 'ethicism', 'ethicize',\n",
      " 'faith-based', 'forgivableness', 'forgivably', 'forgiver', 'fraternally', 'friendly relations',\n",
      " 'fusionism', 'gender roles', 'generousness', 'global ethic', 'global identity', 'godful',\n",
      " 'harmonial', 'harmonious co-existence,', 'harmoniousness', 'harmonizer', 'healthfully',\n",
      " 'hopefulness', 'hospitableness', 'hospitably', 'human rights', 'human-centered', 'human-centred',\n",
      " 'humaneness', 'humanistical', 'humanistically', 'humanitarianize', 'humanization', 'humorousness',\n",
      " 'imperfect peace', 'imperfected', 'informatively', 'integrative complexity',\n",
      " 'intentional communities', 'intercultural communication', 'interculturalist', 'interculture',\n",
      " 'intergroup contact', 'intervention, humanitarian', 'intervention, nonviolent', 'joyfulness',\n",
      " 'joyousness', 'knowledgeableness', 'knowledgeably', 'leadership theories', 'learning community',\n",
      " 'listen actively', 'literariness', 'literary works', 'matrilineage', 'media openness',\n",
      " 'meditatively', 'meditativeness', 'meditator', 'mobile communications', 'moralism', 'moralness',\n",
      " 'morals', 'multi-track diplomacy', 'musicalization', 'musicalize', 'musicalness', 'mutualism',\n",
      " 'mutualization', 'mutualize', 'mutualness', 'neural plasticity', 'non offensive',\n",
      " 'nongovernmental organizations', 'nonviolation', 'nurturable', 'nurtural', 'nurturance',\n",
      " 'nurturer', 'outgroup engagement', 'outgroup tolerance', 'pacificity', 'pacifistic',\n",
      " 'pacifistically', 'participatively', 'peace beliefs', 'peace conferences', 'peace constitutions',\n",
      " 'peace diplomat', 'peace durability', 'peace ecologist', 'peace educator', 'peace encyclopedist',\n",
      " 'peace facilitator', 'peace futurist', 'peace historian', 'peace interculturalist',\n",
      " 'peace journalist', 'peace linguist', 'peace monuments', 'peace news', 'peace parks',\n",
      " 'peace philosopher', 'peace psychologist', 'peace researcher', 'peace science', 'peace studies',\n",
      " 'peace symbols', 'peace terminologist', 'peace theologian', 'peace together', 'peace training',\n",
      " 'peace vision', 'peaceful communicator', 'peaceful elite', 'peaceful globalizer',\n",
      " 'peaceful language', 'peaceful leadership', 'peaceful relationships', 'peaceful societies',\n",
      " 'peacepromoting', 'peacewriter', 'personal satisfaction', 'perspective-taking',\n",
      " 'physical synchronization', 'physicalism', 'pluralistically', 'politeful', 'political liberty',\n",
      " 'positive affect', 'positive contact', 'positive peace', 'positive reciprocity', 'positiveness',\n",
      " 'prayerfully', 'prayerfulness', 'progressivity', 'prosperation', 'prosperously', 'prosperousness',\n",
      " 'protecting vulnerable', 'reciprocality', 'reciprocalize', 'reciprocalness', 'reciprocative',\n",
      " 'reciprocator', 'respectableness', 'respectfulness', 'respecting others', 'responsibleness',\n",
      " 'restraintful', 'role models', 'samskaaras', 'self-transcendent', 'self-transcendent values',\n",
      " 'sereneness', 'shared identity', 'sincereness', 'social learning', 'social well-being',\n",
      " 'solidarize', 'spiritualness', 'spirituous', 'stableness', 'susquehannock', 'svoboda', 'tolerancy',\n",
      " 'transnational citizenship', 'transnational theory', 'transparentness', 'trustfully',\n",
      " 'trustfulness', 'unanimousness', 'uncertainty tolerance', 'united nations', 'uniter', 'well-being',\n",
      " 'well-performing', 'win-win', 'world governance'}\n",
      "\n"
     ]
    }
   ],
   "source": [
    "pp = pprint.PrettyPrinter(compact=True, width=100)\n",
    "\n",
    "X_tot_word_counts_ = X_tot_word_counts.merge(lexicon, on=\"term\")[[\"version\", \"lexicon\", \"term\", \"n\", \"n_articles\"]]\n",
    "for g, df in X_tot_word_counts_[X_tot_word_counts_.n_articles < 5].groupby([\"version\", \"lexicon\"]):\n",
    "    print(\" \".join(g).title())\n",
    "    if df.empty:\n",
    "        print(set())\n",
    "    else:\n",
    "        pp.pprint(set(df.term.tolist()))\n",
    "    print()"
   ]
  },
  {
   "cell_type": "markdown",
   "metadata": {},
   "source": [
    "How much data did I remove?"
   ]
  },
  {
   "cell_type": "code",
   "execution_count": 15,
   "metadata": {},
   "outputs": [
    {
     "name": "stdout",
     "output_type": "stream",
     "text": [
      "Old X shape (150000, 1793)\n",
      "New X shape (150000, 1351)\n"
     ]
    }
   ],
   "source": [
    "print(\"Old X shape\", X.shape)\n",
    "X_ = X[X_tot_word_counts[X_tot_word_counts.n_articles >= 5].term]\n",
    "print(\"New X shape\", X_.shape)"
   ]
  },
  {
   "cell_type": "code",
   "execution_count": 16,
   "metadata": {},
   "outputs": [],
   "source": [
    "final_terms = X_.columns"
   ]
  },
  {
   "cell_type": "markdown",
   "metadata": {},
   "source": [
    "## Begin Modeling"
   ]
  },
  {
   "cell_type": "code",
   "execution_count": 23,
   "metadata": {},
   "outputs": [],
   "source": [
    "from sklearn.model_selection import train_test_split, cross_val_score\n",
    "\n",
    "from sklearn.dummy import DummyClassifier\n",
    "from sklearn.linear_model import LogisticRegressionCV, LogisticRegression\n",
    "from sklearn.ensemble import RandomForestClassifier\n",
    "\n",
    "from sklearn.feature_extraction.text import TfidfTransformer\n",
    "from sklearn.preprocessing import StandardScaler\n",
    "\n",
    "from sklearn.pipeline import Pipeline\n",
    "from sklearn.compose import make_column_transformer\n",
    "\n",
    "from sklearn.model_selection import GridSearchCV"
   ]
  },
  {
   "cell_type": "markdown",
   "metadata": {},
   "source": [
    "### Model Selection\n",
    "\n",
    "I train a Logistic Regression and Random Forest with 10 fold cross-validation to selct the model."
   ]
  },
  {
   "cell_type": "code",
   "execution_count": 24,
   "metadata": {},
   "outputs": [],
   "source": [
    "# del word_counts\n",
    "del X"
   ]
  },
  {
   "cell_type": "code",
   "execution_count": 25,
   "metadata": {},
   "outputs": [
    {
     "name": "stdout",
     "output_type": "stream",
     "text": [
      "X_train (112500, 1351)\n",
      "y_train (112500,)\n",
      "X_test (37500, 1351)\n",
      "y_test (37500,)\n"
     ]
    }
   ],
   "source": [
    "X_train, X_test, y_train, y_test = train_test_split(X_, y, stratify=y, random_state=116)\n",
    "print(\"X_train\", X_train.shape)\n",
    "print(\"y_train\", y_train.shape)\n",
    "print(\"X_test\",  X_test.shape)\n",
    "print(\"y_test\",  y_test.shape)"
   ]
  },
  {
   "cell_type": "code",
   "execution_count": 26,
   "metadata": {},
   "outputs": [
    {
     "data": {
      "text/plain": [
       "Peaceful       56250\n",
       "Nonpeaceful    56250\n",
       "Name: society, dtype: int64"
      ]
     },
     "execution_count": 26,
     "metadata": {},
     "output_type": "execute_result"
    }
   ],
   "source": [
    "y_train.value_counts()"
   ]
  },
  {
   "cell_type": "markdown",
   "metadata": {},
   "source": [
    "#### Validate logistic regression will work"
   ]
  },
  {
   "cell_type": "code",
   "execution_count": 34,
   "metadata": {
    "scrolled": true
   },
   "outputs": [
    {
     "name": "stdout",
     "output_type": "stream",
     "text": [
      "Fitting 10 folds for each of 3 candidates, totalling 30 fits\n",
      "[Parallel(n_jobs=4)]: Using backend LokyBackend with 4 concurrent workers.\n",
      "[Parallel(n_jobs=4)]: Done   1 tasks      | elapsed:   13.0s\n",
      "[Parallel(n_jobs=4)]: Done   2 tasks      | elapsed:   13.3s\n",
      "[Parallel(n_jobs=4)]: Done   3 tasks      | elapsed:   13.3s\n",
      "[Parallel(n_jobs=4)]: Done   4 tasks      | elapsed:   13.3s\n",
      "[Parallel(n_jobs=4)]: Done   5 tasks      | elapsed:   23.3s\n",
      "[Parallel(n_jobs=4)]: Done   6 tasks      | elapsed:   23.8s\n",
      "[Parallel(n_jobs=4)]: Done   7 tasks      | elapsed:   24.0s\n",
      "[Parallel(n_jobs=4)]: Done   8 tasks      | elapsed:   24.3s\n",
      "[Parallel(n_jobs=4)]: Done   9 tasks      | elapsed:   33.7s\n",
      "[Parallel(n_jobs=4)]: Done  10 tasks      | elapsed:   35.0s\n",
      "[Parallel(n_jobs=4)]: Done  11 tasks      | elapsed:  1.5min\n",
      "[Parallel(n_jobs=4)]: Done  12 tasks      | elapsed:  1.5min\n",
      "[Parallel(n_jobs=4)]: Done  13 tasks      | elapsed:  1.6min\n",
      "[Parallel(n_jobs=4)]: Done  14 tasks      | elapsed:  1.7min\n",
      "[Parallel(n_jobs=4)]: Done  15 tasks      | elapsed:  2.6min\n",
      "[Parallel(n_jobs=4)]: Done  16 tasks      | elapsed:  2.6min\n",
      "[Parallel(n_jobs=4)]: Done  17 tasks      | elapsed:  2.7min\n",
      "[Parallel(n_jobs=4)]: Done  18 tasks      | elapsed:  2.7min\n",
      "[Parallel(n_jobs=4)]: Done  19 tasks      | elapsed:  3.5min\n",
      "[Parallel(n_jobs=4)]: Done  20 tasks      | elapsed:  3.6min\n",
      "[Parallel(n_jobs=4)]: Done  21 tasks      | elapsed:  9.8min\n",
      "[Parallel(n_jobs=4)]: Done  22 tasks      | elapsed:  9.8min\n",
      "[Parallel(n_jobs=4)]: Done  23 tasks      | elapsed: 10.6min\n",
      "[Parallel(n_jobs=4)]: Done  24 out of  30 | elapsed: 10.7min remaining:  2.7min\n",
      "[Parallel(n_jobs=4)]: Done  25 out of  30 | elapsed: 16.9min remaining:  3.4min\n",
      "[Parallel(n_jobs=4)]: Done  26 out of  30 | elapsed: 16.9min remaining:  2.6min\n",
      "[Parallel(n_jobs=4)]: Done  27 out of  30 | elapsed: 17.6min remaining:  2.0min\n",
      "[Parallel(n_jobs=4)]: Done  28 out of  30 | elapsed: 17.7min remaining:  1.3min\n",
      "[Parallel(n_jobs=4)]: Done  30 out of  30 | elapsed: 23.3min remaining:    0.0s\n",
      "[Parallel(n_jobs=4)]: Done  30 out of  30 | elapsed: 23.3min finished\n"
     ]
    }
   ],
   "source": [
    "pipeline = Pipeline([\n",
    "    ('tfidf', TfidfTransformer()),\n",
    "    ('scale', StandardScaler(with_mean=False)),\n",
    "    ('model', DummyClassifier())\n",
    "])\n",
    "\n",
    "grid = {\n",
    "    \"model\": [\n",
    "        DummyClassifier(),\n",
    "        LogisticRegressionCV(penalty='l1', solver='liblinear'),\n",
    "        RandomForestClassifier()\n",
    "    ]\n",
    "}\n",
    "\n",
    "gs = GridSearchCV(pipeline, grid, cv=10, scoring=[\"accuracy\", \"f1\"], n_jobs=4, verbose=100, return_train_score=True, refit=\"f1\")\n",
    "gs.fit(X_train, y_train == \"Peaceful\");"
   ]
  },
  {
   "cell_type": "code",
   "execution_count": 112,
   "metadata": {},
   "outputs": [],
   "source": [
    "def tidy_cv_result(cv_result, split_type, metric=\"score\", nfolds=10):\n",
    "    regex = r\"split[\\d]+_{:}_{:}\".format(split_type, metric)\n",
    "    cols = [\"param_model\"] + [c for c in cv_result.columns if re.match(regex, c)]\n",
    "    res = cv_result[cols]\n",
    "    res.columns = [\"model\"] + [str(i) for i in range(nfolds)]\n",
    "    res[\"model\"] = res.model.astype(str) #.str.extract(r\"(\\w+)\\(*\")\n",
    "    res = res.set_index(\"model\").stack(dropna=False).reset_index()\n",
    "    res.columns = [\"model\", \"split\", \"score\"]\n",
    "    res[\"metric\"] = metric\n",
    "    res[\"split_type\"] = split_type\n",
    "    \n",
    "    return res[[\"model\", \"metric\", \"split_type\", \"split\", \"score\"]]"
   ]
  },
  {
   "cell_type": "code",
   "execution_count": 36,
   "metadata": {},
   "outputs": [
    {
     "data": {
      "image/png": "[encoded data removed]",
      "text/plain": [
       "<Figure size 1872x576 with 2 Axes>"
      ]
     },
     "metadata": {
      "needs_background": "light"
     },
     "output_type": "display_data"
    }
   ],
   "source": [
    "res = pd.DataFrame(gs.cv_results_)\n",
    "\n",
    "res_acc = pd.concat([\n",
    "    tidy_cv_result(res, \"train\", \"accuracy\"),\n",
    "    tidy_cv_result(res, \"test\",  \"accuracy\"),\n",
    "])\n",
    "\n",
    "res_f1 = pd.concat([\n",
    "    tidy_cv_result(res, \"train\", \"f1\"),\n",
    "    tidy_cv_result(res, \"test\",  \"f1\"),\n",
    "])\n",
    "\n",
    "fig, axes = plt.subplots(ncols=2, figsize=(26, 8))\n",
    "title = \"Classifier performance when predicting society type from lexion words\"\n",
    "\n",
    "sns.barplot(x=\"model\", y=\"score\", hue=\"split_type\", data=res_acc, ax=axes[0])\n",
    "pretty_plot(axes[0], \"Accuracy Score\", \"Model\", \"Accuracy Score\")\n",
    "annotateBars(axes[0], percent=True)\n",
    "\n",
    "legend = axes[0].legend(title=\"Split Type\", loc=\"upper left\", fontsize=13)\n",
    "legend.get_title().set_fontsize(14)\n",
    "\n",
    "sns.barplot(x=\"model\", y=\"score\", hue=\"split_type\", data=res_f1, ax=axes[1])\n",
    "pretty_plot(axes[1], \"F1 Score\", \"Model\", \"F1 Score\")\n",
    "annotateBars(axes[1], percent=True)\n",
    "\n",
    "legend = axes[1].legend(title=\"Split Type\", loc=\"upper left\", fontsize=13)\n",
    "legend.get_title().set_fontsize(14)\n",
    "\n",
    "plt.suptitle(title, fontsize=22);"
   ]
  },
  {
   "cell_type": "code",
   "execution_count": 95,
   "metadata": {},
   "outputs": [
    {
     "name": "stdout",
     "output_type": "stream",
     "text": [
      "Fitting 10 folds for each of 5 candidates, totalling 50 fits\n",
      "[Parallel(n_jobs=4)]: Using backend LokyBackend with 4 concurrent workers.\n",
      "[Parallel(n_jobs=4)]: Done   1 tasks      | elapsed:  1.2min\n",
      "[Parallel(n_jobs=4)]: Done   2 tasks      | elapsed:  1.2min\n",
      "[Parallel(n_jobs=4)]: Done   3 tasks      | elapsed:  1.2min\n",
      "[Parallel(n_jobs=4)]: Done   4 tasks      | elapsed:  1.2min\n",
      "[Parallel(n_jobs=4)]: Done   5 tasks      | elapsed:  2.3min\n",
      "[Parallel(n_jobs=4)]: Done   6 tasks      | elapsed:  2.3min\n",
      "[Parallel(n_jobs=4)]: Done   7 tasks      | elapsed:  2.3min\n",
      "[Parallel(n_jobs=4)]: Done   8 tasks      | elapsed:  2.4min\n",
      "[Parallel(n_jobs=4)]: Done   9 tasks      | elapsed:  2.7min\n",
      "[Parallel(n_jobs=4)]: Done  10 tasks      | elapsed:  2.7min\n",
      "[Parallel(n_jobs=4)]: Done  11 tasks      | elapsed:  3.0min\n",
      "[Parallel(n_jobs=4)]: Done  12 tasks      | elapsed:  3.1min\n",
      "[Parallel(n_jobs=4)]: Done  13 tasks      | elapsed:  3.4min\n",
      "[Parallel(n_jobs=4)]: Done  14 tasks      | elapsed:  3.4min\n",
      "[Parallel(n_jobs=4)]: Done  15 tasks      | elapsed:  3.4min\n",
      "[Parallel(n_jobs=4)]: Done  16 tasks      | elapsed:  3.4min\n",
      "[Parallel(n_jobs=4)]: Done  17 tasks      | elapsed:  3.7min\n",
      "[Parallel(n_jobs=4)]: Done  18 tasks      | elapsed:  3.7min\n",
      "[Parallel(n_jobs=4)]: Done  19 tasks      | elapsed:  3.7min\n",
      "[Parallel(n_jobs=4)]: Done  20 tasks      | elapsed:  3.7min\n",
      "[Parallel(n_jobs=4)]: Done  21 tasks      | elapsed:  4.2min\n",
      "[Parallel(n_jobs=4)]: Done  22 tasks      | elapsed:  4.2min\n",
      "[Parallel(n_jobs=4)]: Done  23 tasks      | elapsed:  4.2min\n",
      "[Parallel(n_jobs=4)]: Done  24 tasks      | elapsed:  4.2min\n",
      "[Parallel(n_jobs=4)]: Done  25 tasks      | elapsed:  4.6min\n",
      "[Parallel(n_jobs=4)]: Done  26 tasks      | elapsed:  4.7min\n",
      "[Parallel(n_jobs=4)]: Done  27 tasks      | elapsed:  4.7min\n",
      "[Parallel(n_jobs=4)]: Done  28 tasks      | elapsed:  4.7min\n",
      "[Parallel(n_jobs=4)]: Done  29 tasks      | elapsed:  5.0min\n",
      "[Parallel(n_jobs=4)]: Done  30 tasks      | elapsed:  5.0min\n",
      "[Parallel(n_jobs=4)]: Done  31 tasks      | elapsed:  5.1min\n",
      "[Parallel(n_jobs=4)]: Done  32 tasks      | elapsed:  5.1min\n",
      "[Parallel(n_jobs=4)]: Done  33 tasks      | elapsed:  5.4min\n",
      "[Parallel(n_jobs=4)]: Done  34 tasks      | elapsed:  5.4min\n",
      "[Parallel(n_jobs=4)]: Done  35 tasks      | elapsed:  5.5min\n",
      "[Parallel(n_jobs=4)]: Done  36 tasks      | elapsed:  5.5min\n",
      "[Parallel(n_jobs=4)]: Done  37 tasks      | elapsed:  5.8min\n",
      "[Parallel(n_jobs=4)]: Done  38 tasks      | elapsed:  5.8min\n",
      "[Parallel(n_jobs=4)]: Done  39 tasks      | elapsed:  5.8min\n",
      "[Parallel(n_jobs=4)]: Done  40 tasks      | elapsed:  5.8min\n",
      "[Parallel(n_jobs=4)]: Done  41 tasks      | elapsed:  6.6min\n",
      "[Parallel(n_jobs=4)]: Done  42 tasks      | elapsed:  6.6min\n",
      "[Parallel(n_jobs=4)]: Done  43 tasks      | elapsed:  6.6min\n",
      "[Parallel(n_jobs=4)]: Done  44 out of  50 | elapsed:  6.6min remaining:   54.1s\n",
      "[Parallel(n_jobs=4)]: Done  45 out of  50 | elapsed:  7.4min remaining:   48.9s\n",
      "[Parallel(n_jobs=4)]: Done  46 out of  50 | elapsed:  7.4min remaining:   38.3s\n",
      "[Parallel(n_jobs=4)]: Done  47 out of  50 | elapsed:  7.4min remaining:   28.2s\n",
      "[Parallel(n_jobs=4)]: Done  48 out of  50 | elapsed:  7.4min remaining:   18.4s\n",
      "[Parallel(n_jobs=4)]: Done  50 out of  50 | elapsed:  8.0min remaining:    0.0s\n",
      "[Parallel(n_jobs=4)]: Done  50 out of  50 | elapsed:  8.0min finished\n"
     ]
    }
   ],
   "source": [
    "from sklearn.compose import ColumnTransformer, make_column_transformer\n",
    "from sklearn.preprocessing import FunctionTransformer\n",
    "\n",
    "identity_transformer = FunctionTransformer(lambda x: x)\n",
    "\n",
    "def get_lexicon(allowed, lexicon, versions):\n",
    "    if isinstance(versions, str) and versions.lower() == \"all\":\n",
    "        terms = lexicon.term.unique()\n",
    "    else:\n",
    "        if isinstance(versions, str):\n",
    "            terms = lexicon[lexicon.version == versions].term.unique()\n",
    "        else:\n",
    "            terms = lexicon[lexicon.version.isin(versions)].term.unique()\n",
    "            \n",
    "    return [t for t in terms if t in allowed]\n",
    "\n",
    "def column_selector(allowed, lexicon, versions):\n",
    "    if isinstance(versions, list):\n",
    "        transformer_name = \",\".join(versions)\n",
    "    else:\n",
    "        transformer_name = versions\n",
    "        \n",
    "    return ColumnTransformer([\n",
    "        (transformer_name, identity_transformer, get_lexicon(allowed, lexicon, versions)),\n",
    "    ], remainder=\"drop\")\n",
    "\n",
    "pipeline = Pipeline([\n",
    "    ('select', column_selector(X_train.columns, lexicon, \"all\")),\n",
    "    ('tfidf', TfidfTransformer()),\n",
    "    ('scale', StandardScaler(with_mean=False)),\n",
    "    ('model', LogisticRegressionCV(penalty='l1', solver='liblinear'))\n",
    "])\n",
    "\n",
    "grid = {\n",
    "    \"select\": [\n",
    "        column_selector(X_train.columns, lexicon, \"All\"),\n",
    "        column_selector(X_train.columns, lexicon, \"Original\"),\n",
    "        column_selector(X_train.columns, lexicon, \"Term Frequency\"),\n",
    "        column_selector(X_train.columns, lexicon, \"Attention Layer\"),\n",
    "        column_selector(X_train.columns, lexicon, [\"Term Frequency\", \"Attention Layer\"])\n",
    "    ]\n",
    "}\n",
    "\n",
    "gs = GridSearchCV(pipeline, grid, cv=10, scoring=\"accuracy\", n_jobs=4, verbose=100, return_train_score=True)\n",
    "gs.fit(X_train, y_train == \"Peaceful\");"
   ]
  },
  {
   "cell_type": "code",
   "execution_count": 96,
   "metadata": {},
   "outputs": [],
   "source": [
    "def get_label(x):\n",
    "    return {\n",
    "        \"All\": \"All Version\",\n",
    "        \"Original\": \"OG Alone\", \n",
    "        \"Term Frequency\": \"TF Alone\",\n",
    "        \"Attention Layer\": \"AL Alone\",\n",
    "        \"Term Frequency,Attention Layer\": \"TF + AL\"\n",
    "    }[x]"
   ]
  },
  {
   "cell_type": "code",
   "execution_count": 114,
   "metadata": {},
   "outputs": [
    {
     "data": {
      "image/png": "[encoded data removed]",
      "text/plain": [
       "<Figure size 936x576 with 1 Axes>"
      ]
     },
     "metadata": {
      "needs_background": "light"
     },
     "output_type": "display_data"
    }
   ],
   "source": [
    "res = pd.DataFrame(gs.cv_results_)\n",
    "res[\"param_model\"] = res[\"param_select\"].apply(lambda x: get_label(x.transformers[0][0]))\n",
    "\n",
    "res_tidy = pd.concat([\n",
    "    tidy_cv_result(res, \"test\"),\n",
    "])\n",
    "\n",
    "fig, ax = plt.subplots(figsize=(13, 8))\n",
    "\n",
    "sns.barplot(x=\"model\", y=\"score\", data=res_tidy, ax=ax)\n",
    "pretty_plot(ax, \"Predictive power of each lexicon version individually\", \"Model\", \"Accuracy Score\")\n",
    "annotateBars(ax, percent=True)"
   ]
  },
  {
   "cell_type": "markdown",
   "metadata": {},
   "source": [
    "### Model Evaluation"
   ]
  },
  {
   "cell_type": "code",
   "execution_count": 116,
   "metadata": {},
   "outputs": [],
   "source": [
    "pipeline = Pipeline([\n",
    "    ('select', column_selector(X_train.columns, lexicon, [\"Term Frequency\", \"Attention Layer\"])),\n",
    "    ('tfidf', TfidfTransformer()),\n",
    "    ('scale', StandardScaler(with_mean=False)),\n",
    "    ('model', LogisticRegressionCV(penalty='l1', solver='liblinear'))\n",
    "])\n",
    "\n",
    "pipeline.fit(X_train, y_train);\n",
    "lr_fit = pipeline.named_steps[\"model\"]"
   ]
  },
  {
   "cell_type": "code",
   "execution_count": 123,
   "metadata": {},
   "outputs": [],
   "source": [
    "terms = pd.Series(get_lexicon(X_train.columns, lexicon, [\"Term Frequency\", \"Attention Layer\"])).rename(\"term\")"
   ]
  },
  {
   "cell_type": "code",
   "execution_count": 117,
   "metadata": {},
   "outputs": [
    {
     "data": {
      "image/png": "[encoded data removed]",
      "text/plain": [
       "<Figure size 864x576 with 2 Axes>"
      ]
     },
     "metadata": {
      "needs_background": "light"
     },
     "output_type": "display_data"
    }
   ],
   "source": [
    "from sklearn.metrics import plot_confusion_matrix\n",
    "\n",
    "fig, ax = plt.subplots(figsize=(12, 8))\n",
    "pretty_plot(ax, \"Confusion matrix of training data\", \"Predicted Label\", \"True Label\")\n",
    "plot_confusion_matrix(pipeline, X_train, y_train, ax=ax);"
   ]
  },
  {
   "cell_type": "code",
   "execution_count": 118,
   "metadata": {},
   "outputs": [
    {
     "data": {
      "text/html": [
       "<div>\n",
       "<style scoped>\n",
       "    .dataframe tbody tr th:only-of-type {\n",
       "        vertical-align: middle;\n",
       "    }\n",
       "\n",
       "    .dataframe tbody tr th {\n",
       "        vertical-align: top;\n",
       "    }\n",
       "\n",
       "    .dataframe thead th {\n",
       "        text-align: right;\n",
       "    }\n",
       "</style>\n",
       "<table border=\"1\" class=\"dataframe\">\n",
       "  <thead>\n",
       "    <tr style=\"text-align: right;\">\n",
       "      <th>version</th>\n",
       "      <th>lexicon</th>\n",
       "      <th>version</th>\n",
       "      <th>term</th>\n",
       "    </tr>\n",
       "  </thead>\n",
       "  <tbody>\n",
       "    <tr>\n",
       "      <th>0</th>\n",
       "      <td>conflict</td>\n",
       "      <td>Original</td>\n",
       "      <td>aborted state</td>\n",
       "    </tr>\n",
       "    <tr>\n",
       "      <th>1</th>\n",
       "      <td>conflict</td>\n",
       "      <td>Original</td>\n",
       "      <td>absolute poverty</td>\n",
       "    </tr>\n",
       "    <tr>\n",
       "      <th>2</th>\n",
       "      <td>conflict</td>\n",
       "      <td>Term Frequency</td>\n",
       "      <td>access</td>\n",
       "    </tr>\n",
       "    <tr>\n",
       "      <th>3</th>\n",
       "      <td>conflict</td>\n",
       "      <td>Term Frequency</td>\n",
       "      <td>accord</td>\n",
       "    </tr>\n",
       "    <tr>\n",
       "      <th>4</th>\n",
       "      <td>conflict</td>\n",
       "      <td>Attention Layer</td>\n",
       "      <td>according</td>\n",
       "    </tr>\n",
       "    <tr>\n",
       "      <th>...</th>\n",
       "      <td>...</td>\n",
       "      <td>...</td>\n",
       "      <td>...</td>\n",
       "    </tr>\n",
       "    <tr>\n",
       "      <th>1890</th>\n",
       "      <td>peace</td>\n",
       "      <td>Original</td>\n",
       "      <td>women’s international league for peace and fre...</td>\n",
       "    </tr>\n",
       "    <tr>\n",
       "      <th>1891</th>\n",
       "      <td>peace</td>\n",
       "      <td>Original</td>\n",
       "      <td>world federation</td>\n",
       "    </tr>\n",
       "    <tr>\n",
       "      <th>1892</th>\n",
       "      <td>peace</td>\n",
       "      <td>Original</td>\n",
       "      <td>world governance</td>\n",
       "    </tr>\n",
       "    <tr>\n",
       "      <th>1893</th>\n",
       "      <td>peace</td>\n",
       "      <td>Original</td>\n",
       "      <td>worship</td>\n",
       "    </tr>\n",
       "    <tr>\n",
       "      <th>1894</th>\n",
       "      <td>peace</td>\n",
       "      <td>Term Frequency</td>\n",
       "      <td>write</td>\n",
       "    </tr>\n",
       "  </tbody>\n",
       "</table>\n",
       "<p>1895 rows × 3 columns</p>\n",
       "</div>"
      ],
      "text/plain": [
       "version   lexicon          version  \\\n",
       "0        conflict         Original   \n",
       "1        conflict         Original   \n",
       "2        conflict   Term Frequency   \n",
       "3        conflict   Term Frequency   \n",
       "4        conflict  Attention Layer   \n",
       "...           ...              ...   \n",
       "1890        peace         Original   \n",
       "1891        peace         Original   \n",
       "1892        peace         Original   \n",
       "1893        peace         Original   \n",
       "1894        peace   Term Frequency   \n",
       "\n",
       "version                                               term  \n",
       "0                                            aborted state  \n",
       "1                                         absolute poverty  \n",
       "2                                                   access  \n",
       "3                                                   accord  \n",
       "4                                                according  \n",
       "...                                                    ...  \n",
       "1890     women’s international league for peace and fre...  \n",
       "1891                                      world federation  \n",
       "1892                                      world governance  \n",
       "1893                                               worship  \n",
       "1894                                                 write  \n",
       "\n",
       "[1895 rows x 3 columns]"
      ]
     },
     "execution_count": 118,
     "metadata": {},
     "output_type": "execute_result"
    }
   ],
   "source": [
    "lexicon_simple = lexicon[[\"lexicon\", \"term\" , \"version\"]]\n",
    "lexicon_simple[\"present\"] = True\n",
    "lexicon_simple = lexicon_simple.pivot(\n",
    "    index=[\"lexicon\", \"term\"], \n",
    "    columns=\"version\", \n",
    "    values=\"present\"\n",
    ").reset_index().replace(np.nan, False)\n",
    "\n",
    "def get_lexicon_version(row):\n",
    "    orig = row[\"Original\"]\n",
    "    tf = row[\"Term Frequency\"]\n",
    "    atten = row[\"Attention Layer\"]\n",
    "    \n",
    "    if all([orig, tf, atten]):\n",
    "        return \"Original\"\n",
    "    elif tf:\n",
    "        return \"Term Frequency\"\n",
    "    elif atten:\n",
    "        return \"Attention Layer\"\n",
    "    \n",
    "    return \"Original\"\n",
    "\n",
    "lexicon_simple[\"version\"] = lexicon_simple.apply(get_lexicon_version, axis=1)\n",
    "lexicon_simple = lexicon_simple[[\"lexicon\", \"version\", \"term\"]]\n",
    "lexicon_simple"
   ]
  },
  {
   "cell_type": "code",
   "execution_count": 134,
   "metadata": {},
   "outputs": [
    {
     "name": "stdout",
     "output_type": "stream",
     "text": [
      "(366, 8)\n"
     ]
    },
    {
     "data": {
      "text/html": [
       "<div>\n",
       "<style scoped>\n",
       "    .dataframe tbody tr th:only-of-type {\n",
       "        vertical-align: middle;\n",
       "    }\n",
       "\n",
       "    .dataframe tbody tr th {\n",
       "        vertical-align: top;\n",
       "    }\n",
       "\n",
       "    .dataframe thead th {\n",
       "        text-align: right;\n",
       "    }\n",
       "</style>\n",
       "<table border=\"1\" class=\"dataframe\">\n",
       "  <thead>\n",
       "    <tr style=\"text-align: right;\">\n",
       "      <th></th>\n",
       "      <th>term</th>\n",
       "      <th>coef</th>\n",
       "      <th>lexicon</th>\n",
       "      <th>version</th>\n",
       "      <th>abs_coef</th>\n",
       "      <th>sign_coef</th>\n",
       "      <th>importance_rank</th>\n",
       "      <th>bar_color</th>\n",
       "    </tr>\n",
       "  </thead>\n",
       "  <tbody>\n",
       "    <tr>\n",
       "      <th>299</th>\n",
       "      <td>new</td>\n",
       "      <td>0.298324</td>\n",
       "      <td>conflict</td>\n",
       "      <td>Attention Layer</td>\n",
       "      <td>0.298324</td>\n",
       "      <td>POS</td>\n",
       "      <td>1.0</td>\n",
       "      <td>#FF5A59</td>\n",
       "    </tr>\n",
       "    <tr>\n",
       "      <th>103</th>\n",
       "      <td>state</td>\n",
       "      <td>-0.216257</td>\n",
       "      <td>conflict</td>\n",
       "      <td>Term Frequency</td>\n",
       "      <td>0.216257</td>\n",
       "      <td>NEG</td>\n",
       "      <td>2.0</td>\n",
       "      <td>#FF5A59</td>\n",
       "    </tr>\n",
       "    <tr>\n",
       "      <th>107</th>\n",
       "      <td>accord</td>\n",
       "      <td>-0.190634</td>\n",
       "      <td>conflict</td>\n",
       "      <td>Term Frequency</td>\n",
       "      <td>0.190634</td>\n",
       "      <td>NEG</td>\n",
       "      <td>3.0</td>\n",
       "      <td>#FF5A59</td>\n",
       "    </tr>\n",
       "    <tr>\n",
       "      <th>4</th>\n",
       "      <td>really</td>\n",
       "      <td>0.180100</td>\n",
       "      <td>peace</td>\n",
       "      <td>Term Frequency</td>\n",
       "      <td>0.180100</td>\n",
       "      <td>POS</td>\n",
       "      <td>4.0</td>\n",
       "      <td>#6db7f7</td>\n",
       "    </tr>\n",
       "    <tr>\n",
       "      <th>1</th>\n",
       "      <td>think</td>\n",
       "      <td>0.156943</td>\n",
       "      <td>peace</td>\n",
       "      <td>Term Frequency</td>\n",
       "      <td>0.156943</td>\n",
       "      <td>POS</td>\n",
       "      <td>5.0</td>\n",
       "      <td>#6db7f7</td>\n",
       "    </tr>\n",
       "  </tbody>\n",
       "</table>\n",
       "</div>"
      ],
      "text/plain": [
       "       term      coef   lexicon          version  abs_coef sign_coef  \\\n",
       "299     new  0.298324  conflict  Attention Layer  0.298324       POS   \n",
       "103   state -0.216257  conflict   Term Frequency  0.216257       NEG   \n",
       "107  accord -0.190634  conflict   Term Frequency  0.190634       NEG   \n",
       "4    really  0.180100     peace   Term Frequency  0.180100       POS   \n",
       "1     think  0.156943     peace   Term Frequency  0.156943       POS   \n",
       "\n",
       "     importance_rank bar_color  \n",
       "299              1.0   #FF5A59  \n",
       "103              2.0   #FF5A59  \n",
       "107              3.0   #FF5A59  \n",
       "4                4.0   #6db7f7  \n",
       "1                5.0   #6db7f7  "
      ]
     },
     "execution_count": 134,
     "metadata": {},
     "output_type": "execute_result"
    }
   ],
   "source": [
    "term_coef = pd.DataFrame(\n",
    "    np.column_stack([\n",
    "        terms,\n",
    "        lr_fit.coef_.reshape(-1)\n",
    "    ]), columns=[\"term\", \"coef\"]\n",
    ")\n",
    "\n",
    "term_coef = term_coef.merge(\n",
    "    lexicon_simple, \n",
    "    on=\"term\", \n",
    "    how=\"left\"\n",
    ")\n",
    "\n",
    "colors = {\n",
    "    \"peace\": \"#6db7f7\", \n",
    "    \"resilience\": \"#36CB8A\", \n",
    "    \"conflict\": \"#FF5A59\"\n",
    "}\n",
    "\n",
    "term_coef[\"coef\"] = term_coef[\"coef\"].astype(float)\n",
    "term_coef[\"abs_coef\"] = np.abs(term_coef.coef)\n",
    "term_coef[\"sign_coef\"] = term_coef.coef.apply(lambda x: \"POS\" if np.sign(x) > 0 else \"NEG\")\n",
    "term_coef[\"importance_rank\"] = term_coef.abs_coef.rank(method=\"min\", ascending=False)\n",
    "term_coef[\"bar_color\"] = term_coef.lexicon.apply(lambda x: colors[x])\n",
    "\n",
    "# term_coef = term_coef.drop_duplicates(\"term\", keep=False)\n",
    "# term_coef = term_coef[term_coef.term.str.len() > 3]\n",
    "term_coef = term_coef[term_coef.version != \"Original\"]\n",
    "term_coef = term_coef.sort_values(\"abs_coef\", ascending=False)\n",
    "\n",
    "term_coef[[\"version\", \"lexicon\", \"term\", \"coef\"]].to_csv(\"../data/LR_term_coef.csv\", index=False)\n",
    "\n",
    "print(term_coef.shape)\n",
    "term_coef.head()"
   ]
  },
  {
   "cell_type": "markdown",
   "metadata": {},
   "source": [
    "### FOR EASE, terms that apper in multiple lexicons are removed. If a term appears in multiple versions, the original is the default.\n",
    "\n",
    "do any coefficients go to 0, what lexicons are they coming from?"
   ]
  },
  {
   "cell_type": "code",
   "execution_count": 136,
   "metadata": {},
   "outputs": [
    {
     "data": {
      "text/plain": [
       "Series([], dtype: int64)"
      ]
     },
     "execution_count": 136,
     "metadata": {},
     "output_type": "execute_result"
    }
   ],
   "source": [
    "term_coef[term_coef.coef == 0].groupby([\"version\", \"lexicon\"]).size()"
   ]
  },
  {
   "cell_type": "markdown",
   "metadata": {},
   "source": [
    "What are these words?"
   ]
  },
  {
   "cell_type": "code",
   "execution_count": 137,
   "metadata": {},
   "outputs": [],
   "source": [
    "pp = pprint.PrettyPrinter(compact=True, width=100)\n",
    "\n",
    "for g, df in term_coef[term_coef.coef == 0].groupby([\"version\", \"lexicon\"]):\n",
    "    print(\" \".join(g).upper())\n",
    "    pp.pprint(set(df.term.tolist()))\n",
    "    print()"
   ]
  },
  {
   "cell_type": "code",
   "execution_count": 138,
   "metadata": {},
   "outputs": [
    {
     "data": {
      "image/png": "[encoded data removed]",
      "text/plain": [
       "<Figure size 864x504 with 1 Axes>"
      ]
     },
     "metadata": {
      "needs_background": "light"
     },
     "output_type": "display_data"
    }
   ],
   "source": [
    "lexicon_consistency = term_coef.sort_values(\"abs_coef\", ascending=False).head(500)\n",
    "lexicon_consistency = lexicon_consistency.groupby([\"sign_coef\", \"lexicon\"]).size().rename(\"n\").reset_index()\n",
    "lexicon_consistency = lexicon_consistency.sort_values([\"sign_coef\", \"n\"], ascending=False)\n",
    "lexicon_consistency[\"bar_color\"] = lexicon_consistency.lexicon.apply(lambda x: colors[x])\n",
    "\n",
    "fig, ax = plt.subplots(figsize=(12, 7))\n",
    "sns.barplot(\n",
    "    x=\"sign_coef\", \n",
    "    y=\"n\",\n",
    "    hue=\"lexicon\",\n",
    "    palette=lexicon_consistency.bar_color,\n",
    "    data=lexicon_consistency\n",
    ")\n",
    "\n",
    "title = \"Is the model consistent with the combined lexicons for all AL + TF terms?\"\n",
    "pretty_plot(ax, title, \"Sign of Coefficient on Term\", \"Number of Terms\")\n",
    "\n",
    "legend = plt.legend(title=\"Lexicon\", loc=\"upper center\", fontsize=13)\n",
    "legend.get_title().set_fontsize(14)\n",
    "\n",
    "annotateBars(ax)"
   ]
  },
  {
   "cell_type": "markdown",
   "metadata": {},
   "source": [
    "For the top 500 terms from the logistic regression model, we see that the vast majority of terms with a positive coefficient are from the peace lexicon, and similarly the terms with negative coefficients are mostly from the conflict lexicon. This seems to imply that our lexicons are doing a good job of separating the two types of countries. For this model, positive coefficients increase the probability of being a 'peaceful' country, so it looks like our peaceful terms drive the probability up while conflict terms tend to drive it down. It is also interesting that the resillience lexicon appears evenly in both groups.\n",
    "\n",
    "Next are some actual words and how their pressence drives the probability of being a peaceful nation. The bars are colored by lexicon, so that we see the trend discussed above. "
   ]
  },
  {
   "cell_type": "code",
   "execution_count": 139,
   "metadata": {},
   "outputs": [
    {
     "data": {
      "image/png": "[encoded data removed]",
      "text/plain": [
       "<Figure size 864x1008 with 1 Axes>"
      ]
     },
     "metadata": {
      "needs_background": "light"
     },
     "output_type": "display_data"
    }
   ],
   "source": [
    "top_coef = term_coef.groupby(\"sign_coef\").apply(lambda x: x.nlargest(20, ['abs_coef'])).reset_index(drop=True)\n",
    "top_coef = top_coef.sort_values(\"coef\", ascending=False)\n",
    "\n",
    "fig, ax = plt.subplots(figsize=(12, 14))\n",
    "sns.barplot(x=\"coef\", y=\"term\", palette=top_coef.bar_color, data=top_coef, ax=ax)\n",
    "\n",
    "title = \"Relative importances of top positive and negative coefficient terms\"\n",
    "xlab = \"Relative Importance (Positive values drive prediction towards Peaceful)\"\n",
    "\n",
    "labels = [\"Peace\", \"Conflict\", \"Resilience\"]\n",
    "handles = [plt.Rectangle((0,0),1,1, color=colors[label.lower()]) for label in labels]\n",
    "           \n",
    "legend = plt.legend(handles, labels, title=\"Lexicon\", loc=\"upper left\", fontsize=13)\n",
    "legend.get_title().set_fontsize(14)\n",
    "\n",
    "pretty_plot(ax, title, xlab, None)"
   ]
  },
  {
   "cell_type": "markdown",
   "metadata": {},
   "source": [
    "I don't know. My takeaway here is that terms in the new lexicon tend to have much larger coefficients than terms from the old lexicon."
   ]
  },
  {
   "cell_type": "code",
   "execution_count": 48,
   "metadata": {},
   "outputs": [
    {
     "data": {
      "text/plain": [
       "0.77576"
      ]
     },
     "execution_count": 48,
     "metadata": {},
     "output_type": "execute_result"
    }
   ],
   "source": [
    "pipeline.score(X_test, y_test)"
   ]
  },
  {
   "cell_type": "code",
   "execution_count": null,
   "metadata": {},
   "outputs": [],
   "source": []
  }
 ],
 "metadata": {
  "kernelspec": {
   "display_name": "Python 3",
   "language": "python",
   "name": "python3"
  },
  "language_info": {
   "codemirror_mode": {
    "name": "ipython",
    "version": 3
   },
   "file_extension": ".py",
   "mimetype": "text/x-python",
   "name": "python",
   "nbconvert_exporter": "python",
   "pygments_lexer": "ipython3",
   "version": "3.8.5"
  }
 },
 "nbformat": 4,
 "nbformat_minor": 4
}
